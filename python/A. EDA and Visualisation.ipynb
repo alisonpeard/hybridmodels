{
 "cells": [
  {
   "cell_type": "markdown",
   "id": "77b6c66b",
   "metadata": {},
   "source": [
    "# Exploratory Data Analysis Notebook\n",
    "## Visualise the data and the summary statistics\n",
    "### Contents\n",
    "1. Summary statistics\n",
    "2. Principal component analysis (PCA)\n",
    "3. Pairplots and horizonral pairplots\n",
    "4. Correlation matrices\n",
    "5. Flood map evaluations"
   ]
  },
  {
   "cell_type": "code",
   "execution_count": 1,
   "id": "803b6cd5",
   "metadata": {},
   "outputs": [
    {
     "name": "stdout",
     "output_type": "stream",
     "text": [
      "Error for cuba:\n",
      "\"['precip'] not in index\"\n"
     ]
    },
    {
     "ename": "AssertionError",
     "evalue": "dist_pw has NaNs for irma_tampasouth_0.",
     "output_type": "error",
     "traceback": [
      "\u001b[0;31m---------------------------------------------------------------------------\u001b[0m",
      "\u001b[0;31mAssertionError\u001b[0m                            Traceback (most recent call last)",
      "Input \u001b[0;32mIn [1]\u001b[0m, in \u001b[0;36m<cell line: 33>\u001b[0;34m()\u001b[0m\n\u001b[1;32m     30\u001b[0m imdir \u001b[38;5;241m=\u001b[39m join(wd, \u001b[38;5;124m'\u001b[39m\u001b[38;5;124mimages\u001b[39m\u001b[38;5;124m'\u001b[39m)\n\u001b[1;32m     32\u001b[0m reload(model_utils)\n\u001b[0;32m---> 33\u001b[0m base_gdf, features, columns \u001b[38;5;241m=\u001b[39m \u001b[43mmodel_utils\u001b[49m\u001b[38;5;241;43m.\u001b[39;49m\u001b[43mload_raw_data\u001b[49m\u001b[43m(\u001b[49m\u001b[43mwd\u001b[49m\u001b[43m,\u001b[49m\u001b[43m \u001b[49m\u001b[43mdata_utils\u001b[49m\u001b[38;5;241;43m.\u001b[39;49m\u001b[43mdefault_features\u001b[49m\u001b[43m,\u001b[49m\u001b[43m \u001b[49m\u001b[43mtemporal\u001b[49m\u001b[43m,\u001b[49m\u001b[43m \u001b[49m\u001b[43mbinary\u001b[49m\u001b[43m)\u001b[49m\n\u001b[1;32m     35\u001b[0m \u001b[38;5;28mprint\u001b[39m(\u001b[38;5;124mf\u001b[39m\u001b[38;5;124m\"\u001b[39m\u001b[38;5;124mNumber of unique events: \u001b[39m\u001b[38;5;132;01m{\u001b[39;00mbase_gdf\u001b[38;5;241m.\u001b[39mevent\u001b[38;5;241m.\u001b[39mnunique()\u001b[38;5;132;01m}\u001b[39;00m\u001b[38;5;124m\"\u001b[39m)\n",
      "File \u001b[0;32m~/Documents/DPhil/hybridmodels/python/model_utils.py:53\u001b[0m, in \u001b[0;36mload_raw_data\u001b[0;34m(wd, features, temporal, binary, subset)\u001b[0m\n\u001b[1;32m     50\u001b[0m             features\u001b[38;5;241m.\u001b[39mappend(lulc_col)\n\u001b[1;32m     51\u001b[0m             columns\u001b[38;5;241m.\u001b[39mappend(lulc_col)\n\u001b[0;32m---> 53\u001b[0m \u001b[38;5;28;01massert\u001b[39;00m \u001b[38;5;129;01mnot\u001b[39;00m gdf\u001b[38;5;241m.\u001b[39misna()\u001b[38;5;241m.\u001b[39many()\u001b[38;5;241m.\u001b[39many(), \u001b[38;5;124mf\u001b[39m\u001b[38;5;124m\"\u001b[39m\u001b[38;5;132;01m{\u001b[39;00mgdf\u001b[38;5;241m.\u001b[39misna()\u001b[38;5;241m.\u001b[39many()[gdf\u001b[38;5;241m.\u001b[39misna()\u001b[38;5;241m.\u001b[39many()]\u001b[38;5;241m.\u001b[39mindex[\u001b[38;5;241m0\u001b[39m]\u001b[38;5;132;01m}\u001b[39;00m\u001b[38;5;124m has NaNs for \u001b[39m\u001b[38;5;132;01m{\u001b[39;00mgdf\u001b[38;5;241m.\u001b[39mevent[\u001b[38;5;241m0\u001b[39m]\u001b[38;5;132;01m}\u001b[39;00m\u001b[38;5;124m.\u001b[39m\u001b[38;5;124m\"\u001b[39m\n\u001b[1;32m     55\u001b[0m gdf \u001b[38;5;241m=\u001b[39m gdf[columns]\u001b[38;5;241m.\u001b[39mdropna()\u001b[38;5;241m.\u001b[39mreset_index(drop\u001b[38;5;241m=\u001b[39m\u001b[38;5;28;01mTrue\u001b[39;00m)\n\u001b[1;32m     56\u001b[0m \u001b[38;5;28;01mreturn\u001b[39;00m gdf, features, columns\n",
      "\u001b[0;31mAssertionError\u001b[0m: dist_pw has NaNs for irma_tampasouth_0."
     ]
    }
   ],
   "source": [
    "from os.path import join\n",
    "from itertools import compress\n",
    "import numpy as np\n",
    "import pandas as pd\n",
    "import tensorflow as tf\n",
    "import geopandas as gpd\n",
    "import matplotlib.pyplot as plt\n",
    "from tqdm import tqdm\n",
    "import seaborn as sns\n",
    "from scipy.stats import pearsonr\n",
    "from sklearn.metrics import confusion_matrix as cm\n",
    "from sklearn.decomposition import PCA\n",
    "\n",
    "plt.rcParams[\"font.family\"] = \"Times New Roman\"\n",
    "\n",
    "# helper functions\n",
    "from importlib import reload\n",
    "import model_utils\n",
    "import data_utils\n",
    "import viz_utils\n",
    "\n",
    "# settings\n",
    "viz = True\n",
    "storm = \"\"  # e.g., \"roanu\" or \"\" for all events\n",
    "temporal = False\n",
    "binary = False\n",
    "\n",
    "# set up the environment\n",
    "wd = join(\"..\", \"data\")\n",
    "imdir = join(wd, 'images')\n",
    "\n",
    "reload(model_utils)\n",
    "base_gdf, features, columns = model_utils.load_raw_data(wd, data_utils.default_features, temporal, binary)\n",
    "\n",
    "print(f\"Number of unique events: {base_gdf.event.nunique()}\")"
   ]
  },
  {
   "cell_type": "markdown",
   "id": "045e6545",
   "metadata": {},
   "source": [
    "## 1. Summary Statistics"
   ]
  },
  {
   "cell_type": "code",
   "execution_count": null,
   "id": "bcaa45d5",
   "metadata": {
    "scrolled": true
   },
   "outputs": [],
   "source": [
    "# examine gdf\n",
    "\n",
    "summary_stats = False\n",
    "\n",
    "if summary_stats:\n",
    "    n = len(gdf)\n",
    "\n",
    "    if binary:\n",
    "        n1 = gdf['floodfrac'].sum()\n",
    "        n0 = n - n1\n",
    "        print(\"Zeros:\", n0)\n",
    "        print(\"Ones:\", n1)\n",
    "        print(f\"Null values: {sum(gdf.isnull().any())}\")\n",
    "\n",
    "    gdf.describe()"
   ]
  },
  {
   "cell_type": "markdown",
   "id": "0f728094",
   "metadata": {},
   "source": [
    "## Preliminary Visualisations\n",
    "Look at correlations and distributions of data. Skewed data will need to be log-normlised, and most data will need to be normalised. If there are outliers, it may be necessary to remove them too. Do this for binary and nonbinary data."
   ]
  },
  {
   "cell_type": "code",
   "execution_count": 6,
   "id": "8634d5bc",
   "metadata": {},
   "outputs": [],
   "source": [
    "# horizontal pairplot\n",
    "viz = False\n",
    "\n",
    "def pearsonr_corr(x, y):\n",
    "    return pearsonr(x, y)[0]\n",
    "\n",
    "def pearsonr_pval(x, y):\n",
    "    return pearsonr(x, y)[1]\n",
    "\n",
    "if viz:\n",
    "    sns.set(style=\"ticks\")\n",
    "    sns.set_style({'font.family':'serif', 'font.serif':'Times New Roman'})\n",
    "    pplot = sns.pairplot(data=gdf, y_vars=['floodfrac'], x_vars=features,\n",
    "                         hue=\"floodfrac\", palette='YlGnBu', kind='scatter')\n",
    "    fig = pplot.fig\n",
    "    fig.savefig(join(imdir, \"eda\", f\"horiz_pairplot_binary{binary}.png\"))"
   ]
  },
  {
   "cell_type": "markdown",
   "id": "f3788f8e",
   "metadata": {},
   "source": [
    "So elevation, slope_pw, dist_pw, and soilcarbon all seem quite skewed. Additionally, elevation and slope_pw have a very large spread. It might be good to log-transform the skewed data and cut more extreme values from the very spread-out data."
   ]
  },
  {
   "cell_type": "code",
   "execution_count": 7,
   "id": "84f68794",
   "metadata": {},
   "outputs": [],
   "source": [
    "# correlation matrix with p-values\n",
    "if viz:\n",
    "    sns.set(style=\"ticks\")\n",
    "    sns.set_style({'font.family':'serif', 'font.serif':'Times New Roman'})\n",
    "    \n",
    "    fig, ax = plt.subplots(1, 2, figsize=(30, 10))\n",
    "\n",
    "    cmat = sns.heatmap(gdf.corr(method=pearsonr_corr), annot=True, ax=ax[0], linewidths=.5, fmt='.1g',\n",
    "                       cmap=\"Spectral\")\n",
    "    cmat.set(title=\"Correlation matrix\\n\")\n",
    "    \n",
    "    cmap = plt.get_cmap('Reds_r').copy()\n",
    "    cmap.set_over('grey')\n",
    "    cmat = sns.heatmap(gdf.corr(method=pearsonr_pval), annot=True, ax=ax[1], linewidths=.5, fmt='.1g',\n",
    "                       cmap=cmap, vmax=0.05)\n",
    "    cmat.set(title=\"p-value\\n\")\n",
    "\n",
    "    fig.savefig(join(imdir, 'eda', f\"correlation matrix binary{binary}.png\"))"
   ]
  },
  {
   "cell_type": "code",
   "execution_count": 8,
   "id": "f13ef9f0",
   "metadata": {},
   "outputs": [],
   "source": [
    "# pairplot -- WARNING: this takes forever to run\n",
    "if viz:\n",
    "    sns.set(style=\"ticks\")\n",
    "    sns.set_style({'font.family':'serif', 'font.serif':'Times New Roman'})\n",
    "    \n",
    "    pplot = sns.pairplot(gdf, hue=\"floodfrac\", palette='YlGnBu', kind='scatter', diag_kind='kde');\n",
    "\n",
    "    fig = pplot.fig\n",
    "    fig.savefig(join(imdir, 'eda', f\"pairplot_binary{binary}.png\"))\n",
    "    \n",
    "    !say finished making pair plot"
   ]
  },
  {
   "cell_type": "markdown",
   "id": "4d57d2a8",
   "metadata": {},
   "source": [
    "## Data cleaning and transforms\n",
    "Functions for data cleaning and saving the transform info to the metadata. Not doing this for now as RF doesn't really need it.\n",
    "\n",
    "\n",
    "```\n",
    "** functions added to random_funcs.py\n",
    "```"
   ]
  },
  {
   "cell_type": "markdown",
   "id": "f89e5110",
   "metadata": {},
   "source": [
    "## 2. Principle Component Analysis\n",
    "Use PCA to project the dataset into two-dimensions which explain most of the variablity within the data. These principal components can be used to determine how similar the data is between different events. First we normalise the data then fit a 2-component PCA to it. Then each event is projected onto the same axis. Reference: [Barzin (2022): Where are all the jobs?](https://www.oxfordmartin.ox.ac.uk/publications/where-are-all-the-jobs-a-machine-learning-approach-for-high-resolution-urban-employment-prediction-in-developing-countries/)."
   ]
  },
  {
   "cell_type": "code",
   "execution_count": 9,
   "id": "5a5db35c",
   "metadata": {},
   "outputs": [],
   "source": [
    "pca = False\n",
    "\n",
    "if pca:\n",
    "    fig, ax = plt.subplots(1, figsize=(15, 10))\n",
    "    cmap = plt.get_cmap('Spectral').copy()\n",
    "    nevents = gdf.event.nunique()\n",
    "\n",
    "    gdf_norm = gdf.drop(columns=['event', 'geometry', 'floodfrac'])\n",
    "    gdf_norm = (gdf_norm - gdf_norm.mean()) / gdf_norm.std()\n",
    "\n",
    "    pca = PCA(2)\n",
    "    fit = pca.fit(gdf_norm)\n",
    "    gdf_norm['event'] = gdf['event']\n",
    "\n",
    "    for i, event in enumerate(sorted([*gdf_norm.event.unique()])):\n",
    "        gdf_event = gdf_norm[gdf_norm.event == event]\n",
    "        gdf_event = gdf_event.drop(columns='event')\n",
    "        gdf_r = fit.transform(gdf_event)\n",
    "        ax.scatter(gdf_r[:, 0], gdf_r[:, 1], alpha=0.4, s=2, color=cmap(i / nevents), label=event.replace(\"_\", \", \"))\n",
    "\n",
    "    # overall PCA contributions\n",
    "    df_event = gdf.drop(columns=['event','geometry', 'floodfrac'])\n",
    "    df_event = (df_event - df_event.mean()) / df_event.std()\n",
    "    df_r = pca.fit(df_event).transform(df_event)\n",
    "    ax.set_xlabel(f\"Principal Component 1: {pca.explained_variance_ratio_[0] * 100:.02f}%\", fontsize=15)\n",
    "    ax.set_ylabel(f\"Principal Component 2: {pca.explained_variance_ratio_[1] * 100:.02f}%\", fontsize=15)\n",
    "\n",
    "\n",
    "    # viz settings\n",
    "    ax.set_ylim((-10, 10))\n",
    "    ax.spines['top'].set_visible(False)\n",
    "    ax.spines['right'].set_visible(False)\n",
    "    ax.spines['bottom'].set_visible(False)\n",
    "    ax.spines['left'].set_visible(False)\n",
    "    ax.set_xticks([-4, 0, 4])\n",
    "    ax.set_yticks([-10, 0, 10])\n",
    "    ax.axhline(0, color='black', linestyle='--', linewidth=1)\n",
    "    ax.axvline(0, color='black', linestyle='--', linewidth=1)\n",
    "    legend = ax.legend(loc='best', title=\"Events\")\n",
    "    for x in legend.legendHandles: x._sizes[0] = 100\n",
    "    for x in legend.legendHandles: x.set_alpha(0.8)\n",
    "    ax.set_title(\"PCA of Entire Dataset\", fontsize=20);\n",
    "\n",
    "\n",
    "    fig.savefig(join(imdir, 'eda', 'PCA_all.png'), bbox_inches='tight')"
   ]
  },
  {
   "cell_type": "markdown",
   "id": "a81b0a7a",
   "metadata": {},
   "source": [
    "The events show similarity in terms of the first PC, but show more variance and are more differentiated across the second component. We use a Factor Loading Plot to visualise which features are contributing most to the second component."
   ]
  },
  {
   "cell_type": "code",
   "execution_count": 10,
   "id": "c42a7bff",
   "metadata": {},
   "outputs": [],
   "source": [
    "if pca:\n",
    "    fig, ax = plt.subplots(1, figsize=(12, 8))\n",
    "    cmap = plt.get_cmap('YlGnBu').copy()\n",
    "\n",
    "    loadings = pd.DataFrame(pca.components_.T, columns=['PC1', 'PC2'], index=features)\n",
    "    loading_list = [*pca.components_.T]\n",
    "    nfeatures = len(features)\n",
    "\n",
    "    for i, loading, feature in zip(range(nfeatures), loading_list, features):\n",
    "        magnitude = sum(abs(loading))\n",
    "        ax.scatter(loading[0], loading[1], label=feature, color=cmap(magnitude), s=(200 * magnitude))\n",
    "        ax.annotate(feature, (loading[0], loading[1]), xytext=(5, 5), textcoords=\"offset pixels\", fontsize=12)\n",
    "\n",
    "\n",
    "    # viz settings\n",
    "    ax.spines['top'].set_visible(False)\n",
    "    ax.spines['right'].set_visible(False)\n",
    "    ax.spines['bottom'].set_visible(False)\n",
    "    ax.spines['left'].set_visible(False)\n",
    "    ax.axhline(0, color='black', linestyle='--', linewidth=1)\n",
    "    ax.axvline(0, color='black', linestyle='--', linewidth=1)\n",
    "    legend = ax.legend(loc='best', title=\"Features\")\n",
    "    for x in legend.legendHandles: x._sizes[0] = 100\n",
    "    for x in legend.legendHandles: x.set_alpha(0.8)\n",
    "    ax.set_xlabel(\"Principal Component 1\", fontsize=15)\n",
    "    ax.set_ylabel(\"Principal Component 2\", fontsize=15)\n",
    "    ax.set_title(\"PCA Factor Loading Plot\", fontsize=20);\n",
    "\n",
    "\n",
    "    fig.savefig(join(imdir, 'eda', 'PCA_factor-loading.png'), bbox_inches='tight')"
   ]
  },
  {
   "cell_type": "markdown",
   "id": "cdb7ec57",
   "metadata": {},
   "source": [
    "So the storms are mostly being differentiated along PC2, of which Aqueduct, average wind speed, and precipitation are the main components. This implies that differences between events are more related to the storm intensity than to local characteristics."
   ]
  },
  {
   "cell_type": "code",
   "execution_count": 11,
   "id": "68a3fa61",
   "metadata": {},
   "outputs": [],
   "source": [
    "if pca:\n",
    "    # fit one event at a time\n",
    "    storm = 'roanu'\n",
    "    cmap = plt.get_cmap('YlGnBu').copy()\n",
    "    pca = PCA(2)\n",
    "\n",
    "    # extract subset of data\n",
    "    events = sorted([*gdf.event.unique()])\n",
    "    events = [x for x in events if storm in x]\n",
    "    nevents = len(events)\n",
    "    gdf_storm = gdf[gdf['event'].isin(events)]\n",
    "\n",
    "    # normalise data\n",
    "    gdf_norm = gdf_storm.drop(columns=['event','geometry', 'floodfrac'])\n",
    "    gdf_norm = (gdf_norm - gdf_norm.mean()) / gdf_norm.std()\n",
    "\n",
    "    # fit PCA\n",
    "    fit = pca.fit(gdf_norm)\n",
    "\n",
    "    gdf_norm['event'] = gdf_storm['event']\n",
    "\n",
    "    # plotting\n",
    "    fig, ax = plt.subplots(1, figsize=(15, 10))\n",
    "    for i, event in enumerate(events):\n",
    "        df_event = gdf_norm[gdf_norm.event == event].drop(columns=['event'])\n",
    "        X = fit.transform(df_event)\n",
    "\n",
    "        ax.scatter(X[:, 0], X[:, 1], alpha=0.4, s=2, color=cmap(i / nevents), label=event.replace(\"_\", \", \").capitalize())\n",
    "\n",
    "    # overall PCA contributions\n",
    "    ax.set_xlabel(f\"Principal Component 1: {pca.explained_variance_ratio_[0] * 100:.02f}%\", fontsize=15)\n",
    "    ax.set_ylabel(f\"Principal Component 2: {pca.explained_variance_ratio_[1] * 100:.02f}%\", fontsize=15)\n",
    "\n",
    "\n",
    "    # viz settings\n",
    "    ax.set_ylim((-10, 10))\n",
    "    ax.spines['top'].set_visible(False)\n",
    "    ax.spines['right'].set_visible(False)\n",
    "    ax.spines['bottom'].set_visible(False)\n",
    "    ax.spines['left'].set_visible(False)\n",
    "    ax.set_xticks([-4, 0, 4])\n",
    "    ax.set_yticks([-10, 0, 10])\n",
    "    ax.axhline(0, color='black', linestyle='--', linewidth=1)\n",
    "    ax.axvline(0, color='black', linestyle='--', linewidth=1)\n",
    "    legend = ax.legend(loc='best', title=\"Events\")\n",
    "    for x in legend.legendHandles: x._sizes[0] = 100\n",
    "    for x in legend.legendHandles: x.set_alpha(0.8)\n",
    "    ax.set_title(f\"PCA of {storm.capitalize()} Dataset\", fontsize=20);\n",
    "\n",
    "    fig.savefig(join(imdir, 'eda', f'PCA_{storm}.png'))"
   ]
  },
  {
   "cell_type": "markdown",
   "id": "c2cb5213",
   "metadata": {},
   "source": [
    "## 5. Flood map correlations"
   ]
  },
  {
   "cell_type": "code",
   "execution_count": 3,
   "id": "88e59325",
   "metadata": {},
   "outputs": [],
   "source": [
    "from viz_utils import soge_colours\n",
    "from matplotlib.colors import ListedColormap\n",
    "\n",
    "def csi(y_true, y_pred):\n",
    "    \"\"\"Critical success index\"\"\"\n",
    "    confusion_matrix = cm(y_true, y_pred)\n",
    "    TP = confusion_matrix[1, 1]\n",
    "    FP = confusion_matrix[0, 1] #(row, col) = (true, pred)\n",
    "    FN = confusion_matrix[1, 0]\n",
    "    csi = TP / (TP + FP + FN)  # critical success index\n",
    "    return csi\n",
    "\n",
    "run_floodmap_comps = True"
   ]
  },
  {
   "cell_type": "code",
   "execution_count": 4,
   "id": "e1e3f824",
   "metadata": {},
   "outputs": [
    {
     "name": "stdout",
     "output_type": "stream",
     "text": [
      "Deltares - Flood map correlation: 43.58%\n",
      "Aqueduct - Flood map correlation: 44.71%\n",
      "CSI Aqueduct: 0.3880\n",
      "CSI Deltares: 0.3636\n"
     ]
    }
   ],
   "source": [
    "if run_floodmap_comps:\n",
    "    gdf = base_gdf.copy(deep=True)\n",
    "    flood_thresh = 0\n",
    "    # gdf['floodfrac'] = gdf['floodfrac'].apply(lambda x: 1 if x > flood_thresh else 0)\n",
    "    print(f\"Deltares - Flood map correlation: {gdf['floodfrac'].corr(gdf['deltares']):.2%}\")\n",
    "    print(f\"Aqueduct - Flood map correlation: {gdf['floodfrac'].corr(gdf['aqueduct']):.2%}\")\n",
    "    \n",
    "    \n",
    "    # check CSIs of flood hazard maps\n",
    "    csis = {}\n",
    "    for source in ['aqueduct', 'deltares']:  \n",
    "        \n",
    "        floodfrac = [*(gdf['floodfrac'] > flood_thresh).astype(int)]\n",
    "        flood_source = [*(gdf[source] > flood_thresh).astype(int)]\n",
    "\n",
    "        csi_score = csi(floodfrac, flood_source)\n",
    "        csis[source] = csi_score\n",
    "        print(f\"CSI {source.capitalize()}: {csi_score:.4f}\")"
   ]
  },
  {
   "cell_type": "code",
   "execution_count": 6,
   "id": "9526ccc9",
   "metadata": {},
   "outputs": [
    {
     "data": {
      "image/png": "[encoded data removed]",
      "text/plain": [
       "<Figure size 864x432 with 2 Axes>"
      ]
     },
     "metadata": {
      "needs_background": "light"
     },
     "output_type": "display_data"
    }
   ],
   "source": [
    "if run_floodmap_comps:\n",
    "    storm = 'roanu'\n",
    "    region = 'chittagong'\n",
    "    subregion = 0\n",
    "    \n",
    "    cm_cols = {'TP': soge_colours['light turquoise'],\n",
    "               'TN': soge_colours['beige'],\n",
    "               'FP': soge_colours['yellowish green'],\n",
    "               'FN': soge_colours['orange']}\n",
    "\n",
    "    cm_categories = ListedColormap([cm_cols['FN'], cm_cols['FP'], cm_cols['TN'], cm_cols['TP']])\n",
    "\n",
    "    gdf['floodfrac'] = gdf['floodfrac'].apply(lambda x: 1 if x > flood_thresh else 0).astype(int)\n",
    "    gdf['aqueduct'] = gdf['aqueduct'].apply(lambda x: 1 if x > flood_thresh else 0).astype(int)\n",
    "    gdf['deltares'] = gdf['deltares'].apply(lambda x: 1 if x > flood_thresh else 0).astype(int)\n",
    "\n",
    "    gdf['deltares_cm'] = gdf[['floodfrac', 'deltares']].apply(lambda row: model_utils.confusion_label(row[0], row[1]), axis=1)\n",
    "    gdf['aqueduct_cm'] = gdf[['floodfrac', 'aqueduct']].apply(lambda row: model_utils.confusion_label(row[0], row[1]), axis=1)\n",
    "\n",
    "    fix, ax = plt.subplots(1, 2, figsize=(12, 6))\n",
    "\n",
    "    gdf_event = gdf[gdf.event==f'{storm}_{region}_{subregion}']\n",
    "    gdf_event.plot('deltares_cm', categorical=True, legend=True, ax=ax[0], cmap=cm_categories);\n",
    "    gdf_event.plot('aqueduct_cm', categorical=True, legend=True, ax=ax[1], cmap=cm_categories);\n",
    "\n",
    "    csi_deltares = csi(gdf_event['floodfrac'], gdf_event['deltares'])\n",
    "    csi_aqueduct = csi(gdf_event['floodfrac'], gdf_event['aqueduct'])\n",
    "    \n",
    "    ax[0].set_title(f\"Deltares: {csi_deltares:.2%}\")\n",
    "    ax[1].set_title(f\"Aqueduct: {csi_aqueduct:.2%}\");\n",
    "\n",
    "\n",
    "    plt.savefig(join(imdir, \"datasets\", f\"floodmaps_compare_{storm}_{region}_{subregion}.png\"), bbox_inches=\"tight\")"
   ]
  },
  {
   "cell_type": "markdown",
   "id": "17d3933f",
   "metadata": {},
   "source": [
    "# Visualisation"
   ]
  },
  {
   "cell_type": "code",
   "execution_count": 32,
   "id": "93c27af4",
   "metadata": {},
   "outputs": [
    {
     "name": "stdout",
     "output_type": "stream",
     "text": [
      "Finished mapping deltares for irma_tampasouth_0.\n",
      "Finished mapping deltares for irma_jacksonvillesouth_0.\n",
      "Finished mapping deltares for gombe_mossuril_5.\n",
      "Finished mapping deltares for ian_cuba_9.\n",
      "Finished mapping deltares for ian_cuba_16.\n",
      "Finished mapping deltares for batsirai_menabe_0.\n",
      "Finished mapping deltares for batsirai_menabe_1.\n",
      "Finished mapping deltares for ian_cuba_4.\n",
      "Finished mapping deltares for batsirai_mananjary_0.\n",
      "Finished mapping deltares for goni_tiwi_0.\n",
      "Finished mapping deltares for roanu_satkania_0.\n",
      "Finished mapping deltares for ian_cuba_8.\n",
      "Finished mapping deltares for gombe_mossuril_4.\n",
      "Finished mapping deltares for irma_jacksonvillesouth_1.\n",
      "Finished mapping deltares for irma_tampasouth_1.\n",
      "Finished mapping deltares for batsirai_tsiribihina_0.\n",
      "Finished mapping deltares for goni_bato_0.\n",
      "Finished mapping deltares for roanu_chittagong_0.\n",
      "Finished mapping deltares for nakri_tuyhoa_0.\n",
      "Finished mapping deltares for ian_cuba_3.\n",
      "Finished mapping deltares for roanu_barguna_0.\n",
      "Finished mapping deltares for gombe_mossuril_3.\n",
      "Finished mapping deltares for roanu_lalmohan_0.\n",
      "Finished mapping deltares for ian_cuba_10.\n",
      "Finished mapping deltares for roanu_lalmohan_1.\n",
      "Finished mapping deltares for ian_cuba_11.\n",
      "Finished mapping deltares for megi_westernvisayas_0.\n",
      "Finished mapping deltares for roanu_barguna_1.\n",
      "Finished mapping deltares for ian_cuba_2.\n",
      "Finished mapping deltares for roanu_chittagong_1.\n",
      "Finished mapping deltares for ian_cuba_1.\n",
      "Finished mapping deltares for irma_tampanorth_0.\n",
      "Finished mapping deltares for roanu_chittagong_2.\n",
      "Finished mapping deltares for megi_westernvisayas_3.\n",
      "Finished mapping deltares for ian_cuba_12.\n",
      "Finished mapping deltares for rai_hinunangan_0.\n",
      "Finished mapping deltares for roanu_lalmohan_2.\n",
      "Finished mapping deltares for gombe_mossuril_1.\n",
      "Finished mapping deltares for roanu_coxsbazar_1.\n",
      "Finished mapping deltares for roanu_barguna_2.\n",
      "Finished mapping deltares for roanu_coxsbazar_0.\n",
      "Finished mapping deltares for megi_westernvisayas_2.\n",
      "Finished mapping deltares for ian_cuba_13.\n",
      "Finished mapping deltares for irma_tampanorth_1.\n",
      "Finished mapping deltares for ian_cuba_0.\n",
      "Finished mapping deltares for ian_cuba_7.\n",
      "Finished mapping deltares for goni_virac_0.\n",
      "Finished mapping deltares for ian_cuba_6.\n",
      "Finished mapping deltares for iota_loweraguanbasin_0.\n"
     ]
    }
   ],
   "source": [
    "# visualise all flood fractions\n",
    "runme = True\n",
    "feature = 'deltares'\n",
    "if runme:\n",
    "    gdf = model_utils.load_spatial_data(wd)\n",
    "    events = [*gdf.event.unique()]\n",
    "    cmap, _, _ = viz_utils.cmap_key[feature]\n",
    "    \n",
    "    for event in events:\n",
    "        gdf_event = gdf[gdf['event'] == event]\n",
    "        fig, ax = plt.subplots()\n",
    "        \n",
    "        gdf_event.plot(feature, cmap=cmap, ax=ax, legend=True)\n",
    "        \n",
    "        ax.set_xticks([])\n",
    "        ax.set_yticks([])\n",
    "\n",
    "        fig.savefig(join(imdir, \"datasets\", feature, f\"{event}.png\"), bbox_inches=\"tight\")\n",
    "        print(f\"Finished mapping {feature} for {event}.\")\n",
    "        plt.close(fig)"
   ]
  },
  {
   "cell_type": "code",
   "execution_count": null,
   "id": "bae56593",
   "metadata": {},
   "outputs": [],
   "source": []
  },
  {
   "cell_type": "code",
   "execution_count": null,
   "id": "a86c1d20",
   "metadata": {},
   "outputs": [],
   "source": []
  },
  {
   "cell_type": "code",
   "execution_count": 18,
   "id": "4ef6486a",
   "metadata": {},
   "outputs": [
    {
     "name": "stderr",
     "output_type": "stream",
     "text": [
      "Processing iota_loweraguanbasin_0: 100%|█████████████████████████████| 30/30 [05:18<00:00, 10.61s/it]\n"
     ]
    }
   ],
   "source": [
    "# view all the data points\n",
    "runme = True\n",
    "\n",
    "reload(viz_utils)\n",
    "\n",
    "events = [*gdf.event.unique()]\n",
    "nevents = len(events)\n",
    "\n",
    "if runme:\n",
    "    for event in (pbar := tqdm(events)):\n",
    "        pbar.set_description(\"Processing %s\" % event)\n",
    "        fig, axs = plt.subplots(nfeatures + 1, figsize=(2, 2 * (nfeatures + 1)))\n",
    "        \n",
    "        # plot floodfrac\n",
    "        ax = axs[0]\n",
    "        gdf_event = gdf[gdf['event'] == event]\n",
    "        gdf_event.plot(\"floodfrac\", ax=ax, legend=True,\n",
    "                       cmap=viz_utils.cmap_key[\"floodfrac\"][0])\n",
    "        ax.set_xticks([])\n",
    "        ax.set_yticks([])\n",
    "        ax.set_title(f\"Flood: {event}\")\n",
    "        \n",
    "        # plot features\n",
    "        for fi, feature in enumerate(features):\n",
    "            ax = axs[fi+1]\n",
    "            \n",
    "            cmap, under, over = viz_utils.cmap_key[feature]\n",
    "            cmap = plt.get_cmap(cmap).copy()\n",
    "            cmap.set_under(under, 1.0)\n",
    "            cmap.set_over(over, 1.0)\n",
    "            \n",
    "            vmin, vmax = viz_utils.cmap_range[feature]\n",
    "            \n",
    "            gdf_event.plot(feature, ax=ax, cmap=cmap,\n",
    "                          vmin=vmin, vmax=vmax, legend=True)\n",
    "            \n",
    "            ax.set_title(feature)\n",
    "            ax.set_xticks([])\n",
    "            ax.set_yticks([])\n",
    "\n",
    "        fig.savefig(join(imdir, \"datasets\", f\"{event}.png\"), bbox_inches=\"tight\")\n",
    "        plt.close(fig)"
   ]
  },
  {
   "cell_type": "markdown",
   "id": "63cff19b",
   "metadata": {},
   "source": [
    "## 4. Inspect elevation outliers"
   ]
  },
  {
   "cell_type": "code",
   "execution_count": 61,
   "id": "1c730175",
   "metadata": {},
   "outputs": [
    {
     "data": {
      "text/plain": [
       "count    122880.000000\n",
       "mean         -4.445891\n",
       "std         138.083744\n",
       "min       -1083.769231\n",
       "25%         -11.000000\n",
       "50%           0.531331\n",
       "75%           8.165490\n",
       "max        1496.661987\n",
       "Name: elevation, dtype: float64"
      ]
     },
     "execution_count": 61,
     "metadata": {},
     "output_type": "execute_result"
    }
   ],
   "source": [
    "gdf['elevation'].describe()"
   ]
  },
  {
   "cell_type": "code",
   "execution_count": 62,
   "id": "20a72d4a",
   "metadata": {},
   "outputs": [
    {
     "name": "stdout",
     "output_type": "stream",
     "text": [
      "elev < -1000m ['goni_tiwi_0']\n",
      "elev < -500m ['goni_tiwi_0' 'goni_bato_0' 'rai_hinunangan_0' 'goni_virac_0']\n"
     ]
    },
    {
     "data": {
      "image/png": "[encoded data removed]",
      "text/plain": [
       "<Figure size 1080x360 with 4 Axes>"
      ]
     },
     "metadata": {
      "needs_background": "light"
     },
     "output_type": "display_data"
    }
   ],
   "source": [
    "# inspect high elevation data\n",
    "print(f\"elev > 1000m {gdf[gdf['elevation'] > 1000]['event'].unique()}\")\n",
    "print(f\"elev > 500m {gdf[gdf['elevation'] > 500]['event'].unique()}\")\n",
    "\n",
    "fig, ax = plt.subplots(1, 2, figsize=(15, 5))\n",
    "\n",
    "gdf[gdf['event'] == 'goni_tiwi_0'].plot('fabdem', ax=ax[0], cmap='terrain', legend=True)\n",
    "ax[0].set_title('FABDEM')\n",
    "gdf[gdf['event'] == 'goni_tiwi_0'].plot('elevation', ax=ax[1], cmap='terrain', legend=True);\n",
    "ax[1].set_title('Elevation used');"
   ]
  },
  {
   "cell_type": "code",
   "execution_count": 64,
   "id": "5237deab",
   "metadata": {},
   "outputs": [
    {
     "name": "stdout",
     "output_type": "stream",
     "text": [
      "elev < -1000m ['goni_tiwi_0' 'goni_virac_0']\n",
      "elev < -500m ['batsirai_mananjary_0' 'goni_tiwi_0' 'gombe_mossuril_3'\n",
      " 'rai_hinunangan_0' 'goni_virac_0']\n"
     ]
    },
    {
     "data": {
      "image/png": "[encoded data removed]",
      "text/plain": [
       "<Figure size 1080x360 with 4 Axes>"
      ]
     },
     "metadata": {
      "needs_background": "light"
     },
     "output_type": "display_data"
    },
    {
     "data": {
      "image/png": "[encoded data removed]",
      "text/plain": [
       "<Figure size 1080x360 with 4 Axes>"
      ]
     },
     "metadata": {
      "needs_background": "light"
     },
     "output_type": "display_data"
    }
   ],
   "source": [
    "# inspect low elevation data\n",
    "print(f\"elev < -1000m {gdf[gdf['elevation'] < -1000]['event'].unique()}\")\n",
    "print(f\"elev < -500m {gdf[gdf['elevation'] < -500]['event'].unique()}\")\n",
    "\n",
    "fig, ax = plt.subplots(1, 2, figsize=(15, 5))\n",
    "gdf[gdf['event'] == 'goni_virac_0'].plot('gebco', ax=ax[0], cmap='terrain', legend=True)\n",
    "ax[0].set_title('GEBCO')\n",
    "gdf[gdf['event'] == 'goni_virac_0'].plot('elevation', ax=ax[1], cmap='terrain', legend=True);\n",
    "ax[1].set_title('Elevation used');\n",
    "\n",
    "fig, ax = plt.subplots(1, 2, figsize=(15, 5))\n",
    "gdf[gdf['event'] == 'gombe_mossuril_3'].plot('gebco', ax=ax[0], cmap='terrain', legend=True)\n",
    "ax[0].set_title('GEBCO')\n",
    "gdf[gdf['event'] == 'gombe_mossuril_3'].plot('elevation', ax=ax[1], cmap='terrain', legend=True);\n",
    "ax[1].set_title('Elevation used');"
   ]
  }
 ],
 "metadata": {
  "kernelspec": {
   "display_name": "hybridmodels-modelbuild",
   "language": "python",
   "name": "hybridmodels-modelbuild"
  },
  "language_info": {
   "codemirror_mode": {
    "name": "ipython",
    "version": 3
   },
   "file_extension": ".py",
   "mimetype": "text/x-python",
   "name": "python",
   "nbconvert_exporter": "python",
   "pygments_lexer": "ipython3",
   "version": "3.10.5"
  }
 },
 "nbformat": 4,
 "nbformat_minor": 5
}
