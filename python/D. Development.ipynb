{
 "cells": [
  {
   "cell_type": "markdown",
   "id": "846a1e87",
   "metadata": {},
   "source": [
    "# Development"
   ]
  },
  {
   "cell_type": "code",
   "execution_count": 1,
   "id": "810df387",
   "metadata": {},
   "outputs": [],
   "source": [
    "import math\n",
    "from os import remove\n",
    "import warnings\n",
    "import time\n",
    "\n",
    "# standard scientific\n",
    "import matplotlib.pyplot as plt\n",
    "import numpy as np\n",
    "import xarray as xr\n",
    "# ! pip install zarr\n",
    "\n",
    "# gee\n",
    "import ee\n",
    "\n",
    "# raster stuff\n",
    "import dask.distributed\n",
    "import pystac_client\n",
    "import rioxarray  # noqa: F401\n",
    "import contextily\n",
    "import rasterio\n",
    "import shapely.geometry\n",
    "import cartopy.feature as cfeature\n",
    "import cartopy.crs as ccrs\n",
    "\n",
    "from ast import literal_eval\n",
    "from os.path import join\n",
    "import pandas as pd\n",
    "import geopandas as gpd\n",
    "from shapely.geometry import box, shape\n",
    "\n",
    "from importlib import reload\n",
    "import viz_utils\n",
    "import data_utils\n",
    "from event import Event, pwater_thresh\n",
    "\n",
    "plt.rcParams['font.family'] = 'Arial'\n",
    "\n",
    "# set up env\n",
    "bd = '.'\n",
    "wd = join(bd, \"..\", \"data\")\n",
    "\n",
    "# event\n",
    "storm = \"batsirai\"\n",
    "region = \"mananjary\"\n",
    "nsubregions = 1\n",
    "subregion = 0"
   ]
  },
  {
   "cell_type": "code",
   "execution_count": 2,
   "id": "35b88d36",
   "metadata": {},
   "outputs": [],
   "source": [
    "# load event GeoDataFrame (as when getting data)\n",
    "event = Event(storm, region, nsubregions, wd, bd)\n",
    "event.make_grids()\n",
    "event.get_all_features(subregion)"
   ]
  },
  {
   "cell_type": "markdown",
   "id": "4467bdbc",
   "metadata": {},
   "source": [
    "# Try and load a GFM dataset"
   ]
  },
  {
   "cell_type": "code",
   "execution_count": 4,
   "id": "c40bf35b",
   "metadata": {},
   "outputs": [],
   "source": [
    "# event\n",
    "storm = \"ian\"\n",
    "region = \"cuba\"\n",
    "nsubregions = 69\n",
    "subregion = 0"
   ]
  },
  {
   "cell_type": "code",
   "execution_count": 7,
   "id": "c613f70c",
   "metadata": {},
   "outputs": [
    {
     "name": "stderr",
     "output_type": "stream",
     "text": [
      "100%|████████████████████████████████████| 4096/4096 [00:00<00:00, 19625.48it/s]\n",
      "ian_cuba_0: error adding extra flood info:\n",
      "\"['det_method', 'obj_desc'] not in index\"\n",
      "Creating empty fields\n",
      "Error for mslp for ian, cuba, 0:Image.reduceRegions: Need 1 bands for Reducer.mean, image has 0.\n",
      "Creating empty field.\n",
      "Error for sp for ian, cuba, 0:Image.reduceRegions: Need 1 bands for Reducer.mean, image has 0.\n",
      "Creating empty field.\n",
      "Error for u10_u for ian, cuba, 0:Image.reduceRegions: Need 1 bands for Reducer.mean, image has 0.\n",
      "Creating empty field.\n",
      "Error for u10_v for ian, cuba, 0:Image.reduceRegions: Need 1 bands for Reducer.mean, image has 0.\n",
      "Creating empty field.\n",
      "Error for soiltemp1 for ian, cuba, 0:Image.clip: Parameter 'input' is required.\n",
      "Creating empty field.\n",
      "Error for soiltemp2 for ian, cuba, 0:Image.clip: Parameter 'input' is required.\n",
      "Creating empty field.\n",
      "WARNING:root:No pressure drop for time 8, skipping wind speed calculation.\n",
      "100%|████████████████████████████████████| 4096/4096 [00:00<00:00, 23589.29it/s]\n"
     ]
    }
   ],
   "source": [
    "# load event GeoDataFrame (as when getting data)\n",
    "event = Event(storm, region, nsubregions, wd, bd)\n",
    "event.make_grids()\n",
    "event.get_all_features(subregion)"
   ]
  },
  {
   "cell_type": "code",
   "execution_count": 8,
   "id": "f5032b98",
   "metadata": {},
   "outputs": [],
   "source": [
    "feature_gdf = event.feature_gdf[subregion]"
   ]
  },
  {
   "cell_type": "code",
   "execution_count": 13,
   "id": "cf58477a",
   "metadata": {},
   "outputs": [
    {
     "data": {
      "text/plain": [
       "<AxesSubplot:>"
      ]
     },
     "execution_count": 13,
     "metadata": {},
     "output_type": "execute_result"
    },
    {
     "data": {
      "image/png": "[encoded data removed]",
      "text/plain": [
       "<Figure size 432x288 with 1 Axes>"
      ]
     },
     "metadata": {
      "needs_background": "light"
     },
     "output_type": "display_data"
    }
   ],
   "source": [
    "feature_gdf.plot('floodfrac')"
   ]
  },
  {
   "cell_type": "code",
   "execution_count": 14,
   "id": "6c51d458",
   "metadata": {},
   "outputs": [
    {
     "name": "stderr",
     "output_type": "stream",
     "text": [
      "WARNING:data_collection.ian:Error for soiltemp1 for ian, cuba, 0:Image.clip: Parameter 'input' is required.\n",
      "Creating empty field.\n",
      "WARNING:data_collection.ian:Error for soiltemp2 for ian, cuba, 0:Image.clip: Parameter 'input' is required.\n",
      "Creating empty field.\n",
      "ERROR:fiona._env:./../data/ian_cuba/feature_stats_1.gpkg: No such file or directory\n",
      "100%|████████████████████████████████████| 4096/4096 [00:00<00:00, 19082.40it/s]\n",
      "WARNING:data_collection.ian:ian_cuba_1: error adding extra flood info:\n",
      "\"['det_method', 'obj_desc'] not in index\"\n",
      "Creating empty fields\n",
      "WARNING:data_collection.ian:Error for mslp for ian, cuba, 1:Image.reduceRegions: Need 1 bands for Reducer.mean, image has 0.\n",
      "Creating empty field.\n",
      "WARNING:data_collection.ian:Error for sp for ian, cuba, 1:Image.reduceRegions: Need 1 bands for Reducer.mean, image has 0.\n",
      "Creating empty field.\n",
      "WARNING:data_collection.ian:Error for u10_u for ian, cuba, 1:Image.reduceRegions: Need 1 bands for Reducer.mean, image has 0.\n",
      "Creating empty field.\n",
      "WARNING:data_collection.ian:Error for u10_v for ian, cuba, 1:Image.reduceRegions: Need 1 bands for Reducer.mean, image has 0.\n",
      "Creating empty field.\n"
     ]
    },
    {
     "ename": "KeyboardInterrupt",
     "evalue": "",
     "output_type": "error",
     "traceback": [
      "\u001b[0;31m---------------------------------------------------------------------------\u001b[0m",
      "\u001b[0;31mKeyboardInterrupt\u001b[0m                         Traceback (most recent call last)",
      "Input \u001b[0;32mIn [14]\u001b[0m, in \u001b[0;36m<cell line: 1>\u001b[0;34m()\u001b[0m\n\u001b[0;32m----> 1\u001b[0m \u001b[43mevent\u001b[49m\u001b[38;5;241;43m.\u001b[39;49m\u001b[43mprocess_all_subregions\u001b[49m\u001b[43m(\u001b[49m\u001b[43m)\u001b[49m\n",
      "File \u001b[0;32m~/Documents/DPhil/hybridmodels/python/event.py:133\u001b[0m, in \u001b[0;36mEvent.process_all_subregions\u001b[0;34m(self, recalculate_all, recalculate_features, feature_list)\u001b[0m\n\u001b[1;32m    131\u001b[0m \u001b[38;5;28;01mfor\u001b[39;00m subregion \u001b[38;5;129;01min\u001b[39;00m \u001b[38;5;28mrange\u001b[39m(\u001b[38;5;28mself\u001b[39m\u001b[38;5;241m.\u001b[39mnsubregions):\n\u001b[1;32m    132\u001b[0m     \u001b[38;5;28mself\u001b[39m\u001b[38;5;241m.\u001b[39mlogger\u001b[38;5;241m.\u001b[39minfo(\u001b[38;5;124mf\u001b[39m\u001b[38;5;124m'\u001b[39m\u001b[38;5;130;01m\\n\u001b[39;00m\u001b[38;5;124mProcessing subregion \u001b[39m\u001b[38;5;132;01m{\u001b[39;00msubregion\u001b[38;5;132;01m}\u001b[39;00m\u001b[38;5;130;01m\\n\u001b[39;00m\u001b[38;5;124m'\u001b[39m)\n\u001b[0;32m--> 133\u001b[0m     \u001b[38;5;28;43mself\u001b[39;49m\u001b[38;5;241;43m.\u001b[39;49m\u001b[43mget_all_features\u001b[49m\u001b[43m(\u001b[49m\u001b[43msubregion\u001b[49m\u001b[43m,\u001b[49m\u001b[43m \u001b[49m\u001b[43mrecalculate_all\u001b[49m\u001b[38;5;241;43m=\u001b[39;49m\u001b[43mrecalculate_all\u001b[49m\u001b[43m,\u001b[49m\n\u001b[1;32m    134\u001b[0m \u001b[43m                          \u001b[49m\u001b[43mrecalculate_features\u001b[49m\u001b[38;5;241;43m=\u001b[39;49m\u001b[43mrecalculate_features\u001b[49m\u001b[43m,\u001b[49m\n\u001b[1;32m    135\u001b[0m \u001b[43m                          \u001b[49m\u001b[43mfeature_list\u001b[49m\u001b[38;5;241;43m=\u001b[39;49m\u001b[43mfeature_list\u001b[49m\u001b[43m)\u001b[49m\n\u001b[1;32m    137\u001b[0m     \u001b[38;5;66;03m# save to output, feature_stats directory\u001b[39;00m\n\u001b[1;32m    138\u001b[0m     \u001b[38;5;28mself\u001b[39m\u001b[38;5;241m.\u001b[39mfeature_gdf[subregion]\u001b[38;5;241m.\u001b[39mto_file(join(\u001b[38;5;28mself\u001b[39m\u001b[38;5;241m.\u001b[39mwd, \u001b[38;5;124m\"\u001b[39m\u001b[38;5;124mfeature_stats\u001b[39m\u001b[38;5;124m\"\u001b[39m, \u001b[38;5;124mf\u001b[39m\u001b[38;5;124m\"\u001b[39m\u001b[38;5;132;01m{\u001b[39;00m\u001b[38;5;28mself\u001b[39m\u001b[38;5;241m.\u001b[39mstorm\u001b[38;5;132;01m}\u001b[39;00m\u001b[38;5;124m_\u001b[39m\u001b[38;5;132;01m{\u001b[39;00m\u001b[38;5;28mself\u001b[39m\u001b[38;5;241m.\u001b[39mregion\u001b[38;5;132;01m}\u001b[39;00m\u001b[38;5;124m_\u001b[39m\u001b[38;5;132;01m{\u001b[39;00msubregion\u001b[38;5;132;01m}\u001b[39;00m\u001b[38;5;124m.gpkg\u001b[39m\u001b[38;5;124m\"\u001b[39m),\n\u001b[1;32m    139\u001b[0m                                         layer\u001b[38;5;241m=\u001b[39m\u001b[38;5;124mf\u001b[39m\u001b[38;5;124m\"\u001b[39m\u001b[38;5;132;01m{\u001b[39;00m\u001b[38;5;28mself\u001b[39m\u001b[38;5;241m.\u001b[39mstorm\u001b[38;5;132;01m}\u001b[39;00m\u001b[38;5;124m_\u001b[39m\u001b[38;5;132;01m{\u001b[39;00m\u001b[38;5;28mself\u001b[39m\u001b[38;5;241m.\u001b[39mregion\u001b[38;5;132;01m}\u001b[39;00m\u001b[38;5;124m_\u001b[39m\u001b[38;5;132;01m{\u001b[39;00msubregion\u001b[38;5;132;01m}\u001b[39;00m\u001b[38;5;124m\"\u001b[39m, driver\u001b[38;5;241m=\u001b[39m\u001b[38;5;124m\"\u001b[39m\u001b[38;5;124mGPKG\u001b[39m\u001b[38;5;124m\"\u001b[39m)\n",
      "File \u001b[0;32m~/Documents/DPhil/hybridmodels/python/event.py:153\u001b[0m, in \u001b[0;36mEvent.get_all_features\u001b[0;34m(self, subregion, recalculate_all, recalculate_features, feature_list)\u001b[0m\n\u001b[1;32m    151\u001b[0m \u001b[38;5;28mself\u001b[39m\u001b[38;5;241m.\u001b[39mget_gdf(subregion, recalculate\u001b[38;5;241m=\u001b[39mrecalculate_all)\n\u001b[1;32m    152\u001b[0m \u001b[38;5;28;01mfor\u001b[39;00m feature \u001b[38;5;129;01min\u001b[39;00m feature_list:\n\u001b[0;32m--> 153\u001b[0m     \u001b[38;5;28;43mgetattr\u001b[39;49m\u001b[43m(\u001b[49m\u001b[38;5;28;43mself\u001b[39;49m\u001b[43m,\u001b[49m\u001b[43m \u001b[49m\u001b[38;5;124;43mf\u001b[39;49m\u001b[38;5;124;43m\"\u001b[39;49m\u001b[38;5;124;43mget_\u001b[39;49m\u001b[38;5;132;43;01m{\u001b[39;49;00m\u001b[43mfeature\u001b[49m\u001b[38;5;132;43;01m}\u001b[39;49;00m\u001b[38;5;124;43m\"\u001b[39;49m\u001b[43m)\u001b[49m\u001b[43m(\u001b[49m\u001b[43msubregion\u001b[49m\u001b[43m,\u001b[49m\u001b[43m \u001b[49m\u001b[43mrecalculate_features\u001b[49m\u001b[43m)\u001b[49m\n",
      "File \u001b[0;32m~/Documents/DPhil/hybridmodels/python/event.py:882\u001b[0m, in \u001b[0;36mEvent.get_soilcarbon\u001b[0;34m(self, subregion, recalculate)\u001b[0m\n\u001b[1;32m    878\u001b[0m     soilcarbon\u001b[38;5;241m.\u001b[39mprojection()\u001b[38;5;241m.\u001b[39mgetInfo()\n\u001b[1;32m    879\u001b[0m     mean_soilcarbon \u001b[38;5;241m=\u001b[39m soilcarbon\u001b[38;5;241m.\u001b[39mreduceRegions(collection\u001b[38;5;241m=\u001b[39mgrid_ee,\n\u001b[1;32m    880\u001b[0m                                              reducer\u001b[38;5;241m=\u001b[39mee\u001b[38;5;241m.\u001b[39mReducer\u001b[38;5;241m.\u001b[39mmean(), scale\u001b[38;5;241m=\u001b[39m\u001b[38;5;28mself\u001b[39m\u001b[38;5;241m.\u001b[39mgridsize)\n\u001b[0;32m--> 882\u001b[0m     soilcarbon_list \u001b[38;5;241m=\u001b[39m \u001b[43mmean_soilcarbon\u001b[49m\u001b[38;5;241;43m.\u001b[39;49m\u001b[43maggregate_array\u001b[49m\u001b[43m(\u001b[49m\u001b[38;5;124;43m'\u001b[39;49m\u001b[38;5;124;43mmean\u001b[39;49m\u001b[38;5;124;43m'\u001b[39;49m\u001b[43m)\u001b[49m\u001b[38;5;241;43m.\u001b[39;49m\u001b[43mgetInfo\u001b[49m\u001b[43m(\u001b[49m\u001b[43m)\u001b[49m\n\u001b[1;32m    883\u001b[0m     feature_gdf[\u001b[38;5;124m\"\u001b[39m\u001b[38;5;124msoilcarbon\u001b[39m\u001b[38;5;124m\"\u001b[39m] \u001b[38;5;241m=\u001b[39m soilcarbon_list\n\u001b[1;32m    884\u001b[0m \u001b[38;5;28;01mexcept\u001b[39;00m \u001b[38;5;167;01mException\u001b[39;00m \u001b[38;5;28;01mas\u001b[39;00m e:\n",
      "File \u001b[0;32m~/miniconda3/envs/hybridmodels/lib/python3.10/site-packages/ee/computedobject.py:98\u001b[0m, in \u001b[0;36mComputedObject.getInfo\u001b[0;34m(self)\u001b[0m\n\u001b[1;32m     92\u001b[0m \u001b[38;5;28;01mdef\u001b[39;00m \u001b[38;5;21mgetInfo\u001b[39m(\u001b[38;5;28mself\u001b[39m):\n\u001b[1;32m     93\u001b[0m   \u001b[38;5;124;03m\"\"\"Fetch and return information about this object.\u001b[39;00m\n\u001b[1;32m     94\u001b[0m \n\u001b[1;32m     95\u001b[0m \u001b[38;5;124;03m  Returns:\u001b[39;00m\n\u001b[1;32m     96\u001b[0m \u001b[38;5;124;03m    The object can evaluate to anything.\u001b[39;00m\n\u001b[1;32m     97\u001b[0m \u001b[38;5;124;03m  \"\"\"\u001b[39;00m\n\u001b[0;32m---> 98\u001b[0m   \u001b[38;5;28;01mreturn\u001b[39;00m \u001b[43mdata\u001b[49m\u001b[38;5;241;43m.\u001b[39;49m\u001b[43mcomputeValue\u001b[49m\u001b[43m(\u001b[49m\u001b[38;5;28;43mself\u001b[39;49m\u001b[43m)\u001b[49m\n",
      "File \u001b[0;32m~/miniconda3/envs/hybridmodels/lib/python3.10/site-packages/ee/data.py:737\u001b[0m, in \u001b[0;36mcomputeValue\u001b[0;34m(obj)\u001b[0m\n\u001b[1;32m    726\u001b[0m \u001b[38;5;28;01mdef\u001b[39;00m \u001b[38;5;21mcomputeValue\u001b[39m(obj):\n\u001b[1;32m    727\u001b[0m   \u001b[38;5;124;03m\"\"\"Sends a request to compute a value.\u001b[39;00m\n\u001b[1;32m    728\u001b[0m \n\u001b[1;32m    729\u001b[0m \u001b[38;5;124;03m  Args:\u001b[39;00m\n\u001b[0;32m   (...)\u001b[0m\n\u001b[1;32m    733\u001b[0m \u001b[38;5;124;03m    The result of evaluating that object on the server.\u001b[39;00m\n\u001b[1;32m    734\u001b[0m \u001b[38;5;124;03m  \"\"\"\u001b[39;00m\n\u001b[1;32m    735\u001b[0m   \u001b[38;5;28;01mreturn\u001b[39;00m _execute_cloud_call(\n\u001b[1;32m    736\u001b[0m       _get_cloud_api_resource()\u001b[38;5;241m.\u001b[39mprojects()\u001b[38;5;241m.\u001b[39mvalue()\u001b[38;5;241m.\u001b[39mcompute(\n\u001b[0;32m--> 737\u001b[0m           body\u001b[38;5;241m=\u001b[39m{\u001b[38;5;124m'\u001b[39m\u001b[38;5;124mexpression\u001b[39m\u001b[38;5;124m'\u001b[39m: \u001b[43mserializer\u001b[49m\u001b[38;5;241;43m.\u001b[39;49m\u001b[43mencode\u001b[49m\u001b[43m(\u001b[49m\u001b[43mobj\u001b[49m\u001b[43m,\u001b[49m\u001b[43m \u001b[49m\u001b[43mfor_cloud_api\u001b[49m\u001b[38;5;241;43m=\u001b[39;49m\u001b[38;5;28;43;01mTrue\u001b[39;49;00m\u001b[43m)\u001b[49m},\n\u001b[1;32m    738\u001b[0m           project\u001b[38;5;241m=\u001b[39m_get_projects_path(),\n\u001b[1;32m    739\u001b[0m           prettyPrint\u001b[38;5;241m=\u001b[39m\u001b[38;5;28;01mFalse\u001b[39;00m))[\u001b[38;5;124m'\u001b[39m\u001b[38;5;124mresult\u001b[39m\u001b[38;5;124m'\u001b[39m]\n",
      "File \u001b[0;32m~/miniconda3/envs/hybridmodels/lib/python3.10/site-packages/ee/serializer.py:298\u001b[0m, in \u001b[0;36mencode\u001b[0;34m(obj, is_compound, for_cloud_api, unbound_name)\u001b[0m\n\u001b[1;32m    282\u001b[0m \u001b[38;5;124;03m\"\"\"Serialize an object to a JSON-compatible structure for API calls.\u001b[39;00m\n\u001b[1;32m    283\u001b[0m \n\u001b[1;32m    284\u001b[0m \u001b[38;5;124;03mArgs:\u001b[39;00m\n\u001b[0;32m   (...)\u001b[0m\n\u001b[1;32m    294\u001b[0m \u001b[38;5;124;03m  A JSON-compatible structure representing the input.\u001b[39;00m\n\u001b[1;32m    295\u001b[0m \u001b[38;5;124;03m\"\"\"\u001b[39;00m\n\u001b[1;32m    296\u001b[0m serializer \u001b[38;5;241m=\u001b[39m Serializer(\n\u001b[1;32m    297\u001b[0m     is_compound, for_cloud_api\u001b[38;5;241m=\u001b[39mfor_cloud_api, unbound_name\u001b[38;5;241m=\u001b[39munbound_name)\n\u001b[0;32m--> 298\u001b[0m \u001b[38;5;28;01mreturn\u001b[39;00m \u001b[43mserializer\u001b[49m\u001b[38;5;241;43m.\u001b[39;49m\u001b[43m_encode\u001b[49m\u001b[43m(\u001b[49m\u001b[43mobj\u001b[49m\u001b[43m)\u001b[49m\n",
      "File \u001b[0;32m~/miniconda3/envs/hybridmodels/lib/python3.10/site-packages/ee/serializer.py:80\u001b[0m, in \u001b[0;36mSerializer._encode\u001b[0;34m(self, obj)\u001b[0m\n\u001b[1;32m     71\u001b[0m \u001b[38;5;124;03m\"\"\"Encodes a top level object to be executed server-side.\u001b[39;00m\n\u001b[1;32m     72\u001b[0m \n\u001b[1;32m     73\u001b[0m \u001b[38;5;124;03mArgs:\u001b[39;00m\n\u001b[0;32m   (...)\u001b[0m\n\u001b[1;32m     77\u001b[0m \u001b[38;5;124;03m  An encoded object ready for JSON serialization.\u001b[39;00m\n\u001b[1;32m     78\u001b[0m \u001b[38;5;124;03m\"\"\"\u001b[39;00m\n\u001b[1;32m     79\u001b[0m \u001b[38;5;28;01mif\u001b[39;00m \u001b[38;5;28mself\u001b[39m\u001b[38;5;241m.\u001b[39m_for_cloud_api:\n\u001b[0;32m---> 80\u001b[0m   \u001b[38;5;28;01mreturn\u001b[39;00m \u001b[38;5;28;43mself\u001b[39;49m\u001b[38;5;241;43m.\u001b[39;49m\u001b[43m_encode_for_cloud_api\u001b[49m\u001b[43m(\u001b[49m\u001b[43mobj\u001b[49m\u001b[43m)\u001b[49m\n\u001b[1;32m     81\u001b[0m value \u001b[38;5;241m=\u001b[39m \u001b[38;5;28mself\u001b[39m\u001b[38;5;241m.\u001b[39m_encode_value(obj)\n\u001b[1;32m     82\u001b[0m \u001b[38;5;28;01mif\u001b[39;00m \u001b[38;5;28mself\u001b[39m\u001b[38;5;241m.\u001b[39m_is_compound:\n",
      "\u001b[0;31mKeyboardInterrupt\u001b[0m: "
     ]
    }
   ],
   "source": [
    "event.process_all_subregions()"
   ]
  },
  {
   "cell_type": "markdown",
   "id": "e8fe811b",
   "metadata": {},
   "source": [
    "# Get vegetation and JRC layers (without gridding)"
   ]
  },
  {
   "cell_type": "code",
   "execution_count": 30,
   "id": "c8dfcd8c",
   "metadata": {},
   "outputs": [],
   "source": [
    "def get_ndvi(self, subregion, recalculate=False):\n",
    "    \"\"\"NDVI (reprojected and masked from mangroves)\"\"\"\n",
    "\n",
    "    if self.feature_gdf[subregion] is None: self.get_gdf(subregion)\n",
    "\n",
    "    self.logger.info(\"Calculating NDVI...\")\n",
    "\n",
    "    try:\n",
    "        # set up Google Earth Engine for subregion\n",
    "        if self.connected_to_gee != subregion: self.start_gee(subregion)\n",
    "        aoi_ee = self.aoi_ee[subregion]\n",
    "        grid_ee = self.grid_ee[subregion]\n",
    "\n",
    "        # NDVI\n",
    "        ndvi = ee.Image(ee.ImageCollection(\"MODIS/006/MOD13Q1\")\n",
    "                        .filterBounds(aoi_ee)\n",
    "                        .filterDate(ee.Date(self.startdate).advance(-2, 'month'), ee.Date(self.enddate))\n",
    "                        .mean()\n",
    "                        .clip(aoi_ee))\n",
    "\n",
    "        ndvi = ndvi.select('NDVI')\n",
    "        ndvi = ndvi.unmask(0)\n",
    "\n",
    "    except Exception as e:\n",
    "        print(\"Didn't work\")\n",
    "\n",
    "    return(ndvi)\n",
    "\n",
    "\n",
    "\n",
    "def get_permwater(self, band, subregion, recalculate=False):\n",
    "    \"\"\"Get JRC Permanent water from Google Earth Engine.\n",
    "\n",
    "    JRC permanent water dataset: 30 arcseconds (approx. 1km). Needs a better way to impute missing ocean values.\n",
    "    \"\"\"\n",
    "    if self.feature_gdf[subregion] is None: self.get_gdf(subregion)\n",
    "\n",
    "    \n",
    "    self.logger.info(\"Recalculating permanent water...\")\n",
    "\n",
    "    try:\n",
    "        if self.connected_to_gee != subregion:\n",
    "            self.start_gee(subregion)\n",
    "\n",
    "        aoi_ee = self.aoi_ee[subregion]\n",
    "        grid_ee = self.grid_ee[subregion]\n",
    "\n",
    "        jrc_permwater = (ee.Image(\"JRC/GSW1_3/GlobalSurfaceWater\")\n",
    "                         .clip(aoi_ee)\n",
    "                         .select(band)\n",
    "                         .unmask(0))\n",
    "\n",
    "    except Exception as e:\n",
    "        print(\"Didn't work\")\n",
    "    \n",
    "    return jrc_permwater\n",
    "\n",
    "\n",
    "def get_lulc(self, subregion, recalculate=False):\n",
    "    \"\"\"Land use and land cover.\"\"\"\n",
    "\n",
    "    if self.feature_gdf[subregion] is None: self.get_gdf(subregion)\n",
    "\n",
    "\n",
    "    # set up Google Earth Engine for subregion\n",
    "    if self.connected_to_gee != subregion: self.start_gee(subregion)\n",
    "    aoi_ee = self.aoi_ee[subregion]\n",
    "    grid_ee = self.grid_ee[subregion]\n",
    "\n",
    "    self.logger.info(f\"Calculating dominant LULC type per grid cell...\")\n",
    "    try:\n",
    "        lulc = ee.Image(ee.ImageCollection(\"ESA/WorldCover/v100\")\n",
    "                          .filterBounds(aoi_ee)\n",
    "                          .mode()\n",
    "                          .clip(aoi_ee)\n",
    "                          .unmask(0))\n",
    "\n",
    "    except Exception as e:\n",
    "        print(\"Didn't work\")\n",
    "\n",
    "    # save output\n",
    "    return lulc"
   ]
  },
  {
   "cell_type": "code",
   "execution_count": 36,
   "id": "4fb190ac",
   "metadata": {},
   "outputs": [
    {
     "name": "stdout",
     "output_type": "stream",
     "text": [
      "Still running...\n",
      "Still running...\n",
      "Still running...\n",
      "Still running...\n",
      "Still running...\n",
      "Still running...\n",
      "Still running...\n",
      "Still running...\n",
      "Still running...\n",
      "Still running...\n",
      "Still running...\n",
      "Still running...\n",
      "Still running...\n",
      "Still running...\n",
      "Still running...\n",
      "Still running...\n",
      "Still running...\n",
      "Finished!\n",
      "Still running...\n",
      "Still running...\n",
      "Still running...\n",
      "Still running...\n",
      "Still running...\n",
      "Still running...\n",
      "Still running...\n",
      "Still running...\n",
      "Still running...\n",
      "Still running...\n",
      "Still running...\n",
      "Still running...\n",
      "Still running...\n",
      "Still running...\n",
      "Still running...\n",
      "Still running...\n",
      "Still running...\n",
      "Still running...\n",
      "Still running...\n",
      "Finished!\n"
     ]
    }
   ],
   "source": [
    "for subregion in range(nsubregions):\n",
    "#     ndvi = get_ndvi(event, subregion)\n",
    "\n",
    "#     # define path to assets to download file\n",
    "#     assexport_drive = ee.batch.Export.image.toDrive(ndvi,\n",
    "#                                                     description=f'NDVI_{storm}_{region}_{subregion}',\n",
    "#                                                     folder=f\"{storm}_{region}_{subregion}\",\n",
    "#                                                     fileNamePrefix=f\"NDVI_{subregion}\",\n",
    "#                                                     scale=10,\n",
    "#                                                     maxPixels=1e9)\n",
    "\n",
    "#     # export to google earth engine account\n",
    "#     assexport_drive.start()\n",
    "\n",
    "#     while (assexport_drive.status()['state'] == 'RUNNING') or (assexport_drive.status()['state'] == 'READY'):\n",
    "#         print('Still running...')\n",
    "#         time.sleep(10)\n",
    "\n",
    "#     print(\"Finished!\")\n",
    "\n",
    "#     jrc_permwater = get_permwater(event, 'occurence', subregion)\n",
    "\n",
    "#     # define path to assets to download file\n",
    "#     assexport_drive = ee.batch.Export.image.toDrive(jrc_permwater,\n",
    "#                                                     description=f'JRC_{storm}_{region}_{subregion}',\n",
    "#                                                     folder=f\"{storm}_{region}_{subregion}\",\n",
    "#                                                     fileNamePrefix=f\"JRC_PW_{subregion}\",\n",
    "#                                                     scale=10,\n",
    "#                                                     maxPixels=1e9)\n",
    "\n",
    "#     # export to google earth engine account\n",
    "#     assexport_drive.start()\n",
    "\n",
    "#     while (assexport_drive.status()['state'] == 'RUNNING') or (assexport_drive.status()['state'] == 'READY'):\n",
    "#         print('Still running...')\n",
    "#         time.sleep(10)\n",
    "\n",
    "#     print(\"Finished!\")\n",
    "    \n",
    "    jrc_permwater = get_permwater(event, 'seasonality', subregion)\n",
    "\n",
    "    # define path to assets to download file\n",
    "    assexport_drive = ee.batch.Export.image.toDrive(jrc_permwater,\n",
    "                                                    description=f'JRC_{storm}_{region}_{subregion}',\n",
    "                                                    folder=f\"{storm}_{region}_{subregion}\",\n",
    "                                                    fileNamePrefix=f\"JRC_PW_seasonal_{subregion}\",\n",
    "                                                    scale=10,\n",
    "                                                    maxPixels=1e9)\n",
    "\n",
    "    # export to google earth engine account\n",
    "    assexport_drive.start()\n",
    "\n",
    "    while (assexport_drive.status()['state'] == 'RUNNING') or (assexport_drive.status()['state'] == 'READY'):\n",
    "        print('Still running...')\n",
    "        time.sleep(10)\n",
    "\n",
    "    print(\"Finished!\")\n",
    "    \n",
    "    \n",
    "    lulc = get_lulc(event, subregion)\n",
    "\n",
    "    # define path to assets to download file\n",
    "    assexport_drive = ee.batch.Export.image.toDrive(lulc,\n",
    "                                                    description=f'LULC_{storm}_{region}_{subregion}',\n",
    "                                                    folder=f\"{storm}_{region}_{subregion}\",\n",
    "                                                    fileNamePrefix=f\"LULC_{subregion}\",\n",
    "                                                    scale=10,\n",
    "                                                    maxPixels=1e9)\n",
    "\n",
    "    # export to google earth engine account\n",
    "    assexport_drive.start()\n",
    "\n",
    "    while (assexport_drive.status()['state'] == 'RUNNING') or (assexport_drive.status()['state'] == 'READY'):\n",
    "        print('Still running...')\n",
    "        time.sleep(10)\n",
    "\n",
    "    print(\"Finished!\")\n"
   ]
  },
  {
   "cell_type": "code",
   "execution_count": 33,
   "id": "8fc28b67",
   "metadata": {},
   "outputs": [
    {
     "data": {
      "text/plain": [
       "{'state': 'COMPLETED',\n",
       " 'description': 'LULC_batsirai_mananjary_0',\n",
       " 'creation_timestamp_ms': 1665674686433,\n",
       " 'update_timestamp_ms': 1665675016331,\n",
       " 'start_timestamp_ms': 1665674824232,\n",
       " 'task_type': 'EXPORT_IMAGE',\n",
       " 'destination_uris': ['https://drive.google.com/#folders/1N1z1O4LZcd3iagr5Au3wEQBESOQvUsuz'],\n",
       " 'attempt': 1,\n",
       " 'id': 'XDBR7XPJ62ZRTO6N36ZYHFC5',\n",
       " 'name': 'projects/earthengine-legacy/operations/XDBR7XPJ62ZRTO6N36ZYHFC5'}"
      ]
     },
     "execution_count": 33,
     "metadata": {},
     "output_type": "execute_result"
    }
   ],
   "source": [
    "assexport_drive.status()"
   ]
  },
  {
   "cell_type": "markdown",
   "id": "65ffa356",
   "metadata": {},
   "source": [
    "# Auxilliary spatial features"
   ]
  },
  {
   "cell_type": "code",
   "execution_count": 4,
   "id": "3751c90a",
   "metadata": {},
   "outputs": [
    {
     "name": "stderr",
     "output_type": "stream",
     "text": [
      "100%|██████████████████████████████████████| 1833/1833 [00:06<00:00, 281.72it/s]\n"
     ]
    }
   ],
   "source": [
    "# features along shortest line to permanent water\n",
    "from data_utils import features_to_process\n",
    "event.add_intermediates_to_event(subregion, features_to_process, thresh=pwater_thresh)\n",
    "line_gdf.replace(np.nan, 0.0).plot('ndvi_to_pw', cmap='YlGn', legend=True)"
   ]
  },
  {
   "cell_type": "markdown",
   "id": "c5544219",
   "metadata": {},
   "source": [
    "# Deltares Flood Hazard Maps"
   ]
  },
  {
   "cell_type": "code",
   "execution_count": null,
   "id": "aaefe3be",
   "metadata": {},
   "outputs": [],
   "source": [
    "def get_deltares(self, subregion, recalculate=False):\n",
    "    \"\"\"Download Deltares flood data.\n",
    "\n",
    "    Deltares coastal flood hazard data.\n",
    "    \"\"\"\n",
    "    if self.feature_gdf[subregion] is None: self.get_gdf(subregion)\n",
    "\n",
    "    # get data from GEE\n",
    "    if \"deltares\" not in self.feature_gdf[subregion] or recalculate:\n",
    "        feature_gdf = self.feature_gdf[subregion]\n",
    "\n",
    "        try:\n",
    "            if self.connected_to_gee != subregion:\n",
    "                self.start_gee(subregion)\n",
    "\n",
    "            # cycle through all rps\n",
    "            rp = 100\n",
    "            slr = 2018\n",
    "            minx, miny, maxx, maxy = feature_gdf.unary_union.bounds\n",
    "\n",
    "            # load deltares data\n",
    "            client = dask.distributed.Client(processes=False)\n",
    "            catalog = pystac_client.Client.open(\"https://planetarycomputer.microsoft.com/api/stac/v1/\")\n",
    "            search = catalog.search(\n",
    "                collections=[\"deltares-floods\"],\n",
    "                query={\n",
    "                    \"deltares:dem_name\": {\"eq\": \"NASADEM\"},\n",
    "                    \"deltares:sea_level_year\": {\"eq\": slr},\n",
    "                    \"deltares:return_period\": {\"eq\": rp},\n",
    "                },\n",
    "            )\n",
    "            item = next(search.get_items())\n",
    "            url = item.assets[\"index\"].href\n",
    "            ds = xr.open_dataset(f\"reference::{url}\", engine=\"zarr\", consolidated=False, chunks={})\n",
    "            ds_aoi = ds.sel(lat=slice(miny, maxy), lon=slice(minx, maxx), time=ds.time[0])\n",
    "            flooded = ds_aoi.inun.where(ds_aoi.inun > 0, 0)\n",
    "            flooded = flooded.where(flooded==0, 1)\n",
    "            flooded.rio.set_crs('epsg:4326');\n",
    "\n",
    "            # convert to src and overlay to feature stats grid\n",
    "            flooded.rio.to_raster('src_temp.tiff')\n",
    "            src = rasterio.open('src_temp.tiff')\n",
    "            remove('src_temp.tiff')\n",
    "\n",
    "            feature_gen = rasterio.features.dataset_features(src, geographic=True, as_mask=True)\n",
    "            feature_list = [feature for feature in feature_gen]\n",
    "            geom = [shape(i['geometry']) for i in feature_list]\n",
    "            values = [i['properties']['val'] for i in feature_list]\n",
    "            flood_gdf = gpd.GeoDataFrame({'geometry':geom}).set_crs(4326)\n",
    "\n",
    "            feature_gdf = data_utils.get_grid_intersects(flood_gdf, feature_gdf, floodcol='deltares')\n",
    "\n",
    "        except Exception as e:\n",
    "            self.logger.error(f\"Error for Deltares data for {self.storm}, {self.region}, {subregion}:\"\\\n",
    "                                f\"\\n{e}\\n\\nCreating empty fields.\")\n",
    "            feature_gdf[\"deltares\"] = [\"\"] * len(feature_gdf)\n",
    "\n",
    "        self.feature_gdf[subregion] = feature_gdf\n",
    "        #self.save_gdf(subregion)"
   ]
  },
  {
   "cell_type": "code",
   "execution_count": 10,
   "id": "3baec35b",
   "metadata": {},
   "outputs": [],
   "source": [
    "get_deltares(event, subregion)\n",
    "event_gdf = event.feature_gdf[subregion]"
   ]
  },
  {
   "cell_type": "code",
   "execution_count": 11,
   "id": "cf453fde",
   "metadata": {},
   "outputs": [
    {
     "data": {
      "image/png": "[encoded data removed]",
      "text/plain": [
       "<Figure size 1152x288 with 4 Axes>"
      ]
     },
     "metadata": {
      "needs_background": "light"
     },
     "output_type": "display_data"
    }
   ],
   "source": [
    "fig, ax = plt.subplots(1, 3, figsize=(16, 4))\n",
    "event_gdf.plot('floodfrac', ax=ax[0], legend=True, cmap='YlGnBu')\n",
    "event_gdf.plot('deltares', ax=ax[1], legend=True, cmap='YlGnBu')\n",
    "event_gdf.plot('aqueduct', ax=ax[2], legend=True, cmap='YlGnBu')\n",
    "\n",
    "ax[0].set_title('Flood Fraction')\n",
    "ax[1].set_title('Deltares')\n",
    "ax[2].set_title('Aqueduct');"
   ]
  },
  {
   "cell_type": "code",
   "execution_count": null,
   "id": "b4801301",
   "metadata": {},
   "outputs": [],
   "source": []
  },
  {
   "cell_type": "code",
   "execution_count": null,
   "id": "92f3200e",
   "metadata": {},
   "outputs": [],
   "source": []
  }
 ],
 "metadata": {
  "kernelspec": {
   "display_name": "hybridmodels",
   "language": "python",
   "name": "hybridmodels"
  },
  "language_info": {
   "codemirror_mode": {
    "name": "ipython",
    "version": 3
   },
   "file_extension": ".py",
   "mimetype": "text/x-python",
   "name": "python",
   "nbconvert_exporter": "python",
   "pygments_lexer": "ipython3",
   "version": "3.10.4"
  }
 },
 "nbformat": 4,
 "nbformat_minor": 5
}
