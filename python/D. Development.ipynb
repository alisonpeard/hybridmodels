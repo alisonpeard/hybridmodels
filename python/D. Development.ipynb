{
 "cells": [
  {
   "cell_type": "markdown",
   "id": "846a1e87",
   "metadata": {},
   "source": [
    "# Development"
   ]
  },
  {
   "cell_type": "code",
   "execution_count": 97,
   "id": "810df387",
   "metadata": {},
   "outputs": [],
   "source": [
    "import math\n",
    "from os.path import join, exists\n",
    "from os import remove\n",
    "import warnings\n",
    "import time\n",
    "\n",
    "# standard scientific\n",
    "import matplotlib.pyplot as plt\n",
    "import numpy as np\n",
    "import xarray as xr\n",
    "# ! pip install zarr\n",
    "\n",
    "# gee\n",
    "import ee\n",
    "\n",
    "# raster stuff\n",
    "import dask.distributed\n",
    "# import pystac_client\n",
    "import rioxarray  # noqa: F401\n",
    "# import contextily\n",
    "import rasterio\n",
    "import shapely.geometry\n",
    "import cartopy.feature as cfeature\n",
    "import cartopy.crs as ccrs\n",
    "\n",
    "from ast import literal_eval\n",
    "from os.path import join\n",
    "import pandas as pd\n",
    "import geopandas as gpd\n",
    "from shapely.geometry import box, shape\n",
    "\n",
    "from importlib import reload\n",
    "import viz_utils\n",
    "import data_utils\n",
    "from event import Event, pwater_thresh\n",
    "\n",
    "plt.rcParams['font.family'] = 'Arial'\n",
    "\n",
    "# set up env\n",
    "bd = '.'\n",
    "wd = join(bd, \"..\", \"data\")\n",
    "\n",
    "# event\n",
    "storm = \"gombe\"\n",
    "region = \"mossuril\"\n",
    "nsubregions = 6\n",
    "subregion = 4"
   ]
  },
  {
   "cell_type": "code",
   "execution_count": 98,
   "id": "35b88d36",
   "metadata": {
    "scrolled": true
   },
   "outputs": [
    {
     "name": "stderr",
     "output_type": "stream",
     "text": [
      "No exclusion mask file with name ./../data/gombe_mossuril/exclusion_mask.gpkg.\n"
     ]
    }
   ],
   "source": [
    "# load event GeoDataFrame (as when getting data)\n",
    "event = Event(storm, region, nsubregions, wd, bd)\n",
    "event.make_grids()\n",
    "event.get_all_features(subregion)"
   ]
  },
  {
   "cell_type": "markdown",
   "id": "a29961cb",
   "metadata": {},
   "source": [
    "## Winds again"
   ]
  },
  {
   "cell_type": "code",
   "execution_count": 134,
   "id": "c19b12f6",
   "metadata": {},
   "outputs": [],
   "source": [
    "from wind_utils import *\n",
    "from datetime import datetime, timedelta\n",
    "\n",
    "\n",
    "def process_ibtracs(ibtracs_df, storm):\n",
    "    \"\"\"\n",
    "    Process IBTrACS wind and radius of max wind data.\n",
    "\n",
    "    Note: when using WMO winds uses USA RMW for radius of max winds.\n",
    "    \"\"\"\n",
    "\n",
    "    logger = logging.getLogger(f\"data_collection.{storm}\")\n",
    "\n",
    "    # set up geometry\n",
    "    print(f\"1: {len(ibtracs_df)}\")\n",
    "    ibtracs_gdf = ibtracs_df\n",
    "    for col in [\"LAT\", \"LON\"]: ibtracs_gdf[col] = pd.to_numeric(ibtracs_gdf[col])\n",
    "    ibtracs_gdf[\"geometry\"] = gpd.points_from_xy(ibtracs_gdf.LON, ibtracs_gdf.LAT)\n",
    "    ibtracs_gdf = ibtracs_gdf.set_crs(\"EPSG:4326\")\n",
    "    assert not ibtracs_gdf.BASIN.isna().any(), \"BASIN has NaN values\"\n",
    "    print(f\"2: {len(ibtracs_gdf)}\")\n",
    "    # grab most-recorded wind speed if WMO not available\n",
    "    if ibtracs_gdf.WMO_WIND.isna().all():\n",
    "        logger.info(\"Not using WMO Winds.\")\n",
    "        wind_col = ibtracs_gdf[WIND_COLS].notna().sum().idxmax()\n",
    "        agency = wind_col.split(\"_\")[0]\n",
    "        logger.info(f\"Agency: {agency}\")\n",
    "        pressure_col = f\"{agency}_PRES\"\n",
    "        rmw_col = f\"{agency}_RMW\"\n",
    "        \n",
    "        # rescale wind speed to MSW10\n",
    "        scale, shift = IBTRACS_AGENCY_10MIN_WIND_FACTOR[agency.lower()]\n",
    "        ibtracs_gdf[f'{agency}_wind'.upper()] = pd.to_numeric(ibtracs_gdf[f'{agency}_wind'.upper()])\n",
    "        ibtracs_gdf[f'{agency}_wind'.upper()] *= scale\n",
    "        ibtracs_gdf[f'{agency}_wind'.upper()] += shift\n",
    "        print(f\"3a: {len(ibtracs_gdf)}\")\n",
    "    else:\n",
    "        logger.info(\"Using WMO Winds.\")\n",
    "        wind_col = \"WMO_WIND\"\n",
    "        pressure_col = \"WMO_PRES\"\n",
    "        agency = ibtracs_gdf[\"WMO_AGENCY\"].mode()[0]\n",
    "        logger.info(f\"Agency: {agency}\")\n",
    "        rmw_col = f\"USA_RMW\"  # possibly use different later\n",
    "\n",
    "        # rescale wind speed to MSW10\n",
    "        scale, shift = IBTRACS_AGENCY_10MIN_WIND_FACTOR[agency]\n",
    "        ibtracs_gdf[wind_col] = pd.to_numeric(ibtracs_gdf[wind_col])\n",
    "        ibtracs_gdf[wind_col] *= scale\n",
    "        ibtracs_gdf[wind_col] += shift\n",
    "        print(f\"3b: {len(ibtracs_gdf)}\")\n",
    "\n",
    "    logger.info(f\"RMW column: {rmw_col}, wind column: {wind_col}, pressure column {pressure_col}\")\n",
    "    logger.info(f\"Scale: {scale}\")\n",
    "    logger.info(f\"Shift: {shift}\")\n",
    "\n",
    "    # fix timestamps formatting\n",
    "    newtimes = []\n",
    "    for time in ibtracs_gdf[\"ISO_TIME\"]:\n",
    "        if len(time) > 8:\n",
    "            date = time[:10]\n",
    "            newtimes.append(time)\n",
    "        else:\n",
    "            newtime = f\"{date} {time}\"\n",
    "            newtimes.append(newtime)\n",
    "\n",
    "    ibtracs_gdf['ISO_TIME'] = newtimes\n",
    "    ibtracs_gdf = ibtracs_gdf.dropna(subset=wind_col).reset_index()\n",
    "    return ibtracs_gdf, wind_col, pressure_col, rmw_col\n",
    "\n",
    "\n",
    "def get_wind_field(ibtracs_gdf, feature_gdf, units_df, wind_col, pressure_col, rmw_col, acquisition_time):\n",
    "    \"\"\"\n",
    "    Calculate wind fields from IBTrACS data for a grid GeoDataFrame.\n",
    "    \"\"\"\n",
    "\n",
    "    # get centroids\n",
    "    centroids = feature_gdf.to_crs(\"EPSG:3857\").centroid.to_crs(\"EPSG:4326\")\n",
    "    wind_tracks = ibtracs_gdf.geometry\n",
    "    lats = [*wind_tracks.y]\n",
    "    lons = [*wind_tracks.x]\n",
    "\n",
    "    # haversine distances\n",
    "    h_distances = []\n",
    "    for centroid in centroids:\n",
    "        h_distances.append(haversine(centroid.x, centroid.y, lons, lats))\n",
    "    h_distances = np.array(h_distances)\n",
    "    assert len(ibtracs_gdf) == h_distances.shape[1],\\\n",
    "        \"Number of haversine distances calculates did not match number of centroids\"\n",
    "\n",
    "    # define interval of [-5, 0] days before acquisition time to get wind for\n",
    "    acquisition_dt = datetime.strptime(acquisition_time, '%Y-%m-%d %H:%M')\n",
    "    start_dt = start = acquisition_dt - timedelta(5)\n",
    "\n",
    "    # calculate wind field for each time stamp\n",
    "    timestamps = []\n",
    "    for time in range(len(ibtracs_gdf)):\n",
    "\n",
    "        # only process winds up to five days before acquisition date\n",
    "        iso_time = ibtracs_gdf['ISO_TIME'][time]\n",
    "        iso_dt = datetime.strptime(iso_time, '%Y-%m-%d %H:%M:%S')\n",
    "        if start_dt < iso_dt < acquisition_dt:\n",
    "            # inputs for holland function\n",
    "            h_dists = [x[time] for x in h_distances]\n",
    "            basin = ibtracs_gdf[\"BASIN\"][time]\n",
    "            pressure_env = BASIN_ENV_PRESSURE[basin]\n",
    "            pressure = float(ibtracs_gdf[pressure_col][time])\n",
    "            lat = float(ibtracs_gdf[\"LAT\"][time])\n",
    "\n",
    "            if abs(pressure_env - pressure) > 0:\n",
    "                # radius of maximum winds in km\n",
    "                if units_df[rmw_col][0] == \"nmile\":\n",
    "                    r = nmile_to_km(float(ibtracs_gdf[rmw_col][time]))\n",
    "                else:\n",
    "                    r = float(ibtracs_gdf[rmw_col][time])\n",
    "\n",
    "                # maximum wind speed in mps\n",
    "                if units_df[wind_col][0] == \"kts\":\n",
    "                    wind = knots_to_mps(float(ibtracs_gdf[wind_col][time]))\n",
    "                else:\n",
    "                    wind = ibtracs_gdf[wind_col][time]\n",
    "\n",
    "                # calculate wind field\n",
    "                wind_field = []\n",
    "                for distance in h_dists:\n",
    "                    wind_speed = holland_wind_field(r, wind, pressure, pressure_env, distance, lat)\n",
    "                    wind_field.append(wind_speed)\n",
    "\n",
    "                # reformat time string\n",
    "                date, time = iso_time.split(\" \")\n",
    "                date = date[5:]\n",
    "                time = time[:2]\n",
    "\n",
    "                # if non-neglible wind, append to dataframe\n",
    "                if sum(wind_field) > 0:\n",
    "                    feature_gdf[f\"wnd{date}_{time}\"] = wind_field\n",
    "            else:\n",
    "                logging.warning(f\"No pressure drop for time {time}, skipping wind speed calculation.\")\n",
    "\n",
    "    return feature_gdf\n",
    "\n",
    "def get_wind_fields(self, subregion, recalculate=False):\n",
    "    \"\"\"Get wind fields from IBTrACs data using Holland (1980) method.\n",
    "\n",
    "    Adds wind field columns where wind is nonzero to feature GeoDataFrame and\n",
    "    average over all these wind field columns (i.e., over storm duration)\n",
    "    \"\"\"\n",
    "    if self.feature_gdf[subregion] is None: self.get_gdf(subregion)\n",
    "\n",
    "    if not any(\"wnd\" in col for col in self.feature_gdf[subregion].columns) or recalculate:\n",
    "        self.logger.info(\"Calculating wind speeds...\")\n",
    "        feature_gdf = self.feature_gdf[subregion]\n",
    "\n",
    "        try:\n",
    "            # load and process IBTrACs data\n",
    "            if self.year > 2017:\n",
    "                ibtracs_gdf = gpd.read_file(join(self.wd, \"ibtracs_last3years.csv\"))[1:].replace(\" \", np.nan)\n",
    "                ibtracs_gdf = ibtracs_gdf[ibtracs_gdf.NAME == self.storm.upper()]\n",
    "                units_df = pd.read_csv(join(self.wd, \"ibtracs_last3years.csv\"), dtype=str, header=0)[0:1]\n",
    "            else:\n",
    "                ibtracs_gdf = gpd.read_file(join(self.wd, \"ibtracs_since1980.csv\"))[1:].replace(\" \", np.nan)\n",
    "                ibtracs_gdf = ibtracs_gdf[ibtracs_gdf.NAME == self.storm.upper()]\n",
    "                units_df = pd.read_csv(join(self.wd, \"ibtracs_since1980.csv\"), dtype=str, header=0)[0:1]\n",
    "            \n",
    "            # process IBTrACS data\n",
    "            import pdb; pdb.set_trace()\n",
    "            ibtracs_gdf, wind_col, pressure_col, rmw_col = process_ibtracs(ibtracs_gdf, self.storm)\n",
    "            feature_gdf = get_wind_field(ibtracs_gdf, feature_gdf, units_df, wind_col, pressure_col, rmw_col, self.acquisition_time)\n",
    "            import pdb; pdb.set_trace()\n",
    "            \n",
    "            # save average wind field\n",
    "            timemask = [\"wnd\" in col for col in feature_gdf.columns]\n",
    "            timestamps = feature_gdf.columns[timemask]\n",
    "            feature_gdf[\"wind_avg\"] = feature_gdf[timestamps].mean(axis=1)\n",
    "\n",
    "        except Exception as e:\n",
    "            self.logger.warning(f\"Error for wind fields for {self.storm}, {self.region}, {subregion}:\"\\\n",
    "                                f\"{e}\\nCreating empty field.\")\n",
    "            feature_gdf[\"wind_avg\"] = [\"\"] * len(feature_gdf)\n",
    "            \n",
    "            \n",
    "        return feature_gdf\n",
    "\n",
    "#         self.feature_gdf[subregion] = feature_gdf\n",
    "#         self.save_gdf(subregion)"
   ]
  },
  {
   "cell_type": "code",
   "execution_count": null,
   "id": "d05a6619",
   "metadata": {},
   "outputs": [
    {
     "name": "stdout",
     "output_type": "stream",
     "text": [
      "> \u001b[0;32m/var/folders/7w/k72v6f5x25gblsqmh6bxd3j40000gn/T/ipykernel_68138/1500773833.py\u001b[0m(166)\u001b[0;36mget_wind_fields\u001b[0;34m()\u001b[0m\n",
      "\u001b[0;32m    164 \u001b[0;31m            \u001b[0;31m# process IBTrACS data\u001b[0m\u001b[0;34m\u001b[0m\u001b[0;34m\u001b[0m\u001b[0m\n",
      "\u001b[0m\u001b[0;32m    165 \u001b[0;31m            \u001b[0;32mimport\u001b[0m \u001b[0mpdb\u001b[0m\u001b[0;34m;\u001b[0m \u001b[0mpdb\u001b[0m\u001b[0;34m.\u001b[0m\u001b[0mset_trace\u001b[0m\u001b[0;34m(\u001b[0m\u001b[0;34m)\u001b[0m\u001b[0;34m\u001b[0m\u001b[0;34m\u001b[0m\u001b[0m\n",
      "\u001b[0m\u001b[0;32m--> 166 \u001b[0;31m            \u001b[0mibtracs_gdf\u001b[0m\u001b[0;34m,\u001b[0m \u001b[0mwind_col\u001b[0m\u001b[0;34m,\u001b[0m \u001b[0mpressure_col\u001b[0m\u001b[0;34m,\u001b[0m \u001b[0mrmw_col\u001b[0m \u001b[0;34m=\u001b[0m \u001b[0mprocess_ibtracs\u001b[0m\u001b[0;34m(\u001b[0m\u001b[0mibtracs_gdf\u001b[0m\u001b[0;34m,\u001b[0m \u001b[0mself\u001b[0m\u001b[0;34m.\u001b[0m\u001b[0mstorm\u001b[0m\u001b[0;34m)\u001b[0m\u001b[0;34m\u001b[0m\u001b[0;34m\u001b[0m\u001b[0m\n",
      "\u001b[0m\u001b[0;32m    167 \u001b[0;31m            \u001b[0mfeature_gdf\u001b[0m \u001b[0;34m=\u001b[0m \u001b[0mget_wind_field\u001b[0m\u001b[0;34m(\u001b[0m\u001b[0mibtracs_gdf\u001b[0m\u001b[0;34m,\u001b[0m \u001b[0mfeature_gdf\u001b[0m\u001b[0;34m,\u001b[0m \u001b[0munits_df\u001b[0m\u001b[0;34m,\u001b[0m \u001b[0mwind_col\u001b[0m\u001b[0;34m,\u001b[0m \u001b[0mpressure_col\u001b[0m\u001b[0;34m,\u001b[0m \u001b[0mrmw_col\u001b[0m\u001b[0;34m,\u001b[0m \u001b[0mself\u001b[0m\u001b[0;34m.\u001b[0m\u001b[0macquisition_time\u001b[0m\u001b[0;34m)\u001b[0m\u001b[0;34m\u001b[0m\u001b[0;34m\u001b[0m\u001b[0m\n",
      "\u001b[0m\u001b[0;32m    168 \u001b[0;31m            \u001b[0;32mimport\u001b[0m \u001b[0mpdb\u001b[0m\u001b[0;34m;\u001b[0m \u001b[0mpdb\u001b[0m\u001b[0;34m.\u001b[0m\u001b[0mset_trace\u001b[0m\u001b[0;34m(\u001b[0m\u001b[0;34m)\u001b[0m\u001b[0;34m\u001b[0m\u001b[0;34m\u001b[0m\u001b[0m\n",
      "\u001b[0m\n",
      "ipdb> ibtracs_gdf\n",
      "                 SID SEASON NUMBER BASIN SUBBASIN   NAME             ISO_TIME  \\\n",
      "17933  2022067S16050   2022     16    SI       MM  GOMBE  2022-03-08 00:00:00   \n",
      "17934  2022067S16050   2022     16    SI       MM  GOMBE  2022-03-08 03:00:00   \n",
      "17935  2022067S16050   2022     16    SI       MM  GOMBE  2022-03-08 06:00:00   \n",
      "17936  2022067S16050   2022     16    SI       MM  GOMBE  2022-03-08 09:00:00   \n",
      "17937  2022067S16050   2022     16    SI       MM  GOMBE  2022-03-08 12:00:00   \n",
      "17938  2022067S16050   2022     16    SI       MM  GOMBE  2022-03-08 15:00:00   \n",
      "17939  2022067S16050   2022     16    SI       MM  GOMBE  2022-03-08 18:00:00   \n",
      "17940  2022067S16050   2022     16    SI       MM  GOMBE  2022-03-08 21:00:00   \n",
      "17941  2022067S16050   2022     16    SI       MM  GOMBE  2022-03-09 00:00:00   \n",
      "17942  2022067S16050   2022     16    SI       MM  GOMBE  2022-03-09 03:00:00   \n",
      "17943  2022067S16050   2022     16    SI       MM  GOMBE  2022-03-09 06:00:00   \n",
      "17944  2022067S16050   2022     16    SI       MM  GOMBE  2022-03-09 09:00:00   \n",
      "17945  2022067S16050   2022     16    SI       MM  GOMBE  2022-03-09 12:00:00   \n",
      "17946  2022067S16050   2022     16    SI       MM  GOMBE  2022-03-09 15:00:00   \n",
      "17947  2022067S16050   2022     16    SI       MM  GOMBE  2022-03-09 18:00:00   \n",
      "17948  2022067S16050   2022     16    SI       MM  GOMBE  2022-03-09 21:00:00   \n",
      "17949  2022067S16050   2022     16    SI       MM  GOMBE  2022-03-10 00:00:00   \n",
      "17950  2022067S16050   2022     16    SI       MM  GOMBE  2022-03-10 03:00:00   \n",
      "17951  2022067S16050   2022     16    SI       MM  GOMBE  2022-03-10 06:00:00   \n",
      "17952  2022067S16050   2022     16    SI       MM  GOMBE  2022-03-10 09:00:00   \n",
      "17953  2022067S16050   2022     16    SI       MM  GOMBE  2022-03-10 12:00:00   \n",
      "17954  2022067S16050   2022     16    SI       MM  GOMBE  2022-03-10 15:00:00   \n",
      "17955  2022067S16050   2022     16    SI       MM  GOMBE  2022-03-10 18:00:00   \n",
      "17956  2022067S16050   2022     16    SI       MM  GOMBE  2022-03-10 21:00:00   \n",
      "17957  2022067S16050   2022     16    SI       MM  GOMBE  2022-03-11 00:00:00   \n",
      "17958  2022067S16050   2022     16    SI       MM  GOMBE  2022-03-11 03:00:00   \n",
      "17959  2022067S16050   2022     16    SI       MM  GOMBE  2022-03-11 06:00:00   \n",
      "17960  2022067S16050   2022     16    SI       MM  GOMBE  2022-03-11 09:00:00   \n",
      "17961  2022067S16050   2022     16    SI       MM  GOMBE  2022-03-11 12:00:00   \n",
      "17962  2022067S16050   2022     16    SI       MM  GOMBE  2022-03-11 15:00:00   \n",
      "17963  2022067S16050   2022     16    SI       MM  GOMBE  2022-03-11 18:00:00   \n",
      "17964  2022067S16050   2022     16    SI       MM  GOMBE  2022-03-11 21:00:00   \n",
      "17965  2022067S16050   2022     16    SI       MM  GOMBE  2022-03-12 00:00:00   \n",
      "17966  2022067S16050   2022     16    SI       MM  GOMBE  2022-03-12 03:00:00   \n",
      "17967  2022067S16050   2022     16    SI       MM  GOMBE  2022-03-12 06:00:00   \n",
      "17968  2022067S16050   2022     16    SI       MM  GOMBE  2022-03-12 09:00:00   \n",
      "17969  2022067S16050   2022     16    SI       MM  GOMBE  2022-03-12 12:00:00   \n",
      "17970  2022067S16050   2022     16    SI       MM  GOMBE  2022-03-12 15:00:00   \n",
      "17971  2022067S16050   2022     16    SI       MM  GOMBE  2022-03-12 18:00:00   \n",
      "17972  2022067S16050   2022     16    SI       MM  GOMBE  2022-03-12 21:00:00   \n",
      "17973  2022067S16050   2022     16    SI       MM  GOMBE  2022-03-13 00:00:00   \n",
      "17974  2022067S16050   2022     16    SI       MM  GOMBE  2022-03-13 03:00:00   \n",
      "17975  2022067S16050   2022     16    SI       MM  GOMBE  2022-03-13 06:00:00   \n",
      "17976  2022067S16050   2022     16    SI       MM  GOMBE  2022-03-13 09:00:00   \n",
      "17977  2022067S16050   2022     16    SI       MM  GOMBE  2022-03-13 12:00:00   \n",
      "17978  2022067S16050   2022     16    SI       MM  GOMBE  2022-03-13 15:00:00   \n",
      "17979  2022067S16050   2022     16    SI       MM  GOMBE  2022-03-13 18:00:00   \n",
      "17980  2022067S16050   2022     16    SI       MM  GOMBE  2022-03-13 21:00:00   \n",
      "17981  2022067S16050   2022     16    SI       MM  GOMBE  2022-03-14 00:00:00   \n",
      "17982  2022067S16050   2022     16    SI       MM  GOMBE  2022-03-14 03:00:00   \n",
      "17983  2022067S16050   2022     16    SI       MM  GOMBE  2022-03-14 06:00:00   \n",
      "\n",
      "      NATURE       LAT      LON  ... REUNION_GUST REUNION_GUST_PER USA_SEAHGT  \\\n",
      "17933     NR  -15.5000  50.4000  ...          NaN              NaN        NaN   \n",
      "17934     NR  -15.4927  49.9052  ...          NaN              NaN        NaN   \n",
      "17935     NR  -15.4000  49.4000  ...          NaN              NaN        NaN   \n",
      "17936     NR  -15.1850  48.8847  ...          NaN              NaN        NaN   \n",
      "17937     NR  -15.0000  48.4000  ...          NaN              NaN        NaN   \n",
      "17938     NR  -15.0349  47.9778  ...          NaN              NaN        NaN   \n",
      "17939     NR  -15.1000  47.6000  ...          NaN              NaN        NaN   \n",
      "17940     NR  -15.0148  47.2574  ...          NaN              NaN        NaN   \n",
      "17941     NR  -14.9000  46.9000  ...          NaN              NaN        NaN   \n",
      "17942     NR  -14.8276  46.4425  ...          NaN              NaN        NaN   \n",
      "17943     NR  -14.8000  46.0000  ...          NaN              NaN        NaN   \n",
      "17944     NR  -14.8271  45.7225  ...          NaN              NaN        NaN   \n",
      "17945     NR  -14.9000  45.4000  ...          NaN              NaN        NaN   \n",
      "17946     NR  -14.9929  44.8001  ...          NaN              NaN        NaN   \n",
      "17947     NR  -15.1000  44.2000  ...          NaN              NaN        NaN   \n",
      "17948     NR  -15.1922  43.8699  ...          NaN              NaN        NaN   \n",
      "17949     NR  -15.3000  43.6000  ...          NaN              NaN        NaN   \n",
      "17950     NR  -15.4425  43.2075  ...          NaN              NaN        NaN   \n",
      "17951     NR  -15.6000  42.8000  ...          NaN              NaN        NaN   \n",
      "17952     NR  -15.7724  42.4425  ...          NaN              NaN        NaN   \n",
      "17953     NR  -15.9000  42.1000  ...          NaN              NaN        NaN   \n",
      "17954     NR  -15.9524  41.7500  ...          NaN              NaN        NaN   \n",
      "17955     NR  -15.9000  41.4000  ...          NaN              NaN        NaN   \n",
      "17956     NR  -15.7225  41.0424  ...          NaN              NaN        NaN   \n",
      "17957     NR  -15.5000  40.7000  ...          NaN              NaN        NaN   \n",
      "17958     NR  -15.3183  40.4017  ...          NaN              NaN        NaN   \n",
      "17959     NR  -15.2000  40.1000  ...          NaN              NaN        NaN   \n",
      "17960     NR  -15.2350  39.7227  ...          NaN              NaN        NaN   \n",
      "17961     NR  -15.3000  39.3000  ...          NaN              NaN        NaN   \n",
      "17962     NR  -15.2649  38.8724  ...          NaN              NaN        NaN   \n",
      "17963     NR  -15.2000  38.4000  ...          NaN              NaN        NaN   \n",
      "17964     NR  -15.1277  37.8274  ...          NaN              NaN        NaN   \n",
      "17965     NR  -15.1000  37.3000  ...          NaN              NaN        NaN   \n",
      "17966     NR  -15.1922  36.9851  ...          NaN              NaN        NaN   \n",
      "17967     NR  -15.3000  36.7000  ...          NaN              NaN        NaN   \n",
      "17968     NR  -15.2926  36.2573  ...          NaN              NaN        NaN   \n",
      "17969     NR  -15.3000  35.8000  ...          NaN              NaN        NaN   \n",
      "17970     NR  -15.4275  35.4126  ...          NaN              NaN        NaN   \n",
      "17971     NR  -15.6000  35.1000  ...          NaN              NaN        NaN   \n",
      "17972     NR  -15.7424  34.8624  ...          NaN              NaN        NaN   \n",
      "17973     NR  -15.9000  34.7000  ...          NaN              NaN        NaN   \n",
      "17974     NR  -16.0925  34.5401  ...          NaN              NaN        NaN   \n",
      "17975     NR  -16.3000  34.5000  ...          NaN              NaN        NaN   \n",
      "17976     NR  -16.4933  34.6625  ...          NaN              NaN        NaN   \n",
      "17977     NR  -16.7000  34.9000  ...          NaN              NaN        NaN   \n",
      "17978     NR  -16.9353  35.0617  ...          NaN              NaN        NaN   \n",
      "17979     NR  -17.1902  35.1991  ...          NaN              NaN        NaN   \n",
      "17980     NR  -17.4556  35.3217  ...          NaN              NaN        NaN   \n",
      "17981     NR  -17.7199  35.4374  ...          NaN              NaN        NaN   \n",
      "17982     NR  -17.9671  35.5610  ...          NaN              NaN        NaN   \n",
      "17983     NR  -18.2028  35.6907  ...          NaN              NaN        NaN   \n",
      "\n",
      "      USA_SEARAD_NE USA_SEARAD_SE USA_SEARAD_SW USA_SEARAD_NW STORM_SPEED  \\\n",
      "17933           NaN           NaN           NaN           NaN          10   \n",
      "17934           NaN           NaN           NaN           NaN          10   \n",
      "17935           NaN           NaN           NaN           NaN          10   \n",
      "17936           NaN           NaN           NaN           NaN          10   \n",
      "17937           NaN           NaN           NaN           NaN           9   \n",
      "17938           NaN           NaN           NaN           NaN           8   \n",
      "17939           NaN           NaN           NaN           NaN           7   \n",
      "17940           NaN           NaN           NaN           NaN           7   \n",
      "17941           NaN           NaN           NaN           NaN           8   \n",
      "17942           NaN           NaN           NaN           NaN           9   \n",
      "17943           NaN           NaN           NaN           NaN           7   \n",
      "17944           NaN           NaN           NaN           NaN           6   \n",
      "17945           NaN           NaN           NaN           NaN           9   \n",
      "17946           NaN           NaN           NaN           NaN          12   \n",
      "17947           NaN           NaN           NaN           NaN           9   \n",
      "17948           NaN           NaN           NaN           NaN           6   \n",
      "17949           NaN           NaN           NaN           NaN           7   \n",
      "17950           NaN           NaN           NaN           NaN           8   \n",
      "17951           NaN           NaN           NaN           NaN           8   \n",
      "17952           NaN           NaN           NaN           NaN           7   \n",
      "17953           NaN           NaN           NaN           NaN           7   \n",
      "17954           NaN           NaN           NaN           NaN           7   \n",
      "17955           NaN           NaN           NaN           NaN           7   \n",
      "17956           NaN           NaN           NaN           NaN           8   \n",
      "17957           NaN           NaN           NaN           NaN           7   \n",
      "17958           NaN           NaN           NaN           NaN           7   \n",
      "17959           NaN           NaN           NaN           NaN           7   \n",
      "17960           NaN           NaN           NaN           NaN           8   \n",
      "17961           NaN           NaN           NaN           NaN           8   \n",
      "17962           NaN           NaN           NaN           NaN           9   \n",
      "17963           NaN           NaN           NaN           NaN          10   \n",
      "17964           NaN           NaN           NaN           NaN          11   \n",
      "17965           NaN           NaN           NaN           NaN           8   \n",
      "17966           NaN           NaN           NaN           NaN           6   \n",
      "17967           NaN           NaN           NaN           NaN           7   \n",
      "17968           NaN           NaN           NaN           NaN           9   \n",
      "17969           NaN           NaN           NaN           NaN           8   \n",
      "17970           NaN           NaN           NaN           NaN           7   \n",
      "17971           NaN           NaN           NaN           NaN           6   \n",
      "17972           NaN           NaN           NaN           NaN           5   \n",
      "17973           NaN           NaN           NaN           NaN           5   \n",
      "17974           NaN           NaN           NaN           NaN           4   \n",
      "17975           NaN           NaN           NaN           NaN           4   \n",
      "17976           NaN           NaN           NaN           NaN           6   \n",
      "17977           NaN           NaN           NaN           NaN           6   \n",
      "17978           NaN           NaN           NaN           NaN           6   \n",
      "17979           NaN           NaN           NaN           NaN           6   \n",
      "17980           NaN           NaN           NaN           NaN           6   \n",
      "17981           NaN           NaN           NaN           NaN           6   \n",
      "17982           NaN           NaN           NaN           NaN           5   \n",
      "17983           NaN           NaN           NaN           NaN           5   \n",
      "\n",
      "      STORM_DIR geometry  \n",
      "17933       271     None  \n",
      "17934       276     None  \n",
      "17935       287     None  \n",
      "17936       293     None  \n",
      "17937       280     None  \n",
      "17938       263     None  \n",
      "17939       272     None  \n",
      "17940       286     None  \n",
      "17941       283     None  \n",
      "17942       277     None  \n",
      "17943       270     None  \n",
      "17944       260     None  \n",
      "17945       259     None  \n",
      "17946       260     None  \n",
      "17947       257     None  \n",
      "17948       251     None  \n",
      "17949       249     None  \n",
      "17950       249     None  \n",
      "17951       246     None  \n",
      "17952       246     None  \n",
      "17953       255     None  \n",
      "17954       270     None  \n",
      "17955       289     None  \n",
      "17956       301     None  \n",
      "17957       303     None  \n",
      "17958       297     None  \n",
      "17959       277     None  \n",
      "17960       263     None  \n",
      "17961       268     None  \n",
      "17962       277     None  \n",
      "17963       278     None  \n",
      "17964       275     None  \n",
      "17965       265     None  \n",
      "17966       251     None  \n",
      "17967       262     None  \n",
      "17968       270     None  \n",
      "17969       261     None  \n",
      "17970       246     None  \n",
      "17971       239     None  \n",
      "17972       232     None  \n",
      "17973       221     None  \n",
      "17974       206     None  \n",
      "17975       163     None  \n",
      "17976       136     None  \n",
      "17977       139     None  \n",
      "17978       150     None  \n",
      "17979       155     None  \n",
      "17980       157     None  \n",
      "17981       156     None  \n",
      "17982       154     None  \n",
      "17983       151     None  \n",
      "\n",
      "[51 rows x 164 columns]\n"
     ]
    },
    {
     "name": "stdout",
     "output_type": "stream",
     "text": [
      "ipdb> ibtracs_gdf[['NAME', 'ISO_TIME']]\n",
      "        NAME             ISO_TIME\n",
      "17933  GOMBE  2022-03-08 00:00:00\n",
      "17934  GOMBE  2022-03-08 03:00:00\n",
      "17935  GOMBE  2022-03-08 06:00:00\n",
      "17936  GOMBE  2022-03-08 09:00:00\n",
      "17937  GOMBE  2022-03-08 12:00:00\n",
      "17938  GOMBE  2022-03-08 15:00:00\n",
      "17939  GOMBE  2022-03-08 18:00:00\n",
      "17940  GOMBE  2022-03-08 21:00:00\n",
      "17941  GOMBE  2022-03-09 00:00:00\n",
      "17942  GOMBE  2022-03-09 03:00:00\n",
      "17943  GOMBE  2022-03-09 06:00:00\n",
      "17944  GOMBE  2022-03-09 09:00:00\n",
      "17945  GOMBE  2022-03-09 12:00:00\n",
      "17946  GOMBE  2022-03-09 15:00:00\n",
      "17947  GOMBE  2022-03-09 18:00:00\n",
      "17948  GOMBE  2022-03-09 21:00:00\n",
      "17949  GOMBE  2022-03-10 00:00:00\n",
      "17950  GOMBE  2022-03-10 03:00:00\n",
      "17951  GOMBE  2022-03-10 06:00:00\n",
      "17952  GOMBE  2022-03-10 09:00:00\n",
      "17953  GOMBE  2022-03-10 12:00:00\n",
      "17954  GOMBE  2022-03-10 15:00:00\n",
      "17955  GOMBE  2022-03-10 18:00:00\n",
      "17956  GOMBE  2022-03-10 21:00:00\n",
      "17957  GOMBE  2022-03-11 00:00:00\n",
      "17958  GOMBE  2022-03-11 03:00:00\n",
      "17959  GOMBE  2022-03-11 06:00:00\n",
      "17960  GOMBE  2022-03-11 09:00:00\n",
      "17961  GOMBE  2022-03-11 12:00:00\n",
      "17962  GOMBE  2022-03-11 15:00:00\n",
      "17963  GOMBE  2022-03-11 18:00:00\n",
      "17964  GOMBE  2022-03-11 21:00:00\n",
      "17965  GOMBE  2022-03-12 00:00:00\n",
      "17966  GOMBE  2022-03-12 03:00:00\n",
      "17967  GOMBE  2022-03-12 06:00:00\n",
      "17968  GOMBE  2022-03-12 09:00:00\n",
      "17969  GOMBE  2022-03-12 12:00:00\n",
      "17970  GOMBE  2022-03-12 15:00:00\n",
      "17971  GOMBE  2022-03-12 18:00:00\n",
      "17972  GOMBE  2022-03-12 21:00:00\n",
      "17973  GOMBE  2022-03-13 00:00:00\n",
      "17974  GOMBE  2022-03-13 03:00:00\n",
      "17975  GOMBE  2022-03-13 06:00:00\n",
      "17976  GOMBE  2022-03-13 09:00:00\n",
      "17977  GOMBE  2022-03-13 12:00:00\n",
      "17978  GOMBE  2022-03-13 15:00:00\n",
      "17979  GOMBE  2022-03-13 18:00:00\n",
      "17980  GOMBE  2022-03-13 21:00:00\n",
      "17981  GOMBE  2022-03-14 00:00:00\n",
      "17982  GOMBE  2022-03-14 03:00:00\n",
      "17983  GOMBE  2022-03-14 06:00:00\n",
      "ipdb> c\n",
      "1: 51\n",
      "2: 51\n",
      "3a: 51\n"
     ]
    },
    {
     "name": "stderr",
     "output_type": "stream",
     "text": [
      "WARNING:root:No pressure drop for time 37, skipping wind speed calculation.\n"
     ]
    },
    {
     "name": "stdout",
     "output_type": "stream",
     "text": [
      "> \u001b[0;32m/var/folders/7w/k72v6f5x25gblsqmh6bxd3j40000gn/T/ipykernel_68138/1500773833.py\u001b[0m(171)\u001b[0;36mget_wind_fields\u001b[0;34m()\u001b[0m\n",
      "\u001b[0;32m    169 \u001b[0;31m\u001b[0;34m\u001b[0m\u001b[0m\n",
      "\u001b[0m\u001b[0;32m    170 \u001b[0;31m            \u001b[0;31m# save average wind field\u001b[0m\u001b[0;34m\u001b[0m\u001b[0;34m\u001b[0m\u001b[0m\n",
      "\u001b[0m\u001b[0;32m--> 171 \u001b[0;31m            \u001b[0mtimemask\u001b[0m \u001b[0;34m=\u001b[0m \u001b[0;34m[\u001b[0m\u001b[0;34m\"wnd\"\u001b[0m \u001b[0;32min\u001b[0m \u001b[0mcol\u001b[0m \u001b[0;32mfor\u001b[0m \u001b[0mcol\u001b[0m \u001b[0;32min\u001b[0m \u001b[0mfeature_gdf\u001b[0m\u001b[0;34m.\u001b[0m\u001b[0mcolumns\u001b[0m\u001b[0;34m]\u001b[0m\u001b[0;34m\u001b[0m\u001b[0;34m\u001b[0m\u001b[0m\n",
      "\u001b[0m\u001b[0;32m    172 \u001b[0;31m            \u001b[0mtimestamps\u001b[0m \u001b[0;34m=\u001b[0m \u001b[0mfeature_gdf\u001b[0m\u001b[0;34m.\u001b[0m\u001b[0mcolumns\u001b[0m\u001b[0;34m[\u001b[0m\u001b[0mtimemask\u001b[0m\u001b[0;34m]\u001b[0m\u001b[0;34m\u001b[0m\u001b[0;34m\u001b[0m\u001b[0m\n",
      "\u001b[0m\u001b[0;32m    173 \u001b[0;31m            \u001b[0mfeature_gdf\u001b[0m\u001b[0;34m[\u001b[0m\u001b[0;34m\"wind_avg\"\u001b[0m\u001b[0;34m]\u001b[0m \u001b[0;34m=\u001b[0m \u001b[0mfeature_gdf\u001b[0m\u001b[0;34m[\u001b[0m\u001b[0mtimestamps\u001b[0m\u001b[0;34m]\u001b[0m\u001b[0;34m.\u001b[0m\u001b[0mmean\u001b[0m\u001b[0;34m(\u001b[0m\u001b[0maxis\u001b[0m\u001b[0;34m=\u001b[0m\u001b[0;36m1\u001b[0m\u001b[0;34m)\u001b[0m\u001b[0;34m\u001b[0m\u001b[0;34m\u001b[0m\u001b[0m\n",
      "\u001b[0m\n",
      "ipdb> ibtracs_gdf[['NAME', 'ISO_TIME']]\n",
      "     NAME             ISO_TIME\n",
      "0   GOMBE  2022-03-08 00:00:00\n",
      "1   GOMBE  2022-03-08 03:00:00\n",
      "2   GOMBE  2022-03-08 06:00:00\n",
      "3   GOMBE  2022-03-08 09:00:00\n",
      "4   GOMBE  2022-03-08 12:00:00\n",
      "5   GOMBE  2022-03-08 15:00:00\n",
      "6   GOMBE  2022-03-08 18:00:00\n",
      "7   GOMBE  2022-03-08 21:00:00\n",
      "8   GOMBE  2022-03-09 00:00:00\n",
      "9   GOMBE  2022-03-09 03:00:00\n",
      "10  GOMBE  2022-03-09 06:00:00\n",
      "11  GOMBE  2022-03-09 09:00:00\n",
      "12  GOMBE  2022-03-09 12:00:00\n",
      "13  GOMBE  2022-03-09 15:00:00\n",
      "14  GOMBE  2022-03-09 18:00:00\n",
      "15  GOMBE  2022-03-09 21:00:00\n",
      "16  GOMBE  2022-03-10 00:00:00\n",
      "17  GOMBE  2022-03-10 03:00:00\n",
      "18  GOMBE  2022-03-10 06:00:00\n",
      "19  GOMBE  2022-03-10 09:00:00\n",
      "20  GOMBE  2022-03-10 12:00:00\n",
      "21  GOMBE  2022-03-10 15:00:00\n",
      "22  GOMBE  2022-03-10 18:00:00\n",
      "23  GOMBE  2022-03-10 21:00:00\n",
      "24  GOMBE  2022-03-11 00:00:00\n",
      "25  GOMBE  2022-03-11 03:00:00\n",
      "26  GOMBE  2022-03-11 06:00:00\n",
      "27  GOMBE  2022-03-11 09:00:00\n",
      "28  GOMBE  2022-03-11 12:00:00\n",
      "29  GOMBE  2022-03-11 15:00:00\n",
      "30  GOMBE  2022-03-11 18:00:00\n",
      "31  GOMBE  2022-03-11 21:00:00\n",
      "32  GOMBE  2022-03-12 00:00:00\n",
      "33  GOMBE  2022-03-12 03:00:00\n",
      "34  GOMBE  2022-03-12 06:00:00\n",
      "35  GOMBE  2022-03-12 09:00:00\n",
      "36  GOMBE  2022-03-12 12:00:00\n",
      "37  GOMBE  2022-03-12 15:00:00\n",
      "38  GOMBE  2022-03-12 18:00:00\n",
      "39  GOMBE  2022-03-12 21:00:00\n",
      "40  GOMBE  2022-03-13 00:00:00\n",
      "41  GOMBE  2022-03-13 03:00:00\n",
      "42  GOMBE  2022-03-13 06:00:00\n",
      "43  GOMBE  2022-03-13 09:00:00\n",
      "44  GOMBE  2022-03-13 12:00:00\n",
      "ipdb> len(ibtracs_gdf)\n",
      "45\n"
     ]
    }
   ],
   "source": [
    "_ = get_wind_fields(event, subregion, recalculate=True)"
   ]
  },
  {
   "cell_type": "markdown",
   "id": "3b973336",
   "metadata": {},
   "source": [
    "## Wind speed average from acquisition date"
   ]
  },
  {
   "cell_type": "code",
   "execution_count": 32,
   "id": "2cbe6caf",
   "metadata": {},
   "outputs": [],
   "source": [
    "from wind_utils import process_ibtracs, get_wind_field\n",
    "\n",
    "def get_wind_fields(self, subregion, recalculate=False):\n",
    "    \"\"\"Get wind fields from IBTrACs data using Holland (1980) method.\n",
    "\n",
    "    Adds wind field columns where wind is nonzero to feature GeoDataFrame and\n",
    "    average over all these wind field columns (i.e., over storm duration)\n",
    "    \"\"\"\n",
    "    if self.feature_gdf[subregion] is None: self.get_gdf(subregion)\n",
    "\n",
    "    if not any(\"wnd\" in col for col in self.feature_gdf[subregion].columns) or recalculate:\n",
    "        self.logger.info(\"Calculating wind speeds...\")\n",
    "        feature_gdf = self.feature_gdf[subregion]\n",
    "\n",
    "        try:\n",
    "            # load and process IBTrACs data\n",
    "            if self.year > 2017:\n",
    "                ibtracs_gdf = gpd.read_file(join(self.wd, \"ibtracs_last3years.csv\"))[1:].replace(\" \", np.nan)\n",
    "                ibtracs_gdf = ibtracs_gdf[ibtracs_gdf.NAME == self.storm.upper()]\n",
    "                units_df = pd.read_csv(join(self.wd, \"ibtracs_last3years.csv\"), dtype=str, header=0)[0:1]\n",
    "            else:\n",
    "                ibtracs_gdf = gpd.read_file(join(self.wd, \"ibtracs_since1980.csv\"))[1:].replace(\" \", np.nan)\n",
    "                ibtracs_gdf = ibtracs_gdf[ibtracs_gdf.NAME == self.storm.upper()]\n",
    "                units_df = pd.read_csv(join(self.wd, \"ibtracs_since1980.csv\"), dtype=str, header=0)[0:1]\n",
    "\n",
    "            # process IBTrACS data\n",
    "            ibtracs_gdf, wind_col, pressure_col, rmw_col = process_ibtracs(ibtracs_gdf, self.storm)\n",
    "            feature_gdf = get_wind_field(ibtracs_gdf, feature_gdf, units_df, wind_col, pressure_col, rmw_col)\n",
    "\n",
    "            # save average wind field\n",
    "            timemask = [\"wnd\" in col for col in feature_gdf.columns]\n",
    "            timestamps = feature_gdf.columns[timemask]\n",
    "            feature_gdf[\"wind_avg\"] = feature_gdf[timestamps].mean(axis=1)\n",
    "            return timemask, timestamps, feature_gdf\n",
    "        \n",
    "        except Exception as e:\n",
    "            self.logger.warning(f\"Error for ndvi for {self.storm}, {self.region}, {subregion}:\"\\\n",
    "                                f\"{e}\\nCreating empty field.\")\n",
    "            feature_gdf[\"wind_avg\"] = [\"\"] * len(feature_gdf)\n",
    "            return feature_gdf\n",
    "        \n",
    "#         self.feature_gdf[subregion] = feature_gdf\n",
    "#         self.save_gdf(subregion)"
   ]
  },
  {
   "cell_type": "code",
   "execution_count": 33,
   "id": "14cca76c",
   "metadata": {},
   "outputs": [
    {
     "name": "stderr",
     "output_type": "stream",
     "text": [
      "WARNING:root:No pressure drop for time 8, skipping wind speed calculation.\n"
     ]
    }
   ],
   "source": [
    "result = get_wind_fields(event, subregion, recalculate=True)"
   ]
  },
  {
   "cell_type": "code",
   "execution_count": 36,
   "id": "2867f7dc",
   "metadata": {},
   "outputs": [],
   "source": [
    "timemask, timestamps, feature_gdf = result[0], result[1], result[2]"
   ]
  },
  {
   "cell_type": "code",
   "execution_count": 39,
   "id": "23c656a0",
   "metadata": {},
   "outputs": [
    {
     "data": {
      "text/plain": [
       "'2022-09-27 23:19'"
      ]
     },
     "execution_count": 39,
     "metadata": {},
     "output_type": "execute_result"
    }
   ],
   "source": [
    "event.acquisition_time"
   ]
  },
  {
   "cell_type": "code",
   "execution_count": 45,
   "id": "8d5fa042",
   "metadata": {},
   "outputs": [
    {
     "name": "stderr",
     "output_type": "stream",
     "text": [
      "/var/folders/7w/k72v6f5x25gblsqmh6bxd3j40000gn/T/ipykernel_29986/844962929.py:1: DtypeWarning: Columns (1,2,8,9,14,19,20,161,162) have mixed types. Specify dtype option on import or set low_memory=False.\n",
      "  ibtracs_gdf = pd.read_csv(join(wd, 'ibtracs_last3years.csv'))\n"
     ]
    }
   ],
   "source": [
    "ibtracs_gdf = pd.read_csv(join(wd, 'ibtracs_last3years.csv'))"
   ]
  },
  {
   "cell_type": "code",
   "execution_count": 77,
   "id": "689de7aa",
   "metadata": {},
   "outputs": [
    {
     "data": {
      "text/plain": [
       "'2019-03-14 12:00:00'"
      ]
     },
     "execution_count": 77,
     "metadata": {},
     "output_type": "execute_result"
    }
   ],
   "source": [
    "iso_time"
   ]
  },
  {
   "cell_type": "code",
   "execution_count": 78,
   "id": "f731fe66",
   "metadata": {},
   "outputs": [],
   "source": [
    "from datetime import datetime, timedelta\n",
    "\n",
    "acquisition_dt = datetime.strptime(acquisition_time, '%Y-%m-%d %H:%M')\n",
    "start_dt = start = acquisition_dt - timedelta(5)\n",
    "\n",
    "iso_time = ibtracs_gdf['ISO_TIME'][1000]\n",
    "iso_dt = datetime.strptime(iso_time, '%Y-%m-%d %H:%M:%S')"
   ]
  },
  {
   "cell_type": "code",
   "execution_count": 82,
   "id": "e9816353",
   "metadata": {},
   "outputs": [
    {
     "data": {
      "text/plain": [
       "False"
      ]
     },
     "execution_count": 82,
     "metadata": {},
     "output_type": "execute_result"
    }
   ],
   "source": [
    "start_dt < iso_dt < acquisition_dt"
   ]
  },
  {
   "cell_type": "code",
   "execution_count": 72,
   "id": "e2aea70e",
   "metadata": {},
   "outputs": [
    {
     "ename": "TypeError",
     "evalue": "'<' not supported between instances of 'datetime.datetime' and 'str'",
     "output_type": "error",
     "traceback": [
      "\u001b[0;31m---------------------------------------------------------------------------\u001b[0m",
      "\u001b[0;31mTypeError\u001b[0m                                 Traceback (most recent call last)",
      "Cell \u001b[0;32mIn [72], line 1\u001b[0m\n\u001b[0;32m----> 1\u001b[0m \u001b[43mstart\u001b[49m\u001b[43m \u001b[49m\u001b[38;5;241;43m<\u001b[39;49m\u001b[43m \u001b[49m\u001b[43mibtracs_gdf\u001b[49m\u001b[43m[\u001b[49m\u001b[38;5;124;43m'\u001b[39;49m\u001b[38;5;124;43mISO_TIME\u001b[39;49m\u001b[38;5;124;43m'\u001b[39;49m\u001b[43m]\u001b[49m\u001b[43m[\u001b[49m\u001b[38;5;241;43m1000\u001b[39;49m\u001b[43m]\u001b[49m\n",
      "\u001b[0;31mTypeError\u001b[0m: '<' not supported between instances of 'datetime.datetime' and 'str'"
     ]
    }
   ],
   "source": [
    "start < ibtracs_gdf['ISO_TIME'][1000]"
   ]
  },
  {
   "cell_type": "markdown",
   "id": "c69a394e",
   "metadata": {},
   "source": [
    "## Add exclusion mask"
   ]
  },
  {
   "cell_type": "code",
   "execution_count": 73,
   "id": "14e0ab8a",
   "metadata": {},
   "outputs": [],
   "source": [
    "def get_exclusion_mask(self, subregion, recalculate=False):\n",
    "    \"\"\"Add exclusion mask if exclusion_mask.gpkg present.\n",
    "\n",
    "    Exclusion mask from Copernicus GFM.\n",
    "    \"\"\"\n",
    "\n",
    "    if self.feature_gdf[subregion] is None: self.get_gdf(subregion)\n",
    "    if \"exclusion_mask\" not in self.feature_gdf[subregion] or recalculate:\n",
    "        self.logger.info(\"Calculating exclusion mask...\")\n",
    "        feature_gdf = self.feature_gdf[subregion]\n",
    "\n",
    "        try:\n",
    "            feature_gdf['exclusion_mask'] = [\"\"] * len(feature_gdf)\n",
    "            filepath = join(wd, f\"{self.storm}_{self.region}\", \"exclusion_mask.gpkg\")\n",
    "            if exists(filepath):\n",
    "                feature_gdf = self.feature_gdf[subregion]\n",
    "                exclusion_mask = gpd.read_file(filepath)\n",
    "                assert feature_gdf.crs == exclusion_mask.crs\n",
    "\n",
    "                feature_gdf = data_utils.get_grid_intersects(exclusion_mask, feature_gdf, col='exclusion_mask')\n",
    "                feature_gdf['exclusion_mask'] = feature_gdf['exclusion_mask'].apply(lambda x: 1 if x > 0 else 0)\n",
    "            else:\n",
    "                self.logger.warning(f\"No exclusion mask file with name {filepath}.\")\n",
    "                feature_gdf[\"exclusion_mask\"] = [\"\"] * len(feature_gdf)\n",
    "        except Exception as e:\n",
    "            self.logger.warning(f\"Error for exclusion mask for {self.storm}, {self.region}, {subregion}:\"\\\n",
    "                                f\"{e}\\nCreating empty fields.\")\n",
    "            feature_gdf[\"exclusion_mask\"] = [\"\"] * len(feature_gdf)\n",
    "\n",
    "        self.feature_gdf[subregion] = feature_gdf\n",
    "        self.save_gdf(subregion)"
   ]
  },
  {
   "cell_type": "code",
   "execution_count": 72,
   "id": "6539176e",
   "metadata": {},
   "outputs": [
    {
     "name": "stderr",
     "output_type": "stream",
     "text": [
      "100%|███████████████████████████████████████| 4096/4096 [16:11<00:00,  4.22it/s]\n"
     ]
    },
    {
     "name": "stdout",
     "output_type": "stream",
     "text": [
      "> \u001b[0;32m/var/folders/73/5jj08bt51kz8nf9ndh06v_r80000gq/T/ipykernel_14948/3658673840.py\u001b[0m(26)\u001b[0;36mget_exclusion_mask\u001b[0;34m()\u001b[0m\n",
      "\u001b[0;32m     24 \u001b[0;31m                \u001b[0;32mimport\u001b[0m \u001b[0mpdb\u001b[0m\u001b[0;34m;\u001b[0m \u001b[0mpdb\u001b[0m\u001b[0;34m.\u001b[0m\u001b[0mset_trace\u001b[0m\u001b[0;34m(\u001b[0m\u001b[0;34m)\u001b[0m\u001b[0;34m\u001b[0m\u001b[0;34m\u001b[0m\u001b[0m\n",
      "\u001b[0m\u001b[0;32m     25 \u001b[0;31m\u001b[0;34m\u001b[0m\u001b[0m\n",
      "\u001b[0m\u001b[0;32m---> 26 \u001b[0;31m                \u001b[0mfeature_gdf\u001b[0m\u001b[0;34m[\u001b[0m\u001b[0;34m'exclusion_mask'\u001b[0m\u001b[0;34m]\u001b[0m \u001b[0;34m=\u001b[0m \u001b[0mfeature_gdf\u001b[0m\u001b[0;34m[\u001b[0m\u001b[0;34m'exclusion_mask'\u001b[0m\u001b[0;34m]\u001b[0m\u001b[0;34m.\u001b[0m\u001b[0mapply\u001b[0m\u001b[0;34m(\u001b[0m\u001b[0;32mlambda\u001b[0m \u001b[0mx\u001b[0m\u001b[0;34m:\u001b[0m \u001b[0;36m1\u001b[0m \u001b[0;32mif\u001b[0m \u001b[0mx\u001b[0m \u001b[0;34m>\u001b[0m \u001b[0;36m0\u001b[0m \u001b[0;32melse\u001b[0m \u001b[0;36m0\u001b[0m\u001b[0;34m)\u001b[0m\u001b[0;34m\u001b[0m\u001b[0;34m\u001b[0m\u001b[0m\n",
      "\u001b[0m\u001b[0;32m     27 \u001b[0;31m            \u001b[0;32melse\u001b[0m\u001b[0;34m:\u001b[0m\u001b[0;34m\u001b[0m\u001b[0;34m\u001b[0m\u001b[0m\n",
      "\u001b[0m\u001b[0;32m     28 \u001b[0;31m                \u001b[0mprint\u001b[0m\u001b[0;34m(\u001b[0m\u001b[0;34mf\"No exclusion mask file {filepath}\"\u001b[0m\u001b[0;34m)\u001b[0m\u001b[0;34m\u001b[0m\u001b[0;34m\u001b[0m\u001b[0m\n",
      "\u001b[0m\n",
      "ipdb> c\n"
     ]
    },
    {
     "data": {
      "image/png": "[encoded data removed]",
      "text/plain": [
       "<Figure size 640x480 with 2 Axes>"
      ]
     },
     "metadata": {},
     "output_type": "display_data"
    },
    {
     "data": {
      "text/plain": [
       "count    4096.000000\n",
       "mean        0.266113\n",
       "std         0.441978\n",
       "min         0.000000\n",
       "25%         0.000000\n",
       "50%         0.000000\n",
       "75%         1.000000\n",
       "max         1.000000\n",
       "Name: exclusion_mask, dtype: float64"
      ]
     },
     "execution_count": 72,
     "metadata": {},
     "output_type": "execute_result"
    }
   ],
   "source": [
    "# check if it looks right\n",
    "get_exclusion_mask(event, subregion, recalculate=True)\n",
    "event_gdf = gpd.read_file(join(wd, f\"{storm}_{region}\", f\"feature_stats_{subregion}.gpkg\"))\n",
    "event_gdf.plot('exclusion_mask', legend=True)\n",
    "plt.show()\n",
    "event_gdf.exclusion_mask.describe()"
   ]
  },
  {
   "cell_type": "code",
   "execution_count": 76,
   "id": "45b8c948",
   "metadata": {},
   "outputs": [],
   "source": [
    "from viz_utils import "
   ]
  },
  {
   "cell_type": "code",
   "execution_count": 80,
   "id": "7abed3aa",
   "metadata": {},
   "outputs": [
    {
     "data": {
      "text/plain": [
       "<AxesSubplot: >"
      ]
     },
     "execution_count": 80,
     "metadata": {},
     "output_type": "execute_result"
    },
    {
     "data": {
      "image/png": "[encoded data removed]",
      "text/plain": [
       "<Figure size 640x480 with 2 Axes>"
      ]
     },
     "metadata": {},
     "output_type": "display_data"
    }
   ],
   "source": [
    "fig, ax = plt.subplots()\n",
    "\n",
    "event_gdf.plot('floodfrac', cmap=\"YlGnBu\", ax=ax)\n",
    "event_gdf.plot('exclusion_mask', cmap=\"Reds\", legend=True, alpha=0.4, ax=ax)"
   ]
  },
  {
   "cell_type": "code",
   "execution_count": 54,
   "id": "4c030019",
   "metadata": {},
   "outputs": [
    {
     "data": {
      "text/plain": [
       "<AxesSubplot: >"
      ]
     },
     "execution_count": 54,
     "metadata": {},
     "output_type": "execute_result"
    },
    {
     "data": {
      "image/png": "[encoded data removed]",
      "text/plain": [
       "<Figure size 640x480 with 1 Axes>"
      ]
     },
     "metadata": {},
     "output_type": "display_data"
    }
   ],
   "source": [
    "exclusion_mask = gpd.read_file(join(self.wd, f\"{event.storm}_{event.region}\", \"exclusion_mask.gpkg\"))\n",
    "\n",
    "ax = exclusion_mask.plot()\n",
    "event.feature_gdf[0].plot(ax=ax, color='red', alpha=0.5)"
   ]
  },
  {
   "cell_type": "code",
   "execution_count": 60,
   "id": "e67defb6",
   "metadata": {},
   "outputs": [
    {
     "data": {
      "text/plain": [
       "''"
      ]
     },
     "execution_count": 60,
     "metadata": {},
     "output_type": "execute_result"
    }
   ],
   "source": [
    "event.feature_gdf[0].exclusion_mask[0]"
   ]
  },
  {
   "cell_type": "code",
   "execution_count": 58,
   "id": "06ddb421",
   "metadata": {},
   "outputs": [
    {
     "data": {
      "text/plain": [
       "<AxesSubplot: >"
      ]
     },
     "execution_count": 58,
     "metadata": {},
     "output_type": "execute_result"
    },
    {
     "data": {
      "image/png": "[encoded data removed]",
      "text/plain": [
       "<Figure size 640x480 with 1 Axes>"
      ]
     },
     "metadata": {},
     "output_type": "display_data"
    }
   ],
   "source": [
    "event.feature_gdf[0].plot('exclusion_mask', categorical=False, cmap=\"Reds\", legend=True)"
   ]
  },
  {
   "cell_type": "markdown",
   "id": "4467bdbc",
   "metadata": {},
   "source": [
    "# Try and load a GFM dataset"
   ]
  },
  {
   "cell_type": "code",
   "execution_count": 4,
   "id": "c40bf35b",
   "metadata": {},
   "outputs": [],
   "source": [
    "# event\n",
    "storm = \"ian\"\n",
    "region = \"cuba\"\n",
    "nsubregions = 17\n",
    "subregion = 0"
   ]
  },
  {
   "cell_type": "code",
   "execution_count": 7,
   "id": "c613f70c",
   "metadata": {},
   "outputs": [
    {
     "name": "stderr",
     "output_type": "stream",
     "text": [
      "100%|████████████████████████████████████| 4096/4096 [00:00<00:00, 19625.48it/s]\n",
      "ian_cuba_0: error adding extra flood info:\n",
      "\"['det_method', 'obj_desc'] not in index\"\n",
      "Creating empty fields\n",
      "Error for mslp for ian, cuba, 0:Image.reduceRegions: Need 1 bands for Reducer.mean, image has 0.\n",
      "Creating empty field.\n",
      "Error for sp for ian, cuba, 0:Image.reduceRegions: Need 1 bands for Reducer.mean, image has 0.\n",
      "Creating empty field.\n",
      "Error for u10_u for ian, cuba, 0:Image.reduceRegions: Need 1 bands for Reducer.mean, image has 0.\n",
      "Creating empty field.\n",
      "Error for u10_v for ian, cuba, 0:Image.reduceRegions: Need 1 bands for Reducer.mean, image has 0.\n",
      "Creating empty field.\n",
      "Error for soiltemp1 for ian, cuba, 0:Image.clip: Parameter 'input' is required.\n",
      "Creating empty field.\n",
      "Error for soiltemp2 for ian, cuba, 0:Image.clip: Parameter 'input' is required.\n",
      "Creating empty field.\n",
      "WARNING:root:No pressure drop for time 8, skipping wind speed calculation.\n",
      "100%|████████████████████████████████████| 4096/4096 [00:00<00:00, 23589.29it/s]\n"
     ]
    }
   ],
   "source": [
    "# load event GeoDataFrame (as when getting data)\n",
    "event = Event(storm, region, nsubregions, wd, bd)\n",
    "event.make_grids()\n",
    "event.get_all_features(subregion)"
   ]
  },
  {
   "cell_type": "code",
   "execution_count": 8,
   "id": "f5032b98",
   "metadata": {},
   "outputs": [],
   "source": [
    "feature_gdf = event.feature_gdf[subregion]"
   ]
  },
  {
   "cell_type": "code",
   "execution_count": 13,
   "id": "cf58477a",
   "metadata": {},
   "outputs": [
    {
     "data": {
      "text/plain": [
       "<AxesSubplot:>"
      ]
     },
     "execution_count": 13,
     "metadata": {},
     "output_type": "execute_result"
    },
    {
     "data": {
      "image/png": "[encoded data removed]",
      "text/plain": [
       "<Figure size 432x288 with 1 Axes>"
      ]
     },
     "metadata": {
      "needs_background": "light"
     },
     "output_type": "display_data"
    }
   ],
   "source": [
    "feature_gdf.plot('floodfrac')"
   ]
  },
  {
   "cell_type": "code",
   "execution_count": 14,
   "id": "6c51d458",
   "metadata": {},
   "outputs": [
    {
     "name": "stderr",
     "output_type": "stream",
     "text": [
      "WARNING:data_collection.ian:Error for soiltemp1 for ian, cuba, 0:Image.clip: Parameter 'input' is required.\n",
      "Creating empty field.\n",
      "WARNING:data_collection.ian:Error for soiltemp2 for ian, cuba, 0:Image.clip: Parameter 'input' is required.\n",
      "Creating empty field.\n",
      "ERROR:fiona._env:./../data/ian_cuba/feature_stats_1.gpkg: No such file or directory\n",
      "100%|████████████████████████████████████| 4096/4096 [00:00<00:00, 19082.40it/s]\n",
      "WARNING:data_collection.ian:ian_cuba_1: error adding extra flood info:\n",
      "\"['det_method', 'obj_desc'] not in index\"\n",
      "Creating empty fields\n",
      "WARNING:data_collection.ian:Error for mslp for ian, cuba, 1:Image.reduceRegions: Need 1 bands for Reducer.mean, image has 0.\n",
      "Creating empty field.\n",
      "WARNING:data_collection.ian:Error for sp for ian, cuba, 1:Image.reduceRegions: Need 1 bands for Reducer.mean, image has 0.\n",
      "Creating empty field.\n",
      "WARNING:data_collection.ian:Error for u10_u for ian, cuba, 1:Image.reduceRegions: Need 1 bands for Reducer.mean, image has 0.\n",
      "Creating empty field.\n",
      "WARNING:data_collection.ian:Error for u10_v for ian, cuba, 1:Image.reduceRegions: Need 1 bands for Reducer.mean, image has 0.\n",
      "Creating empty field.\n"
     ]
    },
    {
     "ename": "KeyboardInterrupt",
     "evalue": "",
     "output_type": "error",
     "traceback": [
      "\u001b[0;31m---------------------------------------------------------------------------\u001b[0m",
      "\u001b[0;31mKeyboardInterrupt\u001b[0m                         Traceback (most recent call last)",
      "Input \u001b[0;32mIn [14]\u001b[0m, in \u001b[0;36m<cell line: 1>\u001b[0;34m()\u001b[0m\n\u001b[0;32m----> 1\u001b[0m \u001b[43mevent\u001b[49m\u001b[38;5;241;43m.\u001b[39;49m\u001b[43mprocess_all_subregions\u001b[49m\u001b[43m(\u001b[49m\u001b[43m)\u001b[49m\n",
      "File \u001b[0;32m~/Documents/DPhil/hybridmodels/python/event.py:133\u001b[0m, in \u001b[0;36mEvent.process_all_subregions\u001b[0;34m(self, recalculate_all, recalculate_features, feature_list)\u001b[0m\n\u001b[1;32m    131\u001b[0m \u001b[38;5;28;01mfor\u001b[39;00m subregion \u001b[38;5;129;01min\u001b[39;00m \u001b[38;5;28mrange\u001b[39m(\u001b[38;5;28mself\u001b[39m\u001b[38;5;241m.\u001b[39mnsubregions):\n\u001b[1;32m    132\u001b[0m     \u001b[38;5;28mself\u001b[39m\u001b[38;5;241m.\u001b[39mlogger\u001b[38;5;241m.\u001b[39minfo(\u001b[38;5;124mf\u001b[39m\u001b[38;5;124m'\u001b[39m\u001b[38;5;130;01m\\n\u001b[39;00m\u001b[38;5;124mProcessing subregion \u001b[39m\u001b[38;5;132;01m{\u001b[39;00msubregion\u001b[38;5;132;01m}\u001b[39;00m\u001b[38;5;130;01m\\n\u001b[39;00m\u001b[38;5;124m'\u001b[39m)\n\u001b[0;32m--> 133\u001b[0m     \u001b[38;5;28;43mself\u001b[39;49m\u001b[38;5;241;43m.\u001b[39;49m\u001b[43mget_all_features\u001b[49m\u001b[43m(\u001b[49m\u001b[43msubregion\u001b[49m\u001b[43m,\u001b[49m\u001b[43m \u001b[49m\u001b[43mrecalculate_all\u001b[49m\u001b[38;5;241;43m=\u001b[39;49m\u001b[43mrecalculate_all\u001b[49m\u001b[43m,\u001b[49m\n\u001b[1;32m    134\u001b[0m \u001b[43m                          \u001b[49m\u001b[43mrecalculate_features\u001b[49m\u001b[38;5;241;43m=\u001b[39;49m\u001b[43mrecalculate_features\u001b[49m\u001b[43m,\u001b[49m\n\u001b[1;32m    135\u001b[0m \u001b[43m                          \u001b[49m\u001b[43mfeature_list\u001b[49m\u001b[38;5;241;43m=\u001b[39;49m\u001b[43mfeature_list\u001b[49m\u001b[43m)\u001b[49m\n\u001b[1;32m    137\u001b[0m     \u001b[38;5;66;03m# save to output, feature_stats directory\u001b[39;00m\n\u001b[1;32m    138\u001b[0m     \u001b[38;5;28mself\u001b[39m\u001b[38;5;241m.\u001b[39mfeature_gdf[subregion]\u001b[38;5;241m.\u001b[39mto_file(join(\u001b[38;5;28mself\u001b[39m\u001b[38;5;241m.\u001b[39mwd, \u001b[38;5;124m\"\u001b[39m\u001b[38;5;124mfeature_stats\u001b[39m\u001b[38;5;124m\"\u001b[39m, \u001b[38;5;124mf\u001b[39m\u001b[38;5;124m\"\u001b[39m\u001b[38;5;132;01m{\u001b[39;00m\u001b[38;5;28mself\u001b[39m\u001b[38;5;241m.\u001b[39mstorm\u001b[38;5;132;01m}\u001b[39;00m\u001b[38;5;124m_\u001b[39m\u001b[38;5;132;01m{\u001b[39;00m\u001b[38;5;28mself\u001b[39m\u001b[38;5;241m.\u001b[39mregion\u001b[38;5;132;01m}\u001b[39;00m\u001b[38;5;124m_\u001b[39m\u001b[38;5;132;01m{\u001b[39;00msubregion\u001b[38;5;132;01m}\u001b[39;00m\u001b[38;5;124m.gpkg\u001b[39m\u001b[38;5;124m\"\u001b[39m),\n\u001b[1;32m    139\u001b[0m                                         layer\u001b[38;5;241m=\u001b[39m\u001b[38;5;124mf\u001b[39m\u001b[38;5;124m\"\u001b[39m\u001b[38;5;132;01m{\u001b[39;00m\u001b[38;5;28mself\u001b[39m\u001b[38;5;241m.\u001b[39mstorm\u001b[38;5;132;01m}\u001b[39;00m\u001b[38;5;124m_\u001b[39m\u001b[38;5;132;01m{\u001b[39;00m\u001b[38;5;28mself\u001b[39m\u001b[38;5;241m.\u001b[39mregion\u001b[38;5;132;01m}\u001b[39;00m\u001b[38;5;124m_\u001b[39m\u001b[38;5;132;01m{\u001b[39;00msubregion\u001b[38;5;132;01m}\u001b[39;00m\u001b[38;5;124m\"\u001b[39m, driver\u001b[38;5;241m=\u001b[39m\u001b[38;5;124m\"\u001b[39m\u001b[38;5;124mGPKG\u001b[39m\u001b[38;5;124m\"\u001b[39m)\n",
      "File \u001b[0;32m~/Documents/DPhil/hybridmodels/python/event.py:153\u001b[0m, in \u001b[0;36mEvent.get_all_features\u001b[0;34m(self, subregion, recalculate_all, recalculate_features, feature_list)\u001b[0m\n\u001b[1;32m    151\u001b[0m \u001b[38;5;28mself\u001b[39m\u001b[38;5;241m.\u001b[39mget_gdf(subregion, recalculate\u001b[38;5;241m=\u001b[39mrecalculate_all)\n\u001b[1;32m    152\u001b[0m \u001b[38;5;28;01mfor\u001b[39;00m feature \u001b[38;5;129;01min\u001b[39;00m feature_list:\n\u001b[0;32m--> 153\u001b[0m     \u001b[38;5;28;43mgetattr\u001b[39;49m\u001b[43m(\u001b[49m\u001b[38;5;28;43mself\u001b[39;49m\u001b[43m,\u001b[49m\u001b[43m \u001b[49m\u001b[38;5;124;43mf\u001b[39;49m\u001b[38;5;124;43m\"\u001b[39;49m\u001b[38;5;124;43mget_\u001b[39;49m\u001b[38;5;132;43;01m{\u001b[39;49;00m\u001b[43mfeature\u001b[49m\u001b[38;5;132;43;01m}\u001b[39;49;00m\u001b[38;5;124;43m\"\u001b[39;49m\u001b[43m)\u001b[49m\u001b[43m(\u001b[49m\u001b[43msubregion\u001b[49m\u001b[43m,\u001b[49m\u001b[43m \u001b[49m\u001b[43mrecalculate_features\u001b[49m\u001b[43m)\u001b[49m\n",
      "File \u001b[0;32m~/Documents/DPhil/hybridmodels/python/event.py:882\u001b[0m, in \u001b[0;36mEvent.get_soilcarbon\u001b[0;34m(self, subregion, recalculate)\u001b[0m\n\u001b[1;32m    878\u001b[0m     soilcarbon\u001b[38;5;241m.\u001b[39mprojection()\u001b[38;5;241m.\u001b[39mgetInfo()\n\u001b[1;32m    879\u001b[0m     mean_soilcarbon \u001b[38;5;241m=\u001b[39m soilcarbon\u001b[38;5;241m.\u001b[39mreduceRegions(collection\u001b[38;5;241m=\u001b[39mgrid_ee,\n\u001b[1;32m    880\u001b[0m                                              reducer\u001b[38;5;241m=\u001b[39mee\u001b[38;5;241m.\u001b[39mReducer\u001b[38;5;241m.\u001b[39mmean(), scale\u001b[38;5;241m=\u001b[39m\u001b[38;5;28mself\u001b[39m\u001b[38;5;241m.\u001b[39mgridsize)\n\u001b[0;32m--> 882\u001b[0m     soilcarbon_list \u001b[38;5;241m=\u001b[39m \u001b[43mmean_soilcarbon\u001b[49m\u001b[38;5;241;43m.\u001b[39;49m\u001b[43maggregate_array\u001b[49m\u001b[43m(\u001b[49m\u001b[38;5;124;43m'\u001b[39;49m\u001b[38;5;124;43mmean\u001b[39;49m\u001b[38;5;124;43m'\u001b[39;49m\u001b[43m)\u001b[49m\u001b[38;5;241;43m.\u001b[39;49m\u001b[43mgetInfo\u001b[49m\u001b[43m(\u001b[49m\u001b[43m)\u001b[49m\n\u001b[1;32m    883\u001b[0m     feature_gdf[\u001b[38;5;124m\"\u001b[39m\u001b[38;5;124msoilcarbon\u001b[39m\u001b[38;5;124m\"\u001b[39m] \u001b[38;5;241m=\u001b[39m soilcarbon_list\n\u001b[1;32m    884\u001b[0m \u001b[38;5;28;01mexcept\u001b[39;00m \u001b[38;5;167;01mException\u001b[39;00m \u001b[38;5;28;01mas\u001b[39;00m e:\n",
      "File \u001b[0;32m~/miniconda3/envs/hybridmodels/lib/python3.10/site-packages/ee/computedobject.py:98\u001b[0m, in \u001b[0;36mComputedObject.getInfo\u001b[0;34m(self)\u001b[0m\n\u001b[1;32m     92\u001b[0m \u001b[38;5;28;01mdef\u001b[39;00m \u001b[38;5;21mgetInfo\u001b[39m(\u001b[38;5;28mself\u001b[39m):\n\u001b[1;32m     93\u001b[0m   \u001b[38;5;124;03m\"\"\"Fetch and return information about this object.\u001b[39;00m\n\u001b[1;32m     94\u001b[0m \n\u001b[1;32m     95\u001b[0m \u001b[38;5;124;03m  Returns:\u001b[39;00m\n\u001b[1;32m     96\u001b[0m \u001b[38;5;124;03m    The object can evaluate to anything.\u001b[39;00m\n\u001b[1;32m     97\u001b[0m \u001b[38;5;124;03m  \"\"\"\u001b[39;00m\n\u001b[0;32m---> 98\u001b[0m   \u001b[38;5;28;01mreturn\u001b[39;00m \u001b[43mdata\u001b[49m\u001b[38;5;241;43m.\u001b[39;49m\u001b[43mcomputeValue\u001b[49m\u001b[43m(\u001b[49m\u001b[38;5;28;43mself\u001b[39;49m\u001b[43m)\u001b[49m\n",
      "File \u001b[0;32m~/miniconda3/envs/hybridmodels/lib/python3.10/site-packages/ee/data.py:737\u001b[0m, in \u001b[0;36mcomputeValue\u001b[0;34m(obj)\u001b[0m\n\u001b[1;32m    726\u001b[0m \u001b[38;5;28;01mdef\u001b[39;00m \u001b[38;5;21mcomputeValue\u001b[39m(obj):\n\u001b[1;32m    727\u001b[0m   \u001b[38;5;124;03m\"\"\"Sends a request to compute a value.\u001b[39;00m\n\u001b[1;32m    728\u001b[0m \n\u001b[1;32m    729\u001b[0m \u001b[38;5;124;03m  Args:\u001b[39;00m\n\u001b[0;32m   (...)\u001b[0m\n\u001b[1;32m    733\u001b[0m \u001b[38;5;124;03m    The result of evaluating that object on the server.\u001b[39;00m\n\u001b[1;32m    734\u001b[0m \u001b[38;5;124;03m  \"\"\"\u001b[39;00m\n\u001b[1;32m    735\u001b[0m   \u001b[38;5;28;01mreturn\u001b[39;00m _execute_cloud_call(\n\u001b[1;32m    736\u001b[0m       _get_cloud_api_resource()\u001b[38;5;241m.\u001b[39mprojects()\u001b[38;5;241m.\u001b[39mvalue()\u001b[38;5;241m.\u001b[39mcompute(\n\u001b[0;32m--> 737\u001b[0m           body\u001b[38;5;241m=\u001b[39m{\u001b[38;5;124m'\u001b[39m\u001b[38;5;124mexpression\u001b[39m\u001b[38;5;124m'\u001b[39m: \u001b[43mserializer\u001b[49m\u001b[38;5;241;43m.\u001b[39;49m\u001b[43mencode\u001b[49m\u001b[43m(\u001b[49m\u001b[43mobj\u001b[49m\u001b[43m,\u001b[49m\u001b[43m \u001b[49m\u001b[43mfor_cloud_api\u001b[49m\u001b[38;5;241;43m=\u001b[39;49m\u001b[38;5;28;43;01mTrue\u001b[39;49;00m\u001b[43m)\u001b[49m},\n\u001b[1;32m    738\u001b[0m           project\u001b[38;5;241m=\u001b[39m_get_projects_path(),\n\u001b[1;32m    739\u001b[0m           prettyPrint\u001b[38;5;241m=\u001b[39m\u001b[38;5;28;01mFalse\u001b[39;00m))[\u001b[38;5;124m'\u001b[39m\u001b[38;5;124mresult\u001b[39m\u001b[38;5;124m'\u001b[39m]\n",
      "File \u001b[0;32m~/miniconda3/envs/hybridmodels/lib/python3.10/site-packages/ee/serializer.py:298\u001b[0m, in \u001b[0;36mencode\u001b[0;34m(obj, is_compound, for_cloud_api, unbound_name)\u001b[0m\n\u001b[1;32m    282\u001b[0m \u001b[38;5;124;03m\"\"\"Serialize an object to a JSON-compatible structure for API calls.\u001b[39;00m\n\u001b[1;32m    283\u001b[0m \n\u001b[1;32m    284\u001b[0m \u001b[38;5;124;03mArgs:\u001b[39;00m\n\u001b[0;32m   (...)\u001b[0m\n\u001b[1;32m    294\u001b[0m \u001b[38;5;124;03m  A JSON-compatible structure representing the input.\u001b[39;00m\n\u001b[1;32m    295\u001b[0m \u001b[38;5;124;03m\"\"\"\u001b[39;00m\n\u001b[1;32m    296\u001b[0m serializer \u001b[38;5;241m=\u001b[39m Serializer(\n\u001b[1;32m    297\u001b[0m     is_compound, for_cloud_api\u001b[38;5;241m=\u001b[39mfor_cloud_api, unbound_name\u001b[38;5;241m=\u001b[39munbound_name)\n\u001b[0;32m--> 298\u001b[0m \u001b[38;5;28;01mreturn\u001b[39;00m \u001b[43mserializer\u001b[49m\u001b[38;5;241;43m.\u001b[39;49m\u001b[43m_encode\u001b[49m\u001b[43m(\u001b[49m\u001b[43mobj\u001b[49m\u001b[43m)\u001b[49m\n",
      "File \u001b[0;32m~/miniconda3/envs/hybridmodels/lib/python3.10/site-packages/ee/serializer.py:80\u001b[0m, in \u001b[0;36mSerializer._encode\u001b[0;34m(self, obj)\u001b[0m\n\u001b[1;32m     71\u001b[0m \u001b[38;5;124;03m\"\"\"Encodes a top level object to be executed server-side.\u001b[39;00m\n\u001b[1;32m     72\u001b[0m \n\u001b[1;32m     73\u001b[0m \u001b[38;5;124;03mArgs:\u001b[39;00m\n\u001b[0;32m   (...)\u001b[0m\n\u001b[1;32m     77\u001b[0m \u001b[38;5;124;03m  An encoded object ready for JSON serialization.\u001b[39;00m\n\u001b[1;32m     78\u001b[0m \u001b[38;5;124;03m\"\"\"\u001b[39;00m\n\u001b[1;32m     79\u001b[0m \u001b[38;5;28;01mif\u001b[39;00m \u001b[38;5;28mself\u001b[39m\u001b[38;5;241m.\u001b[39m_for_cloud_api:\n\u001b[0;32m---> 80\u001b[0m   \u001b[38;5;28;01mreturn\u001b[39;00m \u001b[38;5;28;43mself\u001b[39;49m\u001b[38;5;241;43m.\u001b[39;49m\u001b[43m_encode_for_cloud_api\u001b[49m\u001b[43m(\u001b[49m\u001b[43mobj\u001b[49m\u001b[43m)\u001b[49m\n\u001b[1;32m     81\u001b[0m value \u001b[38;5;241m=\u001b[39m \u001b[38;5;28mself\u001b[39m\u001b[38;5;241m.\u001b[39m_encode_value(obj)\n\u001b[1;32m     82\u001b[0m \u001b[38;5;28;01mif\u001b[39;00m \u001b[38;5;28mself\u001b[39m\u001b[38;5;241m.\u001b[39m_is_compound:\n",
      "\u001b[0;31mKeyboardInterrupt\u001b[0m: "
     ]
    }
   ],
   "source": [
    "event.process_all_subregions()"
   ]
  },
  {
   "cell_type": "markdown",
   "id": "e8fe811b",
   "metadata": {},
   "source": [
    "# Get vegetation and JRC layers (without gridding)"
   ]
  },
  {
   "cell_type": "code",
   "execution_count": 30,
   "id": "c8dfcd8c",
   "metadata": {},
   "outputs": [],
   "source": [
    "def get_ndvi(self, subregion, recalculate=False):\n",
    "    \"\"\"NDVI (reprojected and masked from mangroves)\"\"\"\n",
    "\n",
    "    if self.feature_gdf[subregion] is None: self.get_gdf(subregion)\n",
    "\n",
    "    self.logger.info(\"Calculating NDVI...\")\n",
    "\n",
    "    try:\n",
    "        # set up Google Earth Engine for subregion\n",
    "        if self.connected_to_gee != subregion: self.start_gee(subregion)\n",
    "        aoi_ee = self.aoi_ee[subregion]\n",
    "        grid_ee = self.grid_ee[subregion]\n",
    "\n",
    "        # NDVI\n",
    "        ndvi = ee.Image(ee.ImageCollection(\"MODIS/006/MOD13Q1\")\n",
    "                        .filterBounds(aoi_ee)\n",
    "                        .filterDate(ee.Date(self.startdate).advance(-2, 'month'), ee.Date(self.enddate))\n",
    "                        .mean()\n",
    "                        .clip(aoi_ee))\n",
    "\n",
    "        ndvi = ndvi.select('NDVI')\n",
    "        ndvi = ndvi.unmask(0)\n",
    "\n",
    "    except Exception as e:\n",
    "        print(\"Didn't work\")\n",
    "\n",
    "    return(ndvi)\n",
    "\n",
    "\n",
    "\n",
    "def get_permwater(self, band, subregion, recalculate=False):\n",
    "    \"\"\"Get JRC Permanent water from Google Earth Engine.\n",
    "\n",
    "    JRC permanent water dataset: 30 arcseconds (approx. 1km). Needs a better way to impute missing ocean values.\n",
    "    \"\"\"\n",
    "    if self.feature_gdf[subregion] is None: self.get_gdf(subregion)\n",
    "\n",
    "    \n",
    "    self.logger.info(\"Recalculating permanent water...\")\n",
    "\n",
    "    try:\n",
    "        if self.connected_to_gee != subregion:\n",
    "            self.start_gee(subregion)\n",
    "\n",
    "        aoi_ee = self.aoi_ee[subregion]\n",
    "        grid_ee = self.grid_ee[subregion]\n",
    "\n",
    "        jrc_permwater = (ee.Image(\"JRC/GSW1_3/GlobalSurfaceWater\")\n",
    "                         .clip(aoi_ee)\n",
    "                         .select(band)\n",
    "                         .unmask(0))\n",
    "\n",
    "    except Exception as e:\n",
    "        print(\"Didn't work\")\n",
    "    \n",
    "    return jrc_permwater\n",
    "\n",
    "\n",
    "def get_lulc(self, subregion, recalculate=False):\n",
    "    \"\"\"Land use and land cover.\"\"\"\n",
    "\n",
    "    if self.feature_gdf[subregion] is None: self.get_gdf(subregion)\n",
    "\n",
    "\n",
    "    # set up Google Earth Engine for subregion\n",
    "    if self.connected_to_gee != subregion: self.start_gee(subregion)\n",
    "    aoi_ee = self.aoi_ee[subregion]\n",
    "    grid_ee = self.grid_ee[subregion]\n",
    "\n",
    "    self.logger.info(f\"Calculating dominant LULC type per grid cell...\")\n",
    "    try:\n",
    "        lulc = ee.Image(ee.ImageCollection(\"ESA/WorldCover/v100\")\n",
    "                          .filterBounds(aoi_ee)\n",
    "                          .mode()\n",
    "                          .clip(aoi_ee)\n",
    "                          .unmask(0))\n",
    "\n",
    "    except Exception as e:\n",
    "        print(\"Didn't work\")\n",
    "\n",
    "    # save output\n",
    "    return lulc"
   ]
  },
  {
   "cell_type": "code",
   "execution_count": 36,
   "id": "4fb190ac",
   "metadata": {},
   "outputs": [
    {
     "name": "stdout",
     "output_type": "stream",
     "text": [
      "Still running...\n",
      "Still running...\n",
      "Still running...\n",
      "Still running...\n",
      "Still running...\n",
      "Still running...\n",
      "Still running...\n",
      "Still running...\n",
      "Still running...\n",
      "Still running...\n",
      "Still running...\n",
      "Still running...\n",
      "Still running...\n",
      "Still running...\n",
      "Still running...\n",
      "Still running...\n",
      "Still running...\n",
      "Finished!\n",
      "Still running...\n",
      "Still running...\n",
      "Still running...\n",
      "Still running...\n",
      "Still running...\n",
      "Still running...\n",
      "Still running...\n",
      "Still running...\n",
      "Still running...\n",
      "Still running...\n",
      "Still running...\n",
      "Still running...\n",
      "Still running...\n",
      "Still running...\n",
      "Still running...\n",
      "Still running...\n",
      "Still running...\n",
      "Still running...\n",
      "Still running...\n",
      "Finished!\n"
     ]
    }
   ],
   "source": [
    "for subregion in range(nsubregions):\n",
    "#     ndvi = get_ndvi(event, subregion)\n",
    "\n",
    "#     # define path to assets to download file\n",
    "#     assexport_drive = ee.batch.Export.image.toDrive(ndvi,\n",
    "#                                                     description=f'NDVI_{storm}_{region}_{subregion}',\n",
    "#                                                     folder=f\"{storm}_{region}_{subregion}\",\n",
    "#                                                     fileNamePrefix=f\"NDVI_{subregion}\",\n",
    "#                                                     scale=10,\n",
    "#                                                     maxPixels=1e9)\n",
    "\n",
    "#     # export to google earth engine account\n",
    "#     assexport_drive.start()\n",
    "\n",
    "#     while (assexport_drive.status()['state'] == 'RUNNING') or (assexport_drive.status()['state'] == 'READY'):\n",
    "#         print('Still running...')\n",
    "#         time.sleep(10)\n",
    "\n",
    "#     print(\"Finished!\")\n",
    "\n",
    "#     jrc_permwater = get_permwater(event, 'occurence', subregion)\n",
    "\n",
    "#     # define path to assets to download file\n",
    "#     assexport_drive = ee.batch.Export.image.toDrive(jrc_permwater,\n",
    "#                                                     description=f'JRC_{storm}_{region}_{subregion}',\n",
    "#                                                     folder=f\"{storm}_{region}_{subregion}\",\n",
    "#                                                     fileNamePrefix=f\"JRC_PW_{subregion}\",\n",
    "#                                                     scale=10,\n",
    "#                                                     maxPixels=1e9)\n",
    "\n",
    "#     # export to google earth engine account\n",
    "#     assexport_drive.start()\n",
    "\n",
    "#     while (assexport_drive.status()['state'] == 'RUNNING') or (assexport_drive.status()['state'] == 'READY'):\n",
    "#         print('Still running...')\n",
    "#         time.sleep(10)\n",
    "\n",
    "#     print(\"Finished!\")\n",
    "    \n",
    "    jrc_permwater = get_permwater(event, 'seasonality', subregion)\n",
    "\n",
    "    # define path to assets to download file\n",
    "    assexport_drive = ee.batch.Export.image.toDrive(jrc_permwater,\n",
    "                                                    description=f'JRC_{storm}_{region}_{subregion}',\n",
    "                                                    folder=f\"{storm}_{region}_{subregion}\",\n",
    "                                                    fileNamePrefix=f\"JRC_PW_seasonal_{subregion}\",\n",
    "                                                    scale=10,\n",
    "                                                    maxPixels=1e9)\n",
    "\n",
    "    # export to google earth engine account\n",
    "    assexport_drive.start()\n",
    "\n",
    "    while (assexport_drive.status()['state'] == 'RUNNING') or (assexport_drive.status()['state'] == 'READY'):\n",
    "        print('Still running...')\n",
    "        time.sleep(10)\n",
    "\n",
    "    print(\"Finished!\")\n",
    "    \n",
    "    \n",
    "    lulc = get_lulc(event, subregion)\n",
    "\n",
    "    # define path to assets to download file\n",
    "    assexport_drive = ee.batch.Export.image.toDrive(lulc,\n",
    "                                                    description=f'LULC_{storm}_{region}_{subregion}',\n",
    "                                                    folder=f\"{storm}_{region}_{subregion}\",\n",
    "                                                    fileNamePrefix=f\"LULC_{subregion}\",\n",
    "                                                    scale=10,\n",
    "                                                    maxPixels=1e9)\n",
    "\n",
    "    # export to google earth engine account\n",
    "    assexport_drive.start()\n",
    "\n",
    "    while (assexport_drive.status()['state'] == 'RUNNING') or (assexport_drive.status()['state'] == 'READY'):\n",
    "        print('Still running...')\n",
    "        time.sleep(10)\n",
    "\n",
    "    print(\"Finished!\")\n"
   ]
  },
  {
   "cell_type": "code",
   "execution_count": 33,
   "id": "8fc28b67",
   "metadata": {},
   "outputs": [
    {
     "data": {
      "text/plain": [
       "{'state': 'COMPLETED',\n",
       " 'description': 'LULC_batsirai_mananjary_0',\n",
       " 'creation_timestamp_ms': 1665674686433,\n",
       " 'update_timestamp_ms': 1665675016331,\n",
       " 'start_timestamp_ms': 1665674824232,\n",
       " 'task_type': 'EXPORT_IMAGE',\n",
       " 'destination_uris': ['https://drive.google.com/#folders/1N1z1O4LZcd3iagr5Au3wEQBESOQvUsuz'],\n",
       " 'attempt': 1,\n",
       " 'id': 'XDBR7XPJ62ZRTO6N36ZYHFC5',\n",
       " 'name': 'projects/earthengine-legacy/operations/XDBR7XPJ62ZRTO6N36ZYHFC5'}"
      ]
     },
     "execution_count": 33,
     "metadata": {},
     "output_type": "execute_result"
    }
   ],
   "source": [
    "assexport_drive.status()"
   ]
  },
  {
   "cell_type": "markdown",
   "id": "65ffa356",
   "metadata": {},
   "source": [
    "# Auxilliary spatial features"
   ]
  },
  {
   "cell_type": "code",
   "execution_count": 4,
   "id": "3751c90a",
   "metadata": {},
   "outputs": [
    {
     "name": "stderr",
     "output_type": "stream",
     "text": [
      "100%|██████████████████████████████████████| 1833/1833 [00:06<00:00, 281.72it/s]\n"
     ]
    }
   ],
   "source": [
    "# features along shortest line to permanent water\n",
    "from data_utils import features_to_process\n",
    "event.add_intermediates_to_event(subregion, features_to_process, thresh=pwater_thresh)\n",
    "line_gdf.replace(np.nan, 0.0).plot('ndvi_to_pw', cmap='YlGn', legend=True)"
   ]
  },
  {
   "cell_type": "markdown",
   "id": "c5544219",
   "metadata": {},
   "source": [
    "# Deltares Flood Hazard Maps"
   ]
  },
  {
   "cell_type": "code",
   "execution_count": null,
   "id": "aaefe3be",
   "metadata": {},
   "outputs": [],
   "source": [
    "def get_deltares(self, subregion, recalculate=False):\n",
    "    \"\"\"Download Deltares flood data.\n",
    "\n",
    "    Deltares coastal flood hazard data.\n",
    "    \"\"\"\n",
    "    if self.feature_gdf[subregion] is None: self.get_gdf(subregion)\n",
    "\n",
    "    # get data from GEE\n",
    "    if \"deltares\" not in self.feature_gdf[subregion] or recalculate:\n",
    "        feature_gdf = self.feature_gdf[subregion]\n",
    "\n",
    "        try:\n",
    "            if self.connected_to_gee != subregion:\n",
    "                self.start_gee(subregion)\n",
    "\n",
    "            # cycle through all rps\n",
    "            rp = 100\n",
    "            slr = 2018\n",
    "            minx, miny, maxx, maxy = feature_gdf.unary_union.bounds\n",
    "\n",
    "            # load deltares data\n",
    "            client = dask.distributed.Client(processes=False)\n",
    "            catalog = pystac_client.Client.open(\"https://planetarycomputer.microsoft.com/api/stac/v1/\")\n",
    "            search = catalog.search(\n",
    "                collections=[\"deltares-floods\"],\n",
    "                query={\n",
    "                    \"deltares:dem_name\": {\"eq\": \"NASADEM\"},\n",
    "                    \"deltares:sea_level_year\": {\"eq\": slr},\n",
    "                    \"deltares:return_period\": {\"eq\": rp},\n",
    "                },\n",
    "            )\n",
    "            item = next(search.get_items())\n",
    "            url = item.assets[\"index\"].href\n",
    "            ds = xr.open_dataset(f\"reference::{url}\", engine=\"zarr\", consolidated=False, chunks={})\n",
    "            ds_aoi = ds.sel(lat=slice(miny, maxy), lon=slice(minx, maxx), time=ds.time[0])\n",
    "            flooded = ds_aoi.inun.where(ds_aoi.inun > 0, 0)\n",
    "            flooded = flooded.where(flooded==0, 1)\n",
    "            flooded.rio.set_crs('epsg:4326');\n",
    "\n",
    "            # convert to src and overlay to feature stats grid\n",
    "            flooded.rio.to_raster('src_temp.tiff')\n",
    "            src = rasterio.open('src_temp.tiff')\n",
    "            remove('src_temp.tiff')\n",
    "\n",
    "            feature_gen = rasterio.features.dataset_features(src, geographic=True, as_mask=True)\n",
    "            feature_list = [feature for feature in feature_gen]\n",
    "            geom = [shape(i['geometry']) for i in feature_list]\n",
    "            values = [i['properties']['val'] for i in feature_list]\n",
    "            flood_gdf = gpd.GeoDataFrame({'geometry':geom}).set_crs(4326)\n",
    "\n",
    "            feature_gdf = data_utils.get_grid_intersects(flood_gdf, feature_gdf, floodcol='deltares')\n",
    "\n",
    "        except Exception as e:\n",
    "            self.logger.error(f\"Error for Deltares data for {self.storm}, {self.region}, {subregion}:\"\\\n",
    "                                f\"\\n{e}\\n\\nCreating empty fields.\")\n",
    "            feature_gdf[\"deltares\"] = [\"\"] * len(feature_gdf)\n",
    "\n",
    "        self.feature_gdf[subregion] = feature_gdf\n",
    "        #self.save_gdf(subregion)"
   ]
  },
  {
   "cell_type": "code",
   "execution_count": 10,
   "id": "3baec35b",
   "metadata": {},
   "outputs": [],
   "source": [
    "get_deltares(event, subregion)\n",
    "event_gdf = event.feature_gdf[subregion]"
   ]
  },
  {
   "cell_type": "code",
   "execution_count": 11,
   "id": "cf453fde",
   "metadata": {},
   "outputs": [
    {
     "data": {
      "image/png": "[encoded data removed]",
      "text/plain": [
       "<Figure size 1152x288 with 4 Axes>"
      ]
     },
     "metadata": {
      "needs_background": "light"
     },
     "output_type": "display_data"
    }
   ],
   "source": [
    "fig, ax = plt.subplots(1, 3, figsize=(16, 4))\n",
    "event_gdf.plot('floodfrac', ax=ax[0], legend=True, cmap='YlGnBu')\n",
    "event_gdf.plot('deltares', ax=ax[1], legend=True, cmap='YlGnBu')\n",
    "event_gdf.plot('aqueduct', ax=ax[2], legend=True, cmap='YlGnBu')\n",
    "\n",
    "ax[0].set_title('Flood Fraction')\n",
    "ax[1].set_title('Deltares')\n",
    "ax[2].set_title('Aqueduct');"
   ]
  },
  {
   "cell_type": "code",
   "execution_count": null,
   "id": "b4801301",
   "metadata": {},
   "outputs": [],
   "source": []
  },
  {
   "cell_type": "code",
   "execution_count": null,
   "id": "92f3200e",
   "metadata": {},
   "outputs": [],
   "source": []
  }
 ],
 "metadata": {
  "kernelspec": {
   "display_name": "hybridmodels",
   "language": "python",
   "name": "hybridmodels"
  },
  "language_info": {
   "codemirror_mode": {
    "name": "ipython",
    "version": 3
   },
   "file_extension": ".py",
   "mimetype": "text/x-python",
   "name": "python",
   "nbconvert_exporter": "python",
   "pygments_lexer": "ipython3",
   "version": "3.10.8"
  }
 },
 "nbformat": 4,
 "nbformat_minor": 5
}
