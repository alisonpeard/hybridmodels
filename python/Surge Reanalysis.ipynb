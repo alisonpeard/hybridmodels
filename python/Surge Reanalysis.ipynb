{
 "cells": [
  {
   "cell_type": "code",
   "execution_count": 1,
   "id": "50aa636a",
   "metadata": {},
   "outputs": [],
   "source": [
    "from os.path import join\n",
    "import netCDF4 as nc"
   ]
  },
  {
   "cell_type": "code",
   "execution_count": 2,
   "id": "1be0e446",
   "metadata": {},
   "outputs": [
    {
     "name": "stdout",
     "output_type": "stream",
     "text": [
      "/Users/alison/Documents/DPhil/hybridmodels/python\r\n"
     ]
    }
   ],
   "source": [
    "!pwd"
   ]
  },
  {
   "cell_type": "code",
   "execution_count": 8,
   "id": "7646615f",
   "metadata": {},
   "outputs": [
    {
     "name": "stdout",
     "output_type": "stream",
     "text": [
      "<class 'netCDF4._netCDF4.Dataset'>\n",
      "root group (NETCDF4 data model, file format HDF5):\n",
      "    Conventions: CF-1.6\n",
      "    featureType: timeSeries\n",
      "    id: GTSMv3_surge\n",
      "    naming_authority: https://deltares.nl/en\n",
      "    Metadata_Conventions: Unidata Dataset Discovery v1.0\n",
      "    title: Daily timeseries of surge levels\n",
      "    summary: This dataset has been produced with the Global Tide and Surge Model (GTSM) version 3.0. GTSM was forced with wind speed and pressure fields from ERA5 climate reanalysis.\n",
      "    date_created: 2021-04-19 20:07:06.835312 UTC\n",
      "    project: GTSMip and C3S_435_Lot8 Deltares\n",
      "    acknowledgment: The development of this dataset was financed with Deltares Strategic Research Program. Additional funding was received by Contract C3S_435_Lot8 Deltares\n",
      "    license: Copernicus Products License\n",
      "    institution: Deltares\n",
      "    sea_name: global\n",
      "    source: GTSMv3 forced with era5 dataset\n",
      "    keywords: sea-level rise; climate change; water level; climate; tides; hydrography; global tide and surge model;\n",
      "    keywords_vocabulary: http://www.eionet.europa.eu/gemet\n",
      "    standard_name_vocabulary: \n",
      "    geospatial_lat_min: -84.712\n",
      "    geospatial_lat_max: 83.65\n",
      "    geospatial_lon_min: -179.985\n",
      "    geospatial_lon_max: 179.956\n",
      "    geospatial_lat_units: degrees_north\n",
      "    geospatial_lat_resolution: point\n",
      "    geospatial_lon_units: degrees_east\n",
      "    geospatial_lon_resolution: point\n",
      "    geospatial_vertical_min: -1.397\n",
      "    geospatial_vertical_max: 1.837\n",
      "    geospatial_vertical_units: m\n",
      "    geospatial_vertical_positive: up\n",
      "    time_coverage_start: 2016-04-01 00:00:00\n",
      "    time_coverage_end: 2016-04-30 00:00:00\n",
      "    experiment: reanalysis\n",
      "    date_modified: 2021-05-07 03:22:49.598844 UTC\n",
      "    contact: Please contact Copernicus User Support on the Copernicus Climate Change Service website (https://climate.copernicus.eu/).\n",
      "    NCO: netCDF Operators version 5.1.3 (Homepage = http://nco.sf.net, Code = http://github.com/nco/nco)\n",
      "    history: Fri Dec 30 18:13:32 2022: ncpdq -a stations,time,surge,lat,lon /Users/alison/Documents/DPhil/hybridmodels/data/surge_reanalysis/reanalysis_surge_dailymax_2016_04_v1_QGISREADY.nc /Users/alison/Documents/DPhil/hybridmodels/data/surge_reanalysis/reanalysis_surge_dailymax_2016_04_v1_QGISREADY.nc\n",
      "Fri Dec 30 18:11:44 2022: ncrename -v station_x_coordinate,lon -v station_y_coordinate,lat /Users/alison/Documents/DPhil/hybridmodels/data/surge_reanalysis/reanalysis_surge_dailymax_2016_04_v1_QGISREADY.nc /Users/alison/Documents/DPhil/hybridmodels/data/surge_reanalysis/reanalysis_surge_dailymax_2016_04_v1_QGISREADY.nc\n",
      "Fri Dec 30 18:11:33 2022: ncpdq -a stations,time,surge,station_y_coordinate,station_x_coordinate /Users/alison/Documents/DPhil/hybridmodels/data/surge_reanalysis/reanalysis_surge_dailymax_2016_04_v1.nc /Users/alison/Documents/DPhil/hybridmodels/data/surge_reanalysis/reanalysis_surge_dailymax_2016_04_v1_QGISREADY.nc\n",
      "This is version 1 of the dataset\n",
      "    dimensions(sizes): time(30), stations(43119)\n",
      "    variables(dimensions): int64 time(time), int16 surge(stations, time), int32 lon(stations), int32 lat(stations), uint16 stations(stations)\n",
      "    groups: \n"
     ]
    }
   ],
   "source": [
    "f = nc.Dataset(join('..', 'data', 'surge_reanalysis', 'reanalysis_surge_dailymax_2016_04_v1_QGISREADY.nc'))\n",
    "print(f)"
   ]
  },
  {
   "cell_type": "code",
   "execution_count": 9,
   "id": "f2988c40",
   "metadata": {},
   "outputs": [
    {
     "name": "stdout",
     "output_type": "stream",
     "text": [
      "dict_keys(['time', 'surge', 'lon', 'lat', 'stations'])\n"
     ]
    }
   ],
   "source": [
    "print(f.variables.keys())"
   ]
  },
  {
   "cell_type": "code",
   "execution_count": null,
   "id": "ea86bfa3",
   "metadata": {},
   "outputs": [],
   "source": [
    "stations,time,surge,station_y_coordinate,station_x_coordinate"
   ]
  },
  {
   "cell_type": "code",
   "execution_count": 17,
   "id": "c0e2b603",
   "metadata": {},
   "outputs": [
    {
     "name": "stdout",
     "output_type": "stream",
     "text": [
      "<class 'netCDF4._netCDF4.Variable'>\n",
      "int16 surge(time, stations)\n",
      "    _FillValue: -999\n",
      "    coordinates: station_x_coordinate station_y_coordinate\n",
      "    scale_factor: 0.001\n",
      "unlimited dimensions: \n",
      "current shape = (31, 43119)\n",
      "filling on\n"
     ]
    }
   ],
   "source": [
    "time = f.variables['time']\n",
    "surge = f.variables['surge']\n",
    "x, y, = f.variables['station_x_coordinate'], f.variables['station_y_coordinate']\n",
    "print(surge)"
   ]
  },
  {
   "cell_type": "code",
   "execution_count": 16,
   "id": "29de5f29",
   "metadata": {},
   "outputs": [
    {
     "name": "stdout",
     "output_type": "stream",
     "text": [
      "('time', <class 'netCDF4._netCDF4.Dimension'>: name = 'time', size = 31)\n",
      "('stations', <class 'netCDF4._netCDF4.Dimension'>: name = 'stations', size = 43119)\n"
     ]
    }
   ],
   "source": [
    "for d in f.dimensions.items():\n",
    "    print(d)"
   ]
  },
  {
   "cell_type": "code",
   "execution_count": null,
   "id": "58946e0c",
   "metadata": {},
   "outputs": [],
   "source": []
  }
 ],
 "metadata": {
  "kernelspec": {
   "display_name": "hybridmodels",
   "language": "python",
   "name": "hybridmodels"
  },
  "language_info": {
   "codemirror_mode": {
    "name": "ipython",
    "version": 3
   },
   "file_extension": ".py",
   "mimetype": "text/x-python",
   "name": "python",
   "nbconvert_exporter": "python",
   "pygments_lexer": "ipython3",
   "version": "3.10.8"
  }
 },
 "nbformat": 4,
 "nbformat_minor": 5
}
