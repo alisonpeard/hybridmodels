{
 "cells": [
  {
   "cell_type": "markdown",
   "id": "3e948a8c",
   "metadata": {},
   "source": [
    "# Convolutional neural networks\n",
    "This notebook uses the hybridmodels-modelbuild virtual environment."
   ]
  },
  {
   "cell_type": "code",
   "execution_count": 137,
   "id": "705af537",
   "metadata": {},
   "outputs": [],
   "source": [
    "from os.path import join\n",
    "import glob\n",
    "\n",
    "import numpy as np\n",
    "import pandas as pd\n",
    "import geopandas as gpd\n",
    "\n",
    "import matplotlib.pyplot as plt"
   ]
  },
  {
   "cell_type": "code",
   "execution_count": 222,
   "id": "14771da2",
   "metadata": {},
   "outputs": [],
   "source": [
    "wd = join(\"..\", \"data\", \"indata_new\")\n",
    "features = ['storm', 'region', 'subregion', 'floodfrac', 'gebco', 'fabdem',\n",
    "            'jrc_permwa', 'elevation', 'soilcarbon', 'mangrove', 'ndvi', 'wind_avg',\n",
    "           \"geometry\"]\n",
    "\n",
    "# load all data as one geodataframe\n",
    "l = [gpd.read_file(filename) for filename in glob.glob(join(wd, \"feature_stats\", \"*.shp\"))]\n",
    "gdf = pd.concat(l, axis=0)\n",
    "gdf = gdf[features]\n",
    "\n",
    "gdf[\"event\"] = gdf[\"storm\"] + \"_\" + gdf[\"region\"] + \"_\" + gdf[\"subregion\"].astype(str)\n",
    "gdf = gdf.drop([\"storm\", \"region\", \"subregion\"], axis=1).reset_index(drop=True)\n",
    "features.remove(\"storm\")\n",
    "features.remove(\"region\")\n",
    "features.remove(\"subregion\")"
   ]
  },
  {
   "cell_type": "code",
   "execution_count": 225,
   "id": "094ef5c4",
   "metadata": {},
   "outputs": [
    {
     "ename": "TypeError",
     "evalue": "bad operand type for unary -: 'list'",
     "output_type": "error",
     "traceback": [
      "\u001b[0;31m---------------------------------------------------------------------------\u001b[0m",
      "\u001b[0;31mTypeError\u001b[0m                                 Traceback (most recent call last)",
      "Input \u001b[0;32mIn [225]\u001b[0m, in \u001b[0;36m<cell line: 1>\u001b[0;34m()\u001b[0m\n\u001b[0;32m----> 1\u001b[0m features[\u001b[38;5;241;43m-\u001b[39;49m\u001b[43m[\u001b[49m\u001b[38;5;124;43m\"\u001b[39;49m\u001b[38;5;124;43mgeometry\u001b[39;49m\u001b[38;5;124;43m\"\u001b[39;49m\u001b[43m]\u001b[49m]\n",
      "\u001b[0;31mTypeError\u001b[0m: bad operand type for unary -: 'list'"
     ]
    }
   ],
   "source": []
  },
  {
   "cell_type": "markdown",
   "id": "47c9b80d",
   "metadata": {},
   "source": [
    "### Process data into suitable shapes"
   ]
  },
  {
   "cell_type": "code",
   "execution_count": 252,
   "id": "844acc06",
   "metadata": {},
   "outputs": [
    {
     "name": "stdout",
     "output_type": "stream",
     "text": [
      "nrows:49, ncols: 82\n",
      "nrows:55, ncols: 78\n",
      "nrows:16, ncols: 23\n",
      "nrows:7, ncols: 13\n",
      "nrows:6, ncols: 10\n",
      "nrows:8, ncols: 17\n",
      "nrows:13, ncols: 19\n"
     ]
    }
   ],
   "source": [
    "# get dimensions to create node feature matrices for grid\n",
    "def get_rows_and_cols(df, gridsize=1000):\n",
    "    from shapely.geometry import box\n",
    "    df_pm = df.to_crs(\"EPSG:3857\")\n",
    "    bbounds = df_pm.total_bounds\n",
    "    width = bbounds[2] - bbounds[0]\n",
    "    height = bbounds[3] - bbounds[1]\n",
    "    nrows = int(np.round(height / gridsize, 0))\n",
    "    ncols = int(np.round(width  / gridsize, 0))\n",
    "    return nrows, ncols\n",
    "\n",
    "def reshape_df(df, nrows, ncols, features):\n",
    "    df = df.drop(\"geometry\", axis=1)\n",
    "    n = features[:]\n",
    "    n.remove('geometry')\n",
    "    feature_mat = np.empty(shape=(nrows, ncols, len(n)), dtype=\"float\")\n",
    "    for i, feature in enumerate(n):\n",
    "        feature_arr = df[feature].values.reshape(nrows, ncols, order=\"F\")\n",
    "        feature_mat[:, :, i] = feature_arr\n",
    "    return feature_mat\n",
    "\n",
    "# code to reshape features into tensors\n",
    "mats = {}\n",
    "areas = {}\n",
    "shapes = {}\n",
    "for event in [*gdf[\"event\"].unique()]:\n",
    "\n",
    "    df = gdf[gdf[\"event\"] == event]\n",
    "    nrows, ncols = get_rows_and_cols(df)\n",
    "    print(f\"nrows:{nrows}, ncols: {ncols}\")\n",
    "    shapes[event] = (nrows, ncols)\n",
    "    areas[event] = nrows * ncols\n",
    "    mats[event] = reshape_df(df, nrows, ncols, features)"
   ]
  },
  {
   "cell_type": "code",
   "execution_count": 261,
   "id": "6f66223b",
   "metadata": {},
   "outputs": [
    {
     "data": {
      "text/plain": [
       "{'gombe_mossuril_0': (49, 82),\n",
       " 'gombe_mossuril_1': (55, 78),\n",
       " 'emnati_vohipeno_0': (16, 23),\n",
       " 'emnati_vohipeno_1': (7, 13),\n",
       " 'emnati_farafangana_0': (6, 10),\n",
       " 'emnati_namorona_0': (8, 17),\n",
       " 'emnati_manakara_0': (13, 19)}"
      ]
     },
     "execution_count": 261,
     "metadata": {},
     "output_type": "execute_result"
    }
   ],
   "source": [
    "shapes"
   ]
  },
  {
   "cell_type": "code",
   "execution_count": 253,
   "id": "de29b08c",
   "metadata": {},
   "outputs": [],
   "source": [
    "biggest = max(areas, key=areas.get)\n",
    "shape = shapes[biggest]\n",
    "padding = np.zeros(shape)"
   ]
  },
  {
   "cell_type": "code",
   "execution_count": 264,
   "id": "4e7a1002",
   "metadata": {},
   "outputs": [
    {
     "data": {
      "text/plain": [
       "<matplotlib.image.AxesImage at 0x13c041bd0>"
      ]
     },
     "execution_count": 264,
     "metadata": {},
     "output_type": "execute_result"
    },
    {
     "data": {
      "image/png": "[encoded data removed]",
      "text/plain": [
       "<Figure size 432x288 with 1 Axes>"
      ]
     },
     "metadata": {
      "needs_background": "light"
     },
     "output_type": "display_data"
    }
   ],
   "source": [
    "mat = mats['emnati_vohipeno_0'][:, :, 3]\n",
    "\n",
    "plt.imshow(mat)"
   ]
  },
  {
   "cell_type": "code",
   "execution_count": 256,
   "id": "702ce41b",
   "metadata": {},
   "outputs": [
    {
     "data": {
      "text/plain": [
       "<matplotlib.image.AxesImage at 0x13bcd6950>"
      ]
     },
     "execution_count": 256,
     "metadata": {},
     "output_type": "execute_result"
    },
    {
     "data": {
      "image/png": "[encoded data removed]",
      "text/plain": [
       "<Figure size 432x288 with 1 Axes>"
      ]
     },
     "metadata": {
      "needs_background": "light"
     },
     "output_type": "display_data"
    }
   ],
   "source": [
    "plt.imshow(mats['emnati_vohipeno_1'][:, :, 1])"
   ]
  },
  {
   "cell_type": "code",
   "execution_count": 248,
   "id": "d065d30f",
   "metadata": {},
   "outputs": [
    {
     "data": {
      "text/plain": [
       "array([[0., 0., 0., ..., 0., 0., 0.],\n",
       "       [0., 0., 0., ..., 0., 0., 0.],\n",
       "       [0., 0., 0., ..., 0., 0., 0.],\n",
       "       ...,\n",
       "       [0., 0., 0., ..., 0., 0., 0.],\n",
       "       [0., 0., 0., ..., 0., 0., 0.],\n",
       "       [0., 0., 0., ..., 0., 0., 0.]])"
      ]
     },
     "execution_count": 248,
     "metadata": {},
     "output_type": "execute_result"
    }
   ],
   "source": [
    "padding"
   ]
  },
  {
   "cell_type": "code",
   "execution_count": 213,
   "id": "c38a7189",
   "metadata": {},
   "outputs": [
    {
     "data": {
      "text/plain": [
       "<matplotlib.image.AxesImage at 0x13b8762f0>"
      ]
     },
     "execution_count": 213,
     "metadata": {},
     "output_type": "execute_result"
    },
    {
     "data": {
      "image/png": "[encoded data removed]",
      "text/plain": [
       "<Figure size 432x288 with 1 Axes>"
      ]
     },
     "metadata": {
      "needs_background": "light"
     },
     "output_type": "display_data"
    }
   ],
   "source": [
    "plt.imshow(new[:, :, 4])"
   ]
  },
  {
   "cell_type": "code",
   "execution_count": 98,
   "id": "940a963d",
   "metadata": {},
   "outputs": [
    {
     "data": {
      "text/html": [
       "<div>\n",
       "<style scoped>\n",
       "    .dataframe tbody tr th:only-of-type {\n",
       "        vertical-align: middle;\n",
       "    }\n",
       "\n",
       "    .dataframe tbody tr th {\n",
       "        vertical-align: top;\n",
       "    }\n",
       "\n",
       "    .dataframe thead th {\n",
       "        text-align: right;\n",
       "    }\n",
       "</style>\n",
       "<table border=\"1\" class=\"dataframe\">\n",
       "  <thead>\n",
       "    <tr style=\"text-align: right;\">\n",
       "      <th></th>\n",
       "      <th>floodfrac</th>\n",
       "      <th>gebco</th>\n",
       "      <th>fabdem</th>\n",
       "      <th>jrc_permwa</th>\n",
       "      <th>elevation</th>\n",
       "      <th>soilcarbon</th>\n",
       "      <th>mangrove</th>\n",
       "      <th>ndvi</th>\n",
       "      <th>wind_avg</th>\n",
       "      <th>geometry</th>\n",
       "      <th>event</th>\n",
       "    </tr>\n",
       "  </thead>\n",
       "  <tbody>\n",
       "    <tr>\n",
       "      <th>0</th>\n",
       "      <td>0.000000</td>\n",
       "      <td>124.292151</td>\n",
       "      <td>125.917610</td>\n",
       "      <td>0.000000</td>\n",
       "      <td>125.917610</td>\n",
       "      <td>3.480803</td>\n",
       "      <td>0.0</td>\n",
       "      <td>7033.752470</td>\n",
       "      <td>5.903529</td>\n",
       "      <td>POLYGON ((40.42419 -14.83067, 40.43318 -14.830...</td>\n",
       "      <td>gombe_mossuril_0</td>\n",
       "    </tr>\n",
       "    <tr>\n",
       "      <th>1</th>\n",
       "      <td>0.018276</td>\n",
       "      <td>111.927987</td>\n",
       "      <td>110.513420</td>\n",
       "      <td>0.000000</td>\n",
       "      <td>110.513420</td>\n",
       "      <td>3.249564</td>\n",
       "      <td>0.0</td>\n",
       "      <td>6809.877567</td>\n",
       "      <td>5.933966</td>\n",
       "      <td>POLYGON ((40.42419 -14.83935, 40.43318 -14.839...</td>\n",
       "      <td>gombe_mossuril_0</td>\n",
       "    </tr>\n",
       "    <tr>\n",
       "      <th>2</th>\n",
       "      <td>0.000000</td>\n",
       "      <td>126.247839</td>\n",
       "      <td>123.275932</td>\n",
       "      <td>0.000000</td>\n",
       "      <td>123.275932</td>\n",
       "      <td>3.759983</td>\n",
       "      <td>0.0</td>\n",
       "      <td>6769.984298</td>\n",
       "      <td>5.964638</td>\n",
       "      <td>POLYGON ((40.42419 -14.84803, 40.43318 -14.848...</td>\n",
       "      <td>gombe_mossuril_0</td>\n",
       "    </tr>\n",
       "    <tr>\n",
       "      <th>3</th>\n",
       "      <td>0.000000</td>\n",
       "      <td>130.902395</td>\n",
       "      <td>125.910583</td>\n",
       "      <td>0.000000</td>\n",
       "      <td>125.910583</td>\n",
       "      <td>2.963327</td>\n",
       "      <td>0.0</td>\n",
       "      <td>6895.865272</td>\n",
       "      <td>5.995539</td>\n",
       "      <td>POLYGON ((40.42419 -14.85672, 40.43318 -14.856...</td>\n",
       "      <td>gombe_mossuril_0</td>\n",
       "    </tr>\n",
       "    <tr>\n",
       "      <th>4</th>\n",
       "      <td>0.000000</td>\n",
       "      <td>123.014504</td>\n",
       "      <td>119.161812</td>\n",
       "      <td>0.000000</td>\n",
       "      <td>119.161812</td>\n",
       "      <td>3.642436</td>\n",
       "      <td>0.0</td>\n",
       "      <td>6665.018666</td>\n",
       "      <td>6.026656</td>\n",
       "      <td>POLYGON ((40.42419 -14.86540, 40.43318 -14.865...</td>\n",
       "      <td>gombe_mossuril_0</td>\n",
       "    </tr>\n",
       "    <tr>\n",
       "      <th>...</th>\n",
       "      <td>...</td>\n",
       "      <td>...</td>\n",
       "      <td>...</td>\n",
       "      <td>...</td>\n",
       "      <td>...</td>\n",
       "      <td>...</td>\n",
       "      <td>...</td>\n",
       "      <td>...</td>\n",
       "      <td>...</td>\n",
       "      <td>...</td>\n",
       "      <td>...</td>\n",
       "    </tr>\n",
       "    <tr>\n",
       "      <th>242</th>\n",
       "      <td>0.000000</td>\n",
       "      <td>-32.550631</td>\n",
       "      <td>0.000000</td>\n",
       "      <td>97.361114</td>\n",
       "      <td>0.000000</td>\n",
       "      <td>0.000000</td>\n",
       "      <td>0.0</td>\n",
       "      <td>0.000000</td>\n",
       "      <td>4.194179</td>\n",
       "      <td>POLYGON ((48.10672 -22.18465, 48.11570 -22.184...</td>\n",
       "      <td>emnati_manakara_0</td>\n",
       "    </tr>\n",
       "    <tr>\n",
       "      <th>243</th>\n",
       "      <td>0.000000</td>\n",
       "      <td>-34.212151</td>\n",
       "      <td>0.000000</td>\n",
       "      <td>97.708305</td>\n",
       "      <td>0.000000</td>\n",
       "      <td>0.000000</td>\n",
       "      <td>0.0</td>\n",
       "      <td>0.000000</td>\n",
       "      <td>4.192184</td>\n",
       "      <td>POLYGON ((48.10672 -22.19297, 48.11570 -22.192...</td>\n",
       "      <td>emnati_manakara_0</td>\n",
       "    </tr>\n",
       "    <tr>\n",
       "      <th>244</th>\n",
       "      <td>0.000000</td>\n",
       "      <td>-36.202415</td>\n",
       "      <td>0.000000</td>\n",
       "      <td>98.068685</td>\n",
       "      <td>0.000000</td>\n",
       "      <td>0.000000</td>\n",
       "      <td>0.0</td>\n",
       "      <td>0.000000</td>\n",
       "      <td>4.190195</td>\n",
       "      <td>POLYGON ((48.10672 -22.20129, 48.11570 -22.201...</td>\n",
       "      <td>emnati_manakara_0</td>\n",
       "    </tr>\n",
       "    <tr>\n",
       "      <th>245</th>\n",
       "      <td>0.000000</td>\n",
       "      <td>-38.204062</td>\n",
       "      <td>0.000000</td>\n",
       "      <td>97.634542</td>\n",
       "      <td>0.000000</td>\n",
       "      <td>0.000000</td>\n",
       "      <td>0.0</td>\n",
       "      <td>0.000000</td>\n",
       "      <td>4.188211</td>\n",
       "      <td>POLYGON ((48.10672 -22.20960, 48.11570 -22.209...</td>\n",
       "      <td>emnati_manakara_0</td>\n",
       "    </tr>\n",
       "    <tr>\n",
       "      <th>246</th>\n",
       "      <td>0.000000</td>\n",
       "      <td>-39.399465</td>\n",
       "      <td>0.000000</td>\n",
       "      <td>98.551724</td>\n",
       "      <td>0.000000</td>\n",
       "      <td>0.000000</td>\n",
       "      <td>0.0</td>\n",
       "      <td>0.000000</td>\n",
       "      <td>4.186233</td>\n",
       "      <td>POLYGON ((48.10672 -22.21792, 48.11570 -22.217...</td>\n",
       "      <td>emnati_manakara_0</td>\n",
       "    </tr>\n",
       "  </tbody>\n",
       "</table>\n",
       "<p>9210 rows × 11 columns</p>\n",
       "</div>"
      ],
      "text/plain": [
       "     floodfrac       gebco      fabdem  jrc_permwa   elevation  soilcarbon  \\\n",
       "0     0.000000  124.292151  125.917610    0.000000  125.917610    3.480803   \n",
       "1     0.018276  111.927987  110.513420    0.000000  110.513420    3.249564   \n",
       "2     0.000000  126.247839  123.275932    0.000000  123.275932    3.759983   \n",
       "3     0.000000  130.902395  125.910583    0.000000  125.910583    2.963327   \n",
       "4     0.000000  123.014504  119.161812    0.000000  119.161812    3.642436   \n",
       "..         ...         ...         ...         ...         ...         ...   \n",
       "242   0.000000  -32.550631    0.000000   97.361114    0.000000    0.000000   \n",
       "243   0.000000  -34.212151    0.000000   97.708305    0.000000    0.000000   \n",
       "244   0.000000  -36.202415    0.000000   98.068685    0.000000    0.000000   \n",
       "245   0.000000  -38.204062    0.000000   97.634542    0.000000    0.000000   \n",
       "246   0.000000  -39.399465    0.000000   98.551724    0.000000    0.000000   \n",
       "\n",
       "     mangrove         ndvi  wind_avg  \\\n",
       "0         0.0  7033.752470  5.903529   \n",
       "1         0.0  6809.877567  5.933966   \n",
       "2         0.0  6769.984298  5.964638   \n",
       "3         0.0  6895.865272  5.995539   \n",
       "4         0.0  6665.018666  6.026656   \n",
       "..        ...          ...       ...   \n",
       "242       0.0     0.000000  4.194179   \n",
       "243       0.0     0.000000  4.192184   \n",
       "244       0.0     0.000000  4.190195   \n",
       "245       0.0     0.000000  4.188211   \n",
       "246       0.0     0.000000  4.186233   \n",
       "\n",
       "                                              geometry              event  \n",
       "0    POLYGON ((40.42419 -14.83067, 40.43318 -14.830...   gombe_mossuril_0  \n",
       "1    POLYGON ((40.42419 -14.83935, 40.43318 -14.839...   gombe_mossuril_0  \n",
       "2    POLYGON ((40.42419 -14.84803, 40.43318 -14.848...   gombe_mossuril_0  \n",
       "3    POLYGON ((40.42419 -14.85672, 40.43318 -14.856...   gombe_mossuril_0  \n",
       "4    POLYGON ((40.42419 -14.86540, 40.43318 -14.865...   gombe_mossuril_0  \n",
       "..                                                 ...                ...  \n",
       "242  POLYGON ((48.10672 -22.18465, 48.11570 -22.184...  emnati_manakara_0  \n",
       "243  POLYGON ((48.10672 -22.19297, 48.11570 -22.192...  emnati_manakara_0  \n",
       "244  POLYGON ((48.10672 -22.20129, 48.11570 -22.201...  emnati_manakara_0  \n",
       "245  POLYGON ((48.10672 -22.20960, 48.11570 -22.209...  emnati_manakara_0  \n",
       "246  POLYGON ((48.10672 -22.21792, 48.11570 -22.217...  emnati_manakara_0  \n",
       "\n",
       "[9210 rows x 11 columns]"
      ]
     },
     "execution_count": 98,
     "metadata": {},
     "output_type": "execute_result"
    }
   ],
   "source": [
    "# split gdf based on \"event\"..."
   ]
  },
  {
   "cell_type": "markdown",
   "id": "63350ba9",
   "metadata": {},
   "source": [
    "## Simple FCN\n",
    "### [(Long 2020)](https://github.com/giovanniguidi/FCN-keras/tree/master/models) and [Stanford Lecture](https://www.youtube.com/watch?v=nDPWywWRIRo)\n",
    "#### Simplest model\n",
    "* set all features with mask==1 to 0 and use zero padding\n",
    "* mask all input images to the same size with zero padding\n",
    "\n",
    "#### Future extensions\n",
    "1. [ ] partialconv padding\n",
    "2. [x] fully convolutional for variable image sizes\n",
    "3. [ ] certain image dimensions needed for encoder-decoder?\n",
    "4. [ ] dilation to layers"
   ]
  },
  {
   "cell_type": "code",
   "execution_count": 294,
   "id": "5015a92e",
   "metadata": {},
   "outputs": [],
   "source": [
    "from keras import Sequential\n",
    "from keras.layers import Input, Conv2D, Dropout, MaxPooling2D, Conv2DTranspose\n",
    "from keras.layers import GlobalAveragePooling2D\n",
    "from tensorflow.keras.optimizers import SGD"
   ]
  },
  {
   "cell_type": "code",
   "execution_count": 45,
   "id": "bc7b36fc",
   "metadata": {},
   "outputs": [],
   "source": [
    "# normalise data"
   ]
  },
  {
   "cell_type": "code",
   "execution_count": null,
   "id": "75d12563",
   "metadata": {},
   "outputs": [],
   "source": [
    "# https://github.com/keras-team/keras/issues/1920\n",
    "# https://groups.google.com/g/keras-users/c/cPogZ6yhovQ/m/gBEZqnbxEwAJ"
   ]
  },
  {
   "cell_type": "code",
   "execution_count": 296,
   "id": "4cc33943",
   "metadata": {},
   "outputs": [
    {
     "data": {
      "text/plain": [
       "(None, None, None, 1)"
      ]
     },
     "execution_count": 296,
     "metadata": {},
     "output_type": "execute_result"
    }
   ],
   "source": [
    "# build model with encoder-decoder architecture\n",
    "conv2D = Sequential(name=\"FloodFraction_Conv2D\")\n",
    "conv2D.add(Input(shape=(None, None, 10)))\n",
    "\n",
    "# convolution\n",
    "# high res block\n",
    "conv2D.add(Conv2D(filters=64, padding=\"same\", kernel_size=(3, 3), activation='relu', name=\"C1\"))\n",
    "conv2D.add(MaxPooling2D(pool_size=(3, 3), padding='valid', name='Encode1'))\n",
    "           \n",
    "# med res blocks\n",
    "conv2D.add(Conv2D(filters=128, padding=\"same\", kernel_size=(3, 3), activation='relu', name=\"D1\"))\n",
    "conv2D.add(Conv2D(filters=128, padding=\"same\", kernel_size=(3, 3), activation='relu', name=\"D2\"))\n",
    "conv2D.add(Conv2D(filters=128, padding=\"same\", kernel_size=(3, 3), activation='relu', name=\"D3\"))\n",
    "conv2D.add(MaxPooling2D(pool_size=(3, 3), padding='valid', name='Encode2'))\n",
    "\n",
    "# low res blocks\n",
    "conv2D.add(Conv2D(filters=256, padding=\"same\", kernel_size=(3, 3), activation='relu', name=\"E1\"))\n",
    "conv2D.add(Conv2D(filters=256, padding=\"same\", kernel_size=(3, 3), activation='relu', name=\"E2\"))\n",
    "\n",
    "# transpose convolution back to medium res \n",
    "conv2D.add(Conv2DTranspose(128, kernel_size=(3, 3), strides=(3, 3), padding=\"valid\", name=\"Decode1\"))\n",
    "conv2D.add(Conv2D(filters=128, padding=\"same\", kernel_size=(3, 3), activation='relu', name=\"F1\"))\n",
    "conv2D.add(Conv2D(filters=128, padding=\"same\", kernel_size=(3, 3), activation='relu', name=\"F2\"))\n",
    "\n",
    "# transpose convolution back to high res\n",
    "conv2D.add(Conv2DTranspose(10, kernel_size=(3, 3), strides=(3, 3), padding=\"valid\", name=\"Decode2\"))\n",
    "conv2D.add(Conv2D(filters=64, padding=\"same\", kernel_size=(3, 3), activation='relu', name=\"G1\"))\n",
    "conv2D.add(Conv2D(filters=1, padding=\"same\", kernel_size=(3, 3), activation='relu', name=\"G2\"))\n",
    "\n",
    "# view output shape\n",
    "conv2D.output_shape  # (batch, dim1, dim2, nchannels)"
   ]
  },
  {
   "cell_type": "code",
   "execution_count": 297,
   "id": "07d571b0",
   "metadata": {},
   "outputs": [
    {
     "name": "stdout",
     "output_type": "stream",
     "text": [
      "Model: \"FloodFraction_Conv2D\"\n",
      "_________________________________________________________________\n",
      " Layer (type)                Output Shape              Param #   \n",
      "=================================================================\n",
      " C1 (Conv2D)                 (None, None, None, 64)    5824      \n",
      "                                                                 \n",
      " Encode1 (MaxPooling2D)      (None, None, None, 64)    0         \n",
      "                                                                 \n",
      " D1 (Conv2D)                 (None, None, None, 128)   73856     \n",
      "                                                                 \n",
      " D2 (Conv2D)                 (None, None, None, 128)   147584    \n",
      "                                                                 \n",
      " D3 (Conv2D)                 (None, None, None, 128)   147584    \n",
      "                                                                 \n",
      " Encode2 (MaxPooling2D)      (None, None, None, 128)   0         \n",
      "                                                                 \n",
      " E1 (Conv2D)                 (None, None, None, 256)   295168    \n",
      "                                                                 \n",
      " E2 (Conv2D)                 (None, None, None, 256)   590080    \n",
      "                                                                 \n",
      " Decode1 (Conv2DTranspose)   (None, None, None, 128)   295040    \n",
      "                                                                 \n",
      " F1 (Conv2D)                 (None, None, None, 128)   147584    \n",
      "                                                                 \n",
      " F2 (Conv2D)                 (None, None, None, 128)   147584    \n",
      "                                                                 \n",
      " Decode2 (Conv2DTranspose)   (None, None, None, 10)    11530     \n",
      "                                                                 \n",
      " G1 (Conv2D)                 (None, None, None, 64)    5824      \n",
      "                                                                 \n",
      " G2 (Conv2D)                 (None, None, None, 1)     577       \n",
      "                                                                 \n",
      "=================================================================\n",
      "Total params: 1,868,235\n",
      "Trainable params: 1,868,235\n",
      "Non-trainable params: 0\n",
      "_________________________________________________________________\n"
     ]
    }
   ],
   "source": [
    "optimizer = SGD(learning_rate=0.01)\n",
    "\n",
    "conv2D.compile(loss='mse', optimizer=optimizer, metrics=['mae'])\n",
    "conv2D.summary()"
   ]
  },
  {
   "cell_type": "code",
   "execution_count": null,
   "id": "44fca29e",
   "metadata": {},
   "outputs": [],
   "source": []
  },
  {
   "cell_type": "code",
   "execution_count": null,
   "id": "9b51480e",
   "metadata": {},
   "outputs": [],
   "source": []
  }
 ],
 "metadata": {
  "kernelspec": {
   "display_name": "hybridmodels-modelbuild",
   "language": "python",
   "name": "hybridmodels-modelbuild"
  },
  "language_info": {
   "codemirror_mode": {
    "name": "ipython",
    "version": 3
   },
   "file_extension": ".py",
   "mimetype": "text/x-python",
   "name": "python",
   "nbconvert_exporter": "python",
   "pygments_lexer": "ipython3",
   "version": "3.10.4"
  }
 },
 "nbformat": 4,
 "nbformat_minor": 5
}
