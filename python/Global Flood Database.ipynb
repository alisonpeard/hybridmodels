{
 "cells": [
  {
   "cell_type": "markdown",
   "id": "6d4acceb",
   "metadata": {},
   "source": [
    "Using [This link](https://github.com/cloudtostreet/MODIS_GlobalFloodDatabase).\n",
    "\n",
    "Tellman et al, Satellite imaging reveals increased proportion of population exposed to floods; Nature; https://doi.org/10.1038/s41586-021-03695-w\n",
    "\n",
    "Idai: 4725\n",
    "\n",
    "main_floodmechanism.txt <br>\n",
    "main_gfd.py"
   ]
  },
  {
   "cell_type": "markdown",
   "id": "6db4eb5d",
   "metadata": {},
   "source": [
    "    from flood_detection import modis\n",
    "    from flood_detection.utils import export, misc\n",
    "\n",
    "    import time, os, csv"
   ]
  },
  {
   "cell_type": "code",
   "execution_count": 1,
   "id": "32cb4b55",
   "metadata": {},
   "outputs": [],
   "source": [
    "import ee\n",
    "ee.Initialize()"
   ]
  },
  {
   "cell_type": "code",
   "execution_count": 2,
   "id": "cdfeb99e",
   "metadata": {},
   "outputs": [
    {
     "data": {
      "text/html": [
       "<div>\n",
       "<style scoped>\n",
       "    .dataframe tbody tr th:only-of-type {\n",
       "        vertical-align: middle;\n",
       "    }\n",
       "\n",
       "    .dataframe tbody tr th {\n",
       "        vertical-align: top;\n",
       "    }\n",
       "\n",
       "    .dataframe thead th {\n",
       "        text-align: right;\n",
       "    }\n",
       "</style>\n",
       "<table border=\"1\" class=\"dataframe\">\n",
       "  <thead>\n",
       "    <tr style=\"text-align: right;\">\n",
       "      <th></th>\n",
       "      <th>ID</th>\n",
       "      <th>GlideNumber</th>\n",
       "      <th>Country</th>\n",
       "      <th>OtherCountry</th>\n",
       "      <th>long</th>\n",
       "      <th>lat</th>\n",
       "      <th>Area</th>\n",
       "      <th>Began</th>\n",
       "      <th>Ended</th>\n",
       "      <th>Validation</th>\n",
       "      <th>Dead</th>\n",
       "      <th>Displaced</th>\n",
       "      <th>MainCause</th>\n",
       "      <th>Severity</th>\n",
       "      <th>num_events</th>\n",
       "    </tr>\n",
       "  </thead>\n",
       "  <tbody>\n",
       "    <tr>\n",
       "      <th>2251</th>\n",
       "      <td>2254</td>\n",
       "      <td>0</td>\n",
       "      <td>Philippines</td>\n",
       "      <td>0</td>\n",
       "      <td>125.009</td>\n",
       "      <td>11.7927</td>\n",
       "      <td>22834.67</td>\n",
       "      <td>2003-06-15</td>\n",
       "      <td>2003-06-18</td>\n",
       "      <td>News</td>\n",
       "      <td>11</td>\n",
       "      <td>70000</td>\n",
       "      <td>Tropical Cyclone</td>\n",
       "      <td>1.0</td>\n",
       "      <td>1</td>\n",
       "    </tr>\n",
       "    <tr>\n",
       "      <th>2282</th>\n",
       "      <td>2284</td>\n",
       "      <td>0</td>\n",
       "      <td>Philippines</td>\n",
       "      <td>0</td>\n",
       "      <td>121.267</td>\n",
       "      <td>16.5019</td>\n",
       "      <td>70175.04</td>\n",
       "      <td>2003-07-19</td>\n",
       "      <td>2003-07-23</td>\n",
       "      <td>News</td>\n",
       "      <td>22</td>\n",
       "      <td>20000</td>\n",
       "      <td>Tropical Cyclone</td>\n",
       "      <td>1.0</td>\n",
       "      <td>1</td>\n",
       "    </tr>\n",
       "    <tr>\n",
       "      <th>2860</th>\n",
       "      <td>2862</td>\n",
       "      <td>0</td>\n",
       "      <td>Philippines</td>\n",
       "      <td>0</td>\n",
       "      <td>124.860</td>\n",
       "      <td>11.2409</td>\n",
       "      <td>24930.10</td>\n",
       "      <td>2006-05-11</td>\n",
       "      <td>2006-05-14</td>\n",
       "      <td>News</td>\n",
       "      <td>41</td>\n",
       "      <td>42000</td>\n",
       "      <td>Tropical Cyclone</td>\n",
       "      <td>1.0</td>\n",
       "      <td>1</td>\n",
       "    </tr>\n",
       "    <tr>\n",
       "      <th>2919</th>\n",
       "      <td>2921</td>\n",
       "      <td>FL-2006-000098-PHI</td>\n",
       "      <td>Philippines</td>\n",
       "      <td>China</td>\n",
       "      <td>112.108</td>\n",
       "      <td>24.0035</td>\n",
       "      <td>612225.68</td>\n",
       "      <td>2006-07-11</td>\n",
       "      <td>2006-07-19</td>\n",
       "      <td>News</td>\n",
       "      <td>629</td>\n",
       "      <td>2450000</td>\n",
       "      <td>Tropical Cyclone</td>\n",
       "      <td>2.0</td>\n",
       "      <td>1</td>\n",
       "    </tr>\n",
       "    <tr>\n",
       "      <th>2930</th>\n",
       "      <td>2932</td>\n",
       "      <td>TC-2006-000105-CHN</td>\n",
       "      <td>Philippines</td>\n",
       "      <td>China</td>\n",
       "      <td>117.284</td>\n",
       "      <td>26.3940</td>\n",
       "      <td>350925.23</td>\n",
       "      <td>2006-07-24</td>\n",
       "      <td>2006-07-28</td>\n",
       "      <td>News</td>\n",
       "      <td>36</td>\n",
       "      <td>1500000</td>\n",
       "      <td>Tropical Cyclone</td>\n",
       "      <td>1.0</td>\n",
       "      <td>1</td>\n",
       "    </tr>\n",
       "  </tbody>\n",
       "</table>\n",
       "</div>"
      ],
      "text/plain": [
       "        ID         GlideNumber      Country OtherCountry     long      lat  \\\n",
       "2251  2254                   0  Philippines            0  125.009  11.7927   \n",
       "2282  2284                   0  Philippines            0  121.267  16.5019   \n",
       "2860  2862                   0  Philippines            0  124.860  11.2409   \n",
       "2919  2921  FL-2006-000098-PHI  Philippines        China  112.108  24.0035   \n",
       "2930  2932  TC-2006-000105-CHN  Philippines        China  117.284  26.3940   \n",
       "\n",
       "           Area      Began      Ended Validation  Dead  Displaced  \\\n",
       "2251   22834.67 2003-06-15 2003-06-18       News    11      70000   \n",
       "2282   70175.04 2003-07-19 2003-07-23       News    22      20000   \n",
       "2860   24930.10 2006-05-11 2006-05-14       News    41      42000   \n",
       "2919  612225.68 2006-07-11 2006-07-19       News   629    2450000   \n",
       "2930  350925.23 2006-07-24 2006-07-28       News    36    1500000   \n",
       "\n",
       "             MainCause  Severity  num_events  \n",
       "2251  Tropical Cyclone       1.0           1  \n",
       "2282  Tropical Cyclone       1.0           1  \n",
       "2860  Tropical Cyclone       1.0           1  \n",
       "2919  Tropical Cyclone       2.0           1  \n",
       "2930  Tropical Cyclone       1.0           1  "
      ]
     },
     "execution_count": 2,
     "metadata": {},
     "output_type": "execute_result"
    }
   ],
   "source": [
    "import pandas as pd\n",
    "\n",
    "df = pd.read_excel('/Users/alison/Documents/DPhil/global-flood-database/floodarchive_frombeth.xlsx')\n",
    "coastal_causes = [\"Storm\", \"Surge\", \"Hurricane\", \"Typhoon\", \"Cyclone\"]\n",
    "coastal_floods = df[df['MainCause'].apply(lambda cause: any(map(str(cause).__contains__, coastal_causes)))].copy()\n",
    "coastal_floods['num_events'] = [1] * len(coastal_floods)\n",
    "coastal_floods.groupby('Country')['num_events'].sum().sort_values(ascending=False)#[:10]\n",
    "philippines = coastal_floods[coastal_floods['Country'] == \"Philippines\"]\n",
    "philippines.head()"
   ]
  },
  {
   "cell_type": "code",
   "execution_count": 3,
   "id": "abaca21e",
   "metadata": {},
   "outputs": [
    {
     "data": {
      "text/html": [
       "<div>\n",
       "<style scoped>\n",
       "    .dataframe tbody tr th:only-of-type {\n",
       "        vertical-align: middle;\n",
       "    }\n",
       "\n",
       "    .dataframe tbody tr th {\n",
       "        vertical-align: top;\n",
       "    }\n",
       "\n",
       "    .dataframe thead th {\n",
       "        text-align: right;\n",
       "    }\n",
       "</style>\n",
       "<table border=\"1\" class=\"dataframe\">\n",
       "  <thead>\n",
       "    <tr style=\"text-align: right;\">\n",
       "      <th></th>\n",
       "      <th>ID</th>\n",
       "      <th>number_of_floods</th>\n",
       "      <th>GlideNumber</th>\n",
       "      <th>Country</th>\n",
       "      <th>OtherCountry</th>\n",
       "      <th>long</th>\n",
       "      <th>lat</th>\n",
       "      <th>Area</th>\n",
       "      <th>Began</th>\n",
       "      <th>Ended</th>\n",
       "      <th>Validation</th>\n",
       "      <th>Dead</th>\n",
       "      <th>Displaced</th>\n",
       "      <th>MainCause</th>\n",
       "      <th>Severity</th>\n",
       "      <th>num_events</th>\n",
       "    </tr>\n",
       "  </thead>\n",
       "  <tbody>\n",
       "    <tr>\n",
       "      <th>0</th>\n",
       "      <td>2284</td>\n",
       "      <td>1</td>\n",
       "      <td>0</td>\n",
       "      <td>Philippines</td>\n",
       "      <td>0</td>\n",
       "      <td>121.267</td>\n",
       "      <td>16.5019</td>\n",
       "      <td>70175.04</td>\n",
       "      <td>2003-07-19</td>\n",
       "      <td>2003-07-23</td>\n",
       "      <td>News</td>\n",
       "      <td>22</td>\n",
       "      <td>20000</td>\n",
       "      <td>Tropical Cyclone</td>\n",
       "      <td>1.0</td>\n",
       "      <td>1</td>\n",
       "    </tr>\n",
       "    <tr>\n",
       "      <th>1</th>\n",
       "      <td>2348</td>\n",
       "      <td>1</td>\n",
       "      <td>0</td>\n",
       "      <td>South Korea</td>\n",
       "      <td>0</td>\n",
       "      <td>128.019</td>\n",
       "      <td>35.2349</td>\n",
       "      <td>21408.02</td>\n",
       "      <td>2003-09-12</td>\n",
       "      <td>2003-09-15</td>\n",
       "      <td>News</td>\n",
       "      <td>127</td>\n",
       "      <td>9000</td>\n",
       "      <td>Tropical Cyclone</td>\n",
       "      <td>1.0</td>\n",
       "      <td>1</td>\n",
       "    </tr>\n",
       "    <tr>\n",
       "      <th>2</th>\n",
       "      <td>2356</td>\n",
       "      <td>1</td>\n",
       "      <td>0</td>\n",
       "      <td>Mexico</td>\n",
       "      <td>0</td>\n",
       "      <td>-110.096</td>\n",
       "      <td>23.6058</td>\n",
       "      <td>113990.59</td>\n",
       "      <td>2003-09-22</td>\n",
       "      <td>2003-10-01</td>\n",
       "      <td>News</td>\n",
       "      <td>2</td>\n",
       "      <td>6000</td>\n",
       "      <td>Tropical Cyclone</td>\n",
       "      <td>1.0</td>\n",
       "      <td>1</td>\n",
       "    </tr>\n",
       "    <tr>\n",
       "      <th>3</th>\n",
       "      <td>2780</td>\n",
       "      <td>1</td>\n",
       "      <td>0</td>\n",
       "      <td>Australia</td>\n",
       "      <td>0</td>\n",
       "      <td>116.936</td>\n",
       "      <td>-23.2603</td>\n",
       "      <td>808059.61</td>\n",
       "      <td>2006-01-09</td>\n",
       "      <td>2006-01-31</td>\n",
       "      <td>News</td>\n",
       "      <td>0</td>\n",
       "      <td>1500</td>\n",
       "      <td>Tropical Cyclone</td>\n",
       "      <td>2.0</td>\n",
       "      <td>1</td>\n",
       "    </tr>\n",
       "    <tr>\n",
       "      <th>4</th>\n",
       "      <td>2815</td>\n",
       "      <td>1</td>\n",
       "      <td>0</td>\n",
       "      <td>Australia</td>\n",
       "      <td>0</td>\n",
       "      <td>114.989</td>\n",
       "      <td>-27.4100</td>\n",
       "      <td>37924.86</td>\n",
       "      <td>2006-03-03</td>\n",
       "      <td>2006-03-23</td>\n",
       "      <td>News</td>\n",
       "      <td>0</td>\n",
       "      <td>0</td>\n",
       "      <td>Tropical Cyclone</td>\n",
       "      <td>2.0</td>\n",
       "      <td>1</td>\n",
       "    </tr>\n",
       "  </tbody>\n",
       "</table>\n",
       "</div>"
      ],
      "text/plain": [
       "     ID  number_of_floods GlideNumber      Country OtherCountry     long  \\\n",
       "0  2284                 1           0  Philippines            0  121.267   \n",
       "1  2348                 1           0  South Korea            0  128.019   \n",
       "2  2356                 1           0       Mexico            0 -110.096   \n",
       "3  2780                 1           0    Australia            0  116.936   \n",
       "4  2815                 1           0    Australia            0  114.989   \n",
       "\n",
       "       lat       Area       Began       Ended Validation  Dead  Displaced  \\\n",
       "0  16.5019   70175.04  2003-07-19  2003-07-23       News    22      20000   \n",
       "1  35.2349   21408.02  2003-09-12  2003-09-15       News   127       9000   \n",
       "2  23.6058  113990.59  2003-09-22  2003-10-01       News     2       6000   \n",
       "3 -23.2603  808059.61  2006-01-09  2006-01-31       News     0       1500   \n",
       "4 -27.4100   37924.86  2006-03-03  2006-03-23       News     0          0   \n",
       "\n",
       "          MainCause  Severity  num_events  \n",
       "0  Tropical Cyclone       1.0           1  \n",
       "1  Tropical Cyclone       1.0           1  \n",
       "2  Tropical Cyclone       1.0           1  \n",
       "3  Tropical Cyclone       2.0           1  \n",
       "4  Tropical Cyclone       2.0           1  "
      ]
     },
     "execution_count": 3,
     "metadata": {},
     "output_type": "execute_result"
    }
   ],
   "source": [
    "gfd = ee.ImageCollection('GLOBAL_FLOOD_DB/MODIS_EVENTS/V1')\n",
    "gfdFloodedSum = gfd.select('flooded').sum()\n",
    "\n",
    "if False:\n",
    "    flood_maps = {}\n",
    "    for flood in coastal_floods.itertuples():\n",
    "        ID = flood.ID\n",
    "        storm = storms = ee.ImageCollection(gfd.filterMetadata('id', 'equals', ID))\n",
    "        flood_maps[ID] = storms.size().getInfo()\n",
    "\n",
    "    flood_maps_df = pd.DataFrame.from_dict(flood_maps, orient='index').rename(columns={0: 'number_of_floods'})\n",
    "    flood_maps_df = flood_maps_df.reset_index().rename(columns={'index': 'ID'})\n",
    "    coastal_floods_present = flood_maps_df.merge(coastal_floods, on='ID', how='left')\n",
    "\n",
    "    coastal_floods_present.to_csv('/Users/alison/Documents/DPhil/global-flood-database/floods_in_gfo.csv')\n",
    "    \n",
    "coastal_floods = pd.read_csv('/Users/alison/Documents/DPhil/global-flood-database/floods_in_gfo.csv', index_col=0)\n",
    "coastal_floods = coastal_floods[coastal_floods['number_of_floods'] > 0].copy().reset_index(drop=True)\n",
    "coastal_floods.head()"
   ]
  },
  {
   "cell_type": "code",
   "execution_count": 7,
   "id": "d947c7fc",
   "metadata": {},
   "outputs": [
    {
     "data": {
      "text/plain": [
       "58"
      ]
     },
     "execution_count": 7,
     "metadata": {},
     "output_type": "execute_result"
    }
   ],
   "source": [
    "len(coastal_floods)"
   ]
  },
  {
   "cell_type": "code",
   "execution_count": 6,
   "id": "bef22af6",
   "metadata": {},
   "outputs": [
    {
     "data": {
      "text/plain": [
       "Philippines    9\n",
       "Mexico         7\n",
       "USA            7\n",
       "Australia      6\n",
       "China          6\n",
       "India          4\n",
       "Cambodia       2\n",
       "Madagascar     2\n",
       "Vietnam        2\n",
       "Thailand       2\n",
       "Guatamala      1\n",
       "South Korea    1\n",
       "Bangladesh     1\n",
       "New Zealand    1\n",
       "Sri Lanka      1\n",
       "Mozambique     1\n",
       "North Korea    1\n",
       "Oman           1\n",
       "Burma          1\n",
       "Bahamas        1\n",
       "Pakistan       1\n",
       "Name: Country, dtype: int64"
      ]
     },
     "execution_count": 6,
     "metadata": {},
     "output_type": "execute_result"
    }
   ],
   "source": [
    "coastal_floods['Country'].value_counts()"
   ]
  },
  {
   "cell_type": "markdown",
   "id": "097bd57c",
   "metadata": {},
   "source": [
    "    import pandas as pd\n",
    "\n",
    "    keywords = ['tropical', 'cyclone', 'storm', 'typhoon', 'hurricane', 'surge']\n",
    "    keywords = keywords + [keyword.capitalize() for keyword in keywords]\n",
    "\n",
    "    events_table = pd.read_csv('gfd_event_stats_20215_13_error_fixed_2.csv')\n",
    "    events_table = events_table[events_table['dfo_cause'].apply(lambda x: any(map(x.lower().__contains__, keywords)))]\n",
    "    events_table['dfo_began'] = pd.to_datetime(events_table['dfo_began'])\n",
    "    events_table = events_table[events_table['dfo_began'] >= pd.to_datetime('2017-01-01')]"
   ]
  },
  {
   "cell_type": "markdown",
   "id": "8b573e48",
   "metadata": {},
   "source": [
    "    cols_of_interest = ['system:index', 'threshold_type','dfo_country',\n",
    "                        'dfo_other_country', 'dfo_centroid_x', 'dfo_centroid_y',\n",
    "                        'dfo_began', 'dfo_ended', 'dfo_validation',\n",
    "                        'dfo_dead', 'dfo_displaced', 'dfo_cause', \n",
    "                        'dfo_severity', 'gfd_area']"
   ]
  },
  {
   "cell_type": "markdown",
   "id": "e90eba10",
   "metadata": {},
   "source": [
    "    # manual\n",
    "    index_dict = {4516: 'Hurricane Irma',\n",
    "                 4676: 'Tropical Storm Florence',\n",
    "                 4695: 'Hurricane Willa'}\n",
    "\n",
    "    events_table = events_table.set_index('index')\n",
    "    events_table[cols_of_interest]"
   ]
  },
  {
   "cell_type": "code",
   "execution_count": 29,
   "id": "3a936ec5",
   "metadata": {},
   "outputs": [
    {
     "data": {
      "text/plain": [
       "['ID',\n",
       " 'number_of_floods',\n",
       " 'GlideNumber',\n",
       " 'Country',\n",
       " 'OtherCountry',\n",
       " 'long',\n",
       " 'lat',\n",
       " 'Area',\n",
       " 'Began',\n",
       " 'Ended',\n",
       " 'Validation',\n",
       " 'Dead',\n",
       " 'Displaced',\n",
       " 'MainCause',\n",
       " 'Severity',\n",
       " 'num_events']"
      ]
     },
     "execution_count": 29,
     "metadata": {},
     "output_type": "execute_result"
    }
   ],
   "source": [
    "[*coastal_floods.columns]"
   ]
  },
  {
   "cell_type": "code",
   "execution_count": 32,
   "id": "e475b6ff",
   "metadata": {},
   "outputs": [
    {
     "data": {
      "text/plain": [
       "{'ID': 2284,\n",
       " 'number_of_floods': 1,\n",
       " 'GlideNumber': '0',\n",
       " 'Country': 'Philippines',\n",
       " 'OtherCountry': '0',\n",
       " 'long': 121.267,\n",
       " 'lat': 16.5019,\n",
       " 'Area': 70175.04,\n",
       " 'Began': '2003-07-19',\n",
       " 'Ended': '2003-07-23',\n",
       " 'Validation': 'News',\n",
       " 'Dead': 22,\n",
       " 'Displaced': 20000,\n",
       " 'MainCause': 'Tropical Cyclone',\n",
       " 'Severity': 1.0,\n",
       " 'num_events': 1}"
      ]
     },
     "execution_count": 32,
     "metadata": {},
     "output_type": "execute_result"
    }
   ],
   "source": []
  },
  {
   "cell_type": "code",
   "execution_count": 35,
   "id": "a11e74dd",
   "metadata": {},
   "outputs": [],
   "source": [
    "idx = 0\n",
    "metadata = coastal_floods.loc[idx, :].to_dict()"
   ]
  },
  {
   "cell_type": "code",
   "execution_count": 38,
   "id": "d68c99f9",
   "metadata": {},
   "outputs": [
    {
     "data": {
      "text/plain": [
       "{'ID': 2284,\n",
       " 'number_of_floods': 1,\n",
       " 'GlideNumber': '0',\n",
       " 'Country': 'Philippines',\n",
       " 'OtherCountry': '0',\n",
       " 'long': 121.267,\n",
       " 'lat': 16.5019,\n",
       " 'Area': 70175.04,\n",
       " 'Began': '2003-07-19',\n",
       " 'Ended': '2003-07-23',\n",
       " 'Validation': 'News',\n",
       " 'Dead': 22,\n",
       " 'Displaced': 20000,\n",
       " 'MainCause': 'Tropical Cyclone',\n",
       " 'Severity': 1.0,\n",
       " 'num_events': 1}"
      ]
     },
     "execution_count": 38,
     "metadata": {},
     "output_type": "execute_result"
    }
   ],
   "source": [
    "metadata"
   ]
  },
  {
   "cell_type": "code",
   "execution_count": 39,
   "id": "45067bd8",
   "metadata": {},
   "outputs": [
    {
     "name": "stdout",
     "output_type": "stream",
     "text": [
      "Number of flood maps: 1\n",
      "start date: 2003-07-19\n",
      "end date: 2003-07-23\n",
      "cause: Tropical Cyclone\n",
      "severity: 1\n",
      "main country: Philippines\n"
     ]
    }
   ],
   "source": [
    "# load a flood\n",
    "storms = ee.ImageCollection(\n",
    "    gfd.filterMetadata('id', 'equals', metadata['ID']))\n",
    "\n",
    "print(f\"Number of flood maps: {storms.size().getInfo()}\")\n",
    "storm = ee.Image(storms.first())\n",
    "\n",
    "# extract metadata\n",
    "start = storm.get('began').getInfo()\n",
    "end = storm.get('ended').getInfo()\n",
    "cause = storm.get('dfo_main_cause').getInfo()\n",
    "severity = storm.get('dfo_severity').getInfo()\n",
    "country = storm.get('dfo_country').getInfo()\n",
    "\n",
    "print(f\"start date: {start}\")\n",
    "print(f\"end date: {end}\")\n",
    "print(f\"cause: {cause}\")\n",
    "print(f\"severity: {severity}\")\n",
    "print(f\"main country: {country}\")\n",
    "\n",
    "lat = storm.get('dfo_centroid_x').getInfo()\n",
    "lon = storm.get('dfo_centroid_y').getInfo()"
   ]
  },
  {
   "cell_type": "code",
   "execution_count": 40,
   "id": "7aa102b3",
   "metadata": {},
   "outputs": [
    {
     "data": {
      "text/html": [
       "<div style=\"width:100%;\"><div style=\"position:relative;width:100%;height:0;padding-bottom:60%;\"><span style=\"color:#565656\">Make this Notebook Trusted to load map: File -> Trust Notebook</span><iframe srcdoc=\"&lt;!DOCTYPE html&gt;\n",
       "&lt;html&gt;\n",
       "&lt;head&gt;\n",
       "    \n",
       "    &lt;meta http-equiv=&quot;content-type&quot; content=&quot;text/html; charset=UTF-8&quot; /&gt;\n",
       "    \n",
       "        &lt;script&gt;\n",
       "            L_NO_TOUCH = false;\n",
       "            L_DISABLE_3D = false;\n",
       "        &lt;/script&gt;\n",
       "    \n",
       "    &lt;style&gt;html, body {width: 100%;height: 100%;margin: 0;padding: 0;}&lt;/style&gt;\n",
       "    &lt;style&gt;#map {position:absolute;top:0;bottom:0;right:0;left:0;}&lt;/style&gt;\n",
       "    &lt;script src=&quot;https://cdn.jsdelivr.net/npm/leaflet@1.6.0/dist/leaflet.js&quot;&gt;&lt;/script&gt;\n",
       "    &lt;script src=&quot;https://code.jquery.com/jquery-1.12.4.min.js&quot;&gt;&lt;/script&gt;\n",
       "    &lt;script src=&quot;https://maxcdn.bootstrapcdn.com/bootstrap/3.2.0/js/bootstrap.min.js&quot;&gt;&lt;/script&gt;\n",
       "    &lt;script src=&quot;https://cdnjs.cloudflare.com/ajax/libs/Leaflet.awesome-markers/2.0.2/leaflet.awesome-markers.js&quot;&gt;&lt;/script&gt;\n",
       "    &lt;link rel=&quot;stylesheet&quot; href=&quot;https://cdn.jsdelivr.net/npm/leaflet@1.6.0/dist/leaflet.css&quot;/&gt;\n",
       "    &lt;link rel=&quot;stylesheet&quot; href=&quot;https://maxcdn.bootstrapcdn.com/bootstrap/3.2.0/css/bootstrap.min.css&quot;/&gt;\n",
       "    &lt;link rel=&quot;stylesheet&quot; href=&quot;https://maxcdn.bootstrapcdn.com/bootstrap/3.2.0/css/bootstrap-theme.min.css&quot;/&gt;\n",
       "    &lt;link rel=&quot;stylesheet&quot; href=&quot;https://maxcdn.bootstrapcdn.com/font-awesome/4.6.3/css/font-awesome.min.css&quot;/&gt;\n",
       "    &lt;link rel=&quot;stylesheet&quot; href=&quot;https://cdnjs.cloudflare.com/ajax/libs/Leaflet.awesome-markers/2.0.2/leaflet.awesome-markers.css&quot;/&gt;\n",
       "    &lt;link rel=&quot;stylesheet&quot; href=&quot;https://cdn.jsdelivr.net/gh/python-visualization/folium/folium/templates/leaflet.awesome.rotate.min.css&quot;/&gt;\n",
       "    \n",
       "            &lt;meta name=&quot;viewport&quot; content=&quot;width=device-width,\n",
       "                initial-scale=1.0, maximum-scale=1.0, user-scalable=no&quot; /&gt;\n",
       "            &lt;style&gt;\n",
       "                #map_7e74adf6550477f1f56a06e0f7b48207 {\n",
       "                    position: relative;\n",
       "                    width: 100.0%;\n",
       "                    height: 100.0%;\n",
       "                    left: 0.0%;\n",
       "                    top: 0.0%;\n",
       "                }\n",
       "            &lt;/style&gt;\n",
       "        \n",
       "&lt;/head&gt;\n",
       "&lt;body&gt;\n",
       "    \n",
       "    \n",
       "            &lt;div class=&quot;folium-map&quot; id=&quot;map_7e74adf6550477f1f56a06e0f7b48207&quot; &gt;&lt;/div&gt;\n",
       "        \n",
       "&lt;/body&gt;\n",
       "&lt;script&gt;\n",
       "    \n",
       "    \n",
       "            var map_7e74adf6550477f1f56a06e0f7b48207 = L.map(\n",
       "                &quot;map_7e74adf6550477f1f56a06e0f7b48207&quot;,\n",
       "                {\n",
       "                    center: [16.501894, 121.26678],\n",
       "                    crs: L.CRS.EPSG3857,\n",
       "                    zoom: 5,\n",
       "                    zoomControl: true,\n",
       "                    preferCanvas: false,\n",
       "                }\n",
       "            );\n",
       "\n",
       "            \n",
       "\n",
       "        \n",
       "    \n",
       "            var tile_layer_072edf9484065fc46d65be5280a3d403 = L.tileLayer(\n",
       "                &quot;https://{s}.tile.openstreetmap.org/{z}/{x}/{y}.png&quot;,\n",
       "                {&quot;attribution&quot;: &quot;Data by \\u0026copy; \\u003ca href=\\&quot;http://openstreetmap.org\\&quot;\\u003eOpenStreetMap\\u003c/a\\u003e, under \\u003ca href=\\&quot;http://www.openstreetmap.org/copyright\\&quot;\\u003eODbL\\u003c/a\\u003e.&quot;, &quot;detectRetina&quot;: false, &quot;maxNativeZoom&quot;: 18, &quot;maxZoom&quot;: 18, &quot;minZoom&quot;: 0, &quot;noWrap&quot;: false, &quot;opacity&quot;: 1, &quot;subdomains&quot;: &quot;abc&quot;, &quot;tms&quot;: false}\n",
       "            ).addTo(map_7e74adf6550477f1f56a06e0f7b48207);\n",
       "        \n",
       "    \n",
       "            var tile_layer_d0189c013d565104ca3b1e5f21131f72 = L.tileLayer(\n",
       "                &quot;https://earthengine.googleapis.com/v1alpha/projects/earthengine-legacy/maps/1d908d7add3d2404c1b6a1a298e53ad9-3b23b2f38ff7e8bced940b307733d033/tiles/{z}/{x}/{y}&quot;,\n",
       "                {&quot;attribution&quot;: &quot;Map Data \\u0026copy; \\u003ca href=\\&quot;https://earthengine.google.com/\\&quot;\\u003eGoogle Earth Engine\\u003c/a\\u003e&quot;, &quot;detectRetina&quot;: false, &quot;maxNativeZoom&quot;: 18, &quot;maxZoom&quot;: 18, &quot;minZoom&quot;: 0, &quot;noWrap&quot;: false, &quot;opacity&quot;: 1, &quot;subdomains&quot;: &quot;abc&quot;, &quot;tms&quot;: false}\n",
       "            ).addTo(map_7e74adf6550477f1f56a06e0f7b48207);\n",
       "        \n",
       "    \n",
       "            var tile_layer_0dc7d5df5282a5f13110b468cea88c27 = L.tileLayer(\n",
       "                &quot;https://earthengine.googleapis.com/v1alpha/projects/earthengine-legacy/maps/856655678aea582409cac4b51dc61da8-2ee6856221932f50ac32beeab0aca138/tiles/{z}/{x}/{y}&quot;,\n",
       "                {&quot;attribution&quot;: &quot;Map Data \\u0026copy; \\u003ca href=\\&quot;https://earthengine.google.com/\\&quot;\\u003eGoogle Earth Engine\\u003c/a\\u003e&quot;, &quot;detectRetina&quot;: false, &quot;maxNativeZoom&quot;: 18, &quot;maxZoom&quot;: 18, &quot;minZoom&quot;: 0, &quot;noWrap&quot;: false, &quot;opacity&quot;: 1, &quot;subdomains&quot;: &quot;abc&quot;, &quot;tms&quot;: false}\n",
       "            ).addTo(map_7e74adf6550477f1f56a06e0f7b48207);\n",
       "        \n",
       "    \n",
       "            var tile_layer_1c596e7082ffadb1543a52fe2e74a053 = L.tileLayer(\n",
       "                &quot;https://earthengine.googleapis.com/v1alpha/projects/earthengine-legacy/maps/e8fd628dc76ade5d62b5792fa5f3d88b-aa731eb79bea88e1b4c8c73dc9c8766f/tiles/{z}/{x}/{y}&quot;,\n",
       "                {&quot;attribution&quot;: &quot;Map Data \\u0026copy; \\u003ca href=\\&quot;https://earthengine.google.com/\\&quot;\\u003eGoogle Earth Engine\\u003c/a\\u003e&quot;, &quot;detectRetina&quot;: false, &quot;maxNativeZoom&quot;: 18, &quot;maxZoom&quot;: 18, &quot;minZoom&quot;: 0, &quot;noWrap&quot;: false, &quot;opacity&quot;: 1, &quot;subdomains&quot;: &quot;abc&quot;, &quot;tms&quot;: false}\n",
       "            ).addTo(map_7e74adf6550477f1f56a06e0f7b48207);\n",
       "        \n",
       "    \n",
       "            var tile_layer_4eaceea41b154571fa7d2579137e5278 = L.tileLayer(\n",
       "                &quot;https://earthengine.googleapis.com/v1alpha/projects/earthengine-legacy/maps/83d23316e9c413eeac8057d51a4759ae-f37f16625a92ae733fb4729d9a6a51d1/tiles/{z}/{x}/{y}&quot;,\n",
       "                {&quot;attribution&quot;: &quot;Map Data \\u0026copy; \\u003ca href=\\&quot;https://earthengine.google.com/\\&quot;\\u003eGoogle Earth Engine\\u003c/a\\u003e&quot;, &quot;detectRetina&quot;: false, &quot;maxNativeZoom&quot;: 18, &quot;maxZoom&quot;: 18, &quot;minZoom&quot;: 0, &quot;noWrap&quot;: false, &quot;opacity&quot;: 1, &quot;subdomains&quot;: &quot;abc&quot;, &quot;tms&quot;: false}\n",
       "            ).addTo(map_7e74adf6550477f1f56a06e0f7b48207);\n",
       "        \n",
       "&lt;/script&gt;\n",
       "&lt;/html&gt;\" style=\"position:absolute;width:100%;height:100%;left:0;top:0;border:none !important;\" allowfullscreen webkitallowfullscreen mozallowfullscreen></iframe></div></div>"
      ],
      "text/plain": [
       "<folium.folium.Map at 0x169ebeb00>"
      ]
     },
     "execution_count": 40,
     "metadata": {},
     "output_type": "execute_result"
    }
   ],
   "source": [
    "# have a look\n",
    "import folium\n",
    "\n",
    "def add_ee_layer(self, ee_image_object, vis_params, name):\n",
    "    \"\"\"Adds a method for displaying Earth Engine image tiles to folium map.\"\"\"\n",
    "    map_id_dict = ee.Image(ee_image_object).getMapId(vis_params)\n",
    "    folium.raster_layers.TileLayer(\n",
    "        tiles=map_id_dict['tile_fetcher'].url_format,\n",
    "        attr='Map Data &copy; <a href=\"https://earthengine.google.com/\">Google Earth Engine</a>',\n",
    "        name=name,\n",
    "        overlay=True,\n",
    "        control=True\n",
    "    ).add_to(self)\n",
    "\n",
    "# Add Earth Engine drawing method to folium.\n",
    "folium.Map.add_ee_layer = add_ee_layer\n",
    "\n",
    "\n",
    "durationPalette = ['C3EFFE', '1341E8', '051CB0', '001133']\n",
    "\n",
    "m = folium.Map(location=[lon, lat], zoom_start=5)\n",
    "\n",
    "# map extent\n",
    "vizParams = {'min': 0, 'max': 1, 'palette': '001133'}\n",
    "m.add_ee_layer(storm.select('flooded').selfMask(), vizParams, f\"{stormDartmouthId} - Inundation Extent\")\n",
    "\n",
    "# durations\n",
    "durationPalette = ['C3EFFE', '1341E8', '051CB0', '001133'];\n",
    "m.add_ee_layer(storm.select('duration').selfMask(), {'min': 0, 'max': 4, 'palette': durationPalette},\n",
    "  f\"index_dict[stormDartmouthId] - Duration\")\n",
    "\n",
    "# all floods to view satellite-derived flood plain\n",
    "m.add_ee_layer(gfdFloodedSum.selfMask(), {'min': 0, 'max': 10, 'palette': durationPalette}, 'GFD Satellite Observed Flood Plain');\n",
    "\n",
    "# \n",
    "jrc = gfd.select('jrc_perm_water').sum().gte(1)\n",
    "m.add_ee_layer(jrc.selfMask(), {'min': 0, 'max': 1, 'palette': 'C3EFFE'}, 'JRC Permanent Water')\n",
    "\n",
    "m"
   ]
  },
  {
   "cell_type": "code",
   "execution_count": 113,
   "id": "b668ceb2",
   "metadata": {},
   "outputs": [
    {
     "name": "stderr",
     "output_type": "stream",
     "text": [
      "/Users/alison/miniconda3/envs/hybridmodels/lib/python3.10/site-packages/pygeos/constructive.py:175: RuntimeWarning: invalid value encountered in buffer\n",
      "  return lib.buffer(\n"
     ]
    }
   ],
   "source": [
    "# load coastline\n",
    "# buffer coastline by 20km either direction\n",
    "import geopandas as gpd\n",
    "\n",
    "BUFFER = 50000 # meters\n",
    "\n",
    "\n",
    "coastline = coastline.to_crs(3857).buffer(BUFFER)"
   ]
  },
  {
   "cell_type": "code",
   "execution_count": null,
   "id": "a68de179",
   "metadata": {},
   "outputs": [],
   "source": [
    "# GSSR: https://gee-community-catalog.org/projects/gssr/"
   ]
  },
  {
   "cell_type": "code",
   "execution_count": 118,
   "id": "bffb8b60",
   "metadata": {},
   "outputs": [],
   "source": [
    "# https://gee-community-catalog.org/projects/shoreline/ \n",
    "mainlands = ee.FeatureCollection('projects/sat-io/open-datasets/shoreline/mainlands');\n",
    "# var big_islands = ee.FeatureCollection('projects/sat-io/open-datasets/shoreline/big_islands');\n",
    "# var small_islands = ee.FeatureCollection('projects/sat-io/open-datasets/shoreline/small_islands');\n",
    "\n",
    "\n"
   ]
  },
  {
   "cell_type": "code",
   "execution_count": 120,
   "id": "a6d9c46e",
   "metadata": {},
   "outputs": [
    {
     "ename": "AttributeError",
     "evalue": "'FeatureCollection' object has no attribute 'evaluate'",
     "output_type": "error",
     "traceback": [
      "\u001b[0;31m---------------------------------------------------------------------------\u001b[0m",
      "\u001b[0;31mAttributeError\u001b[0m                            Traceback (most recent call last)",
      "Cell \u001b[0;32mIn [120], line 13\u001b[0m\n\u001b[1;32m      7\u001b[0m     \u001b[38;5;28mprint\u001b[39m(tableMetadata\u001b[38;5;241m.\u001b[39mcolumns)\n\u001b[1;32m     10\u001b[0m \u001b[38;5;66;03m# // Fetch collection metadata (`.limit(0)`) and apply the\u001b[39;00m\n\u001b[1;32m     11\u001b[0m \u001b[38;5;66;03m# // previously defined function using `evaluate()`. The printed object is a\u001b[39;00m\n\u001b[1;32m     12\u001b[0m \u001b[38;5;66;03m# // dictionary where keys are column names and values are datatypes.\u001b[39;00m\n\u001b[0;32m---> 13\u001b[0m \u001b[43mmainlands\u001b[49m\u001b[38;5;241;43m.\u001b[39;49m\u001b[43mlimit\u001b[49m\u001b[43m(\u001b[49m\u001b[38;5;241;43m0\u001b[39;49m\u001b[43m)\u001b[49m\u001b[38;5;241;43m.\u001b[39;49m\u001b[43mevaluate\u001b[49m(getCols);\n",
      "\u001b[0;31mAttributeError\u001b[0m: 'FeatureCollection' object has no attribute 'evaluate'"
     ]
    }
   ],
   "source": [
    "# // Define a function to print metadata column names and datatypes. This function\n",
    "# // is intended to be applied by the `evaluate` method which provides the\n",
    "# // function a client-side dictionary allowing the 'columns' object of the\n",
    "# // feature collection metadata to be subset by dot notation or bracket notation\n",
    "# // (`tableMetadata['columns']`).\n",
    "def getCols(tableMetadata):\n",
    "    print(tableMetadata.columns)\n",
    "\n",
    "\n",
    "# // Fetch collection metadata (`.limit(0)`) and apply the\n",
    "# // previously defined function using `evaluate()`. The printed object is a\n",
    "# // dictionary where keys are column names and values are datatypes.\n",
    "mainlands.limit(0).evaluate(getCols);"
   ]
  },
  {
   "cell_type": "code",
   "execution_count": 126,
   "id": "408209c6",
   "metadata": {},
   "outputs": [
    {
     "data": {
      "text/plain": [
       "['OBJECTID',\n",
       " 'Shape_Leng',\n",
       " 'Area_km2',\n",
       " 'Shape_Area',\n",
       " 'FID_Contin',\n",
       " 'FID_EApoly',\n",
       " 'Coastline_',\n",
       " 'system:index']"
      ]
     },
     "execution_count": 126,
     "metadata": {},
     "output_type": "execute_result"
    }
   ],
   "source": [
    "mainlands.first().propertyNames().getInfo()"
   ]
  },
  {
   "cell_type": "code",
   "execution_count": 128,
   "id": "7f2da110",
   "metadata": {},
   "outputs": [
    {
     "data": {
      "text/plain": [
       "-1"
      ]
     },
     "execution_count": 128,
     "metadata": {},
     "output_type": "execute_result"
    }
   ],
   "source": [
    "\n",
    "mainlands.first().get('FID_EApoly').getInfo()"
   ]
  },
  {
   "cell_type": "code",
   "execution_count": 84,
   "id": "151ed817",
   "metadata": {},
   "outputs": [],
   "source": [
    "coastline_ee = ee.Geometry.Polygon(coastline.geometry.__geo_interface__['features'][0]['geometry']['coordinates'],\n",
    "                                        proj=ee.Projection('EPSG:4326'))\n",
    "\n"
   ]
  },
  {
   "cell_type": "code",
   "execution_count": 102,
   "id": "31c694bb",
   "metadata": {},
   "outputs": [
    {
     "ename": "Exception",
     "evalue": "GeometryConstructors.Polygon: Inputs must be Number, List, or Geometry. Found type 'List<List<Float>>'.",
     "output_type": "error",
     "traceback": [
      "\u001b[0;31m---------------------------------------------------------------------------\u001b[0m",
      "\u001b[0;31mHttpError\u001b[0m                                 Traceback (most recent call last)",
      "File \u001b[0;32m~/miniconda3/envs/hybridmodels/lib/python3.10/site-packages/ee/data.py:328\u001b[0m, in \u001b[0;36m_execute_cloud_call\u001b[0;34m(call, num_retries)\u001b[0m\n\u001b[1;32m    327\u001b[0m \u001b[38;5;28;01mtry\u001b[39;00m:\n\u001b[0;32m--> 328\u001b[0m   \u001b[38;5;28;01mreturn\u001b[39;00m \u001b[43mcall\u001b[49m\u001b[38;5;241;43m.\u001b[39;49m\u001b[43mexecute\u001b[49m\u001b[43m(\u001b[49m\u001b[43mnum_retries\u001b[49m\u001b[38;5;241;43m=\u001b[39;49m\u001b[43mnum_retries\u001b[49m\u001b[43m)\u001b[49m\n\u001b[1;32m    329\u001b[0m \u001b[38;5;28;01mexcept\u001b[39;00m googleapiclient\u001b[38;5;241m.\u001b[39merrors\u001b[38;5;241m.\u001b[39mHttpError \u001b[38;5;28;01mas\u001b[39;00m e:\n",
      "File \u001b[0;32m~/miniconda3/envs/hybridmodels/lib/python3.10/site-packages/googleapiclient/_helpers.py:134\u001b[0m, in \u001b[0;36mpositional.<locals>.positional_decorator.<locals>.positional_wrapper\u001b[0;34m(*args, **kwargs)\u001b[0m\n\u001b[1;32m    133\u001b[0m         logger\u001b[38;5;241m.\u001b[39mwarning(message)\n\u001b[0;32m--> 134\u001b[0m \u001b[38;5;28;01mreturn\u001b[39;00m \u001b[43mwrapped\u001b[49m\u001b[43m(\u001b[49m\u001b[38;5;241;43m*\u001b[39;49m\u001b[43margs\u001b[49m\u001b[43m,\u001b[49m\u001b[43m \u001b[49m\u001b[38;5;241;43m*\u001b[39;49m\u001b[38;5;241;43m*\u001b[39;49m\u001b[43mkwargs\u001b[49m\u001b[43m)\u001b[49m\n",
      "File \u001b[0;32m~/miniconda3/envs/hybridmodels/lib/python3.10/site-packages/googleapiclient/http.py:915\u001b[0m, in \u001b[0;36mHttpRequest.execute\u001b[0;34m(self, http, num_retries)\u001b[0m\n\u001b[1;32m    914\u001b[0m \u001b[38;5;28;01mif\u001b[39;00m resp\u001b[38;5;241m.\u001b[39mstatus \u001b[38;5;241m>\u001b[39m\u001b[38;5;241m=\u001b[39m \u001b[38;5;241m300\u001b[39m:\n\u001b[0;32m--> 915\u001b[0m     \u001b[38;5;28;01mraise\u001b[39;00m HttpError(resp, content, uri\u001b[38;5;241m=\u001b[39m\u001b[38;5;28mself\u001b[39m\u001b[38;5;241m.\u001b[39muri)\n\u001b[1;32m    916\u001b[0m \u001b[38;5;28;01mreturn\u001b[39;00m \u001b[38;5;28mself\u001b[39m\u001b[38;5;241m.\u001b[39mpostproc(resp, content)\n",
      "\u001b[0;31mHttpError\u001b[0m: <HttpError 400 when requesting https://earthengine.googleapis.com/v1alpha/projects/earthengine-legacy/value:compute?prettyPrint=false&alt=json returned \"GeometryConstructors.Polygon: Inputs must be Number, List, or Geometry. Found type 'List<List<Float>>'.\". Details: \"GeometryConstructors.Polygon: Inputs must be Number, List, or Geometry. Found type 'List<List<Float>>'.\">",
      "\nDuring handling of the above exception, another exception occurred:\n",
      "\u001b[0;31mEEException\u001b[0m                               Traceback (most recent call last)",
      "File \u001b[0;32m~/miniconda3/envs/hybridmodels/lib/python3.10/site-packages/geemap/common.py:1320\u001b[0m, in \u001b[0;36mee_to_geojson\u001b[0;34m(ee_object, filename, indent, **kwargs)\u001b[0m\n\u001b[1;32m   1315\u001b[0m \u001b[38;5;28;01mif\u001b[39;00m (\n\u001b[1;32m   1316\u001b[0m     \u001b[38;5;28misinstance\u001b[39m(ee_object, ee\u001b[38;5;241m.\u001b[39mgeometry\u001b[38;5;241m.\u001b[39mGeometry)\n\u001b[1;32m   1317\u001b[0m     \u001b[38;5;129;01mor\u001b[39;00m \u001b[38;5;28misinstance\u001b[39m(ee_object, ee\u001b[38;5;241m.\u001b[39mfeature\u001b[38;5;241m.\u001b[39mFeature)\n\u001b[1;32m   1318\u001b[0m     \u001b[38;5;129;01mor\u001b[39;00m \u001b[38;5;28misinstance\u001b[39m(ee_object, ee\u001b[38;5;241m.\u001b[39mfeaturecollection\u001b[38;5;241m.\u001b[39mFeatureCollection)\n\u001b[1;32m   1319\u001b[0m ):\n\u001b[0;32m-> 1320\u001b[0m     json_object \u001b[38;5;241m=\u001b[39m \u001b[43mee_object\u001b[49m\u001b[38;5;241;43m.\u001b[39;49m\u001b[43mgetInfo\u001b[49m\u001b[43m(\u001b[49m\u001b[43m)\u001b[49m\n\u001b[1;32m   1321\u001b[0m     \u001b[38;5;28;01mif\u001b[39;00m filename \u001b[38;5;129;01mis\u001b[39;00m \u001b[38;5;129;01mnot\u001b[39;00m \u001b[38;5;28;01mNone\u001b[39;00m:\n",
      "File \u001b[0;32m~/miniconda3/envs/hybridmodels/lib/python3.10/site-packages/ee/collection.py:133\u001b[0m, in \u001b[0;36mCollection.getInfo\u001b[0;34m(self)\u001b[0m\n\u001b[1;32m    121\u001b[0m \u001b[38;5;124;03m\"\"\"Returns all the known information about this collection.\u001b[39;00m\n\u001b[1;32m    122\u001b[0m \n\u001b[1;32m    123\u001b[0m \u001b[38;5;124;03mThis function makes an REST call to to retrieve all the known information\u001b[39;00m\n\u001b[0;32m   (...)\u001b[0m\n\u001b[1;32m    131\u001b[0m \u001b[38;5;124;03m       properties.\u001b[39;00m\n\u001b[1;32m    132\u001b[0m \u001b[38;5;124;03m\"\"\"\u001b[39;00m\n\u001b[0;32m--> 133\u001b[0m \u001b[38;5;28;01mreturn\u001b[39;00m \u001b[38;5;28;43msuper\u001b[39;49m\u001b[43m(\u001b[49m\u001b[43mCollection\u001b[49m\u001b[43m,\u001b[49m\u001b[43m \u001b[49m\u001b[38;5;28;43mself\u001b[39;49m\u001b[43m)\u001b[49m\u001b[38;5;241;43m.\u001b[39;49m\u001b[43mgetInfo\u001b[49m\u001b[43m(\u001b[49m\u001b[43m)\u001b[49m\n",
      "File \u001b[0;32m~/miniconda3/envs/hybridmodels/lib/python3.10/site-packages/ee/computedobject.py:98\u001b[0m, in \u001b[0;36mComputedObject.getInfo\u001b[0;34m(self)\u001b[0m\n\u001b[1;32m     93\u001b[0m \u001b[38;5;124;03m\"\"\"Fetch and return information about this object.\u001b[39;00m\n\u001b[1;32m     94\u001b[0m \n\u001b[1;32m     95\u001b[0m \u001b[38;5;124;03mReturns:\u001b[39;00m\n\u001b[1;32m     96\u001b[0m \u001b[38;5;124;03m  The object can evaluate to anything.\u001b[39;00m\n\u001b[1;32m     97\u001b[0m \u001b[38;5;124;03m\"\"\"\u001b[39;00m\n\u001b[0;32m---> 98\u001b[0m \u001b[38;5;28;01mreturn\u001b[39;00m \u001b[43mdata\u001b[49m\u001b[38;5;241;43m.\u001b[39;49m\u001b[43mcomputeValue\u001b[49m\u001b[43m(\u001b[49m\u001b[38;5;28;43mself\u001b[39;49m\u001b[43m)\u001b[49m\n",
      "File \u001b[0;32m~/miniconda3/envs/hybridmodels/lib/python3.10/site-packages/ee/data.py:757\u001b[0m, in \u001b[0;36mcomputeValue\u001b[0;34m(obj)\u001b[0m\n\u001b[1;32m    755\u001b[0m   body[\u001b[38;5;124m'\u001b[39m\u001b[38;5;124mworkloadTag\u001b[39m\u001b[38;5;124m'\u001b[39m] \u001b[38;5;241m=\u001b[39m workload_tag\n\u001b[0;32m--> 757\u001b[0m \u001b[38;5;28;01mreturn\u001b[39;00m \u001b[43m_execute_cloud_call\u001b[49m\u001b[43m(\u001b[49m\n\u001b[1;32m    758\u001b[0m \u001b[43m    \u001b[49m\u001b[43m_get_cloud_api_resource\u001b[49m\u001b[43m(\u001b[49m\u001b[43m)\u001b[49m\u001b[38;5;241;43m.\u001b[39;49m\u001b[43mprojects\u001b[49m\u001b[43m(\u001b[49m\u001b[43m)\u001b[49m\u001b[38;5;241;43m.\u001b[39;49m\u001b[43mvalue\u001b[49m\u001b[43m(\u001b[49m\u001b[43m)\u001b[49m\u001b[38;5;241;43m.\u001b[39;49m\u001b[43mcompute\u001b[49m\u001b[43m(\u001b[49m\n\u001b[1;32m    759\u001b[0m \u001b[43m        \u001b[49m\u001b[43mbody\u001b[49m\u001b[38;5;241;43m=\u001b[39;49m\u001b[43mbody\u001b[49m\u001b[43m,\u001b[49m\n\u001b[1;32m    760\u001b[0m \u001b[43m        \u001b[49m\u001b[43mproject\u001b[49m\u001b[38;5;241;43m=\u001b[39;49m\u001b[43m_get_projects_path\u001b[49m\u001b[43m(\u001b[49m\u001b[43m)\u001b[49m\u001b[43m,\u001b[49m\n\u001b[1;32m    761\u001b[0m \u001b[43m        \u001b[49m\u001b[43mprettyPrint\u001b[49m\u001b[38;5;241;43m=\u001b[39;49m\u001b[38;5;28;43;01mFalse\u001b[39;49;00m\u001b[43m)\u001b[49m\u001b[43m)\u001b[49m[\u001b[38;5;124m'\u001b[39m\u001b[38;5;124mresult\u001b[39m\u001b[38;5;124m'\u001b[39m]\n",
      "File \u001b[0;32m~/miniconda3/envs/hybridmodels/lib/python3.10/site-packages/ee/data.py:330\u001b[0m, in \u001b[0;36m_execute_cloud_call\u001b[0;34m(call, num_retries)\u001b[0m\n\u001b[1;32m    329\u001b[0m \u001b[38;5;28;01mexcept\u001b[39;00m googleapiclient\u001b[38;5;241m.\u001b[39merrors\u001b[38;5;241m.\u001b[39mHttpError \u001b[38;5;28;01mas\u001b[39;00m e:\n\u001b[0;32m--> 330\u001b[0m   \u001b[38;5;28;01mraise\u001b[39;00m _translate_cloud_exception(e)\n",
      "\u001b[0;31mEEException\u001b[0m: GeometryConstructors.Polygon: Inputs must be Number, List, or Geometry. Found type 'List<List<Float>>'.",
      "\nDuring handling of the above exception, another exception occurred:\n",
      "\u001b[0;31mException\u001b[0m                                 Traceback (most recent call last)",
      "Cell \u001b[0;32mIn [102], line 12\u001b[0m\n\u001b[1;32m      9\u001b[0m polygon \u001b[38;5;241m=\u001b[39m masked_flood\u001b[38;5;241m.\u001b[39mreduceToVectors(scale\u001b[38;5;241m=\u001b[39mscale, geometry\u001b[38;5;241m=\u001b[39mmasked_flood\u001b[38;5;241m.\u001b[39mgeometry(), eightConnected\u001b[38;5;241m=\u001b[39m\u001b[38;5;28;01mTrue\u001b[39;00m)\n\u001b[1;32m     11\u001b[0m \u001b[38;5;66;03m# convert the polygon to a geodataframe\u001b[39;00m\n\u001b[0;32m---> 12\u001b[0m gdf \u001b[38;5;241m=\u001b[39m \u001b[43mgeemap\u001b[49m\u001b[38;5;241;43m.\u001b[39;49m\u001b[43mee_to_geopandas\u001b[49m\u001b[43m(\u001b[49m\u001b[43mpolygon\u001b[49m\u001b[43m)\u001b[49m\n\u001b[1;32m     14\u001b[0m \u001b[38;5;66;03m# display the geodataframe\u001b[39;00m\n\u001b[1;32m     15\u001b[0m gdf\u001b[38;5;241m.\u001b[39mplot()\n",
      "File \u001b[0;32m~/miniconda3/envs/hybridmodels/lib/python3.10/site-packages/geemap/common.py:8832\u001b[0m, in \u001b[0;36mee_to_gdf\u001b[0;34m(ee_object, selectors, verbose)\u001b[0m\n\u001b[1;32m   8829\u001b[0m \u001b[38;5;28;01mif\u001b[39;00m \u001b[38;5;129;01mnot\u001b[39;00m \u001b[38;5;28misinstance\u001b[39m(ee_object, ee\u001b[38;5;241m.\u001b[39mFeatureCollection):\n\u001b[1;32m   8830\u001b[0m     \u001b[38;5;28;01mraise\u001b[39;00m \u001b[38;5;167;01mTypeError\u001b[39;00m(\u001b[38;5;124m\"\u001b[39m\u001b[38;5;124mee_object must be an ee.FeatureCollection\u001b[39m\u001b[38;5;124m\"\u001b[39m)\n\u001b[0;32m-> 8832\u001b[0m collection \u001b[38;5;241m=\u001b[39m \u001b[43mee_to_geojson\u001b[49m\u001b[43m(\u001b[49m\u001b[43mee_object\u001b[49m\u001b[43m)\u001b[49m\n\u001b[1;32m   8833\u001b[0m gdf \u001b[38;5;241m=\u001b[39m gpd\u001b[38;5;241m.\u001b[39mGeoDataFrame\u001b[38;5;241m.\u001b[39mfrom_features(collection[\u001b[38;5;124m\"\u001b[39m\u001b[38;5;124mfeatures\u001b[39m\u001b[38;5;124m\"\u001b[39m])\n\u001b[1;32m   8835\u001b[0m \u001b[38;5;28;01mreturn\u001b[39;00m gdf\n",
      "File \u001b[0;32m~/miniconda3/envs/hybridmodels/lib/python3.10/site-packages/geemap/common.py:1334\u001b[0m, in \u001b[0;36mee_to_geojson\u001b[0;34m(ee_object, filename, indent, **kwargs)\u001b[0m\n\u001b[1;32m   1332\u001b[0m         \u001b[38;5;28mprint\u001b[39m(\u001b[38;5;124m\"\u001b[39m\u001b[38;5;124mCould not convert the Earth Engine object to geojson\u001b[39m\u001b[38;5;124m\"\u001b[39m)\n\u001b[1;32m   1333\u001b[0m \u001b[38;5;28;01mexcept\u001b[39;00m \u001b[38;5;167;01mException\u001b[39;00m \u001b[38;5;28;01mas\u001b[39;00m e:\n\u001b[0;32m-> 1334\u001b[0m     \u001b[38;5;28;01mraise\u001b[39;00m \u001b[38;5;167;01mException\u001b[39;00m(e)\n",
      "\u001b[0;31mException\u001b[0m: GeometryConstructors.Polygon: Inputs must be Number, List, or Geometry. Found type 'List<List<Float>>'."
     ]
    }
   ],
   "source": [
    "import geemap\n",
    "\n",
    "# get the projection and scale of the image\n",
    "projection = storm.projection()\n",
    "scale = projection.nominalScale()\n",
    "\n",
    "clipped_flood = storm.select('flooded').clip(aoi_ee)\n",
    "masked_flood = clipped_flood.eq(1)\n",
    "polygon = masked_flood.reduceToVectors(scale=scale, geometry=masked_flood.geometry(), eightConnected=True)\n",
    "\n",
    "# convert the polygon to a geodataframe\n",
    "gdf = geemap.ee_to_geopandas(polygon)\n",
    "\n",
    "# display the geodataframe\n",
    "gdf.plot()"
   ]
  },
  {
   "cell_type": "code",
   "execution_count": 109,
   "id": "91ffbca0",
   "metadata": {},
   "outputs": [
    {
     "name": "stdout",
     "output_type": "stream",
     "text": [
      "Generating URL ...\n",
      "An error occurred while downloading.\n",
      "GeometryConstructors.Polygon: Inputs must be Number, List, or Geometry. Found type 'List<List<Float>>'.\n"
     ]
    }
   ],
   "source": [
    "geemap.ee_export_image(\n",
    "    storm.select('flooded'), filename='test.tif', scale=90, region=aoi_ee, file_per_band=True\n",
    ")"
   ]
  },
  {
   "cell_type": "code",
   "execution_count": 111,
   "id": "ddc2b5a5",
   "metadata": {},
   "outputs": [
    {
     "data": {
      "text/plain": [
       "ee.geometry.Geometry"
      ]
     },
     "execution_count": 111,
     "metadata": {},
     "output_type": "execute_result"
    }
   ],
   "source": [
    "type(aoi_ee)"
   ]
  },
  {
   "cell_type": "code",
   "execution_count": 112,
   "id": "a1ed3dc4",
   "metadata": {},
   "outputs": [
    {
     "data": {
      "text/plain": [
       "<ee.image.Image at 0x36cc89930>"
      ]
     },
     "execution_count": 112,
     "metadata": {},
     "output_type": "execute_result"
    }
   ],
   "source": [
    "storm.select('flooded')"
   ]
  },
  {
   "cell_type": "code",
   "execution_count": 106,
   "id": "5026bb3a",
   "metadata": {},
   "outputs": [
    {
     "ename": "Exception",
     "evalue": "Collection query aborted after accumulating over 5000 elements.",
     "output_type": "error",
     "traceback": [
      "\u001b[0;31m---------------------------------------------------------------------------\u001b[0m",
      "\u001b[0;31mHttpError\u001b[0m                                 Traceback (most recent call last)",
      "File \u001b[0;32m~/miniconda3/envs/hybridmodels/lib/python3.10/site-packages/ee/data.py:328\u001b[0m, in \u001b[0;36m_execute_cloud_call\u001b[0;34m(call, num_retries)\u001b[0m\n\u001b[1;32m    327\u001b[0m \u001b[38;5;28;01mtry\u001b[39;00m:\n\u001b[0;32m--> 328\u001b[0m   \u001b[38;5;28;01mreturn\u001b[39;00m \u001b[43mcall\u001b[49m\u001b[38;5;241;43m.\u001b[39;49m\u001b[43mexecute\u001b[49m\u001b[43m(\u001b[49m\u001b[43mnum_retries\u001b[49m\u001b[38;5;241;43m=\u001b[39;49m\u001b[43mnum_retries\u001b[49m\u001b[43m)\u001b[49m\n\u001b[1;32m    329\u001b[0m \u001b[38;5;28;01mexcept\u001b[39;00m googleapiclient\u001b[38;5;241m.\u001b[39merrors\u001b[38;5;241m.\u001b[39mHttpError \u001b[38;5;28;01mas\u001b[39;00m e:\n",
      "File \u001b[0;32m~/miniconda3/envs/hybridmodels/lib/python3.10/site-packages/googleapiclient/_helpers.py:134\u001b[0m, in \u001b[0;36mpositional.<locals>.positional_decorator.<locals>.positional_wrapper\u001b[0;34m(*args, **kwargs)\u001b[0m\n\u001b[1;32m    133\u001b[0m         logger\u001b[38;5;241m.\u001b[39mwarning(message)\n\u001b[0;32m--> 134\u001b[0m \u001b[38;5;28;01mreturn\u001b[39;00m \u001b[43mwrapped\u001b[49m\u001b[43m(\u001b[49m\u001b[38;5;241;43m*\u001b[39;49m\u001b[43margs\u001b[49m\u001b[43m,\u001b[49m\u001b[43m \u001b[49m\u001b[38;5;241;43m*\u001b[39;49m\u001b[38;5;241;43m*\u001b[39;49m\u001b[43mkwargs\u001b[49m\u001b[43m)\u001b[49m\n",
      "File \u001b[0;32m~/miniconda3/envs/hybridmodels/lib/python3.10/site-packages/googleapiclient/http.py:915\u001b[0m, in \u001b[0;36mHttpRequest.execute\u001b[0;34m(self, http, num_retries)\u001b[0m\n\u001b[1;32m    914\u001b[0m \u001b[38;5;28;01mif\u001b[39;00m resp\u001b[38;5;241m.\u001b[39mstatus \u001b[38;5;241m>\u001b[39m\u001b[38;5;241m=\u001b[39m \u001b[38;5;241m300\u001b[39m:\n\u001b[0;32m--> 915\u001b[0m     \u001b[38;5;28;01mraise\u001b[39;00m HttpError(resp, content, uri\u001b[38;5;241m=\u001b[39m\u001b[38;5;28mself\u001b[39m\u001b[38;5;241m.\u001b[39muri)\n\u001b[1;32m    916\u001b[0m \u001b[38;5;28;01mreturn\u001b[39;00m \u001b[38;5;28mself\u001b[39m\u001b[38;5;241m.\u001b[39mpostproc(resp, content)\n",
      "\u001b[0;31mHttpError\u001b[0m: <HttpError 400 when requesting https://earthengine.googleapis.com/v1alpha/projects/earthengine-legacy/value:compute?prettyPrint=false&alt=json returned \"Collection query aborted after accumulating over 5000 elements.\". Details: \"Collection query aborted after accumulating over 5000 elements.\">",
      "\nDuring handling of the above exception, another exception occurred:\n",
      "\u001b[0;31mEEException\u001b[0m                               Traceback (most recent call last)",
      "File \u001b[0;32m~/miniconda3/envs/hybridmodels/lib/python3.10/site-packages/geemap/common.py:1320\u001b[0m, in \u001b[0;36mee_to_geojson\u001b[0;34m(ee_object, filename, indent, **kwargs)\u001b[0m\n\u001b[1;32m   1315\u001b[0m \u001b[38;5;28;01mif\u001b[39;00m (\n\u001b[1;32m   1316\u001b[0m     \u001b[38;5;28misinstance\u001b[39m(ee_object, ee\u001b[38;5;241m.\u001b[39mgeometry\u001b[38;5;241m.\u001b[39mGeometry)\n\u001b[1;32m   1317\u001b[0m     \u001b[38;5;129;01mor\u001b[39;00m \u001b[38;5;28misinstance\u001b[39m(ee_object, ee\u001b[38;5;241m.\u001b[39mfeature\u001b[38;5;241m.\u001b[39mFeature)\n\u001b[1;32m   1318\u001b[0m     \u001b[38;5;129;01mor\u001b[39;00m \u001b[38;5;28misinstance\u001b[39m(ee_object, ee\u001b[38;5;241m.\u001b[39mfeaturecollection\u001b[38;5;241m.\u001b[39mFeatureCollection)\n\u001b[1;32m   1319\u001b[0m ):\n\u001b[0;32m-> 1320\u001b[0m     json_object \u001b[38;5;241m=\u001b[39m \u001b[43mee_object\u001b[49m\u001b[38;5;241;43m.\u001b[39;49m\u001b[43mgetInfo\u001b[49m\u001b[43m(\u001b[49m\u001b[43m)\u001b[49m\n\u001b[1;32m   1321\u001b[0m     \u001b[38;5;28;01mif\u001b[39;00m filename \u001b[38;5;129;01mis\u001b[39;00m \u001b[38;5;129;01mnot\u001b[39;00m \u001b[38;5;28;01mNone\u001b[39;00m:\n",
      "File \u001b[0;32m~/miniconda3/envs/hybridmodels/lib/python3.10/site-packages/ee/collection.py:133\u001b[0m, in \u001b[0;36mCollection.getInfo\u001b[0;34m(self)\u001b[0m\n\u001b[1;32m    121\u001b[0m \u001b[38;5;124;03m\"\"\"Returns all the known information about this collection.\u001b[39;00m\n\u001b[1;32m    122\u001b[0m \n\u001b[1;32m    123\u001b[0m \u001b[38;5;124;03mThis function makes an REST call to to retrieve all the known information\u001b[39;00m\n\u001b[0;32m   (...)\u001b[0m\n\u001b[1;32m    131\u001b[0m \u001b[38;5;124;03m       properties.\u001b[39;00m\n\u001b[1;32m    132\u001b[0m \u001b[38;5;124;03m\"\"\"\u001b[39;00m\n\u001b[0;32m--> 133\u001b[0m \u001b[38;5;28;01mreturn\u001b[39;00m \u001b[38;5;28;43msuper\u001b[39;49m\u001b[43m(\u001b[49m\u001b[43mCollection\u001b[49m\u001b[43m,\u001b[49m\u001b[43m \u001b[49m\u001b[38;5;28;43mself\u001b[39;49m\u001b[43m)\u001b[49m\u001b[38;5;241;43m.\u001b[39;49m\u001b[43mgetInfo\u001b[49m\u001b[43m(\u001b[49m\u001b[43m)\u001b[49m\n",
      "File \u001b[0;32m~/miniconda3/envs/hybridmodels/lib/python3.10/site-packages/ee/computedobject.py:98\u001b[0m, in \u001b[0;36mComputedObject.getInfo\u001b[0;34m(self)\u001b[0m\n\u001b[1;32m     93\u001b[0m \u001b[38;5;124;03m\"\"\"Fetch and return information about this object.\u001b[39;00m\n\u001b[1;32m     94\u001b[0m \n\u001b[1;32m     95\u001b[0m \u001b[38;5;124;03mReturns:\u001b[39;00m\n\u001b[1;32m     96\u001b[0m \u001b[38;5;124;03m  The object can evaluate to anything.\u001b[39;00m\n\u001b[1;32m     97\u001b[0m \u001b[38;5;124;03m\"\"\"\u001b[39;00m\n\u001b[0;32m---> 98\u001b[0m \u001b[38;5;28;01mreturn\u001b[39;00m \u001b[43mdata\u001b[49m\u001b[38;5;241;43m.\u001b[39;49m\u001b[43mcomputeValue\u001b[49m\u001b[43m(\u001b[49m\u001b[38;5;28;43mself\u001b[39;49m\u001b[43m)\u001b[49m\n",
      "File \u001b[0;32m~/miniconda3/envs/hybridmodels/lib/python3.10/site-packages/ee/data.py:757\u001b[0m, in \u001b[0;36mcomputeValue\u001b[0;34m(obj)\u001b[0m\n\u001b[1;32m    755\u001b[0m   body[\u001b[38;5;124m'\u001b[39m\u001b[38;5;124mworkloadTag\u001b[39m\u001b[38;5;124m'\u001b[39m] \u001b[38;5;241m=\u001b[39m workload_tag\n\u001b[0;32m--> 757\u001b[0m \u001b[38;5;28;01mreturn\u001b[39;00m \u001b[43m_execute_cloud_call\u001b[49m\u001b[43m(\u001b[49m\n\u001b[1;32m    758\u001b[0m \u001b[43m    \u001b[49m\u001b[43m_get_cloud_api_resource\u001b[49m\u001b[43m(\u001b[49m\u001b[43m)\u001b[49m\u001b[38;5;241;43m.\u001b[39;49m\u001b[43mprojects\u001b[49m\u001b[43m(\u001b[49m\u001b[43m)\u001b[49m\u001b[38;5;241;43m.\u001b[39;49m\u001b[43mvalue\u001b[49m\u001b[43m(\u001b[49m\u001b[43m)\u001b[49m\u001b[38;5;241;43m.\u001b[39;49m\u001b[43mcompute\u001b[49m\u001b[43m(\u001b[49m\n\u001b[1;32m    759\u001b[0m \u001b[43m        \u001b[49m\u001b[43mbody\u001b[49m\u001b[38;5;241;43m=\u001b[39;49m\u001b[43mbody\u001b[49m\u001b[43m,\u001b[49m\n\u001b[1;32m    760\u001b[0m \u001b[43m        \u001b[49m\u001b[43mproject\u001b[49m\u001b[38;5;241;43m=\u001b[39;49m\u001b[43m_get_projects_path\u001b[49m\u001b[43m(\u001b[49m\u001b[43m)\u001b[49m\u001b[43m,\u001b[49m\n\u001b[1;32m    761\u001b[0m \u001b[43m        \u001b[49m\u001b[43mprettyPrint\u001b[49m\u001b[38;5;241;43m=\u001b[39;49m\u001b[38;5;28;43;01mFalse\u001b[39;49;00m\u001b[43m)\u001b[49m\u001b[43m)\u001b[49m[\u001b[38;5;124m'\u001b[39m\u001b[38;5;124mresult\u001b[39m\u001b[38;5;124m'\u001b[39m]\n",
      "File \u001b[0;32m~/miniconda3/envs/hybridmodels/lib/python3.10/site-packages/ee/data.py:330\u001b[0m, in \u001b[0;36m_execute_cloud_call\u001b[0;34m(call, num_retries)\u001b[0m\n\u001b[1;32m    329\u001b[0m \u001b[38;5;28;01mexcept\u001b[39;00m googleapiclient\u001b[38;5;241m.\u001b[39merrors\u001b[38;5;241m.\u001b[39mHttpError \u001b[38;5;28;01mas\u001b[39;00m e:\n\u001b[0;32m--> 330\u001b[0m   \u001b[38;5;28;01mraise\u001b[39;00m _translate_cloud_exception(e)\n",
      "\u001b[0;31mEEException\u001b[0m: Collection query aborted after accumulating over 5000 elements.",
      "\nDuring handling of the above exception, another exception occurred:\n",
      "\u001b[0;31mException\u001b[0m                                 Traceback (most recent call last)",
      "Cell \u001b[0;32mIn [106], line 21\u001b[0m\n\u001b[1;32m     18\u001b[0m polygon \u001b[38;5;241m=\u001b[39m mask\u001b[38;5;241m.\u001b[39mreduceToVectors(scale\u001b[38;5;241m=\u001b[39mscale, geometry\u001b[38;5;241m=\u001b[39mmask\u001b[38;5;241m.\u001b[39mgeometry(), eightConnected\u001b[38;5;241m=\u001b[39m\u001b[38;5;28;01mTrue\u001b[39;00m, bestEffort\u001b[38;5;241m=\u001b[39m\u001b[38;5;28;01mTrue\u001b[39;00m)\n\u001b[1;32m     20\u001b[0m \u001b[38;5;66;03m# convert the polygon to a geodataframe\u001b[39;00m\n\u001b[0;32m---> 21\u001b[0m gdf \u001b[38;5;241m=\u001b[39m \u001b[43mgeemap\u001b[49m\u001b[38;5;241;43m.\u001b[39;49m\u001b[43mee_to_geopandas\u001b[49m\u001b[43m(\u001b[49m\u001b[43mpolygon\u001b[49m\u001b[43m)\u001b[49m\n\u001b[1;32m     23\u001b[0m \u001b[38;5;66;03m# display the geodataframe\u001b[39;00m\n\u001b[1;32m     24\u001b[0m gdf\u001b[38;5;241m.\u001b[39mplot()\n",
      "File \u001b[0;32m~/miniconda3/envs/hybridmodels/lib/python3.10/site-packages/geemap/common.py:8832\u001b[0m, in \u001b[0;36mee_to_gdf\u001b[0;34m(ee_object, selectors, verbose)\u001b[0m\n\u001b[1;32m   8829\u001b[0m \u001b[38;5;28;01mif\u001b[39;00m \u001b[38;5;129;01mnot\u001b[39;00m \u001b[38;5;28misinstance\u001b[39m(ee_object, ee\u001b[38;5;241m.\u001b[39mFeatureCollection):\n\u001b[1;32m   8830\u001b[0m     \u001b[38;5;28;01mraise\u001b[39;00m \u001b[38;5;167;01mTypeError\u001b[39;00m(\u001b[38;5;124m\"\u001b[39m\u001b[38;5;124mee_object must be an ee.FeatureCollection\u001b[39m\u001b[38;5;124m\"\u001b[39m)\n\u001b[0;32m-> 8832\u001b[0m collection \u001b[38;5;241m=\u001b[39m \u001b[43mee_to_geojson\u001b[49m\u001b[43m(\u001b[49m\u001b[43mee_object\u001b[49m\u001b[43m)\u001b[49m\n\u001b[1;32m   8833\u001b[0m gdf \u001b[38;5;241m=\u001b[39m gpd\u001b[38;5;241m.\u001b[39mGeoDataFrame\u001b[38;5;241m.\u001b[39mfrom_features(collection[\u001b[38;5;124m\"\u001b[39m\u001b[38;5;124mfeatures\u001b[39m\u001b[38;5;124m\"\u001b[39m])\n\u001b[1;32m   8835\u001b[0m \u001b[38;5;28;01mreturn\u001b[39;00m gdf\n",
      "File \u001b[0;32m~/miniconda3/envs/hybridmodels/lib/python3.10/site-packages/geemap/common.py:1334\u001b[0m, in \u001b[0;36mee_to_geojson\u001b[0;34m(ee_object, filename, indent, **kwargs)\u001b[0m\n\u001b[1;32m   1332\u001b[0m         \u001b[38;5;28mprint\u001b[39m(\u001b[38;5;124m\"\u001b[39m\u001b[38;5;124mCould not convert the Earth Engine object to geojson\u001b[39m\u001b[38;5;124m\"\u001b[39m)\n\u001b[1;32m   1333\u001b[0m \u001b[38;5;28;01mexcept\u001b[39;00m \u001b[38;5;167;01mException\u001b[39;00m \u001b[38;5;28;01mas\u001b[39;00m e:\n\u001b[0;32m-> 1334\u001b[0m     \u001b[38;5;28;01mraise\u001b[39;00m \u001b[38;5;167;01mException\u001b[39;00m(e)\n",
      "\u001b[0;31mException\u001b[0m: Collection query aborted after accumulating over 5000 elements."
     ]
    }
   ],
   "source": [
    "import geopandas as gpd\n",
    "import ee\n",
    "import geemap\n",
    "\n",
    "ee.Initialize()\n",
    "\n",
    "# load the image\n",
    "image = storm.select('flooded')\n",
    "\n",
    "# get the projection and scale of the image\n",
    "projection = image.projection()\n",
    "scale = projection.nominalScale()\n",
    "\n",
    "# convert the image to a binary mask where 1 indicates the value you're interested in\n",
    "mask = image.eq(1)\n",
    "\n",
    "# convert the mask to a polygon\n",
    "polygon = mask.reduceToVectors(scale=scale, geometry=mask.geometry(), eightConnected=True, bestEffort=True)\n",
    "\n",
    "# convert the polygon to a geodataframe\n",
    "gdf = geemap.ee_to_geopandas(polygon)\n",
    "\n",
    "# display the geodataframe\n",
    "gdf.plot()\n",
    "\n"
   ]
  },
  {
   "cell_type": "code",
   "execution_count": 105,
   "id": "8ba4f56f",
   "metadata": {},
   "outputs": [
    {
     "name": "stdout",
     "output_type": "stream",
     "text": [
      "Help on function ee_to_gdf in module geemap.common:\n",
      "\n",
      "ee_to_gdf(ee_object, selectors=None, verbose=False)\n",
      "    Converts an ee.FeatureCollection to Geopandas dataframe.\n",
      "    \n",
      "    Args:\n",
      "        ee_object (ee.FeatureCollection): ee.FeatureCollection.\n",
      "        selectors (list, optional): A list of attributes to export. Defaults to None.\n",
      "        verbose (bool, optional): Whether to print out descriptive text. Defaults to False.\n",
      "    \n",
      "    Raises:\n",
      "        TypeError: ee_object must be an ee.FeatureCollection.\n",
      "    \n",
      "    Returns:\n",
      "        gpd.GeoDataFrame: geopandas.GeoDataFrame\n",
      "\n"
     ]
    }
   ],
   "source": [
    "help(geemap.ee_to_geopandas)"
   ]
  },
  {
   "cell_type": "code",
   "execution_count": null,
   "id": "6dab9a10",
   "metadata": {},
   "outputs": [],
   "source": []
  },
  {
   "cell_type": "code",
   "execution_count": null,
   "id": "5791d799",
   "metadata": {},
   "outputs": [],
   "source": []
  },
  {
   "cell_type": "code",
   "execution_count": 95,
   "id": "498865e3",
   "metadata": {},
   "outputs": [
    {
     "data": {
      "text/plain": [
       "ee.featurecollection.FeatureCollection"
      ]
     },
     "execution_count": 95,
     "metadata": {},
     "output_type": "execute_result"
    }
   ],
   "source": [
    "mask = image.eq(1)\n",
    "\n",
    "# convert the mask to a polygon\n",
    "polygon = mask.reduceToVectors(scale=scale, geometry=mask.geometry(), eightConnected=True)"
   ]
  },
  {
   "cell_type": "code",
   "execution_count": 91,
   "id": "2f43fd35",
   "metadata": {},
   "outputs": [
    {
     "ename": "Exception",
     "evalue": "GeometryConstructors.Polygon: Inputs must be Number, List, or Geometry. Found type 'List<List<Float>>'.",
     "output_type": "error",
     "traceback": [
      "\u001b[0;31m---------------------------------------------------------------------------\u001b[0m",
      "\u001b[0;31mHttpError\u001b[0m                                 Traceback (most recent call last)",
      "File \u001b[0;32m~/miniconda3/envs/hybridmodels/lib/python3.10/site-packages/ee/data.py:328\u001b[0m, in \u001b[0;36m_execute_cloud_call\u001b[0;34m(call, num_retries)\u001b[0m\n\u001b[1;32m    327\u001b[0m \u001b[38;5;28;01mtry\u001b[39;00m:\n\u001b[0;32m--> 328\u001b[0m   \u001b[38;5;28;01mreturn\u001b[39;00m \u001b[43mcall\u001b[49m\u001b[38;5;241;43m.\u001b[39;49m\u001b[43mexecute\u001b[49m\u001b[43m(\u001b[49m\u001b[43mnum_retries\u001b[49m\u001b[38;5;241;43m=\u001b[39;49m\u001b[43mnum_retries\u001b[49m\u001b[43m)\u001b[49m\n\u001b[1;32m    329\u001b[0m \u001b[38;5;28;01mexcept\u001b[39;00m googleapiclient\u001b[38;5;241m.\u001b[39merrors\u001b[38;5;241m.\u001b[39mHttpError \u001b[38;5;28;01mas\u001b[39;00m e:\n",
      "File \u001b[0;32m~/miniconda3/envs/hybridmodels/lib/python3.10/site-packages/googleapiclient/_helpers.py:134\u001b[0m, in \u001b[0;36mpositional.<locals>.positional_decorator.<locals>.positional_wrapper\u001b[0;34m(*args, **kwargs)\u001b[0m\n\u001b[1;32m    133\u001b[0m         logger\u001b[38;5;241m.\u001b[39mwarning(message)\n\u001b[0;32m--> 134\u001b[0m \u001b[38;5;28;01mreturn\u001b[39;00m \u001b[43mwrapped\u001b[49m\u001b[43m(\u001b[49m\u001b[38;5;241;43m*\u001b[39;49m\u001b[43margs\u001b[49m\u001b[43m,\u001b[49m\u001b[43m \u001b[49m\u001b[38;5;241;43m*\u001b[39;49m\u001b[38;5;241;43m*\u001b[39;49m\u001b[43mkwargs\u001b[49m\u001b[43m)\u001b[49m\n",
      "File \u001b[0;32m~/miniconda3/envs/hybridmodels/lib/python3.10/site-packages/googleapiclient/http.py:915\u001b[0m, in \u001b[0;36mHttpRequest.execute\u001b[0;34m(self, http, num_retries)\u001b[0m\n\u001b[1;32m    914\u001b[0m \u001b[38;5;28;01mif\u001b[39;00m resp\u001b[38;5;241m.\u001b[39mstatus \u001b[38;5;241m>\u001b[39m\u001b[38;5;241m=\u001b[39m \u001b[38;5;241m300\u001b[39m:\n\u001b[0;32m--> 915\u001b[0m     \u001b[38;5;28;01mraise\u001b[39;00m HttpError(resp, content, uri\u001b[38;5;241m=\u001b[39m\u001b[38;5;28mself\u001b[39m\u001b[38;5;241m.\u001b[39muri)\n\u001b[1;32m    916\u001b[0m \u001b[38;5;28;01mreturn\u001b[39;00m \u001b[38;5;28mself\u001b[39m\u001b[38;5;241m.\u001b[39mpostproc(resp, content)\n",
      "\u001b[0;31mHttpError\u001b[0m: <HttpError 400 when requesting https://earthengine.googleapis.com/v1alpha/projects/earthengine-legacy/value:compute?prettyPrint=false&alt=json returned \"GeometryConstructors.Polygon: Inputs must be Number, List, or Geometry. Found type 'List<List<Float>>'.\". Details: \"GeometryConstructors.Polygon: Inputs must be Number, List, or Geometry. Found type 'List<List<Float>>'.\">",
      "\nDuring handling of the above exception, another exception occurred:\n",
      "\u001b[0;31mEEException\u001b[0m                               Traceback (most recent call last)",
      "File \u001b[0;32m~/miniconda3/envs/hybridmodels/lib/python3.10/site-packages/geemap/common.py:1320\u001b[0m, in \u001b[0;36mee_to_geojson\u001b[0;34m(ee_object, filename, indent, **kwargs)\u001b[0m\n\u001b[1;32m   1315\u001b[0m \u001b[38;5;28;01mif\u001b[39;00m (\n\u001b[1;32m   1316\u001b[0m     \u001b[38;5;28misinstance\u001b[39m(ee_object, ee\u001b[38;5;241m.\u001b[39mgeometry\u001b[38;5;241m.\u001b[39mGeometry)\n\u001b[1;32m   1317\u001b[0m     \u001b[38;5;129;01mor\u001b[39;00m \u001b[38;5;28misinstance\u001b[39m(ee_object, ee\u001b[38;5;241m.\u001b[39mfeature\u001b[38;5;241m.\u001b[39mFeature)\n\u001b[1;32m   1318\u001b[0m     \u001b[38;5;129;01mor\u001b[39;00m \u001b[38;5;28misinstance\u001b[39m(ee_object, ee\u001b[38;5;241m.\u001b[39mfeaturecollection\u001b[38;5;241m.\u001b[39mFeatureCollection)\n\u001b[1;32m   1319\u001b[0m ):\n\u001b[0;32m-> 1320\u001b[0m     json_object \u001b[38;5;241m=\u001b[39m \u001b[43mee_object\u001b[49m\u001b[38;5;241;43m.\u001b[39;49m\u001b[43mgetInfo\u001b[49m\u001b[43m(\u001b[49m\u001b[43m)\u001b[49m\n\u001b[1;32m   1321\u001b[0m     \u001b[38;5;28;01mif\u001b[39;00m filename \u001b[38;5;129;01mis\u001b[39;00m \u001b[38;5;129;01mnot\u001b[39;00m \u001b[38;5;28;01mNone\u001b[39;00m:\n",
      "File \u001b[0;32m~/miniconda3/envs/hybridmodels/lib/python3.10/site-packages/ee/collection.py:133\u001b[0m, in \u001b[0;36mCollection.getInfo\u001b[0;34m(self)\u001b[0m\n\u001b[1;32m    121\u001b[0m \u001b[38;5;124;03m\"\"\"Returns all the known information about this collection.\u001b[39;00m\n\u001b[1;32m    122\u001b[0m \n\u001b[1;32m    123\u001b[0m \u001b[38;5;124;03mThis function makes an REST call to to retrieve all the known information\u001b[39;00m\n\u001b[0;32m   (...)\u001b[0m\n\u001b[1;32m    131\u001b[0m \u001b[38;5;124;03m       properties.\u001b[39;00m\n\u001b[1;32m    132\u001b[0m \u001b[38;5;124;03m\"\"\"\u001b[39;00m\n\u001b[0;32m--> 133\u001b[0m \u001b[38;5;28;01mreturn\u001b[39;00m \u001b[38;5;28;43msuper\u001b[39;49m\u001b[43m(\u001b[49m\u001b[43mCollection\u001b[49m\u001b[43m,\u001b[49m\u001b[43m \u001b[49m\u001b[38;5;28;43mself\u001b[39;49m\u001b[43m)\u001b[49m\u001b[38;5;241;43m.\u001b[39;49m\u001b[43mgetInfo\u001b[49m\u001b[43m(\u001b[49m\u001b[43m)\u001b[49m\n",
      "File \u001b[0;32m~/miniconda3/envs/hybridmodels/lib/python3.10/site-packages/ee/computedobject.py:98\u001b[0m, in \u001b[0;36mComputedObject.getInfo\u001b[0;34m(self)\u001b[0m\n\u001b[1;32m     93\u001b[0m \u001b[38;5;124;03m\"\"\"Fetch and return information about this object.\u001b[39;00m\n\u001b[1;32m     94\u001b[0m \n\u001b[1;32m     95\u001b[0m \u001b[38;5;124;03mReturns:\u001b[39;00m\n\u001b[1;32m     96\u001b[0m \u001b[38;5;124;03m  The object can evaluate to anything.\u001b[39;00m\n\u001b[1;32m     97\u001b[0m \u001b[38;5;124;03m\"\"\"\u001b[39;00m\n\u001b[0;32m---> 98\u001b[0m \u001b[38;5;28;01mreturn\u001b[39;00m \u001b[43mdata\u001b[49m\u001b[38;5;241;43m.\u001b[39;49m\u001b[43mcomputeValue\u001b[49m\u001b[43m(\u001b[49m\u001b[38;5;28;43mself\u001b[39;49m\u001b[43m)\u001b[49m\n",
      "File \u001b[0;32m~/miniconda3/envs/hybridmodels/lib/python3.10/site-packages/ee/data.py:757\u001b[0m, in \u001b[0;36mcomputeValue\u001b[0;34m(obj)\u001b[0m\n\u001b[1;32m    755\u001b[0m   body[\u001b[38;5;124m'\u001b[39m\u001b[38;5;124mworkloadTag\u001b[39m\u001b[38;5;124m'\u001b[39m] \u001b[38;5;241m=\u001b[39m workload_tag\n\u001b[0;32m--> 757\u001b[0m \u001b[38;5;28;01mreturn\u001b[39;00m \u001b[43m_execute_cloud_call\u001b[49m\u001b[43m(\u001b[49m\n\u001b[1;32m    758\u001b[0m \u001b[43m    \u001b[49m\u001b[43m_get_cloud_api_resource\u001b[49m\u001b[43m(\u001b[49m\u001b[43m)\u001b[49m\u001b[38;5;241;43m.\u001b[39;49m\u001b[43mprojects\u001b[49m\u001b[43m(\u001b[49m\u001b[43m)\u001b[49m\u001b[38;5;241;43m.\u001b[39;49m\u001b[43mvalue\u001b[49m\u001b[43m(\u001b[49m\u001b[43m)\u001b[49m\u001b[38;5;241;43m.\u001b[39;49m\u001b[43mcompute\u001b[49m\u001b[43m(\u001b[49m\n\u001b[1;32m    759\u001b[0m \u001b[43m        \u001b[49m\u001b[43mbody\u001b[49m\u001b[38;5;241;43m=\u001b[39;49m\u001b[43mbody\u001b[49m\u001b[43m,\u001b[49m\n\u001b[1;32m    760\u001b[0m \u001b[43m        \u001b[49m\u001b[43mproject\u001b[49m\u001b[38;5;241;43m=\u001b[39;49m\u001b[43m_get_projects_path\u001b[49m\u001b[43m(\u001b[49m\u001b[43m)\u001b[49m\u001b[43m,\u001b[49m\n\u001b[1;32m    761\u001b[0m \u001b[43m        \u001b[49m\u001b[43mprettyPrint\u001b[49m\u001b[38;5;241;43m=\u001b[39;49m\u001b[38;5;28;43;01mFalse\u001b[39;49;00m\u001b[43m)\u001b[49m\u001b[43m)\u001b[49m[\u001b[38;5;124m'\u001b[39m\u001b[38;5;124mresult\u001b[39m\u001b[38;5;124m'\u001b[39m]\n",
      "File \u001b[0;32m~/miniconda3/envs/hybridmodels/lib/python3.10/site-packages/ee/data.py:330\u001b[0m, in \u001b[0;36m_execute_cloud_call\u001b[0;34m(call, num_retries)\u001b[0m\n\u001b[1;32m    329\u001b[0m \u001b[38;5;28;01mexcept\u001b[39;00m googleapiclient\u001b[38;5;241m.\u001b[39merrors\u001b[38;5;241m.\u001b[39mHttpError \u001b[38;5;28;01mas\u001b[39;00m e:\n\u001b[0;32m--> 330\u001b[0m   \u001b[38;5;28;01mraise\u001b[39;00m _translate_cloud_exception(e)\n",
      "\u001b[0;31mEEException\u001b[0m: GeometryConstructors.Polygon: Inputs must be Number, List, or Geometry. Found type 'List<List<Float>>'.",
      "\nDuring handling of the above exception, another exception occurred:\n",
      "\u001b[0;31mException\u001b[0m                                 Traceback (most recent call last)",
      "Cell \u001b[0;32mIn [91], line 1\u001b[0m\n\u001b[0;32m----> 1\u001b[0m flood_gdf \u001b[38;5;241m=\u001b[39m \u001b[43mgeemap\u001b[49m\u001b[38;5;241;43m.\u001b[39;49m\u001b[43mee_to_geopandas\u001b[49m\u001b[43m(\u001b[49m\u001b[43mflood_vec\u001b[49m\u001b[43m)\u001b[49m\n",
      "File \u001b[0;32m~/miniconda3/envs/hybridmodels/lib/python3.10/site-packages/geemap/common.py:8832\u001b[0m, in \u001b[0;36mee_to_gdf\u001b[0;34m(ee_object, selectors, verbose)\u001b[0m\n\u001b[1;32m   8829\u001b[0m \u001b[38;5;28;01mif\u001b[39;00m \u001b[38;5;129;01mnot\u001b[39;00m \u001b[38;5;28misinstance\u001b[39m(ee_object, ee\u001b[38;5;241m.\u001b[39mFeatureCollection):\n\u001b[1;32m   8830\u001b[0m     \u001b[38;5;28;01mraise\u001b[39;00m \u001b[38;5;167;01mTypeError\u001b[39;00m(\u001b[38;5;124m\"\u001b[39m\u001b[38;5;124mee_object must be an ee.FeatureCollection\u001b[39m\u001b[38;5;124m\"\u001b[39m)\n\u001b[0;32m-> 8832\u001b[0m collection \u001b[38;5;241m=\u001b[39m \u001b[43mee_to_geojson\u001b[49m\u001b[43m(\u001b[49m\u001b[43mee_object\u001b[49m\u001b[43m)\u001b[49m\n\u001b[1;32m   8833\u001b[0m gdf \u001b[38;5;241m=\u001b[39m gpd\u001b[38;5;241m.\u001b[39mGeoDataFrame\u001b[38;5;241m.\u001b[39mfrom_features(collection[\u001b[38;5;124m\"\u001b[39m\u001b[38;5;124mfeatures\u001b[39m\u001b[38;5;124m\"\u001b[39m])\n\u001b[1;32m   8835\u001b[0m \u001b[38;5;28;01mreturn\u001b[39;00m gdf\n",
      "File \u001b[0;32m~/miniconda3/envs/hybridmodels/lib/python3.10/site-packages/geemap/common.py:1334\u001b[0m, in \u001b[0;36mee_to_geojson\u001b[0;34m(ee_object, filename, indent, **kwargs)\u001b[0m\n\u001b[1;32m   1332\u001b[0m         \u001b[38;5;28mprint\u001b[39m(\u001b[38;5;124m\"\u001b[39m\u001b[38;5;124mCould not convert the Earth Engine object to geojson\u001b[39m\u001b[38;5;124m\"\u001b[39m)\n\u001b[1;32m   1333\u001b[0m \u001b[38;5;28;01mexcept\u001b[39;00m \u001b[38;5;167;01mException\u001b[39;00m \u001b[38;5;28;01mas\u001b[39;00m e:\n\u001b[0;32m-> 1334\u001b[0m     \u001b[38;5;28;01mraise\u001b[39;00m \u001b[38;5;167;01mException\u001b[39;00m(e)\n",
      "\u001b[0;31mException\u001b[0m: GeometryConstructors.Polygon: Inputs must be Number, List, or Geometry. Found type 'List<List<Float>>'."
     ]
    }
   ],
   "source": [
    "flood_gdf = geemap.ee_to_geopandas(flood_vec)"
   ]
  },
  {
   "cell_type": "code",
   "execution_count": 87,
   "id": "023e61c7",
   "metadata": {},
   "outputs": [
    {
     "data": {
      "text/plain": [
       "<ee.image.Image at 0x3630174f0>"
      ]
     },
     "execution_count": 87,
     "metadata": {},
     "output_type": "execute_result"
    }
   ],
   "source": [
    "clipped_flood"
   ]
  },
  {
   "cell_type": "code",
   "execution_count": null,
   "id": "abaf2e0f",
   "metadata": {},
   "outputs": [],
   "source": []
  },
  {
   "cell_type": "code",
   "execution_count": null,
   "id": "f60acae9",
   "metadata": {},
   "outputs": [],
   "source": []
  },
  {
   "cell_type": "code",
   "execution_count": 87,
   "id": "a9823417",
   "metadata": {},
   "outputs": [],
   "source": []
  },
  {
   "cell_type": "code",
   "execution_count": null,
   "id": "db351e48",
   "metadata": {},
   "outputs": [],
   "source": []
  },
  {
   "cell_type": "code",
   "execution_count": 79,
   "id": "411a6785",
   "metadata": {},
   "outputs": [],
   "source": []
  },
  {
   "cell_type": "code",
   "execution_count": 83,
   "id": "20f6e63c",
   "metadata": {},
   "outputs": [],
   "source": []
  },
  {
   "cell_type": "code",
   "execution_count": 84,
   "id": "bf363d43",
   "metadata": {},
   "outputs": [
    {
     "ename": "Exception",
     "evalue": "Image.reduceToVectors: Too many pixels in the region. Found 17640622, but maxPixels allows only 10000000.\nEnsure that you are not aggregating at a higher resolution than you intended; that is a frequent cause of this error. If not, then you may set the 'maxPixels' argument to a limit suitable for your computation; set 'bestEffort' to true to aggregate at whatever scale results in 'maxPixels' total pixels; or both.",
     "output_type": "error",
     "traceback": [
      "\u001b[0;31m---------------------------------------------------------------------------\u001b[0m",
      "\u001b[0;31mHttpError\u001b[0m                                 Traceback (most recent call last)",
      "File \u001b[0;32m~/miniconda3/envs/hybridmodels/lib/python3.10/site-packages/ee/data.py:328\u001b[0m, in \u001b[0;36m_execute_cloud_call\u001b[0;34m(call, num_retries)\u001b[0m\n\u001b[1;32m    327\u001b[0m \u001b[38;5;28;01mtry\u001b[39;00m:\n\u001b[0;32m--> 328\u001b[0m   \u001b[38;5;28;01mreturn\u001b[39;00m \u001b[43mcall\u001b[49m\u001b[38;5;241;43m.\u001b[39;49m\u001b[43mexecute\u001b[49m\u001b[43m(\u001b[49m\u001b[43mnum_retries\u001b[49m\u001b[38;5;241;43m=\u001b[39;49m\u001b[43mnum_retries\u001b[49m\u001b[43m)\u001b[49m\n\u001b[1;32m    329\u001b[0m \u001b[38;5;28;01mexcept\u001b[39;00m googleapiclient\u001b[38;5;241m.\u001b[39merrors\u001b[38;5;241m.\u001b[39mHttpError \u001b[38;5;28;01mas\u001b[39;00m e:\n",
      "File \u001b[0;32m~/miniconda3/envs/hybridmodels/lib/python3.10/site-packages/googleapiclient/_helpers.py:134\u001b[0m, in \u001b[0;36mpositional.<locals>.positional_decorator.<locals>.positional_wrapper\u001b[0;34m(*args, **kwargs)\u001b[0m\n\u001b[1;32m    133\u001b[0m         logger\u001b[38;5;241m.\u001b[39mwarning(message)\n\u001b[0;32m--> 134\u001b[0m \u001b[38;5;28;01mreturn\u001b[39;00m \u001b[43mwrapped\u001b[49m\u001b[43m(\u001b[49m\u001b[38;5;241;43m*\u001b[39;49m\u001b[43margs\u001b[49m\u001b[43m,\u001b[49m\u001b[43m \u001b[49m\u001b[38;5;241;43m*\u001b[39;49m\u001b[38;5;241;43m*\u001b[39;49m\u001b[43mkwargs\u001b[49m\u001b[43m)\u001b[49m\n",
      "File \u001b[0;32m~/miniconda3/envs/hybridmodels/lib/python3.10/site-packages/googleapiclient/http.py:915\u001b[0m, in \u001b[0;36mHttpRequest.execute\u001b[0;34m(self, http, num_retries)\u001b[0m\n\u001b[1;32m    914\u001b[0m \u001b[38;5;28;01mif\u001b[39;00m resp\u001b[38;5;241m.\u001b[39mstatus \u001b[38;5;241m>\u001b[39m\u001b[38;5;241m=\u001b[39m \u001b[38;5;241m300\u001b[39m:\n\u001b[0;32m--> 915\u001b[0m     \u001b[38;5;28;01mraise\u001b[39;00m HttpError(resp, content, uri\u001b[38;5;241m=\u001b[39m\u001b[38;5;28mself\u001b[39m\u001b[38;5;241m.\u001b[39muri)\n\u001b[1;32m    916\u001b[0m \u001b[38;5;28;01mreturn\u001b[39;00m \u001b[38;5;28mself\u001b[39m\u001b[38;5;241m.\u001b[39mpostproc(resp, content)\n",
      "\u001b[0;31mHttpError\u001b[0m: <HttpError 400 when requesting https://earthengine.googleapis.com/v1alpha/projects/earthengine-legacy/value:compute?prettyPrint=false&alt=json returned \"Image.reduceToVectors: Too many pixels in the region. Found 17640622, but maxPixels allows only 10000000.\nEnsure that you are not aggregating at a higher resolution than you intended; that is a frequent cause of this error. If not, then you may set the 'maxPixels' argument to a limit suitable for your computation; set 'bestEffort' to true to aggregate at whatever scale results in 'maxPixels' total pixels; or both.\". Details: \"Image.reduceToVectors: Too many pixels in the region. Found 17640622, but maxPixels allows only 10000000.\nEnsure that you are not aggregating at a higher resolution than you intended; that is a frequent cause of this error. If not, then you may set the 'maxPixels' argument to a limit suitable for your computation; set 'bestEffort' to true to aggregate at whatever scale results in 'maxPixels' total pixels; or both.\">",
      "\nDuring handling of the above exception, another exception occurred:\n",
      "\u001b[0;31mEEException\u001b[0m                               Traceback (most recent call last)",
      "File \u001b[0;32m~/miniconda3/envs/hybridmodels/lib/python3.10/site-packages/geemap/common.py:1320\u001b[0m, in \u001b[0;36mee_to_geojson\u001b[0;34m(ee_object, filename, indent, **kwargs)\u001b[0m\n\u001b[1;32m   1315\u001b[0m \u001b[38;5;28;01mif\u001b[39;00m (\n\u001b[1;32m   1316\u001b[0m     \u001b[38;5;28misinstance\u001b[39m(ee_object, ee\u001b[38;5;241m.\u001b[39mgeometry\u001b[38;5;241m.\u001b[39mGeometry)\n\u001b[1;32m   1317\u001b[0m     \u001b[38;5;129;01mor\u001b[39;00m \u001b[38;5;28misinstance\u001b[39m(ee_object, ee\u001b[38;5;241m.\u001b[39mfeature\u001b[38;5;241m.\u001b[39mFeature)\n\u001b[1;32m   1318\u001b[0m     \u001b[38;5;129;01mor\u001b[39;00m \u001b[38;5;28misinstance\u001b[39m(ee_object, ee\u001b[38;5;241m.\u001b[39mfeaturecollection\u001b[38;5;241m.\u001b[39mFeatureCollection)\n\u001b[1;32m   1319\u001b[0m ):\n\u001b[0;32m-> 1320\u001b[0m     json_object \u001b[38;5;241m=\u001b[39m \u001b[43mee_object\u001b[49m\u001b[38;5;241;43m.\u001b[39;49m\u001b[43mgetInfo\u001b[49m\u001b[43m(\u001b[49m\u001b[43m)\u001b[49m\n\u001b[1;32m   1321\u001b[0m     \u001b[38;5;28;01mif\u001b[39;00m filename \u001b[38;5;129;01mis\u001b[39;00m \u001b[38;5;129;01mnot\u001b[39;00m \u001b[38;5;28;01mNone\u001b[39;00m:\n",
      "File \u001b[0;32m~/miniconda3/envs/hybridmodels/lib/python3.10/site-packages/ee/collection.py:133\u001b[0m, in \u001b[0;36mCollection.getInfo\u001b[0;34m(self)\u001b[0m\n\u001b[1;32m    121\u001b[0m \u001b[38;5;124;03m\"\"\"Returns all the known information about this collection.\u001b[39;00m\n\u001b[1;32m    122\u001b[0m \n\u001b[1;32m    123\u001b[0m \u001b[38;5;124;03mThis function makes an REST call to to retrieve all the known information\u001b[39;00m\n\u001b[0;32m   (...)\u001b[0m\n\u001b[1;32m    131\u001b[0m \u001b[38;5;124;03m       properties.\u001b[39;00m\n\u001b[1;32m    132\u001b[0m \u001b[38;5;124;03m\"\"\"\u001b[39;00m\n\u001b[0;32m--> 133\u001b[0m \u001b[38;5;28;01mreturn\u001b[39;00m \u001b[38;5;28;43msuper\u001b[39;49m\u001b[43m(\u001b[49m\u001b[43mCollection\u001b[49m\u001b[43m,\u001b[49m\u001b[43m \u001b[49m\u001b[38;5;28;43mself\u001b[39;49m\u001b[43m)\u001b[49m\u001b[38;5;241;43m.\u001b[39;49m\u001b[43mgetInfo\u001b[49m\u001b[43m(\u001b[49m\u001b[43m)\u001b[49m\n",
      "File \u001b[0;32m~/miniconda3/envs/hybridmodels/lib/python3.10/site-packages/ee/computedobject.py:98\u001b[0m, in \u001b[0;36mComputedObject.getInfo\u001b[0;34m(self)\u001b[0m\n\u001b[1;32m     93\u001b[0m \u001b[38;5;124;03m\"\"\"Fetch and return information about this object.\u001b[39;00m\n\u001b[1;32m     94\u001b[0m \n\u001b[1;32m     95\u001b[0m \u001b[38;5;124;03mReturns:\u001b[39;00m\n\u001b[1;32m     96\u001b[0m \u001b[38;5;124;03m  The object can evaluate to anything.\u001b[39;00m\n\u001b[1;32m     97\u001b[0m \u001b[38;5;124;03m\"\"\"\u001b[39;00m\n\u001b[0;32m---> 98\u001b[0m \u001b[38;5;28;01mreturn\u001b[39;00m \u001b[43mdata\u001b[49m\u001b[38;5;241;43m.\u001b[39;49m\u001b[43mcomputeValue\u001b[49m\u001b[43m(\u001b[49m\u001b[38;5;28;43mself\u001b[39;49m\u001b[43m)\u001b[49m\n",
      "File \u001b[0;32m~/miniconda3/envs/hybridmodels/lib/python3.10/site-packages/ee/data.py:757\u001b[0m, in \u001b[0;36mcomputeValue\u001b[0;34m(obj)\u001b[0m\n\u001b[1;32m    755\u001b[0m   body[\u001b[38;5;124m'\u001b[39m\u001b[38;5;124mworkloadTag\u001b[39m\u001b[38;5;124m'\u001b[39m] \u001b[38;5;241m=\u001b[39m workload_tag\n\u001b[0;32m--> 757\u001b[0m \u001b[38;5;28;01mreturn\u001b[39;00m \u001b[43m_execute_cloud_call\u001b[49m\u001b[43m(\u001b[49m\n\u001b[1;32m    758\u001b[0m \u001b[43m    \u001b[49m\u001b[43m_get_cloud_api_resource\u001b[49m\u001b[43m(\u001b[49m\u001b[43m)\u001b[49m\u001b[38;5;241;43m.\u001b[39;49m\u001b[43mprojects\u001b[49m\u001b[43m(\u001b[49m\u001b[43m)\u001b[49m\u001b[38;5;241;43m.\u001b[39;49m\u001b[43mvalue\u001b[49m\u001b[43m(\u001b[49m\u001b[43m)\u001b[49m\u001b[38;5;241;43m.\u001b[39;49m\u001b[43mcompute\u001b[49m\u001b[43m(\u001b[49m\n\u001b[1;32m    759\u001b[0m \u001b[43m        \u001b[49m\u001b[43mbody\u001b[49m\u001b[38;5;241;43m=\u001b[39;49m\u001b[43mbody\u001b[49m\u001b[43m,\u001b[49m\n\u001b[1;32m    760\u001b[0m \u001b[43m        \u001b[49m\u001b[43mproject\u001b[49m\u001b[38;5;241;43m=\u001b[39;49m\u001b[43m_get_projects_path\u001b[49m\u001b[43m(\u001b[49m\u001b[43m)\u001b[49m\u001b[43m,\u001b[49m\n\u001b[1;32m    761\u001b[0m \u001b[43m        \u001b[49m\u001b[43mprettyPrint\u001b[49m\u001b[38;5;241;43m=\u001b[39;49m\u001b[38;5;28;43;01mFalse\u001b[39;49;00m\u001b[43m)\u001b[49m\u001b[43m)\u001b[49m[\u001b[38;5;124m'\u001b[39m\u001b[38;5;124mresult\u001b[39m\u001b[38;5;124m'\u001b[39m]\n",
      "File \u001b[0;32m~/miniconda3/envs/hybridmodels/lib/python3.10/site-packages/ee/data.py:330\u001b[0m, in \u001b[0;36m_execute_cloud_call\u001b[0;34m(call, num_retries)\u001b[0m\n\u001b[1;32m    329\u001b[0m \u001b[38;5;28;01mexcept\u001b[39;00m googleapiclient\u001b[38;5;241m.\u001b[39merrors\u001b[38;5;241m.\u001b[39mHttpError \u001b[38;5;28;01mas\u001b[39;00m e:\n\u001b[0;32m--> 330\u001b[0m   \u001b[38;5;28;01mraise\u001b[39;00m _translate_cloud_exception(e)\n",
      "\u001b[0;31mEEException\u001b[0m: Image.reduceToVectors: Too many pixels in the region. Found 17640622, but maxPixels allows only 10000000.\nEnsure that you are not aggregating at a higher resolution than you intended; that is a frequent cause of this error. If not, then you may set the 'maxPixels' argument to a limit suitable for your computation; set 'bestEffort' to true to aggregate at whatever scale results in 'maxPixels' total pixels; or both.",
      "\nDuring handling of the above exception, another exception occurred:\n",
      "\u001b[0;31mException\u001b[0m                                 Traceback (most recent call last)",
      "Cell \u001b[0;32mIn [84], line 1\u001b[0m\n\u001b[0;32m----> 1\u001b[0m flood_gdf \u001b[38;5;241m=\u001b[39m \u001b[43mgeemap\u001b[49m\u001b[38;5;241;43m.\u001b[39;49m\u001b[43mee_to_geopandas\u001b[49m\u001b[43m(\u001b[49m\u001b[43mstorm_vector\u001b[49m\u001b[43m)\u001b[49m\n",
      "File \u001b[0;32m~/miniconda3/envs/hybridmodels/lib/python3.10/site-packages/geemap/common.py:8832\u001b[0m, in \u001b[0;36mee_to_gdf\u001b[0;34m(ee_object, selectors, verbose)\u001b[0m\n\u001b[1;32m   8829\u001b[0m \u001b[38;5;28;01mif\u001b[39;00m \u001b[38;5;129;01mnot\u001b[39;00m \u001b[38;5;28misinstance\u001b[39m(ee_object, ee\u001b[38;5;241m.\u001b[39mFeatureCollection):\n\u001b[1;32m   8830\u001b[0m     \u001b[38;5;28;01mraise\u001b[39;00m \u001b[38;5;167;01mTypeError\u001b[39;00m(\u001b[38;5;124m\"\u001b[39m\u001b[38;5;124mee_object must be an ee.FeatureCollection\u001b[39m\u001b[38;5;124m\"\u001b[39m)\n\u001b[0;32m-> 8832\u001b[0m collection \u001b[38;5;241m=\u001b[39m \u001b[43mee_to_geojson\u001b[49m\u001b[43m(\u001b[49m\u001b[43mee_object\u001b[49m\u001b[43m)\u001b[49m\n\u001b[1;32m   8833\u001b[0m gdf \u001b[38;5;241m=\u001b[39m gpd\u001b[38;5;241m.\u001b[39mGeoDataFrame\u001b[38;5;241m.\u001b[39mfrom_features(collection[\u001b[38;5;124m\"\u001b[39m\u001b[38;5;124mfeatures\u001b[39m\u001b[38;5;124m\"\u001b[39m])\n\u001b[1;32m   8835\u001b[0m \u001b[38;5;28;01mreturn\u001b[39;00m gdf\n",
      "File \u001b[0;32m~/miniconda3/envs/hybridmodels/lib/python3.10/site-packages/geemap/common.py:1334\u001b[0m, in \u001b[0;36mee_to_geojson\u001b[0;34m(ee_object, filename, indent, **kwargs)\u001b[0m\n\u001b[1;32m   1332\u001b[0m         \u001b[38;5;28mprint\u001b[39m(\u001b[38;5;124m\"\u001b[39m\u001b[38;5;124mCould not convert the Earth Engine object to geojson\u001b[39m\u001b[38;5;124m\"\u001b[39m)\n\u001b[1;32m   1333\u001b[0m \u001b[38;5;28;01mexcept\u001b[39;00m \u001b[38;5;167;01mException\u001b[39;00m \u001b[38;5;28;01mas\u001b[39;00m e:\n\u001b[0;32m-> 1334\u001b[0m     \u001b[38;5;28;01mraise\u001b[39;00m \u001b[38;5;167;01mException\u001b[39;00m(e)\n",
      "\u001b[0;31mException\u001b[0m: Image.reduceToVectors: Too many pixels in the region. Found 17640622, but maxPixels allows only 10000000.\nEnsure that you are not aggregating at a higher resolution than you intended; that is a frequent cause of this error. If not, then you may set the 'maxPixels' argument to a limit suitable for your computation; set 'bestEffort' to true to aggregate at whatever scale results in 'maxPixels' total pixels; or both."
     ]
    }
   ],
   "source": []
  },
  {
   "cell_type": "markdown",
   "id": "58f6c269",
   "metadata": {},
   "source": [
    "# Export"
   ]
  },
  {
   "cell_type": "code",
   "execution_count": 34,
   "id": "50d15912",
   "metadata": {},
   "outputs": [],
   "source": [
    "# set up footprint\n",
    "footprint = storm.get('system:footprint').getInfo()\n",
    "footprint = ee.Geometry.LinearRing(footprint['coordinates'])"
   ]
  },
  {
   "cell_type": "markdown",
   "id": "51ab7c6d",
   "metadata": {},
   "source": [
    "The main issue here is that we don't have a specific date. I am unsure how to resolve this to be compatible with the current form of the data."
   ]
  },
  {
   "cell_type": "code",
   "execution_count": 36,
   "id": "012a7e96",
   "metadata": {},
   "outputs": [],
   "source": [
    "band = 'duration'\n",
    "\n",
    "task_config = {\n",
    "    'scale': 30,  \n",
    "    'region': footprint,\n",
    "    'maxPixels': 5000000000\n",
    "    }\n",
    "\n",
    "task = ee.batch.Export.image(storm.select(band), f\"{stormDartmouthId} - {band}\", task_config)\n",
    "\n",
    "task.start()"
   ]
  },
  {
   "cell_type": "code",
   "execution_count": 37,
   "id": "4b260d3e",
   "metadata": {},
   "outputs": [
    {
     "data": {
      "text/plain": [
       "{'state': 'READY',\n",
       " 'description': '4217 - duration',\n",
       " 'creation_timestamp_ms': 1682616152439,\n",
       " 'update_timestamp_ms': 1682616152439,\n",
       " 'start_timestamp_ms': 0,\n",
       " 'task_type': 'EXPORT_IMAGE',\n",
       " 'id': 'NM27PTW5C6GDD5SBS3FMJN4U',\n",
       " 'name': 'projects/earthengine-legacy/operations/NM27PTW5C6GDD5SBS3FMJN4U'}"
      ]
     },
     "execution_count": 37,
     "metadata": {},
     "output_type": "execute_result"
    }
   ],
   "source": [
    "task.status()"
   ]
  },
  {
   "cell_type": "code",
   "execution_count": 39,
   "id": "3dd678f3",
   "metadata": {},
   "outputs": [],
   "source": [
    "band = 'jrc_permwater'\n",
    "\n",
    "task_config = {\n",
    "    'scale': 30,  \n",
    "    'region': footprint,\n",
    "    'maxPixels': 5000000000\n",
    "    }\n",
    "\n",
    "task1 = ee.batch.Export.image(storm.select(band), f\"{stormDartmouthId} - {band}\", task_config)\n",
    "\n",
    "task1.start()"
   ]
  },
  {
   "cell_type": "code",
   "execution_count": 40,
   "id": "e8f2cb7e",
   "metadata": {},
   "outputs": [],
   "source": [
    "band = 'clear_perc'\n",
    "\n",
    "task_config = {\n",
    "    'scale': 30,  \n",
    "    'region': footprint,\n",
    "    'maxPixels': 5000000000\n",
    "    }\n",
    "\n",
    "task2 = ee.batch.Export.image(storm.select(band), f\"{stormDartmouthId} - {band}\", task_config)\n",
    "\n",
    "task2.start()"
   ]
  },
  {
   "cell_type": "code",
   "execution_count": 41,
   "id": "8aaf9de7",
   "metadata": {},
   "outputs": [],
   "source": []
  },
  {
   "cell_type": "code",
   "execution_count": 42,
   "id": "637da974",
   "metadata": {},
   "outputs": [
    {
     "data": {
      "text/html": [
       "<div style=\"width:100%;\"><div style=\"position:relative;width:100%;height:0;padding-bottom:60%;\"><span style=\"color:#565656\">Make this Notebook Trusted to load map: File -> Trust Notebook</span><iframe srcdoc=\"&lt;!DOCTYPE html&gt;\n",
       "&lt;html&gt;\n",
       "&lt;head&gt;\n",
       "    \n",
       "    &lt;meta http-equiv=&quot;content-type&quot; content=&quot;text/html; charset=UTF-8&quot; /&gt;\n",
       "    \n",
       "        &lt;script&gt;\n",
       "            L_NO_TOUCH = false;\n",
       "            L_DISABLE_3D = false;\n",
       "        &lt;/script&gt;\n",
       "    \n",
       "    &lt;style&gt;html, body {width: 100%;height: 100%;margin: 0;padding: 0;}&lt;/style&gt;\n",
       "    &lt;style&gt;#map {position:absolute;top:0;bottom:0;right:0;left:0;}&lt;/style&gt;\n",
       "    &lt;script src=&quot;https://cdn.jsdelivr.net/npm/leaflet@1.6.0/dist/leaflet.js&quot;&gt;&lt;/script&gt;\n",
       "    &lt;script src=&quot;https://code.jquery.com/jquery-1.12.4.min.js&quot;&gt;&lt;/script&gt;\n",
       "    &lt;script src=&quot;https://maxcdn.bootstrapcdn.com/bootstrap/3.2.0/js/bootstrap.min.js&quot;&gt;&lt;/script&gt;\n",
       "    &lt;script src=&quot;https://cdnjs.cloudflare.com/ajax/libs/Leaflet.awesome-markers/2.0.2/leaflet.awesome-markers.js&quot;&gt;&lt;/script&gt;\n",
       "    &lt;link rel=&quot;stylesheet&quot; href=&quot;https://cdn.jsdelivr.net/npm/leaflet@1.6.0/dist/leaflet.css&quot;/&gt;\n",
       "    &lt;link rel=&quot;stylesheet&quot; href=&quot;https://maxcdn.bootstrapcdn.com/bootstrap/3.2.0/css/bootstrap.min.css&quot;/&gt;\n",
       "    &lt;link rel=&quot;stylesheet&quot; href=&quot;https://maxcdn.bootstrapcdn.com/bootstrap/3.2.0/css/bootstrap-theme.min.css&quot;/&gt;\n",
       "    &lt;link rel=&quot;stylesheet&quot; href=&quot;https://maxcdn.bootstrapcdn.com/font-awesome/4.6.3/css/font-awesome.min.css&quot;/&gt;\n",
       "    &lt;link rel=&quot;stylesheet&quot; href=&quot;https://cdnjs.cloudflare.com/ajax/libs/Leaflet.awesome-markers/2.0.2/leaflet.awesome-markers.css&quot;/&gt;\n",
       "    &lt;link rel=&quot;stylesheet&quot; href=&quot;https://cdn.jsdelivr.net/gh/python-visualization/folium/folium/templates/leaflet.awesome.rotate.min.css&quot;/&gt;\n",
       "    \n",
       "            &lt;meta name=&quot;viewport&quot; content=&quot;width=device-width,\n",
       "                initial-scale=1.0, maximum-scale=1.0, user-scalable=no&quot; /&gt;\n",
       "            &lt;style&gt;\n",
       "                #map_4176530e5b7440485aea152a1e443c34 {\n",
       "                    position: relative;\n",
       "                    width: 100.0%;\n",
       "                    height: 100.0%;\n",
       "                    left: 0.0%;\n",
       "                    top: 0.0%;\n",
       "                }\n",
       "            &lt;/style&gt;\n",
       "        \n",
       "&lt;/head&gt;\n",
       "&lt;body&gt;\n",
       "    \n",
       "    \n",
       "            &lt;div class=&quot;folium-map&quot; id=&quot;map_4176530e5b7440485aea152a1e443c34&quot; &gt;&lt;/div&gt;\n",
       "        \n",
       "&lt;/body&gt;\n",
       "&lt;script&gt;\n",
       "    \n",
       "    \n",
       "            var map_4176530e5b7440485aea152a1e443c34 = L.map(\n",
       "                &quot;map_4176530e5b7440485aea152a1e443c34&quot;,\n",
       "                {\n",
       "                    center: [8.656083, 124.903089],\n",
       "                    crs: L.CRS.EPSG3857,\n",
       "                    zoom: 5,\n",
       "                    zoomControl: true,\n",
       "                    preferCanvas: false,\n",
       "                }\n",
       "            );\n",
       "\n",
       "            \n",
       "\n",
       "        \n",
       "    \n",
       "            var tile_layer_1f8225093af9907eb8f8e9d05e992e7c = L.tileLayer(\n",
       "                &quot;https://{s}.tile.openstreetmap.org/{z}/{x}/{y}.png&quot;,\n",
       "                {&quot;attribution&quot;: &quot;Data by \\u0026copy; \\u003ca href=\\&quot;http://openstreetmap.org\\&quot;\\u003eOpenStreetMap\\u003c/a\\u003e, under \\u003ca href=\\&quot;http://www.openstreetmap.org/copyright\\&quot;\\u003eODbL\\u003c/a\\u003e.&quot;, &quot;detectRetina&quot;: false, &quot;maxNativeZoom&quot;: 18, &quot;maxZoom&quot;: 18, &quot;minZoom&quot;: 0, &quot;noWrap&quot;: false, &quot;opacity&quot;: 1, &quot;subdomains&quot;: &quot;abc&quot;, &quot;tms&quot;: false}\n",
       "            ).addTo(map_4176530e5b7440485aea152a1e443c34);\n",
       "        \n",
       "    \n",
       "            var tile_layer_8445ebdcb8653e16a60d62bbdb4e67d6 = L.tileLayer(\n",
       "                &quot;https://earthengine.googleapis.com/v1alpha/projects/earthengine-legacy/maps/19507fdb3aa1b3c914b6831bd9d8a881-8d22818fa772b37ddc0404021a59dad1/tiles/{z}/{x}/{y}&quot;,\n",
       "                {&quot;attribution&quot;: &quot;Map Data \\u0026copy; \\u003ca href=\\&quot;https://earthengine.google.com/\\&quot;\\u003eGoogle Earth Engine\\u003c/a\\u003e&quot;, &quot;detectRetina&quot;: false, &quot;maxNativeZoom&quot;: 18, &quot;maxZoom&quot;: 18, &quot;minZoom&quot;: 0, &quot;noWrap&quot;: false, &quot;opacity&quot;: 1, &quot;subdomains&quot;: &quot;abc&quot;, &quot;tms&quot;: false}\n",
       "            ).addTo(map_4176530e5b7440485aea152a1e443c34);\n",
       "        \n",
       "    \n",
       "            var tile_layer_ad78267a5333343d74c379ea126198d6 = L.tileLayer(\n",
       "                &quot;https://earthengine.googleapis.com/v1alpha/projects/earthengine-legacy/maps/aef5ac8c6f11e250f8e611c11ee6050e-a38b40f42da73b14bc8fe6012107e145/tiles/{z}/{x}/{y}&quot;,\n",
       "                {&quot;attribution&quot;: &quot;Map Data \\u0026copy; \\u003ca href=\\&quot;https://earthengine.google.com/\\&quot;\\u003eGoogle Earth Engine\\u003c/a\\u003e&quot;, &quot;detectRetina&quot;: false, &quot;maxNativeZoom&quot;: 18, &quot;maxZoom&quot;: 18, &quot;minZoom&quot;: 0, &quot;noWrap&quot;: false, &quot;opacity&quot;: 1, &quot;subdomains&quot;: &quot;abc&quot;, &quot;tms&quot;: false}\n",
       "            ).addTo(map_4176530e5b7440485aea152a1e443c34);\n",
       "        \n",
       "    \n",
       "            var tile_layer_20eacc9389ad81c592bb9d08c3c25963 = L.tileLayer(\n",
       "                &quot;https://earthengine.googleapis.com/v1alpha/projects/earthengine-legacy/maps/e8fd628dc76ade5d62b5792fa5f3d88b-5cb8b29f0b4c4e9dd1a2e2ae22bb1c52/tiles/{z}/{x}/{y}&quot;,\n",
       "                {&quot;attribution&quot;: &quot;Map Data \\u0026copy; \\u003ca href=\\&quot;https://earthengine.google.com/\\&quot;\\u003eGoogle Earth Engine\\u003c/a\\u003e&quot;, &quot;detectRetina&quot;: false, &quot;maxNativeZoom&quot;: 18, &quot;maxZoom&quot;: 18, &quot;minZoom&quot;: 0, &quot;noWrap&quot;: false, &quot;opacity&quot;: 1, &quot;subdomains&quot;: &quot;abc&quot;, &quot;tms&quot;: false}\n",
       "            ).addTo(map_4176530e5b7440485aea152a1e443c34);\n",
       "        \n",
       "    \n",
       "            var tile_layer_4b77915f20305d97fca6cfa2af8c4e89 = L.tileLayer(\n",
       "                &quot;https://earthengine.googleapis.com/v1alpha/projects/earthengine-legacy/maps/83d23316e9c413eeac8057d51a4759ae-7ff9ac10601c7cae666d1a4d5e438828/tiles/{z}/{x}/{y}&quot;,\n",
       "                {&quot;attribution&quot;: &quot;Map Data \\u0026copy; \\u003ca href=\\&quot;https://earthengine.google.com/\\&quot;\\u003eGoogle Earth Engine\\u003c/a\\u003e&quot;, &quot;detectRetina&quot;: false, &quot;maxNativeZoom&quot;: 18, &quot;maxZoom&quot;: 18, &quot;minZoom&quot;: 0, &quot;noWrap&quot;: false, &quot;opacity&quot;: 1, &quot;subdomains&quot;: &quot;abc&quot;, &quot;tms&quot;: false}\n",
       "            ).addTo(map_4176530e5b7440485aea152a1e443c34);\n",
       "        \n",
       "&lt;/script&gt;\n",
       "&lt;/html&gt;\" style=\"position:absolute;width:100%;height:100%;left:0;top:0;border:none !important;\" allowfullscreen webkitallowfullscreen mozallowfullscreen></iframe></div></div>"
      ],
      "text/plain": [
       "<folium.folium.Map at 0x1684f2380>"
      ]
     },
     "execution_count": 42,
     "metadata": {},
     "output_type": "execute_result"
    }
   ],
   "source": []
  }
 ],
 "metadata": {
  "kernelspec": {
   "display_name": "hybridmodels",
   "language": "python",
   "name": "hybridmodels"
  },
  "language_info": {
   "codemirror_mode": {
    "name": "ipython",
    "version": 3
   },
   "file_extension": ".py",
   "mimetype": "text/x-python",
   "name": "python",
   "nbconvert_exporter": "python",
   "pygments_lexer": "ipython3",
   "version": "3.10.8"
  }
 },
 "nbformat": 4,
 "nbformat_minor": 5
}
