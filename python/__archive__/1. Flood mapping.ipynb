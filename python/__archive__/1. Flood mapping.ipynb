{
 "cells": [
  {
   "cell_type": "markdown",
   "id": "e121a5bb",
   "metadata": {},
   "source": [
    "This notebook loads storm data (dates, and ROI geoJSON string) and generates floodmaps from it. It then exports these to Google Drive and Google Earth Engine. Code to replicate the floodmaps of [Canty et al.](https://doi.org/10.3390/rs12010046) using this [tutorial](https://developers.google.com/earth-engine/tutorials/community/detecting-changes-in-sentinel-1-imagery-pt-4). Use with the`hybridmodels` conda environment.\n",
    "\n",
    "## Flood mapping\n",
    "The flood mapping method utilises information about the distribution of the pixels in the VH and VV to identify significant changes between snapshots. In all VV, VH, HV, and HH bands, water has low backscatter compared to soil and bare vegetation and so amplitude-based methods can be used to detect changes [(Bonafilia 2020)](http://dx.doi.org/10.1109/CVPRW50498.2020.00113). This method is not so good for urban areas, however, and InSAR-based methods for urban areas by [Chini (2019)](https://doi.org/10.3390/rs11020107) will be added later. \n",
    "\n",
    "Briefly, pixels in the $m$-look multi-look images have a gamma distribution with shape parameters $m$ and $a/m$, where $a$ is the average intensity. Change between images is tested for using likelihood ratio tests (LRTs), where a small test statistic $Q$ indicates a significant difference between image likelihoods under the two hypotheses of no change/change. The distribution of this test statistic cannot be derived analytically so is approximated using Wilk's Theorem for the $-2\\log Q$ transformation, which tends to a chi-squared distribution for many measurements. Further to this, a process for identifying changes over a sequence of images (omnibus test) is derived by factorising $Q$ into intervals $R_j$ whose product is $Q$.\n",
    "\n",
    "## Manual input:\n",
    "* Time frame and region geojson from [this link](geojson.io)."
   ]
  },
  {
   "cell_type": "code",
   "execution_count": null,
   "id": "92d9d329",
   "metadata": {
    "scrolled": true
   },
   "outputs": [
    {
     "data": {
      "text/html": [
       "<p>To authorize access needed by Earth Engine, open the following\n",
       "        URL in a web browser and follow the instructions:</p>\n",
       "        <p><a href=https://code.earthengine.google.com/client-auth?scopes=https%3A//www.googleapis.com/auth/earthengine%20https%3A//www.googleapis.com/auth/devstorage.full_control&request_id=3EasK_BgQ0I3E4Ey-qlkdor8-JJebzf89jzh76i7EKw&tc=SJJ__OTxrc_VMi-3O8MRcIkLyEcB6tm3VoEQNRx9Fng&cc=8ibYh0QgAb59Fx83BYf7NqsAmrdJQNFnfdtyvkaGtto>https://code.earthengine.google.com/client-auth?scopes=https%3A//www.googleapis.com/auth/earthengine%20https%3A//www.googleapis.com/auth/devstorage.full_control&request_id=3EasK_BgQ0I3E4Ey-qlkdor8-JJebzf89jzh76i7EKw&tc=SJJ__OTxrc_VMi-3O8MRcIkLyEcB6tm3VoEQNRx9Fng&cc=8ibYh0QgAb59Fx83BYf7NqsAmrdJQNFnfdtyvkaGtto</a></p>\n",
       "        <p>The authorization workflow will generate a code, which you\n",
       "        should paste in the box below</p>\n",
       "        "
      ],
      "text/plain": [
       "<IPython.core.display.HTML object>"
      ]
     },
     "metadata": {},
     "output_type": "display_data"
    }
   ],
   "source": [
    "# authenticate Google Earth Engine account\n",
    "import ee\n",
    "ee.Authenticate()\n",
    "\n",
    "# workaround to solve conflict with collections\n",
    "import collections\n",
    "collections.Callable = collections.abc.Callable\n",
    "\n",
    "ee.Initialize(project=\"floodmapping-2022\")"
   ]
  },
  {
   "cell_type": "code",
   "execution_count": 127,
   "id": "12869153",
   "metadata": {},
   "outputs": [],
   "source": [
    "# final import cell\n",
    "import folium\n",
    "import numpy as np\n",
    "from os.path import join\n",
    "import geopandas as gpd\n",
    "import floodmap_utils as tut\n",
    "from functools import partial"
   ]
  },
  {
   "cell_type": "code",
   "execution_count": 128,
   "id": "5b34be92",
   "metadata": {},
   "outputs": [],
   "source": [
    "# Add EE drawing method to folium.\n",
    "def add_ee_layer(self, ee_image_object, vis_params, name, show=True):\n",
    "    \"\"\"Method for displaying Earth Engine image tiles to folium map.\"\"\"\n",
    "    map_id_dict = ee.Image(ee_image_object).getMapId(vis_params)\n",
    "    folium.raster_layers.TileLayer(\n",
    "    tiles = map_id_dict['tile_fetcher'].url_format,\n",
    "    attr = 'Map Data &copy; <a href=\"https://earthengine.google.com/\">Google Earth Engine</a>',\n",
    "    name = name,\n",
    "    overlay = True,\n",
    "    control = True,\n",
    "    show = show\n",
    "  ).add_to(self)\n",
    "\n",
    "folium.Map.add_ee_layer = add_ee_layer\n"
   ]
  },
  {
   "cell_type": "code",
   "execution_count": 160,
   "id": "5519b514",
   "metadata": {},
   "outputs": [
    {
     "name": "stdout",
     "output_type": "stream",
     "text": [
      "Storm roanu in bangladesh04 from 2016-05-17 to 2016-05-22.\n"
     ]
    }
   ],
   "source": [
    "import pandas as pd\n",
    "from shapely.geometry import shape\n",
    "from ast import literal_eval\n",
    "\n",
    "event_df = pd.read_csv(join(\"..\", \"data\", \"event_data.csv\"))\n",
    "meta = {}\n",
    "\n",
    "storm_id = 3\n",
    "storm, region = event_df['name'][storm_id].split('_')\n",
    "startdate = event_df['startdate'][storm_id]\n",
    "enddate = event_df['enddate'][storm_id]\n",
    "\n",
    "geoJSON = event_df['geojson'][storm_id]\n",
    "geoJSON = literal_eval(geoJSON)\n",
    "\n",
    "save_dir = join(\"..\", \"data\", \"floodmaps\")\n",
    "coords = geoJSON['features'][0]['geometry']['coordinates']\n",
    "aoi = ee.Geometry.Polygon(coords,\n",
    "                          proj=ee.Projection('EPSG:4326'))\n",
    "\n",
    "polys = [shape(x['geometry']) for x in geoJSON['features']]\n",
    "aoi_df = gpd.GeoDataFrame({\"geometry\": polys})\n",
    "aoi_lonlat = aoi_df.set_crs(\"EPSG:4326\")\n",
    "\n",
    "print(f\"Storm {storm} in {region} from {startdate} to {enddate}.\")"
   ]
  },
  {
   "cell_type": "code",
   "execution_count": 161,
   "id": "c683032b",
   "metadata": {},
   "outputs": [
    {
     "name": "stdout",
     "output_type": "stream",
     "text": [
      "{'width (m)': 87443.96035823971, 'height (m)': 79494.50941658253, 'area (sqm)': 6951314730.121356}\n"
     ]
    }
   ],
   "source": [
    "# update meta info\n",
    "aoi_pm = aoi_lonlat.to_crs('EPSG:3857')\n",
    "\n",
    "height = aoi_pm.total_bounds[3] - aoi_lonlat.to_crs('EPSG:3857').total_bounds[1]\n",
    "width = aoi_pm.total_bounds[2] - aoi_lonlat.to_crs('EPSG:3857').total_bounds[0]\n",
    "\n",
    "meta['width (m)'] = width\n",
    "meta['height (m)'] = height\n",
    "meta['area (sqm)'] = aoi_pm.area[0]\n",
    "print(meta)"
   ]
  },
  {
   "cell_type": "markdown",
   "id": "b1c7e9b7",
   "metadata": {},
   "source": [
    "# Import GEE Collection\n",
    "Print the orbit numbers and orbit passes of images within the timeframe. Since this is change detection, we need images to have the same orbit passes and numbers. Then filter by the most frequent orbit numbers and passes in order to get most images."
   ]
  },
  {
   "cell_type": "code",
   "execution_count": 162,
   "id": "6fef057d",
   "metadata": {},
   "outputs": [],
   "source": [
    "def day_mosaics(date, newlist):\n",
    "    \"\"\"https://gis.stackexchange.com/questions/280156/mosaicking-image-collection-by-date-day-in-google-earth-engine\"\"\"\n",
    "    # cast\n",
    "    datestr = date\n",
    "    date = ee.Date(date)\n",
    "    newlist = ee.List(newlist)\n",
    "    \n",
    "    # filter collection between date and next day\n",
    "    filtered = im_coll.filterDate(date, date.advance(1, 'day'))\n",
    "    \n",
    "    # make the mosaic\n",
    "    image = (ee.Image(filtered.mosaic())\n",
    "             .copyProperties(filtered, filtered.propertyNames()))\n",
    "    image = image.set({\"date\": date.format('YYYYMMdd')})\n",
    "\n",
    "    # Add the mosaic to a list only if the collection has images\n",
    "    return ee.List(ee.Algorithms.If(filtered.size(), newlist.add(image), newlist))"
   ]
  },
  {
   "cell_type": "code",
   "execution_count": 163,
   "id": "286ef265",
   "metadata": {},
   "outputs": [
    {
     "name": "stdout",
     "output_type": "stream",
     "text": [
      "['T20160419', 'T20160513', 'T20160525', 'T20160606']\n"
     ]
    }
   ],
   "source": [
    "import statistics\n",
    "startbuffer = ee.Date(startdate).advance(-1, 'month')\n",
    "endbuffer = ee.Date(enddate).advance(1, 'month')\n",
    "\n",
    "# define image collection\n",
    "im_coll = (ee.ImageCollection('COPERNICUS/S1_GRD_FLOAT')\n",
    "           .filterBounds(aoi)\n",
    "           .filterDate(startbuffer, endbuffer)\n",
    "           .map(lambda img: img.set('date', ee.Date(img.date()).format('YYYYMMdd')))\n",
    "           .sort('date'))\n",
    "\n",
    "# choose the most represented orbit passes\n",
    "orbit_passes = (im_coll.aggregate_array('orbitProperties_pass').getInfo())\n",
    "orbit_nums = (im_coll.aggregate_array('relativeOrbitNumber_start').getInfo())\n",
    "\n",
    "orbit_num = statistics.mode(orbit_nums)\n",
    "imode = orbit_nums.index(orbit_num)\n",
    "orbit_pass = orbit_passes[imode]\n",
    "\n",
    "im_coll = (im_coll.filter(ee.Filter.eq('orbitProperties_pass', orbit_pass))\n",
    "           .filter(ee.Filter.eq('relativeOrbitNumber_start', orbit_num)))\n",
    "\n",
    "# supply aoi to clip_img function\n",
    "clip_img = partial(tut.clip_img, aoi=aoi)\n",
    "\n",
    "im_list = im_coll.toList(im_coll.size())\n",
    "im_list = ee.List(im_list.map(clip_img))\n",
    "\n",
    "timestamplist = (im_coll.aggregate_array('date')\n",
    "                 .map(lambda d: ee.String('T').cat(ee.String(d)))\n",
    "                 .getInfo())\n",
    "\n",
    "# mosaic all/any images taken on the same day\n",
    "start = startbuffer\n",
    "end = endbuffer\n",
    "diff = end.difference(start, 'day')\n",
    "\n",
    "# all the dates\n",
    "drange = ee.List.sequence(0, diff.subtract(1)).map(lambda day: start.advance(day, 'day'))\n",
    "\n",
    "im_coll = ee.ImageCollection(ee.List(drange.iterate(day_mosaics, ee.List([]))))\n",
    "im_list = im_coll.toList(im_coll.size())\n",
    "im_list = ee.List(im_list.map(clip_img))\n",
    "\n",
    "timestamplist = (im_coll.aggregate_array('date')\n",
    "                 .map(lambda d: ee.String('T').cat(ee.String(d)))\n",
    "                 .getInfo())\n",
    "\n",
    "print(timestamplist)"
   ]
  },
  {
   "cell_type": "code",
   "execution_count": 164,
   "id": "3d9d124f",
   "metadata": {},
   "outputs": [],
   "source": [
    "clip=False\n",
    "\n",
    "if clip:\n",
    "    from shapely.geometry import box\n",
    "    from shapely.affinity import rotate\n",
    "\n",
    "    def create_box(lat, lon, rotation=0, length=0.1):\n",
    "        \"\"\"Create a box around a given lon/lat pair using degrees.\"\"\"\n",
    "        # very crude way to manage projections\n",
    "        b = box(lon-length, lat-length, lon+length, lat+length)\n",
    "        b = rotate(b, rotation)\n",
    "        b = ee.Geometry.Polygon(b.__geo_interface__[\"coordinates\"],\n",
    "                                  proj=ee.Projection(\"EPSG:4326\"))\n",
    "        return b\n",
    "\n",
    "    aoi = create_box(*location, rotation=-10)\n",
    "    clip_img = partial(tut.clip_img, aoi=aoi)\n",
    "    im_list = ee.List(im_list.map(clip_img))"
   ]
  },
  {
   "cell_type": "code",
   "execution_count": 165,
   "id": "bb0c8e4f",
   "metadata": {},
   "outputs": [
    {
     "data": {
      "text/html": [
       "<div style=\"width:100%;\"><div style=\"position:relative;width:100%;height:0;padding-bottom:60%;\"><span style=\"color:#565656\">Make this Notebook Trusted to load map: File -> Trust Notebook</span><iframe srcdoc=\"&lt;!DOCTYPE html&gt;\n",
       "&lt;head&gt;    \n",
       "    &lt;meta http-equiv=&quot;content-type&quot; content=&quot;text/html; charset=UTF-8&quot; /&gt;\n",
       "    \n",
       "        &lt;script&gt;\n",
       "            L_NO_TOUCH = false;\n",
       "            L_DISABLE_3D = false;\n",
       "        &lt;/script&gt;\n",
       "    \n",
       "    &lt;style&gt;html, body {width: 100%;height: 100%;margin: 0;padding: 0;}&lt;/style&gt;\n",
       "    &lt;style&gt;#map {position:absolute;top:0;bottom:0;right:0;left:0;}&lt;/style&gt;\n",
       "    &lt;script src=&quot;https://cdn.jsdelivr.net/npm/leaflet@1.6.0/dist/leaflet.js&quot;&gt;&lt;/script&gt;\n",
       "    &lt;script src=&quot;https://code.jquery.com/jquery-1.12.4.min.js&quot;&gt;&lt;/script&gt;\n",
       "    &lt;script src=&quot;https://maxcdn.bootstrapcdn.com/bootstrap/3.2.0/js/bootstrap.min.js&quot;&gt;&lt;/script&gt;\n",
       "    &lt;script src=&quot;https://cdnjs.cloudflare.com/ajax/libs/Leaflet.awesome-markers/2.0.2/leaflet.awesome-markers.js&quot;&gt;&lt;/script&gt;\n",
       "    &lt;link rel=&quot;stylesheet&quot; href=&quot;https://cdn.jsdelivr.net/npm/leaflet@1.6.0/dist/leaflet.css&quot;/&gt;\n",
       "    &lt;link rel=&quot;stylesheet&quot; href=&quot;https://maxcdn.bootstrapcdn.com/bootstrap/3.2.0/css/bootstrap.min.css&quot;/&gt;\n",
       "    &lt;link rel=&quot;stylesheet&quot; href=&quot;https://maxcdn.bootstrapcdn.com/bootstrap/3.2.0/css/bootstrap-theme.min.css&quot;/&gt;\n",
       "    &lt;link rel=&quot;stylesheet&quot; href=&quot;https://maxcdn.bootstrapcdn.com/font-awesome/4.6.3/css/font-awesome.min.css&quot;/&gt;\n",
       "    &lt;link rel=&quot;stylesheet&quot; href=&quot;https://cdnjs.cloudflare.com/ajax/libs/Leaflet.awesome-markers/2.0.2/leaflet.awesome-markers.css&quot;/&gt;\n",
       "    &lt;link rel=&quot;stylesheet&quot; href=&quot;https://cdn.jsdelivr.net/gh/python-visualization/folium/folium/templates/leaflet.awesome.rotate.min.css&quot;/&gt;\n",
       "    \n",
       "            &lt;meta name=&quot;viewport&quot; content=&quot;width=device-width,\n",
       "                initial-scale=1.0, maximum-scale=1.0, user-scalable=no&quot; /&gt;\n",
       "            &lt;style&gt;\n",
       "                #map_b093f686febac39e79926d1997265eb4 {\n",
       "                    position: relative;\n",
       "                    width: 100.0%;\n",
       "                    height: 100.0%;\n",
       "                    left: 0.0%;\n",
       "                    top: 0.0%;\n",
       "                }\n",
       "            &lt;/style&gt;\n",
       "        \n",
       "&lt;/head&gt;\n",
       "&lt;body&gt;    \n",
       "    \n",
       "            &lt;div class=&quot;folium-map&quot; id=&quot;map_b093f686febac39e79926d1997265eb4&quot; &gt;&lt;/div&gt;\n",
       "        \n",
       "&lt;/body&gt;\n",
       "&lt;script&gt;    \n",
       "    \n",
       "            var map_b093f686febac39e79926d1997265eb4 = L.map(\n",
       "                &quot;map_b093f686febac39e79926d1997265eb4&quot;,\n",
       "                {\n",
       "                    center: [22.970855253922863, 90.7937622070311],\n",
       "                    crs: L.CRS.EPSG3857,\n",
       "                    zoom: 10,\n",
       "                    zoomControl: true,\n",
       "                    preferCanvas: false,\n",
       "                }\n",
       "            );\n",
       "\n",
       "            \n",
       "\n",
       "        \n",
       "    \n",
       "            var tile_layer_61d7396be4bceb85f366332c2725cb91 = L.tileLayer(\n",
       "                &quot;https://stamen-tiles-{s}.a.ssl.fastly.net/toner/{z}/{x}/{y}.png&quot;,\n",
       "                {&quot;attribution&quot;: &quot;Map tiles by \\u003ca href=\\&quot;http://stamen.com\\&quot;\\u003eStamen Design\\u003c/a\\u003e, under \\u003ca href=\\&quot;http://creativecommons.org/licenses/by/3.0\\&quot;\\u003eCC BY 3.0\\u003c/a\\u003e. Data by \\u0026copy; \\u003ca href=\\&quot;http://openstreetmap.org\\&quot;\\u003eOpenStreetMap\\u003c/a\\u003e, under \\u003ca href=\\&quot;http://www.openstreetmap.org/copyright\\&quot;\\u003eODbL\\u003c/a\\u003e.&quot;, &quot;detectRetina&quot;: false, &quot;maxNativeZoom&quot;: 18, &quot;maxZoom&quot;: 18, &quot;minZoom&quot;: 0, &quot;noWrap&quot;: false, &quot;opacity&quot;: 1, &quot;subdomains&quot;: &quot;abc&quot;, &quot;tms&quot;: false}\n",
       "            ).addTo(map_b093f686febac39e79926d1997265eb4);\n",
       "        \n",
       "    \n",
       "            var tile_layer_6be122322747f5e5996b1fb766c4a26a = L.tileLayer(\n",
       "                &quot;https://earthengine.googleapis.com/v1alpha/projects/floodmapping-2022/maps/8c4e652a900217f36dc7f4a9c0d4166b-91e5196c60488986030151b3e1705ded/tiles/{z}/{x}/{y}&quot;,\n",
       "                {&quot;attribution&quot;: &quot;Map Data \\u0026copy; \\u003ca href=\\&quot;https://earthengine.google.com/\\&quot;\\u003eGoogle Earth Engine\\u003c/a\\u003e&quot;, &quot;detectRetina&quot;: false, &quot;maxNativeZoom&quot;: 18, &quot;maxZoom&quot;: 18, &quot;minZoom&quot;: 0, &quot;noWrap&quot;: false, &quot;opacity&quot;: 1, &quot;subdomains&quot;: &quot;abc&quot;, &quot;tms&quot;: false}\n",
       "            ).addTo(map_b093f686febac39e79926d1997265eb4);\n",
       "        \n",
       "    \n",
       "            var layer_control_053042e31716b74f460e38bd7bbade67 = {\n",
       "                base_layers : {\n",
       "                    &quot;stamentoner&quot; : tile_layer_61d7396be4bceb85f366332c2725cb91,\n",
       "                },\n",
       "                overlays :  {\n",
       "                    &quot;im&quot; : tile_layer_6be122322747f5e5996b1fb766c4a26a,\n",
       "                },\n",
       "            };\n",
       "            L.control.layers(\n",
       "                layer_control_053042e31716b74f460e38bd7bbade67.base_layers,\n",
       "                layer_control_053042e31716b74f460e38bd7bbade67.overlays,\n",
       "                {&quot;autoZIndex&quot;: true, &quot;collapsed&quot;: true, &quot;position&quot;: &quot;topright&quot;}\n",
       "            ).addTo(map_b093f686febac39e79926d1997265eb4);\n",
       "        \n",
       "&lt;/script&gt;\" style=\"position:absolute;width:100%;height:100%;left:0;top:0;border:none !important;\" allowfullscreen webkitallowfullscreen mozallowfullscreen></iframe></div></div>"
      ],
      "text/plain": [
       "<folium.folium.Map at 0x128f1d840>"
      ]
     },
     "execution_count": 165,
     "metadata": {},
     "output_type": "execute_result"
    }
   ],
   "source": [
    "# create an image of just this band\n",
    "location = aoi.centroid().coordinates().getInfo()[::-1]\n",
    "palette = ['black', 'red', 'cyan', 'yellow']\n",
    "\n",
    "mp = folium.Map(location=location, tiles='Stamen Toner', zoom_start=10)\n",
    "mp.add_ee_layer(ee.Image(im_list.get(0)).select('VV'), {'min': 0,'max': 3, 'palette': palette}, 'im')\n",
    "\n",
    "mp.add_child(folium.LayerControl())"
   ]
  },
  {
   "cell_type": "markdown",
   "id": "88f8caf9",
   "metadata": {},
   "source": [
    "## Generate change maps and export to GEE"
   ]
  },
  {
   "cell_type": "code",
   "execution_count": 166,
   "id": "c21123a1",
   "metadata": {},
   "outputs": [],
   "source": [
    "# Generate the set of change maps as in tutorial\n",
    "\n",
    "# Run the algorithm with median filter and at 1% significance.\n",
    "result = ee.Dictionary(tut.change_maps(im_list, median=True, alpha=0.01))\n",
    "\n",
    "# Extract the change maps and export to assets.\n",
    "change_maps = ee.Image(result.get('bmap'))\n",
    "change_maps = change_maps.rename(timestamplist[1:])"
   ]
  },
  {
   "cell_type": "markdown",
   "id": "52564638",
   "metadata": {},
   "source": [
    "The value 2 here corresponds to [negative definite changes](https://developers.google.com/earth-engine/tutorials/community/detecting-changes-in-sentinel-1-imagery-pt-3) and correspond to decreases in the intensity of the VV and VH reflectance bands associated with flooding."
   ]
  },
  {
   "cell_type": "markdown",
   "id": "59ffb4e4",
   "metadata": {},
   "source": [
    "## Extract image with most flooding (most pixels=2)"
   ]
  },
  {
   "cell_type": "code",
   "execution_count": 167,
   "id": "3fb7a535",
   "metadata": {},
   "outputs": [
    {
     "name": "stdout",
     "output_type": "stream",
     "text": [
      "{'T20160513': 135, 'T20160525': 13059.235294117647, 'T20160606': 4241.482352941177}\n",
      "Biggest flood date: T20160525\n",
      "CPU times: user 16.2 ms, sys: 3.15 ms, total: 19.4 ms\n",
      "Wall time: 8.87 s\n"
     ]
    }
   ],
   "source": [
    "%%time\n",
    "\n",
    "# Extract the image with the most flooding\n",
    "# scale=100 takes (wall clock time) 1.79 s, scale=10 takes (wall clock time) 2min 23s\n",
    "histDict = change_maps.reduceRegion(reducer=ee.Reducer.fixedHistogram(0, 4, 4), geometry=aoi, scale=100, maxPixels=1e9)\n",
    "histDict = histDict.getInfo()\n",
    "negdef_dict = {key: value[2][1] for key, value in histDict.items()}\n",
    "flood_date = max(negdef_dict, key=negdef_dict.get)\n",
    "\n",
    "print(negdef_dict)\n",
    "print(f\"Biggest flood date: {flood_date}\")"
   ]
  },
  {
   "cell_type": "code",
   "execution_count": 168,
   "id": "643beb67",
   "metadata": {},
   "outputs": [
    {
     "data": {
      "text/html": [
       "<div style=\"width:100%;\"><div style=\"position:relative;width:100%;height:0;padding-bottom:60%;\"><span style=\"color:#565656\">Make this Notebook Trusted to load map: File -> Trust Notebook</span><iframe srcdoc=\"&lt;!DOCTYPE html&gt;\n",
       "&lt;head&gt;    \n",
       "    &lt;meta http-equiv=&quot;content-type&quot; content=&quot;text/html; charset=UTF-8&quot; /&gt;\n",
       "    \n",
       "        &lt;script&gt;\n",
       "            L_NO_TOUCH = false;\n",
       "            L_DISABLE_3D = false;\n",
       "        &lt;/script&gt;\n",
       "    \n",
       "    &lt;style&gt;html, body {width: 100%;height: 100%;margin: 0;padding: 0;}&lt;/style&gt;\n",
       "    &lt;style&gt;#map {position:absolute;top:0;bottom:0;right:0;left:0;}&lt;/style&gt;\n",
       "    &lt;script src=&quot;https://cdn.jsdelivr.net/npm/leaflet@1.6.0/dist/leaflet.js&quot;&gt;&lt;/script&gt;\n",
       "    &lt;script src=&quot;https://code.jquery.com/jquery-1.12.4.min.js&quot;&gt;&lt;/script&gt;\n",
       "    &lt;script src=&quot;https://maxcdn.bootstrapcdn.com/bootstrap/3.2.0/js/bootstrap.min.js&quot;&gt;&lt;/script&gt;\n",
       "    &lt;script src=&quot;https://cdnjs.cloudflare.com/ajax/libs/Leaflet.awesome-markers/2.0.2/leaflet.awesome-markers.js&quot;&gt;&lt;/script&gt;\n",
       "    &lt;link rel=&quot;stylesheet&quot; href=&quot;https://cdn.jsdelivr.net/npm/leaflet@1.6.0/dist/leaflet.css&quot;/&gt;\n",
       "    &lt;link rel=&quot;stylesheet&quot; href=&quot;https://maxcdn.bootstrapcdn.com/bootstrap/3.2.0/css/bootstrap.min.css&quot;/&gt;\n",
       "    &lt;link rel=&quot;stylesheet&quot; href=&quot;https://maxcdn.bootstrapcdn.com/bootstrap/3.2.0/css/bootstrap-theme.min.css&quot;/&gt;\n",
       "    &lt;link rel=&quot;stylesheet&quot; href=&quot;https://maxcdn.bootstrapcdn.com/font-awesome/4.6.3/css/font-awesome.min.css&quot;/&gt;\n",
       "    &lt;link rel=&quot;stylesheet&quot; href=&quot;https://cdnjs.cloudflare.com/ajax/libs/Leaflet.awesome-markers/2.0.2/leaflet.awesome-markers.css&quot;/&gt;\n",
       "    &lt;link rel=&quot;stylesheet&quot; href=&quot;https://cdn.jsdelivr.net/gh/python-visualization/folium/folium/templates/leaflet.awesome.rotate.min.css&quot;/&gt;\n",
       "    \n",
       "            &lt;meta name=&quot;viewport&quot; content=&quot;width=device-width,\n",
       "                initial-scale=1.0, maximum-scale=1.0, user-scalable=no&quot; /&gt;\n",
       "            &lt;style&gt;\n",
       "                #map_db5c1f45f41dcfaadab8ada5085c1535 {\n",
       "                    position: relative;\n",
       "                    width: 100.0%;\n",
       "                    height: 100.0%;\n",
       "                    left: 0.0%;\n",
       "                    top: 0.0%;\n",
       "                }\n",
       "            &lt;/style&gt;\n",
       "        \n",
       "&lt;/head&gt;\n",
       "&lt;body&gt;    \n",
       "    \n",
       "            &lt;div class=&quot;folium-map&quot; id=&quot;map_db5c1f45f41dcfaadab8ada5085c1535&quot; &gt;&lt;/div&gt;\n",
       "        \n",
       "&lt;/body&gt;\n",
       "&lt;script&gt;    \n",
       "    \n",
       "            var map_db5c1f45f41dcfaadab8ada5085c1535 = L.map(\n",
       "                &quot;map_db5c1f45f41dcfaadab8ada5085c1535&quot;,\n",
       "                {\n",
       "                    center: [22.970855253922863, 90.7937622070311],\n",
       "                    crs: L.CRS.EPSG3857,\n",
       "                    zoom: 11,\n",
       "                    zoomControl: true,\n",
       "                    preferCanvas: false,\n",
       "                }\n",
       "            );\n",
       "\n",
       "            \n",
       "\n",
       "        \n",
       "    \n",
       "            var tile_layer_fa47876c4f3c7de0d3174a76e77e1843 = L.tileLayer(\n",
       "                &quot;https://stamen-tiles-{s}.a.ssl.fastly.net/toner/{z}/{x}/{y}.png&quot;,\n",
       "                {&quot;attribution&quot;: &quot;Map tiles by \\u003ca href=\\&quot;http://stamen.com\\&quot;\\u003eStamen Design\\u003c/a\\u003e, under \\u003ca href=\\&quot;http://creativecommons.org/licenses/by/3.0\\&quot;\\u003eCC BY 3.0\\u003c/a\\u003e. Data by \\u0026copy; \\u003ca href=\\&quot;http://openstreetmap.org\\&quot;\\u003eOpenStreetMap\\u003c/a\\u003e, under \\u003ca href=\\&quot;http://www.openstreetmap.org/copyright\\&quot;\\u003eODbL\\u003c/a\\u003e.&quot;, &quot;detectRetina&quot;: false, &quot;maxNativeZoom&quot;: 18, &quot;maxZoom&quot;: 18, &quot;minZoom&quot;: 0, &quot;noWrap&quot;: false, &quot;opacity&quot;: 1, &quot;subdomains&quot;: &quot;abc&quot;, &quot;tms&quot;: false}\n",
       "            ).addTo(map_db5c1f45f41dcfaadab8ada5085c1535);\n",
       "        \n",
       "    \n",
       "            var tile_layer_824c6826485c646a10f042d8cd003e4f = L.tileLayer(\n",
       "                &quot;https://earthengine.googleapis.com/v1alpha/projects/floodmapping-2022/maps/e842d95b45b4455fe90b6c163cafb628-103341fdaf1af296b729f447ac3bcba5/tiles/{z}/{x}/{y}&quot;,\n",
       "                {&quot;attribution&quot;: &quot;Map Data \\u0026copy; \\u003ca href=\\&quot;https://earthengine.google.com/\\&quot;\\u003eGoogle Earth Engine\\u003c/a\\u003e&quot;, &quot;detectRetina&quot;: false, &quot;maxNativeZoom&quot;: 18, &quot;maxZoom&quot;: 18, &quot;minZoom&quot;: 0, &quot;noWrap&quot;: false, &quot;opacity&quot;: 1, &quot;subdomains&quot;: &quot;abc&quot;, &quot;tms&quot;: false}\n",
       "            ).addTo(map_db5c1f45f41dcfaadab8ada5085c1535);\n",
       "        \n",
       "    \n",
       "            var tile_layer_a413c53b4ebb2123ed49c28e1d6f2d6f = L.tileLayer(\n",
       "                &quot;https://earthengine.googleapis.com/v1alpha/projects/floodmapping-2022/maps/f7544310f00a018235db801647e648c2-fc6ef7575c060718bcd5ac52cc593633/tiles/{z}/{x}/{y}&quot;,\n",
       "                {&quot;attribution&quot;: &quot;Map Data \\u0026copy; \\u003ca href=\\&quot;https://earthengine.google.com/\\&quot;\\u003eGoogle Earth Engine\\u003c/a\\u003e&quot;, &quot;detectRetina&quot;: false, &quot;maxNativeZoom&quot;: 18, &quot;maxZoom&quot;: 18, &quot;minZoom&quot;: 0, &quot;noWrap&quot;: false, &quot;opacity&quot;: 1, &quot;subdomains&quot;: &quot;abc&quot;, &quot;tms&quot;: false}\n",
       "            ).addTo(map_db5c1f45f41dcfaadab8ada5085c1535);\n",
       "        \n",
       "    \n",
       "            var tile_layer_7fc2f12251ae1a59d5ab7ba8e49a31e9 = L.tileLayer(\n",
       "                &quot;https://earthengine.googleapis.com/v1alpha/projects/floodmapping-2022/maps/53df6b76c021344ae4d5a2c4673dcc94-bf71b621696662537b7bcbc097509ddf/tiles/{z}/{x}/{y}&quot;,\n",
       "                {&quot;attribution&quot;: &quot;Map Data \\u0026copy; \\u003ca href=\\&quot;https://earthengine.google.com/\\&quot;\\u003eGoogle Earth Engine\\u003c/a\\u003e&quot;, &quot;detectRetina&quot;: false, &quot;maxNativeZoom&quot;: 18, &quot;maxZoom&quot;: 18, &quot;minZoom&quot;: 0, &quot;noWrap&quot;: false, &quot;opacity&quot;: 1, &quot;subdomains&quot;: &quot;abc&quot;, &quot;tms&quot;: false}\n",
       "            ).addTo(map_db5c1f45f41dcfaadab8ada5085c1535);\n",
       "        \n",
       "    \n",
       "            var tile_layer_470a4476fc8deae067f5ad41729277c5 = L.tileLayer(\n",
       "                &quot;https://earthengine.googleapis.com/v1alpha/projects/floodmapping-2022/maps/5727d0b890afd9e9937eb52ebb52a1f1-fb5917f0d0784eaec53b479dcbecf1a4/tiles/{z}/{x}/{y}&quot;,\n",
       "                {&quot;attribution&quot;: &quot;Map Data \\u0026copy; \\u003ca href=\\&quot;https://earthengine.google.com/\\&quot;\\u003eGoogle Earth Engine\\u003c/a\\u003e&quot;, &quot;detectRetina&quot;: false, &quot;maxNativeZoom&quot;: 18, &quot;maxZoom&quot;: 18, &quot;minZoom&quot;: 0, &quot;noWrap&quot;: false, &quot;opacity&quot;: 1, &quot;subdomains&quot;: &quot;abc&quot;, &quot;tms&quot;: false}\n",
       "            ).addTo(map_db5c1f45f41dcfaadab8ada5085c1535);\n",
       "        \n",
       "    \n",
       "            var layer_control_15b88242d0da25cab70a111b810a651a = {\n",
       "                base_layers : {\n",
       "                    &quot;stamentoner&quot; : tile_layer_fa47876c4f3c7de0d3174a76e77e1843,\n",
       "                },\n",
       "                overlays :  {\n",
       "                    &quot;mean of images&quot; : tile_layer_824c6826485c646a10f042d8cd003e4f,\n",
       "                    &quot;T20160513&quot; : tile_layer_a413c53b4ebb2123ed49c28e1d6f2d6f,\n",
       "                    &quot;T20160525&quot; : tile_layer_7fc2f12251ae1a59d5ab7ba8e49a31e9,\n",
       "                    &quot;T20160606&quot; : tile_layer_470a4476fc8deae067f5ad41729277c5,\n",
       "                },\n",
       "            };\n",
       "            L.control.layers(\n",
       "                layer_control_15b88242d0da25cab70a111b810a651a.base_layers,\n",
       "                layer_control_15b88242d0da25cab70a111b810a651a.overlays,\n",
       "                {&quot;autoZIndex&quot;: true, &quot;collapsed&quot;: true, &quot;position&quot;: &quot;topright&quot;}\n",
       "            ).addTo(map_db5c1f45f41dcfaadab8ada5085c1535);\n",
       "        \n",
       "&lt;/script&gt;\" style=\"position:absolute;width:100%;height:100%;left:0;top:0;border:none !important;\" allowfullscreen webkitallowfullscreen mozallowfullscreen></iframe></div></div>"
      ],
      "text/plain": [
       "<folium.folium.Map at 0x129c2f970>"
      ]
     },
     "execution_count": 168,
     "metadata": {},
     "output_type": "execute_result"
    }
   ],
   "source": [
    "# create an image of just this band, then export it and the date to GEE\n",
    "location = aoi.centroid().coordinates().getInfo()[::-1]\n",
    "palette = ['black','red', 'cyan', 'yellow']\n",
    "\n",
    "im_mean = im_coll.select('VV').mean().clip(aoi)\n",
    "\n",
    "mp = folium.Map(location=location, tiles='Stamen Toner', zoom_start=11)\n",
    "mp.add_ee_layer(im_mean, {}, \"mean of images\")\n",
    "change_maps = change_maps.updateMask(change_maps.gt(0))\n",
    "for date in timestamplist[1:]:\n",
    "    mp.add_ee_layer(change_maps.select(date), {'min': 0,'max': 3, 'palette': palette}, date)\n",
    "\n",
    "mp.add_child(folium.LayerControl())"
   ]
  },
  {
   "cell_type": "code",
   "execution_count": 169,
   "id": "1f77bd6b",
   "metadata": {},
   "outputs": [],
   "source": [
    "# finally, export the maps to Google Earth Engine assets\n",
    "im_mean = im_coll.select('VV').mean().clip(aoi)\n",
    "\n",
    "final_maps = change_maps.select(flood_date)\n",
    "\n",
    "# define path to assets\n",
    "assetId = f'projects/floodmapping-2022/assets/examples/{region}_{flood_date}'\n",
    "\n",
    "assexport = ee.batch.Export.image.toAsset(final_maps,\n",
    "                                      description='assetExportTask',\n",
    "                                      assetId=assetId, scale=10, maxPixels=1e9)\n",
    "\n",
    "# export to google earth engine account project folder\n",
    "assexport.start()\n"
   ]
  },
  {
   "cell_type": "code",
   "execution_count": 176,
   "id": "0e3438c3",
   "metadata": {},
   "outputs": [
    {
     "data": {
      "text/plain": [
       "'bangladesh04_T20160525'"
      ]
     },
     "execution_count": 176,
     "metadata": {},
     "output_type": "execute_result"
    }
   ],
   "source": [
    "f\"{region}_{flood_date}\""
   ]
  },
  {
   "cell_type": "code",
   "execution_count": 182,
   "id": "e401f455",
   "metadata": {},
   "outputs": [
    {
     "data": {
      "text/plain": [
       "{'state': 'READY',\n",
       " 'description': 'assetExportTask',\n",
       " 'creation_timestamp_ms': 1652355518148,\n",
       " 'update_timestamp_ms': 1652355518148,\n",
       " 'start_timestamp_ms': 0,\n",
       " 'task_type': 'EXPORT_IMAGE',\n",
       " 'id': 'EJJ3IYFNH3EAKVYM7LHWOLBA',\n",
       " 'name': 'projects/floodmapping-2022/operations/EJJ3IYFNH3EAKVYM7LHWOLBA'}"
      ]
     },
     "execution_count": 182,
     "metadata": {},
     "output_type": "execute_result"
    }
   ],
   "source": [
    "# check status of export\n",
    "assexport.status()"
   ]
  },
  {
   "cell_type": "code",
   "execution_count": 172,
   "id": "1fab1519",
   "metadata": {},
   "outputs": [],
   "source": [
    "# define path to assets\n",
    "assexport_drive = ee.batch.Export.image.toDrive(change_maps.select(flood_date),\n",
    "                                                description='assetExportTask',\n",
    "                                                fileNamePrefix=f\"{storm}_{region}_{flood_date}\",\n",
    "                                                scale=10,\n",
    "                                                maxPixels=1e9)\n",
    "\n",
    "# export to google earth engine account\n",
    "assexport_drive.start()"
   ]
  },
  {
   "cell_type": "code",
   "execution_count": 177,
   "id": "c989e2ab",
   "metadata": {},
   "outputs": [
    {
     "data": {
      "text/plain": [
       "{'state': 'READY',\n",
       " 'description': 'assetExportTask',\n",
       " 'creation_timestamp_ms': 1652355519822,\n",
       " 'update_timestamp_ms': 1652355519822,\n",
       " 'start_timestamp_ms': 0,\n",
       " 'task_type': 'EXPORT_IMAGE',\n",
       " 'id': 'V4MAXWYGLDDB2LI7RV7PRS3W',\n",
       " 'name': 'projects/floodmapping-2022/operations/V4MAXWYGLDDB2LI7RV7PRS3W'}"
      ]
     },
     "execution_count": 177,
     "metadata": {},
     "output_type": "execute_result"
    }
   ],
   "source": [
    "assexport_drive.status()"
   ]
  },
  {
   "cell_type": "markdown",
   "id": "e63cc3a3",
   "metadata": {},
   "source": [
    "## Load from GEE and visualise"
   ]
  },
  {
   "cell_type": "code",
   "execution_count": 146,
   "id": "e8617c1f",
   "metadata": {},
   "outputs": [
    {
     "name": "stdout",
     "output_type": "stream",
     "text": [
      "roanu_bangladesh03_T20160525\n"
     ]
    },
    {
     "data": {
      "text/html": [
       "<div style=\"width:100%;\"><div style=\"position:relative;width:100%;height:0;padding-bottom:60%;\"><span style=\"color:#565656\">Make this Notebook Trusted to load map: File -> Trust Notebook</span><iframe srcdoc=\"&lt;!DOCTYPE html&gt;\n",
       "&lt;head&gt;    \n",
       "    &lt;meta http-equiv=&quot;content-type&quot; content=&quot;text/html; charset=UTF-8&quot; /&gt;\n",
       "    \n",
       "        &lt;script&gt;\n",
       "            L_NO_TOUCH = false;\n",
       "            L_DISABLE_3D = false;\n",
       "        &lt;/script&gt;\n",
       "    \n",
       "    &lt;style&gt;html, body {width: 100%;height: 100%;margin: 0;padding: 0;}&lt;/style&gt;\n",
       "    &lt;style&gt;#map {position:absolute;top:0;bottom:0;right:0;left:0;}&lt;/style&gt;\n",
       "    &lt;script src=&quot;https://cdn.jsdelivr.net/npm/leaflet@1.6.0/dist/leaflet.js&quot;&gt;&lt;/script&gt;\n",
       "    &lt;script src=&quot;https://code.jquery.com/jquery-1.12.4.min.js&quot;&gt;&lt;/script&gt;\n",
       "    &lt;script src=&quot;https://maxcdn.bootstrapcdn.com/bootstrap/3.2.0/js/bootstrap.min.js&quot;&gt;&lt;/script&gt;\n",
       "    &lt;script src=&quot;https://cdnjs.cloudflare.com/ajax/libs/Leaflet.awesome-markers/2.0.2/leaflet.awesome-markers.js&quot;&gt;&lt;/script&gt;\n",
       "    &lt;link rel=&quot;stylesheet&quot; href=&quot;https://cdn.jsdelivr.net/npm/leaflet@1.6.0/dist/leaflet.css&quot;/&gt;\n",
       "    &lt;link rel=&quot;stylesheet&quot; href=&quot;https://maxcdn.bootstrapcdn.com/bootstrap/3.2.0/css/bootstrap.min.css&quot;/&gt;\n",
       "    &lt;link rel=&quot;stylesheet&quot; href=&quot;https://maxcdn.bootstrapcdn.com/bootstrap/3.2.0/css/bootstrap-theme.min.css&quot;/&gt;\n",
       "    &lt;link rel=&quot;stylesheet&quot; href=&quot;https://maxcdn.bootstrapcdn.com/font-awesome/4.6.3/css/font-awesome.min.css&quot;/&gt;\n",
       "    &lt;link rel=&quot;stylesheet&quot; href=&quot;https://cdnjs.cloudflare.com/ajax/libs/Leaflet.awesome-markers/2.0.2/leaflet.awesome-markers.css&quot;/&gt;\n",
       "    &lt;link rel=&quot;stylesheet&quot; href=&quot;https://cdn.jsdelivr.net/gh/python-visualization/folium/folium/templates/leaflet.awesome.rotate.min.css&quot;/&gt;\n",
       "    \n",
       "            &lt;meta name=&quot;viewport&quot; content=&quot;width=device-width,\n",
       "                initial-scale=1.0, maximum-scale=1.0, user-scalable=no&quot; /&gt;\n",
       "            &lt;style&gt;\n",
       "                #map_5097d9f6e887f3908b976eafe816085c {\n",
       "                    position: relative;\n",
       "                    width: 100.0%;\n",
       "                    height: 100.0%;\n",
       "                    left: 0.0%;\n",
       "                    top: 0.0%;\n",
       "                }\n",
       "            &lt;/style&gt;\n",
       "        \n",
       "&lt;/head&gt;\n",
       "&lt;body&gt;    \n",
       "    \n",
       "            &lt;div class=&quot;folium-map&quot; id=&quot;map_5097d9f6e887f3908b976eafe816085c&quot; &gt;&lt;/div&gt;\n",
       "        \n",
       "&lt;/body&gt;\n",
       "&lt;script&gt;    \n",
       "    \n",
       "            var map_5097d9f6e887f3908b976eafe816085c = L.map(\n",
       "                &quot;map_5097d9f6e887f3908b976eafe816085c&quot;,\n",
       "                {\n",
       "                    center: [22.368614531819368, 91.05076812238555],\n",
       "                    crs: L.CRS.EPSG3857,\n",
       "                    zoom: 11,\n",
       "                    zoomControl: true,\n",
       "                    preferCanvas: false,\n",
       "                }\n",
       "            );\n",
       "\n",
       "            \n",
       "\n",
       "        \n",
       "    \n",
       "            var tile_layer_f3c42342d2207a8626780dba16ed7b53 = L.tileLayer(\n",
       "                &quot;https://stamen-tiles-{s}.a.ssl.fastly.net/toner/{z}/{x}/{y}.png&quot;,\n",
       "                {&quot;attribution&quot;: &quot;Map tiles by \\u003ca href=\\&quot;http://stamen.com\\&quot;\\u003eStamen Design\\u003c/a\\u003e, under \\u003ca href=\\&quot;http://creativecommons.org/licenses/by/3.0\\&quot;\\u003eCC BY 3.0\\u003c/a\\u003e. Data by \\u0026copy; \\u003ca href=\\&quot;http://openstreetmap.org\\&quot;\\u003eOpenStreetMap\\u003c/a\\u003e, under \\u003ca href=\\&quot;http://www.openstreetmap.org/copyright\\&quot;\\u003eODbL\\u003c/a\\u003e.&quot;, &quot;detectRetina&quot;: false, &quot;maxNativeZoom&quot;: 18, &quot;maxZoom&quot;: 18, &quot;minZoom&quot;: 0, &quot;noWrap&quot;: false, &quot;opacity&quot;: 1, &quot;subdomains&quot;: &quot;abc&quot;, &quot;tms&quot;: false}\n",
       "            ).addTo(map_5097d9f6e887f3908b976eafe816085c);\n",
       "        \n",
       "    \n",
       "            var tile_layer_525d6415248a9270ec8806add7e127b8 = L.tileLayer(\n",
       "                &quot;https://earthengine.googleapis.com/v1alpha/projects/floodmapping-2022/maps/81210a9c581964af1b5e720586a309ed-b07eed6e76ab363e9cfdf7b6b284fea6/tiles/{z}/{x}/{y}&quot;,\n",
       "                {&quot;attribution&quot;: &quot;Map Data \\u0026copy; \\u003ca href=\\&quot;https://earthengine.google.com/\\&quot;\\u003eGoogle Earth Engine\\u003c/a\\u003e&quot;, &quot;detectRetina&quot;: false, &quot;maxNativeZoom&quot;: 18, &quot;maxZoom&quot;: 18, &quot;minZoom&quot;: 0, &quot;noWrap&quot;: false, &quot;opacity&quot;: 1, &quot;subdomains&quot;: &quot;abc&quot;, &quot;tms&quot;: false}\n",
       "            ).addTo(map_5097d9f6e887f3908b976eafe816085c);\n",
       "        \n",
       "    \n",
       "            var tile_layer_2dcaa0a9f76fb718901d957264e0a6be = L.tileLayer(\n",
       "                &quot;https://earthengine.googleapis.com/v1alpha/projects/floodmapping-2022/maps/4ecdceb88c2059fc6d8de834b205c1c4-40e75981842441538ef04065d6e20984/tiles/{z}/{x}/{y}&quot;,\n",
       "                {&quot;attribution&quot;: &quot;Map Data \\u0026copy; \\u003ca href=\\&quot;https://earthengine.google.com/\\&quot;\\u003eGoogle Earth Engine\\u003c/a\\u003e&quot;, &quot;detectRetina&quot;: false, &quot;maxNativeZoom&quot;: 18, &quot;maxZoom&quot;: 18, &quot;minZoom&quot;: 0, &quot;noWrap&quot;: false, &quot;opacity&quot;: 1, &quot;subdomains&quot;: &quot;abc&quot;, &quot;tms&quot;: false}\n",
       "            ).addTo(map_5097d9f6e887f3908b976eafe816085c);\n",
       "        \n",
       "    \n",
       "            var tile_layer_de3788db71372ed7c84503bfafcd1099 = L.tileLayer(\n",
       "                &quot;https://earthengine.googleapis.com/v1alpha/projects/floodmapping-2022/maps/185910ef53982926b67d3d2f79f7fdc9-9637459c85f579562195117672aecf81/tiles/{z}/{x}/{y}&quot;,\n",
       "                {&quot;attribution&quot;: &quot;Map Data \\u0026copy; \\u003ca href=\\&quot;https://earthengine.google.com/\\&quot;\\u003eGoogle Earth Engine\\u003c/a\\u003e&quot;, &quot;detectRetina&quot;: false, &quot;maxNativeZoom&quot;: 18, &quot;maxZoom&quot;: 18, &quot;minZoom&quot;: 0, &quot;noWrap&quot;: false, &quot;opacity&quot;: 1, &quot;subdomains&quot;: &quot;abc&quot;, &quot;tms&quot;: false}\n",
       "            ).addTo(map_5097d9f6e887f3908b976eafe816085c);\n",
       "        \n",
       "    \n",
       "            var tile_layer_5ac4907dd97b81cb5e4b27dcd1608731 = L.tileLayer(\n",
       "                &quot;https://earthengine.googleapis.com/v1alpha/projects/floodmapping-2022/maps/ca56a39d1f11f0a7d0677ad84aacb03c-5760e043b7a31df08265855d32cba55c/tiles/{z}/{x}/{y}&quot;,\n",
       "                {&quot;attribution&quot;: &quot;Map Data \\u0026copy; \\u003ca href=\\&quot;https://earthengine.google.com/\\&quot;\\u003eGoogle Earth Engine\\u003c/a\\u003e&quot;, &quot;detectRetina&quot;: false, &quot;maxNativeZoom&quot;: 18, &quot;maxZoom&quot;: 18, &quot;minZoom&quot;: 0, &quot;noWrap&quot;: false, &quot;opacity&quot;: 1, &quot;subdomains&quot;: &quot;abc&quot;, &quot;tms&quot;: false}\n",
       "            ).addTo(map_5097d9f6e887f3908b976eafe816085c);\n",
       "        \n",
       "    \n",
       "            var layer_control_fbe6911dce1bd1bb26444230ee51840e = {\n",
       "                base_layers : {\n",
       "                    &quot;stamentoner&quot; : tile_layer_f3c42342d2207a8626780dba16ed7b53,\n",
       "                },\n",
       "                overlays :  {\n",
       "                    &quot;mean of images&quot; : tile_layer_525d6415248a9270ec8806add7e127b8,\n",
       "                    &quot;T20160525&quot; : tile_layer_2dcaa0a9f76fb718901d957264e0a6be,\n",
       "                    &quot;jrc permanent water&quot; : tile_layer_de3788db71372ed7c84503bfafcd1099,\n",
       "                    &quot;mangroves&quot; : tile_layer_5ac4907dd97b81cb5e4b27dcd1608731,\n",
       "                },\n",
       "            };\n",
       "            L.control.layers(\n",
       "                layer_control_fbe6911dce1bd1bb26444230ee51840e.base_layers,\n",
       "                layer_control_fbe6911dce1bd1bb26444230ee51840e.overlays,\n",
       "                {&quot;autoZIndex&quot;: true, &quot;collapsed&quot;: true, &quot;position&quot;: &quot;topright&quot;}\n",
       "            ).addTo(map_5097d9f6e887f3908b976eafe816085c);\n",
       "        \n",
       "&lt;/script&gt;\" style=\"position:absolute;width:100%;height:100%;left:0;top:0;border:none !important;\" allowfullscreen webkitallowfullscreen mozallowfullscreen></iframe></div></div>"
      ],
      "text/plain": [
       "<folium.folium.Map at 0x128ee3d60>"
      ]
     },
     "execution_count": 146,
     "metadata": {},
     "output_type": "execute_result"
    }
   ],
   "source": [
    "print(f\"{storm}_{region}_{flood_date}\")\n",
    "\n",
    "gee_map = ee.Image(f'projects/floodmapping-2022/assets/examples/{region}_{flood_date}')\n",
    "gee_map = gee_map.updateMask(gee_map.gt(0))\n",
    "\n",
    "location = aoi.centroid().coordinates().getInfo()[::-1]\n",
    "palette = ['black', 'red', 'cyan', 'yellow']\n",
    "\n",
    "permwater = ee.Image(\"JRC/GSW1_3/GlobalSurfaceWater\").clip(aoi)\n",
    "mangroves = ee.Image(ee.ImageCollection(\"LANDSAT/MANGROVE_FORESTS\")\n",
    "                               .filterBounds(b)\n",
    "                               .first()\n",
    "                               .clip(aoi))\n",
    "mangrovesVis = {'min': 0, 'max': 1.0, 'palette': '#2edb7f'}\n",
    "permwaterVis = {'min': 0.0, 'max': 100, 'palette': ['#ffffff', '#ffbbbb', '#0000ff']}\n",
    "\n",
    "mp = folium.Map(location=location, tiles='Stamen Toner', zoom_start=11)\n",
    "\n",
    "mp.add_ee_layer(im_mean, {}, \"mean of images\")\n",
    "mp.add_ee_layer(gee_map.select(flood_date), {'min': 0,'max': 3, 'palette': palette}, flood_date)\n",
    "mp.add_ee_layer(permwater.select('occurrence'), permwaterVis, 'jrc permanent water')\n",
    "mp.add_ee_layer(mangroves, mangrovesVis, 'mangroves')\n",
    "\n",
    "mp.add_child(folium.LayerControl())"
   ]
  },
  {
   "cell_type": "code",
   "execution_count": 108,
   "id": "50864be4",
   "metadata": {},
   "outputs": [],
   "source": [
    "# uncomment to save the html file of the flood maps\n",
    "mp.save(join(save_dir, f\"{region}_{flood_date}.html\"))"
   ]
  }
 ],
 "metadata": {
  "kernelspec": {
   "display_name": "hybridmodels",
   "language": "python",
   "name": "hybridmodels"
  },
  "language_info": {
   "codemirror_mode": {
    "name": "ipython",
    "version": 3
   },
   "file_extension": ".py",
   "mimetype": "text/x-python",
   "name": "python",
   "nbconvert_exporter": "python",
   "pygments_lexer": "ipython3",
   "version": "3.10.4"
  }
 },
 "nbformat": 4,
 "nbformat_minor": 5
}
