{
 "cells": [
  {
   "cell_type": "markdown",
   "id": "f4ebce9a",
   "metadata": {},
   "source": [
    "Check my account [here](https://www.planet.com/account/#/dashboard)"
   ]
  },
  {
   "cell_type": "code",
   "execution_count": 2,
   "id": "adbf3d96",
   "metadata": {},
   "outputs": [
    {
     "name": "stdout",
     "output_type": "stream",
     "text": [
      "200\n",
      "{\"_links\": {\"_self\": \"https://api.planet.com/data/v1/\", \"asset-types\": \"https://api.planet.com/data/v1/asset-types/\", \"item-types\": \"https://api.planet.com/data/v1/item-types/\", \"spec\": \"https://api.planet.com/data/v1/spec\"}}\n"
     ]
    }
   ],
   "source": [
    "\"\"\"Authenticate via basic HTTP with Python.\"\"\"\n",
    "import os\n",
    "import json\n",
    "import requests\n",
    "\n",
    "wd = os.getcwd()\n",
    "\n",
    "os.environ['PL_API_KEY'] = 'PLAK5d7f0427feda4778b1f8ad7aec70ce0a'\n",
    "PLANET_API_KEY = os.getenv('PL_API_KEY')\n",
    "BASE_URL = \"https://api.planet.com/data/v1\"\n",
    "\n",
    "session = requests.Session()\n",
    "session.auth = (PLANET_API_KEY, \"\")\n",
    "res = session.get(BASE_URL)\n",
    "print(res.status_code)\n",
    "print(res.text)"
   ]
  },
  {
   "cell_type": "code",
   "execution_count": 4,
   "id": "67f55f6a",
   "metadata": {},
   "outputs": [
    {
     "name": "stdout",
     "output_type": "stream",
     "text": [
      "400\n",
      "{\"field\":{\"Details\":[{\"message\":\"No access to assets: PSScene/20220304_093300_37_2430/[ortho_analytic_4b ortho_analytic_4b_xml ortho_udm2]\"},{\"message\":\"No access to assets: PSScene/20220304_093257_90_2430/[ortho_analytic_4b ortho_analytic_4b_xml ortho_udm2]\"},{\"message\":\"No access to assets: PSScene/20220304_103324_1105/[ortho_analytic_4b ortho_analytic_4b_xml ortho_udm2]\"},{\"message\":\"No access to assets: PSScene/20220304_103325_1105/[ortho_analytic_4b ortho_analytic_4b_xml ortho_udm2]\"}]},\"general\":[{\"message\":\"Unable to accept order\"}]}\n",
      "\n"
     ]
    }
   ],
   "source": [
    "f = open(os.path.join(wd, \"simple-order.json\"))\n",
    "json_request = json.load(f)\n",
    "\n",
    "req = session.post(\"https://api.planet.com/compute/ops/orders/v2\", json=json_request)\n",
    "print(req.status_code)\n",
    "print(req.text)"
   ]
  }
 ],
 "metadata": {
  "kernelspec": {
   "display_name": "Python 3 (ipykernel)",
   "language": "python",
   "name": "python3"
  },
  "language_info": {
   "codemirror_mode": {
    "name": "ipython",
    "version": 3
   },
   "file_extension": ".py",
   "mimetype": "text/x-python",
   "name": "python",
   "nbconvert_exporter": "python",
   "pygments_lexer": "ipython3",
   "version": "3.10.8"
  }
 },
 "nbformat": 4,
 "nbformat_minor": 5
}
