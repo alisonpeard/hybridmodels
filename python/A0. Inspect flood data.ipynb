{
 "cells": [
  {
   "cell_type": "markdown",
   "id": "e41271cc",
   "metadata": {},
   "source": [
    "# Export JRC Permanent water GeoTIFFs to Google Drive\n",
    "Export JRC Permanent water GeoTIFFs to Google Drive for each event (storm+region).\n",
    "\n",
    "Files are saved to Google Service Account Drive, to access them use PyDrive to access the Google Drive API (requires enabling).\n",
    " * [Instructions to set up](https://stackoverflow.com/questions/71834208/why-is-the-export-to-the-drive-empty-when-using-google-earth-engine-in-python-w)\n",
    " * [Instructions for constructing queries](https://developers.google.com/drive/api/guides/search-files)"
   ]
  },
  {
   "cell_type": "markdown",
   "id": "0abd166b",
   "metadata": {},
   "source": [
    "# Get JRC permanent water for the AoI"
   ]
  },
  {
   "cell_type": "code",
   "execution_count": 1,
   "id": "39de82f1",
   "metadata": {},
   "outputs": [],
   "source": [
    "from os.path import join\n",
    "import pandas as pd\n",
    "import geopandas as gpd\n",
    "\n",
    "\n",
    "wd = join('..', 'data')\n",
    "\n",
    "current_datasets = pd.read_csv(join(wd, 'csvs', 'current_datasets.csv'))\n",
    "ems_datasets = current_datasets[current_datasets.source == 'Copernicus EMS']\n",
    "ems_events = [(row.event, row.region) for _, row in ems_datasets.iterrows()]"
   ]
  },
  {
   "cell_type": "code",
   "execution_count": null,
   "id": "ad0af694",
   "metadata": {},
   "outputs": [],
   "source": [
    "import ee\n",
    "import collections\n",
    "collections.Callable = collections.abc.Callable\n",
    "\n",
    "import time\n",
    "\n",
    "from pydrive.auth import GoogleAuth\n",
    "from pydrive.drive import GoogleDrive\n",
    "from oauth2client.service_account import ServiceAccountCredentials\n",
    "\n",
    "# initialize GEE\n",
    "try:\n",
    "    ee.Initialize()\n",
    "except:\n",
    "    service_account = \"hybrid-models@hybridmodels-354115.iam.gserviceaccount.com\"\n",
    "    credentials = ee.ServiceAccountCredentials(service_account, join(\"gcloud_keys\", \".hybridmodels-354115-e71f122c7f06.json\"))\n",
    "    ee.Initialize(credentials)"
   ]
  },
  {
   "cell_type": "code",
   "execution_count": 79,
   "id": "6b5a4687",
   "metadata": {},
   "outputs": [],
   "source": [
    "def get_gee_jrc(band, aoi_ee, event_str):\n",
    "    jrc_permwater = (ee.Image(\"JRC/GSW1_3/GlobalSurfaceWater\")\n",
    "                     .clip(aoi_ee)\n",
    "                     .select(band)\n",
    "                     .unmask(0))\n",
    "\n",
    "    assexport_drive = ee.batch.Export.image.toDrive(jrc_permwater,\n",
    "                                                    description=f'JRC_{event_str}',\n",
    "                                                    fileNamePrefix=f\"JRC{band}_{event_str}\",\n",
    "                                                    scale=10,\n",
    "                                                    maxPixels=1e13)\n",
    "\n",
    "    # export to google earth engine account\n",
    "    assexport_drive.start()\n",
    "\n",
    "    while (assexport_drive.status()['state'] == 'RUNNING') or (assexport_drive.status()['state'] == 'READY'):\n",
    "        print('Still running...')\n",
    "        time.sleep(30)\n",
    "\n",
    "    print(f\"Finished! Status: {assexport_drive.status()['state']}\")\n",
    "    \n",
    "    \n",
    "    \n",
    "def download_from_drive():\n",
    "    # authenticate to Google Drive (of the Service account)\n",
    "    gauth = GoogleAuth()\n",
    "    scopes = ['https://www.googleapis.com/auth/drive']\n",
    "    gauth.credentials = ServiceAccountCredentials.from_json_keyfile_name(join(\"gcloud_keys\", \".hybridmodels-354115-e71f122c7f06.json\"), scopes=scopes)\n",
    "\n",
    "    drive = GoogleDrive(gauth)\n",
    "\n",
    "    # get list of files\n",
    "    # construct query: \n",
    "    file_list = drive.ListFile({'q': \"'root' in parents and trashed=false\"}).GetList()\n",
    "    for file in file_list:\n",
    "\n",
    "        filename = file['title']\n",
    "\n",
    "        # download file into working directory (in this case a tiff-file)\n",
    "        file.GetContentFile(filename, mimetype=\"image/tiff\")\n",
    "\n",
    "        # delete file afterwards to keep the Drive empty\n",
    "        file.Delete()"
   ]
  },
  {
   "cell_type": "code",
   "execution_count": 128,
   "id": "774cc5f7",
   "metadata": {},
   "outputs": [
    {
     "name": "stdout",
     "output_type": "stream",
     "text": [
      "Still running...\n",
      "Still running...\n",
      "Still running...\n",
      "Still running...\n",
      "Finished! Status: COMPLETED\n"
     ]
    }
   ],
   "source": [
    "# use this line to just do a specific storm\n",
    "ems_events = [('batsirai', 'menabe')]\n",
    "\n",
    "\n",
    "\n",
    "for i in range(len(ems_events)):\n",
    "    storm = ems_events[i][0]\n",
    "    region = ems_events[i][1]\n",
    "    event_str = '_'.join([storm, region])\n",
    "\n",
    "    flood = gpd.read_file(join(wd, event_str, 'flood.gpkg'))\n",
    "    aoi = gpd.read_file(join(wd, event_str, 'areaOfInterest.gpkg'))['geometry'][0]\n",
    "\n",
    "    # convert aoi to a GEE Feature Collection\n",
    "    aoi_ee = ee.Geometry.Polygon(aoi.__geo_interface__[\"coordinates\"],\n",
    "                                 proj=ee.Projection('EPSG:4326'))\n",
    "    location = aoi_ee.centroid().coordinates().getInfo()[::-1]\n",
    "\n",
    "    get_gee_jrc('occurrence', aoi_ee, event_str)\n",
    "    ! say done sub loop\n",
    "\n",
    "download_from_drive()\n"
   ]
  },
  {
   "cell_type": "markdown",
   "id": "0b853e28",
   "metadata": {},
   "source": [
    "# Analysis (with help vectorising from QGIS)"
   ]
  },
  {
   "cell_type": "code",
   "execution_count": null,
   "id": "25e0e26b",
   "metadata": {},
   "outputs": [],
   "source": [
    "import matplotlib.pyplot as plt\n",
    "from viz_utils import soge_colours"
   ]
  },
  {
   "cell_type": "code",
   "execution_count": 130,
   "id": "a9a630da",
   "metadata": {},
   "outputs": [],
   "source": [
    "jrc_occurrence = gpd.read_file(join(wd, event_str, 'jrc_occurrence.gpkg'))\n",
    "\n",
    "fig, ax = plt.subplots()\n",
    "flood.plot(color=soge_colours['orange'], ax=ax, zorder=2)\n",
    "jrc_occurrence.plot('occurrence', cmap='YlGnBu', ax=ax, zorder=1)"
   ]
  },
  {
   "cell_type": "code",
   "execution_count": 132,
   "id": "fbabb562",
   "metadata": {},
   "outputs": [],
   "source": [
    "# get intersection and union of polygons\n",
    "intersection = gpd.overlay(flood, jrc_occurrence, how='intersection')\n",
    "union = gpd.overlay(flood, jrc_occurrence, how='union')\n",
    "\n",
    "# get areas\n",
    "intersection_area = intersection.to_crs(3857).area.sum()\n",
    "flooded_area = flood.to_crs(3857).area.sum()\n",
    "union_area = union.to_crs(3857).area.sum()\n",
    "\n",
    "# percentage area\n",
    "perc_area = intersection_area / flooded_area\n",
    "\n",
    "# intersection over union\n",
    "iou = intersection_area / union_area\n",
    "\n",
    "# mean occurrence value in flood polygon\n",
    "mean_occurence = intersection.occurrence.mean()\n",
    "quantiles_occurrence = intersection.occurrence.quantile([0.25,0.5,0.75])"
   ]
  },
  {
   "cell_type": "code",
   "execution_count": 133,
   "id": "1fe58fa1",
   "metadata": {},
   "outputs": [
    {
     "name": "stdout",
     "output_type": "stream",
     "text": [
      "Results:\n",
      "-------\n",
      "\n",
      "%area: 13.71%\n",
      "IoU: 0.15%\n",
      "Mean occurrence value in flood: 6.52\n",
      "25% quantile: 3.00\n",
      "50% quantile: 6.00\n",
      "75% quantile: 9.00\n"
     ]
    }
   ],
   "source": [
    "print(f\"Results:\\n-------\\n\")\n",
    "print(f\"%area: {perc_area:.2%}\\nIoU: {iou:.2%}\\nMean occurrence value in flood: {mean_occurence:.2f}\")\n",
    "for quantile, value in quantiles_occurrence.items():\n",
    "    print(f\"{quantile:.0%} quantile: {value:.2f}\")"
   ]
  },
  {
   "cell_type": "code",
   "execution_count": null,
   "id": "cba4e531",
   "metadata": {},
   "outputs": [],
   "source": []
  }
 ],
 "metadata": {
  "kernelspec": {
   "display_name": "hybridmodels",
   "language": "python",
   "name": "hybridmodels"
  },
  "language_info": {
   "codemirror_mode": {
    "name": "ipython",
    "version": 3
   },
   "file_extension": ".py",
   "mimetype": "text/x-python",
   "name": "python",
   "nbconvert_exporter": "python",
   "pygments_lexer": "ipython3",
   "version": "3.10.6"
  }
 },
 "nbformat": 4,
 "nbformat_minor": 5
}
