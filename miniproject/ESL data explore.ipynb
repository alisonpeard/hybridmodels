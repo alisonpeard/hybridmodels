{
 "cells": [
  {
   "cell_type": "code",
   "execution_count": 1,
   "id": "4bd382b5",
   "metadata": {},
   "outputs": [],
   "source": [
    "import sys\n",
    "from os.path import join\n",
    "gesladir = \"/Users/alisonpeard/Documents/Oxford/DPhil/hybridmodels/GeslaDataset\"\n",
    "sys.path.append(gesladir)"
   ]
  },
  {
   "cell_type": "markdown",
   "id": "c5701dda",
   "metadata": {},
   "source": [
    "# ESL data from Menéndez (2020)"
   ]
  },
  {
   "cell_type": "code",
   "execution_count": 4,
   "id": "67e666db",
   "metadata": {},
   "outputs": [
    {
     "data": {
      "text/html": [
       "<div style=\"width:100%;\"><div style=\"position:relative;width:100%;height:0;padding-bottom:60%;\"><span style=\"color:#565656\">Make this Notebook Trusted to load map: File -> Trust Notebook</span><iframe src=\"about:blank\" style=\"position:absolute;width:100%;height:100%;left:0;top:0;border:none !important;\" data-html=%3C%21DOCTYPE%20html%3E%0A%3Chead%3E%20%20%20%20%0A%20%20%20%20%3Cmeta%20http-equiv%3D%22content-type%22%20content%3D%22text/html%3B%20charset%3DUTF-8%22%20/%3E%0A%20%20%20%20%0A%20%20%20%20%20%20%20%20%3Cscript%3E%0A%20%20%20%20%20%20%20%20%20%20%20%20L_NO_TOUCH%20%3D%20false%3B%0A%20%20%20%20%20%20%20%20%20%20%20%20L_DISABLE_3D%20%3D%20false%3B%0A%20%20%20%20%20%20%20%20%3C/script%3E%0A%20%20%20%20%0A%20%20%20%20%3Cstyle%3Ehtml%2C%20body%20%7Bwidth%3A%20100%25%3Bheight%3A%20100%25%3Bmargin%3A%200%3Bpadding%3A%200%3B%7D%3C/style%3E%0A%20%20%20%20%3Cstyle%3E%23map%20%7Bposition%3Aabsolute%3Btop%3A0%3Bbottom%3A0%3Bright%3A0%3Bleft%3A0%3B%7D%3C/style%3E%0A%20%20%20%20%3Cscript%20src%3D%22https%3A//cdn.jsdelivr.net/npm/leaflet%401.6.0/dist/leaflet.js%22%3E%3C/script%3E%0A%20%20%20%20%3Cscript%20src%3D%22https%3A//code.jquery.com/jquery-1.12.4.min.js%22%3E%3C/script%3E%0A%20%20%20%20%3Cscript%20src%3D%22https%3A//maxcdn.bootstrapcdn.com/bootstrap/3.2.0/js/bootstrap.min.js%22%3E%3C/script%3E%0A%20%20%20%20%3Cscript%20src%3D%22https%3A//cdnjs.cloudflare.com/ajax/libs/Leaflet.awesome-markers/2.0.2/leaflet.awesome-markers.js%22%3E%3C/script%3E%0A%20%20%20%20%3Clink%20rel%3D%22stylesheet%22%20href%3D%22https%3A//cdn.jsdelivr.net/npm/leaflet%401.6.0/dist/leaflet.css%22/%3E%0A%20%20%20%20%3Clink%20rel%3D%22stylesheet%22%20href%3D%22https%3A//maxcdn.bootstrapcdn.com/bootstrap/3.2.0/css/bootstrap.min.css%22/%3E%0A%20%20%20%20%3Clink%20rel%3D%22stylesheet%22%20href%3D%22https%3A//maxcdn.bootstrapcdn.com/bootstrap/3.2.0/css/bootstrap-theme.min.css%22/%3E%0A%20%20%20%20%3Clink%20rel%3D%22stylesheet%22%20href%3D%22https%3A//maxcdn.bootstrapcdn.com/font-awesome/4.6.3/css/font-awesome.min.css%22/%3E%0A%20%20%20%20%3Clink%20rel%3D%22stylesheet%22%20href%3D%22https%3A//cdnjs.cloudflare.com/ajax/libs/Leaflet.awesome-markers/2.0.2/leaflet.awesome-markers.css%22/%3E%0A%20%20%20%20%3Clink%20rel%3D%22stylesheet%22%20href%3D%22https%3A//cdn.jsdelivr.net/gh/python-visualization/folium/folium/templates/leaflet.awesome.rotate.min.css%22/%3E%0A%20%20%20%20%0A%20%20%20%20%20%20%20%20%20%20%20%20%3Cmeta%20name%3D%22viewport%22%20content%3D%22width%3Ddevice-width%2C%0A%20%20%20%20%20%20%20%20%20%20%20%20%20%20%20%20initial-scale%3D1.0%2C%20maximum-scale%3D1.0%2C%20user-scalable%3Dno%22%20/%3E%0A%20%20%20%20%20%20%20%20%20%20%20%20%3Cstyle%3E%0A%20%20%20%20%20%20%20%20%20%20%20%20%20%20%20%20%23map_198a2fee59444bb8aafa7c94d9d4c9bf%20%7B%0A%20%20%20%20%20%20%20%20%20%20%20%20%20%20%20%20%20%20%20%20position%3A%20relative%3B%0A%20%20%20%20%20%20%20%20%20%20%20%20%20%20%20%20%20%20%20%20width%3A%20100.0%25%3B%0A%20%20%20%20%20%20%20%20%20%20%20%20%20%20%20%20%20%20%20%20height%3A%20100.0%25%3B%0A%20%20%20%20%20%20%20%20%20%20%20%20%20%20%20%20%20%20%20%20left%3A%200.0%25%3B%0A%20%20%20%20%20%20%20%20%20%20%20%20%20%20%20%20%20%20%20%20top%3A%200.0%25%3B%0A%20%20%20%20%20%20%20%20%20%20%20%20%20%20%20%20%7D%0A%20%20%20%20%20%20%20%20%20%20%20%20%3C/style%3E%0A%20%20%20%20%20%20%20%20%0A%3C/head%3E%0A%3Cbody%3E%20%20%20%20%0A%20%20%20%20%0A%20%20%20%20%20%20%20%20%20%20%20%20%3Cdiv%20class%3D%22folium-map%22%20id%3D%22map_198a2fee59444bb8aafa7c94d9d4c9bf%22%20%3E%3C/div%3E%0A%20%20%20%20%20%20%20%20%0A%3C/body%3E%0A%3Cscript%3E%20%20%20%20%0A%20%20%20%20%0A%20%20%20%20%20%20%20%20%20%20%20%20var%20map_198a2fee59444bb8aafa7c94d9d4c9bf%20%3D%20L.map%28%0A%20%20%20%20%20%20%20%20%20%20%20%20%20%20%20%20%22map_198a2fee59444bb8aafa7c94d9d4c9bf%22%2C%0A%20%20%20%20%20%20%20%20%20%20%20%20%20%20%20%20%7B%0A%20%20%20%20%20%20%20%20%20%20%20%20%20%20%20%20%20%20%20%20center%3A%20%5B11.362938098046287%2C%20122.0516665%5D%2C%0A%20%20%20%20%20%20%20%20%20%20%20%20%20%20%20%20%20%20%20%20crs%3A%20L.CRS.EPSG3857%2C%0A%20%20%20%20%20%20%20%20%20%20%20%20%20%20%20%20%20%20%20%20zoom%3A%205%2C%0A%20%20%20%20%20%20%20%20%20%20%20%20%20%20%20%20%20%20%20%20zoomControl%3A%20true%2C%0A%20%20%20%20%20%20%20%20%20%20%20%20%20%20%20%20%20%20%20%20preferCanvas%3A%20false%2C%0A%20%20%20%20%20%20%20%20%20%20%20%20%20%20%20%20%7D%0A%20%20%20%20%20%20%20%20%20%20%20%20%29%3B%0A%0A%20%20%20%20%20%20%20%20%20%20%20%20%0A%0A%20%20%20%20%20%20%20%20%0A%20%20%20%20%0A%20%20%20%20%20%20%20%20%20%20%20%20var%20tile_layer_02cb575b959942e2af4720532c0957a5%20%3D%20L.tileLayer%28%0A%20%20%20%20%20%20%20%20%20%20%20%20%20%20%20%20%22https%3A//%7Bs%7D.tile.openstreetmap.org/%7Bz%7D/%7Bx%7D/%7By%7D.png%22%2C%0A%20%20%20%20%20%20%20%20%20%20%20%20%20%20%20%20%7B%22attribution%22%3A%20%22Data%20by%20%5Cu0026copy%3B%20%5Cu003ca%20href%3D%5C%22http%3A//openstreetmap.org%5C%22%5Cu003eOpenStreetMap%5Cu003c/a%5Cu003e%2C%20under%20%5Cu003ca%20href%3D%5C%22http%3A//www.openstreetmap.org/copyright%5C%22%5Cu003eODbL%5Cu003c/a%5Cu003e.%22%2C%20%22detectRetina%22%3A%20false%2C%20%22maxNativeZoom%22%3A%2018%2C%20%22maxZoom%22%3A%2018%2C%20%22minZoom%22%3A%200%2C%20%22noWrap%22%3A%20false%2C%20%22opacity%22%3A%201%2C%20%22subdomains%22%3A%20%22abc%22%2C%20%22tms%22%3A%20false%7D%0A%20%20%20%20%20%20%20%20%20%20%20%20%29.addTo%28map_198a2fee59444bb8aafa7c94d9d4c9bf%29%3B%0A%20%20%20%20%20%20%20%20%0A%20%20%20%20%0A%20%20%20%20%20%20%20%20%20%20%20%20var%20rectangle_84ed608cd335490da07c47623ba6728d%20%3D%20L.rectangle%28%0A%20%20%20%20%20%20%20%20%20%20%20%20%20%20%20%20%5B%5B3.157889%2C%20116.927083%5D%2C%20%5B3.157889%2C%20127.17625%5D%2C%20%5B19.567987196092574%2C%20116.927083%5D%2C%20%5B19.567987196092574%2C%20127.17625%5D%2C%20%5B3.157889%2C%20116.927083%5D%5D%2C%0A%20%20%20%20%20%20%20%20%20%20%20%20%20%20%20%20%7B%22bubblingMouseEvents%22%3A%20true%2C%20%22color%22%3A%20%22%233388ff%22%2C%20%22dashArray%22%3A%20null%2C%20%22dashOffset%22%3A%20null%2C%20%22fill%22%3A%20false%2C%20%22fillColor%22%3A%20%22%233388ff%22%2C%20%22fillOpacity%22%3A%200.2%2C%20%22fillRule%22%3A%20%22evenodd%22%2C%20%22lineCap%22%3A%20%22round%22%2C%20%22lineJoin%22%3A%20%22round%22%2C%20%22noClip%22%3A%20false%2C%20%22opacity%22%3A%201.0%2C%20%22smoothFactor%22%3A%201.0%2C%20%22stroke%22%3A%20true%2C%20%22weight%22%3A%203%7D%0A%20%20%20%20%20%20%20%20%20%20%20%20%29.addTo%28map_198a2fee59444bb8aafa7c94d9d4c9bf%29%3B%0A%20%20%20%20%20%20%20%20%0A%3C/script%3E onload=\"this.contentDocument.open();this.contentDocument.write(    decodeURIComponent(this.getAttribute('data-html')));this.contentDocument.close();\" allowfullscreen webkitallowfullscreen mozallowfullscreen></iframe></div></div>"
      ],
      "text/plain": [
       "<folium.folium.Map at 0x7fc6d3319fd0>"
      ]
     },
     "execution_count": 4,
     "metadata": {},
     "output_type": "execute_result"
    }
   ],
   "source": [
    "import numpy as np\n",
    "import geopandas as gpd\n",
    "import folium\n",
    "from itertools import product\n",
    "\n",
    "esldir = join(\"4_FLOOD HEIGHT\", \"Regular Climate\")\n",
    "esls = gpd.read_file(join(esldir, \"REGION_1_E1.shp\"))\n",
    "bbox = esls.total_bounds\n",
    "xcoords = [bbox[0], bbox[2]]\n",
    "ycoords = [bbox[1], bbox[3]]\n",
    "bbox = [i for i in product(ycoords, xcoords)]\n",
    "bbox.append(bbox[0])\n",
    "center = [np.mean(ycoords), np.mean(xcoords)]\n",
    "\n",
    "m=folium.Map(location=center, zoom_start=5, tiles='OpenStreetMap')\n",
    "folium.Rectangle(bbox).add_to(m, name=\"Region\")\n",
    "m"
   ]
  },
  {
   "cell_type": "markdown",
   "id": "bcdbfbf5",
   "metadata": {},
   "source": [
    "If using pyshp instead of geopandas (hopefully not):\n",
    "\n",
    "    import shapefile\n",
    "    import folium\n",
    "    from itertools import product\n",
    "\n",
    "    esldir = join(\"4_FLOOD HEIGHT\", \"Regular Climate\")\n",
    "    roi = shapefile.Reader(join(esldir, \"REGION_1_E1.shp\"))\n",
    "    point0 = roi.shape(0).__geo_interface__['coordinates'][::-1]  # convert to GeoJSON\n",
    "    m=folium.Map(location=point0, zoom_start=5, tiles='OpenStreetMap')  # [28.644800, 77.216721])\n",
    "\n",
    "    xcoords = [roi.bbox[0], roi.bbox[2]]\n",
    "    ycoords = [roi.bbox[1], roi.bbox[3]]\n",
    "    bbox = [i for i in product(ycoords, xcoords)]\n",
    "    bbox.append(bbox[0])\n",
    "    roi.bbox\n",
    "    folium.Rectangle(bbox).add_to(m, name=\"Region\")\n",
    "\n",
    "    # for i, sf in enumerate(roi.iterShapes()):\n",
    "    #     pass\n",
    "    m"
   ]
  },
  {
   "cell_type": "markdown",
   "id": "0af715e2",
   "metadata": {},
   "source": [
    "# GESLA dataset"
   ]
  },
  {
   "cell_type": "code",
   "execution_count": 5,
   "id": "04a9584d",
   "metadata": {},
   "outputs": [
    {
     "name": "stdout",
     "output_type": "stream",
     "text": [
      "['Legaspi' 'Manila' 'Kota_Kinabalu' 'Tawau' 'Sandakan' 'Davao'\n",
      " 'Puerto_Princesa' 'Cebu' 'Davao' 'Subic_Bay' 'Jolo' 'Currimao' 'Lubang']\n"
     ]
    }
   ],
   "source": [
    "from gesla import GeslaDataset\n",
    "\n",
    "meta_file = join(gesladir, \"GESLA3_ALL.csv\")\n",
    "data_path = join(gesladir, \"GESLA3/\")\n",
    "\n",
    "g3 = GeslaDataset(meta_file=meta_file, data_path=data_path)\n",
    "\n",
    "south_lat = 3  # 3.157889\n",
    "north_lat = 20  # 19.56799\n",
    "west_lon = 117  # 116.9271\n",
    "east_lon = 127  # 127.1762\n",
    "\n",
    "data = g3.load_lat_lon_range(\n",
    "    south_lat=int(min(ycoords)),\n",
    "    north_lat=int(max(ycoords)),\n",
    "    west_lon=int(min(xcoords)),\n",
    "    east_lon=int(max(xcoords)),\n",
    ")\n",
    "\n",
    "# make sure looks like right spot\n",
    "print(data.site_name.values)"
   ]
  },
  {
   "cell_type": "code",
   "execution_count": 8,
   "id": "704e8547",
   "metadata": {},
   "outputs": [
    {
     "data": {
      "text/html": [
       "<div style=\"width:100%;\"><div style=\"position:relative;width:100%;height:0;padding-bottom:60%;\"><span style=\"color:#565656\">Make this Notebook Trusted to load map: File -> Trust Notebook</span><iframe src=\"about:blank\" style=\"position:absolute;width:100%;height:100%;left:0;top:0;border:none !important;\" data-html=%3C%21DOCTYPE%20html%3E%0A%3Chead%3E%20%20%20%20%0A%20%20%20%20%3Cmeta%20http-equiv%3D%22content-type%22%20content%3D%22text/html%3B%20charset%3DUTF-8%22%20/%3E%0A%20%20%20%20%0A%20%20%20%20%20%20%20%20%3Cscript%3E%0A%20%20%20%20%20%20%20%20%20%20%20%20L_NO_TOUCH%20%3D%20false%3B%0A%20%20%20%20%20%20%20%20%20%20%20%20L_DISABLE_3D%20%3D%20false%3B%0A%20%20%20%20%20%20%20%20%3C/script%3E%0A%20%20%20%20%0A%20%20%20%20%3Cstyle%3Ehtml%2C%20body%20%7Bwidth%3A%20100%25%3Bheight%3A%20100%25%3Bmargin%3A%200%3Bpadding%3A%200%3B%7D%3C/style%3E%0A%20%20%20%20%3Cstyle%3E%23map%20%7Bposition%3Aabsolute%3Btop%3A0%3Bbottom%3A0%3Bright%3A0%3Bleft%3A0%3B%7D%3C/style%3E%0A%20%20%20%20%3Cscript%20src%3D%22https%3A//cdn.jsdelivr.net/npm/leaflet%401.6.0/dist/leaflet.js%22%3E%3C/script%3E%0A%20%20%20%20%3Cscript%20src%3D%22https%3A//code.jquery.com/jquery-1.12.4.min.js%22%3E%3C/script%3E%0A%20%20%20%20%3Cscript%20src%3D%22https%3A//maxcdn.bootstrapcdn.com/bootstrap/3.2.0/js/bootstrap.min.js%22%3E%3C/script%3E%0A%20%20%20%20%3Cscript%20src%3D%22https%3A//cdnjs.cloudflare.com/ajax/libs/Leaflet.awesome-markers/2.0.2/leaflet.awesome-markers.js%22%3E%3C/script%3E%0A%20%20%20%20%3Clink%20rel%3D%22stylesheet%22%20href%3D%22https%3A//cdn.jsdelivr.net/npm/leaflet%401.6.0/dist/leaflet.css%22/%3E%0A%20%20%20%20%3Clink%20rel%3D%22stylesheet%22%20href%3D%22https%3A//maxcdn.bootstrapcdn.com/bootstrap/3.2.0/css/bootstrap.min.css%22/%3E%0A%20%20%20%20%3Clink%20rel%3D%22stylesheet%22%20href%3D%22https%3A//maxcdn.bootstrapcdn.com/bootstrap/3.2.0/css/bootstrap-theme.min.css%22/%3E%0A%20%20%20%20%3Clink%20rel%3D%22stylesheet%22%20href%3D%22https%3A//maxcdn.bootstrapcdn.com/font-awesome/4.6.3/css/font-awesome.min.css%22/%3E%0A%20%20%20%20%3Clink%20rel%3D%22stylesheet%22%20href%3D%22https%3A//cdnjs.cloudflare.com/ajax/libs/Leaflet.awesome-markers/2.0.2/leaflet.awesome-markers.css%22/%3E%0A%20%20%20%20%3Clink%20rel%3D%22stylesheet%22%20href%3D%22https%3A//cdn.jsdelivr.net/gh/python-visualization/folium/folium/templates/leaflet.awesome.rotate.min.css%22/%3E%0A%20%20%20%20%0A%20%20%20%20%20%20%20%20%20%20%20%20%3Cmeta%20name%3D%22viewport%22%20content%3D%22width%3Ddevice-width%2C%0A%20%20%20%20%20%20%20%20%20%20%20%20%20%20%20%20initial-scale%3D1.0%2C%20maximum-scale%3D1.0%2C%20user-scalable%3Dno%22%20/%3E%0A%20%20%20%20%20%20%20%20%20%20%20%20%3Cstyle%3E%0A%20%20%20%20%20%20%20%20%20%20%20%20%20%20%20%20%23map_5eb8be6f05ed4b46b0678d63654367d6%20%7B%0A%20%20%20%20%20%20%20%20%20%20%20%20%20%20%20%20%20%20%20%20position%3A%20relative%3B%0A%20%20%20%20%20%20%20%20%20%20%20%20%20%20%20%20%20%20%20%20width%3A%20100.0%25%3B%0A%20%20%20%20%20%20%20%20%20%20%20%20%20%20%20%20%20%20%20%20height%3A%20100.0%25%3B%0A%20%20%20%20%20%20%20%20%20%20%20%20%20%20%20%20%20%20%20%20left%3A%200.0%25%3B%0A%20%20%20%20%20%20%20%20%20%20%20%20%20%20%20%20%20%20%20%20top%3A%200.0%25%3B%0A%20%20%20%20%20%20%20%20%20%20%20%20%20%20%20%20%7D%0A%20%20%20%20%20%20%20%20%20%20%20%20%3C/style%3E%0A%20%20%20%20%20%20%20%20%0A%20%20%20%20%3Cscript%20src%3D%22https%3A//cdn.jsdelivr.net/gh/python-visualization/folium%40master/folium/templates/leaflet_heat.min.js%22%3E%3C/script%3E%0A%3C/head%3E%0A%3Cbody%3E%20%20%20%20%0A%20%20%20%20%0A%20%20%20%20%20%20%20%20%20%20%20%20%3Cdiv%20class%3D%22folium-map%22%20id%3D%22map_5eb8be6f05ed4b46b0678d63654367d6%22%20%3E%3C/div%3E%0A%20%20%20%20%20%20%20%20%0A%3C/body%3E%0A%3Cscript%3E%20%20%20%20%0A%20%20%20%20%0A%20%20%20%20%20%20%20%20%20%20%20%20var%20map_5eb8be6f05ed4b46b0678d63654367d6%20%3D%20L.map%28%0A%20%20%20%20%20%20%20%20%20%20%20%20%20%20%20%20%22map_5eb8be6f05ed4b46b0678d63654367d6%22%2C%0A%20%20%20%20%20%20%20%20%20%20%20%20%20%20%20%20%7B%0A%20%20%20%20%20%20%20%20%20%20%20%20%20%20%20%20%20%20%20%20center%3A%20%5B15.0%2C%2030.0%5D%2C%0A%20%20%20%20%20%20%20%20%20%20%20%20%20%20%20%20%20%20%20%20crs%3A%20L.CRS.EPSG3857%2C%0A%20%20%20%20%20%20%20%20%20%20%20%20%20%20%20%20%20%20%20%20zoom%3A%202%2C%0A%20%20%20%20%20%20%20%20%20%20%20%20%20%20%20%20%20%20%20%20zoomControl%3A%20true%2C%0A%20%20%20%20%20%20%20%20%20%20%20%20%20%20%20%20%20%20%20%20preferCanvas%3A%20false%2C%0A%20%20%20%20%20%20%20%20%20%20%20%20%20%20%20%20%7D%0A%20%20%20%20%20%20%20%20%20%20%20%20%29%3B%0A%0A%20%20%20%20%20%20%20%20%20%20%20%20%0A%0A%20%20%20%20%20%20%20%20%0A%20%20%20%20%0A%20%20%20%20%20%20%20%20%20%20%20%20var%20tile_layer_cc263aaa952b4f26829cabef8205495c%20%3D%20L.tileLayer%28%0A%20%20%20%20%20%20%20%20%20%20%20%20%20%20%20%20%22https%3A//cartodb-basemaps-%7Bs%7D.global.ssl.fastly.net/dark_all/%7Bz%7D/%7Bx%7D/%7By%7D.png%22%2C%0A%20%20%20%20%20%20%20%20%20%20%20%20%20%20%20%20%7B%22attribution%22%3A%20%22%5Cu0026copy%3B%20%5Cu003ca%20href%3D%5C%22http%3A//www.openstreetmap.org/copyright%5C%22%5Cu003eOpenStreetMap%5Cu003c/a%5Cu003e%20contributors%20%5Cu0026copy%3B%20%5Cu003ca%20href%3D%5C%22http%3A//cartodb.com/attributions%5C%22%5Cu003eCartoDB%5Cu003c/a%5Cu003e%2C%20CartoDB%20%5Cu003ca%20href%20%3D%5C%22http%3A//cartodb.com/attributions%5C%22%5Cu003eattributions%5Cu003c/a%5Cu003e%22%2C%20%22detectRetina%22%3A%20false%2C%20%22maxNativeZoom%22%3A%2018%2C%20%22maxZoom%22%3A%2018%2C%20%22minZoom%22%3A%200%2C%20%22noWrap%22%3A%20false%2C%20%22opacity%22%3A%201%2C%20%22subdomains%22%3A%20%22abc%22%2C%20%22tms%22%3A%20false%7D%0A%20%20%20%20%20%20%20%20%20%20%20%20%29.addTo%28map_5eb8be6f05ed4b46b0678d63654367d6%29%3B%0A%20%20%20%20%20%20%20%20%0A%20%20%20%20%0A%20%20%20%20%20%20%20%20%20%20%20%20var%20heat_map_962ef9a9080d46b8b71df75f455a3867%20%3D%20L.heatLayer%28%0A%20%20%20%20%20%20%20%20%20%20%20%20%20%20%20%20%5B%5B13.145%2C%20123.758%2C%20-12.171027202056743%5D%2C%20%5B14.585%2C%20120.96800000000002%2C%20-5.77239908923919%5D%2C%20%5B5.983%2C%20116.067%2C%20-5.379541739718138%5D%2C%20%5B4.233%2C%20117.883%2C%20-3.3036133552409144%5D%2C%20%5B5.81%2C%20118.067%2C%20-0.8945359363990549%5D%2C%20%5B7.153%2C%20125.66300000000001%2C%20-25.86973440840939%5D%2C%20%5B9.75%2C%20118.73299999999999%2C%20-11.023132962190878%5D%2C%20%5B10.3%2C%20123.917%2C%20-15.521797441871787%5D%2C%20%5B7.083%2C%20125.633%2C%20-6.099905788872463%5D%2C%20%5B14.765%2C%20120.252%2C%200.4260735083900052%5D%2C%20%5B6.067%2C%20121.0%2C%20-12.264271795139944%5D%2C%20%5B17.988%2C%20120.48799999999999%2C%200.5391035638350475%5D%2C%20%5B13.818%2C%20120.20200000000001%2C%200.7506004412333204%5D%5D%2C%0A%20%20%20%20%20%20%20%20%20%20%20%20%20%20%20%20%7B%22blur%22%3A%2015%2C%20%22maxZoom%22%3A%2018%2C%20%22minOpacity%22%3A%200.5%2C%20%22radius%22%3A%2025%7D%0A%20%20%20%20%20%20%20%20%20%20%20%20%29.addTo%28map_5eb8be6f05ed4b46b0678d63654367d6%29%3B%0A%20%20%20%20%20%20%20%20%0A%3C/script%3E onload=\"this.contentDocument.open();this.contentDocument.write(    decodeURIComponent(this.getAttribute('data-html')));this.contentDocument.close();\" allowfullscreen webkitallowfullscreen mozallowfullscreen></iframe></div></div>"
      ],
      "text/plain": [
       "<folium.folium.Map at 0x7fc6cf1e53d0>"
      ]
     },
     "execution_count": 8,
     "metadata": {},
     "output_type": "execute_result"
    }
   ],
   "source": [
    "from folium import plugins\n",
    "\n",
    "df = data.to_dataframe()\n",
    "df = df[[\"sea_level\", \"latitude\", \"longitude\"]]\n",
    "df = df.groupby(\"station\").agg(np.mean)  # get average sea-levels\n",
    "gdf = gpd.GeoDataFrame(\n",
    "    df, geometry=gpd.points_from_xy(df.longitude, df.latitude))\n",
    "\n",
    "m = folium.Map(location = [15,30], tiles='Cartodb dark_matter', zoom_start = 2)\n",
    "sea_levels = [[point.latitude, point.longitude, point.sea_level] for _, point in gdf.iterrows()]\n",
    "plugins.HeatMap(sea_levels).add_to(m)\n",
    "\n",
    "m"
   ]
  },
  {
   "cell_type": "code",
   "execution_count": 9,
   "id": "b6b7fc55",
   "metadata": {},
   "outputs": [
    {
     "data": {
      "text/plain": [
       "station\n",
       "0     POINT (123.75800 13.14500)\n",
       "1     POINT (120.96800 14.58500)\n",
       "2      POINT (116.06700 5.98300)\n",
       "3      POINT (117.88300 4.23300)\n",
       "4      POINT (118.06700 5.81000)\n",
       "5      POINT (125.66300 7.15300)\n",
       "6      POINT (118.73300 9.75000)\n",
       "7     POINT (123.91700 10.30000)\n",
       "8      POINT (125.63300 7.08300)\n",
       "9     POINT (120.25200 14.76500)\n",
       "10     POINT (121.00000 6.06700)\n",
       "11    POINT (120.48800 17.98800)\n",
       "12    POINT (120.20200 13.81800)\n",
       "Name: geometry, dtype: geometry"
      ]
     },
     "execution_count": 9,
     "metadata": {},
     "output_type": "execute_result"
    }
   ],
   "source": [
    "gdf.geometry"
   ]
  },
  {
   "cell_type": "code",
   "execution_count": 10,
   "id": "8f929847",
   "metadata": {},
   "outputs": [
    {
     "data": {
      "text/plain": [
       "0        POINT (123.99917 12.96792)\n",
       "1        POINT (123.99914 12.96458)\n",
       "2        POINT (123.99289 12.96747)\n",
       "3        POINT (123.98581 12.96378)\n",
       "4        POINT (123.97917 12.96208)\n",
       "                    ...            \n",
       "77195    POINT (120.02542 11.94331)\n",
       "77196    POINT (120.02542 11.94417)\n",
       "77197    POINT (120.02500 11.94456)\n",
       "77198    POINT (120.02333 11.94458)\n",
       "77199    POINT (120.02208 11.94583)\n",
       "Name: geometry, Length: 77200, dtype: geometry"
      ]
     },
     "execution_count": 10,
     "metadata": {},
     "output_type": "execute_result"
    }
   ],
   "source": [
    "esls.geometry"
   ]
  },
  {
   "cell_type": "code",
   "execution_count": null,
   "id": "b4602934",
   "metadata": {},
   "outputs": [],
   "source": [
    "def near(point, pts=pts3):\n",
    "     # find the nearest point and return the corresponding Place value\n",
    "     nearest = gpd2.geometry == nearest_points(point, pts)[1]\n",
    "     return gpd2[nearest].Place.get_values()[0]\n",
    "gpd1['Nearest'] = gpd1.apply(lambda row: near(row.geometry), axis=1)\n",
    "gpd1\n",
    "    Name  ID     geometry  Nearest\n",
    "0   John   1  POINT (1 1)     Home\n",
    "1  Smith   1  POINT (2 2)    Shops\n",
    "2   Soap   1  POINT (0 2)     Work"
   ]
  },
  {
   "cell_type": "code",
   "execution_count": null,
   "id": "ea5132f4",
   "metadata": {},
   "outputs": [],
   "source": [
    "from shapely.ops import nearest_points\n",
    "# unary union of the gpd2 geomtries \n",
    "pts3 = esls.geometry.unary_union\n",
    "pts3"
   ]
  },
  {
   "cell_type": "code",
   "execution_count": null,
   "id": "23c30eb0",
   "metadata": {},
   "outputs": [],
   "source": []
  }
 ],
 "metadata": {
  "kernelspec": {
   "display_name": "Python 3",
   "language": "python",
   "name": "python3"
  },
  "language_info": {
   "codemirror_mode": {
    "name": "ipython",
    "version": 3
   },
   "file_extension": ".py",
   "mimetype": "text/x-python",
   "name": "python",
   "nbconvert_exporter": "python",
   "pygments_lexer": "ipython3",
   "version": "3.9.5"
  }
 },
 "nbformat": 4,
 "nbformat_minor": 5
}
