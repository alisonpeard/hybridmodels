{
 "cells": [
  {
   "cell_type": "code",
   "execution_count": 1,
   "id": "4bd382b5",
   "metadata": {},
   "outputs": [],
   "source": [
    "import sys\n",
    "from os.path import join\n",
    "gesladir = \"/Users/alisonpeard/Documents/Oxford/DPhil/hybridmodels/GeslaDataset\"\n",
    "sys.path.append(gesladir)"
   ]
  },
  {
   "cell_type": "markdown",
   "id": "c5701dda",
   "metadata": {},
   "source": [
    "# ESL data from Menéndez (2020)"
   ]
  },
  {
   "cell_type": "code",
   "execution_count": 2,
   "id": "95c7d6c3",
   "metadata": {
    "scrolled": true
   },
   "outputs": [
    {
     "data": {
      "text/html": [
       "<div style=\"width:100%;\"><div style=\"position:relative;width:100%;height:0;padding-bottom:60%;\"><span style=\"color:#565656\">Make this Notebook Trusted to load map: File -> Trust Notebook</span><iframe src=\"about:blank\" style=\"position:absolute;width:100%;height:100%;left:0;top:0;border:none !important;\" data-html=%3C%21DOCTYPE%20html%3E%0A%3Chead%3E%20%20%20%20%0A%20%20%20%20%3Cmeta%20http-equiv%3D%22content-type%22%20content%3D%22text/html%3B%20charset%3DUTF-8%22%20/%3E%0A%20%20%20%20%0A%20%20%20%20%20%20%20%20%3Cscript%3E%0A%20%20%20%20%20%20%20%20%20%20%20%20L_NO_TOUCH%20%3D%20false%3B%0A%20%20%20%20%20%20%20%20%20%20%20%20L_DISABLE_3D%20%3D%20false%3B%0A%20%20%20%20%20%20%20%20%3C/script%3E%0A%20%20%20%20%0A%20%20%20%20%3Cstyle%3Ehtml%2C%20body%20%7Bwidth%3A%20100%25%3Bheight%3A%20100%25%3Bmargin%3A%200%3Bpadding%3A%200%3B%7D%3C/style%3E%0A%20%20%20%20%3Cstyle%3E%23map%20%7Bposition%3Aabsolute%3Btop%3A0%3Bbottom%3A0%3Bright%3A0%3Bleft%3A0%3B%7D%3C/style%3E%0A%20%20%20%20%3Cscript%20src%3D%22https%3A//cdn.jsdelivr.net/npm/leaflet%401.6.0/dist/leaflet.js%22%3E%3C/script%3E%0A%20%20%20%20%3Cscript%20src%3D%22https%3A//code.jquery.com/jquery-1.12.4.min.js%22%3E%3C/script%3E%0A%20%20%20%20%3Cscript%20src%3D%22https%3A//maxcdn.bootstrapcdn.com/bootstrap/3.2.0/js/bootstrap.min.js%22%3E%3C/script%3E%0A%20%20%20%20%3Cscript%20src%3D%22https%3A//cdnjs.cloudflare.com/ajax/libs/Leaflet.awesome-markers/2.0.2/leaflet.awesome-markers.js%22%3E%3C/script%3E%0A%20%20%20%20%3Clink%20rel%3D%22stylesheet%22%20href%3D%22https%3A//cdn.jsdelivr.net/npm/leaflet%401.6.0/dist/leaflet.css%22/%3E%0A%20%20%20%20%3Clink%20rel%3D%22stylesheet%22%20href%3D%22https%3A//maxcdn.bootstrapcdn.com/bootstrap/3.2.0/css/bootstrap.min.css%22/%3E%0A%20%20%20%20%3Clink%20rel%3D%22stylesheet%22%20href%3D%22https%3A//maxcdn.bootstrapcdn.com/bootstrap/3.2.0/css/bootstrap-theme.min.css%22/%3E%0A%20%20%20%20%3Clink%20rel%3D%22stylesheet%22%20href%3D%22https%3A//maxcdn.bootstrapcdn.com/font-awesome/4.6.3/css/font-awesome.min.css%22/%3E%0A%20%20%20%20%3Clink%20rel%3D%22stylesheet%22%20href%3D%22https%3A//cdnjs.cloudflare.com/ajax/libs/Leaflet.awesome-markers/2.0.2/leaflet.awesome-markers.css%22/%3E%0A%20%20%20%20%3Clink%20rel%3D%22stylesheet%22%20href%3D%22https%3A//cdn.jsdelivr.net/gh/python-visualization/folium/folium/templates/leaflet.awesome.rotate.min.css%22/%3E%0A%20%20%20%20%0A%20%20%20%20%20%20%20%20%20%20%20%20%3Cmeta%20name%3D%22viewport%22%20content%3D%22width%3Ddevice-width%2C%0A%20%20%20%20%20%20%20%20%20%20%20%20%20%20%20%20initial-scale%3D1.0%2C%20maximum-scale%3D1.0%2C%20user-scalable%3Dno%22%20/%3E%0A%20%20%20%20%20%20%20%20%20%20%20%20%3Cstyle%3E%0A%20%20%20%20%20%20%20%20%20%20%20%20%20%20%20%20%23map_bb161973a37c4cf6a6f70870aeb094e0%20%7B%0A%20%20%20%20%20%20%20%20%20%20%20%20%20%20%20%20%20%20%20%20position%3A%20relative%3B%0A%20%20%20%20%20%20%20%20%20%20%20%20%20%20%20%20%20%20%20%20width%3A%20100.0%25%3B%0A%20%20%20%20%20%20%20%20%20%20%20%20%20%20%20%20%20%20%20%20height%3A%20100.0%25%3B%0A%20%20%20%20%20%20%20%20%20%20%20%20%20%20%20%20%20%20%20%20left%3A%200.0%25%3B%0A%20%20%20%20%20%20%20%20%20%20%20%20%20%20%20%20%20%20%20%20top%3A%200.0%25%3B%0A%20%20%20%20%20%20%20%20%20%20%20%20%20%20%20%20%7D%0A%20%20%20%20%20%20%20%20%20%20%20%20%3C/style%3E%0A%20%20%20%20%20%20%20%20%0A%3C/head%3E%0A%3Cbody%3E%20%20%20%20%0A%20%20%20%20%0A%20%20%20%20%20%20%20%20%20%20%20%20%3Cdiv%20class%3D%22folium-map%22%20id%3D%22map_bb161973a37c4cf6a6f70870aeb094e0%22%20%3E%3C/div%3E%0A%20%20%20%20%20%20%20%20%0A%3C/body%3E%0A%3Cscript%3E%20%20%20%20%0A%20%20%20%20%0A%20%20%20%20%20%20%20%20%20%20%20%20var%20map_bb161973a37c4cf6a6f70870aeb094e0%20%3D%20L.map%28%0A%20%20%20%20%20%20%20%20%20%20%20%20%20%20%20%20%22map_bb161973a37c4cf6a6f70870aeb094e0%22%2C%0A%20%20%20%20%20%20%20%20%20%20%20%20%20%20%20%20%7B%0A%20%20%20%20%20%20%20%20%20%20%20%20%20%20%20%20%20%20%20%20center%3A%20%5B12.967917%2C%20123.999167%5D%2C%0A%20%20%20%20%20%20%20%20%20%20%20%20%20%20%20%20%20%20%20%20crs%3A%20L.CRS.EPSG3857%2C%0A%20%20%20%20%20%20%20%20%20%20%20%20%20%20%20%20%20%20%20%20zoom%3A%205%2C%0A%20%20%20%20%20%20%20%20%20%20%20%20%20%20%20%20%20%20%20%20zoomControl%3A%20true%2C%0A%20%20%20%20%20%20%20%20%20%20%20%20%20%20%20%20%20%20%20%20preferCanvas%3A%20false%2C%0A%20%20%20%20%20%20%20%20%20%20%20%20%20%20%20%20%7D%0A%20%20%20%20%20%20%20%20%20%20%20%20%29%3B%0A%0A%20%20%20%20%20%20%20%20%20%20%20%20%0A%0A%20%20%20%20%20%20%20%20%0A%20%20%20%20%0A%20%20%20%20%20%20%20%20%20%20%20%20var%20tile_layer_25d0a8edf2284e629f21c4e66802b903%20%3D%20L.tileLayer%28%0A%20%20%20%20%20%20%20%20%20%20%20%20%20%20%20%20%22https%3A//%7Bs%7D.tile.openstreetmap.org/%7Bz%7D/%7Bx%7D/%7By%7D.png%22%2C%0A%20%20%20%20%20%20%20%20%20%20%20%20%20%20%20%20%7B%22attribution%22%3A%20%22Data%20by%20%5Cu0026copy%3B%20%5Cu003ca%20href%3D%5C%22http%3A//openstreetmap.org%5C%22%5Cu003eOpenStreetMap%5Cu003c/a%5Cu003e%2C%20under%20%5Cu003ca%20href%3D%5C%22http%3A//www.openstreetmap.org/copyright%5C%22%5Cu003eODbL%5Cu003c/a%5Cu003e.%22%2C%20%22detectRetina%22%3A%20false%2C%20%22maxNativeZoom%22%3A%2018%2C%20%22maxZoom%22%3A%2018%2C%20%22minZoom%22%3A%200%2C%20%22noWrap%22%3A%20false%2C%20%22opacity%22%3A%201%2C%20%22subdomains%22%3A%20%22abc%22%2C%20%22tms%22%3A%20false%7D%0A%20%20%20%20%20%20%20%20%20%20%20%20%29.addTo%28map_bb161973a37c4cf6a6f70870aeb094e0%29%3B%0A%20%20%20%20%20%20%20%20%0A%20%20%20%20%0A%20%20%20%20%20%20%20%20%20%20%20%20var%20rectangle_b7792393c5e74ce7ad87998b4a7a9064%20%3D%20L.rectangle%28%0A%20%20%20%20%20%20%20%20%20%20%20%20%20%20%20%20%5B%5B3.157889%2C%20116.927083%5D%2C%20%5B3.157889%2C%20127.17625%5D%2C%20%5B19.567987196092574%2C%20116.927083%5D%2C%20%5B19.567987196092574%2C%20127.17625%5D%2C%20%5B3.157889%2C%20116.927083%5D%5D%2C%0A%20%20%20%20%20%20%20%20%20%20%20%20%20%20%20%20%7B%22bubblingMouseEvents%22%3A%20true%2C%20%22color%22%3A%20%22%233388ff%22%2C%20%22dashArray%22%3A%20null%2C%20%22dashOffset%22%3A%20null%2C%20%22fill%22%3A%20false%2C%20%22fillColor%22%3A%20%22%233388ff%22%2C%20%22fillOpacity%22%3A%200.2%2C%20%22fillRule%22%3A%20%22evenodd%22%2C%20%22lineCap%22%3A%20%22round%22%2C%20%22lineJoin%22%3A%20%22round%22%2C%20%22noClip%22%3A%20false%2C%20%22opacity%22%3A%201.0%2C%20%22smoothFactor%22%3A%201.0%2C%20%22stroke%22%3A%20true%2C%20%22weight%22%3A%203%7D%0A%20%20%20%20%20%20%20%20%20%20%20%20%29.addTo%28map_bb161973a37c4cf6a6f70870aeb094e0%29%3B%0A%20%20%20%20%20%20%20%20%0A%3C/script%3E onload=\"this.contentDocument.open();this.contentDocument.write(    decodeURIComponent(this.getAttribute('data-html')));this.contentDocument.close();\" allowfullscreen webkitallowfullscreen mozallowfullscreen></iframe></div></div>"
      ],
      "text/plain": [
       "<folium.folium.Map at 0x7fd69a010a00>"
      ]
     },
     "execution_count": 2,
     "metadata": {},
     "output_type": "execute_result"
    }
   ],
   "source": [
    "import shapefile\n",
    "import folium\n",
    "from itertools import product\n",
    "\n",
    "esldir = join(\"4_FLOOD HEIGHT\", \"Regular Climate\")\n",
    "roi = shapefile.Reader(join(esldir, \"REGION_1_E1.shp\"))\n",
    "point0 = roi.shape(0).__geo_interface__['coordinates'][::-1]  # convert to GeoJSON\n",
    "m=folium.Map(location=point0, zoom_start=5, tiles='OpenStreetMap')  # [28.644800, 77.216721])\n",
    "\n",
    "xcoords = [roi.bbox[0], roi.bbox[2]]\n",
    "ycoords = [roi.bbox[1], roi.bbox[3]]\n",
    "bbox = [i for i in product(ycoords, xcoords)]\n",
    "bbox.append(bbox[0])\n",
    "roi.bbox\n",
    "folium.Rectangle(bbox).add_to(m, name=\"Region\")\n",
    "\n",
    "# for i, sf in enumerate(roi.iterShapes()):\n",
    "#     pass\n",
    "\n",
    "m"
   ]
  },
  {
   "cell_type": "markdown",
   "id": "70e4a922",
   "metadata": {},
   "source": [
    "# GESLA dataset"
   ]
  },
  {
   "cell_type": "code",
   "execution_count": 6,
   "id": "04a9584d",
   "metadata": {},
   "outputs": [
    {
     "name": "stdout",
     "output_type": "stream",
     "text": [
      "['Legaspi' 'Manila' 'Kota_Kinabalu' 'Tawau' 'Sandakan' 'Davao'\n",
      " 'Puerto_Princesa' 'Cebu' 'Davao' 'Subic_Bay' 'Jolo' 'Currimao' 'Lubang']\n"
     ]
    }
   ],
   "source": [
    "from gesla import GeslaDataset\n",
    "\n",
    "meta_file = join(gesladir, \"GESLA3_ALL.csv\")\n",
    "data_path = join(gesladir, \"GESLA3/\")\n",
    "\n",
    "g3 = GeslaDataset(meta_file=meta_file, data_path=data_path)\n",
    "\n",
    "south_lat = 3  # 3.157889\n",
    "north_lat = 20  # 19.56799\n",
    "west_lon = 117  # 116.9271\n",
    "east_lon = 127  # 127.1762\n",
    "\n",
    "data = g3.load_lat_lon_range(\n",
    "    south_lat=int(min(ycoords)),\n",
    "    north_lat=int(max(ycoords)),\n",
    "    west_lon=int(min(xcoords)),\n",
    "    east_lon=int(max(xcoords)),\n",
    ")\n",
    "\n",
    "# make sure looks like right spot\n",
    "print(data.site_name.values)"
   ]
  },
  {
   "cell_type": "code",
   "execution_count": 48,
   "id": "2ceec488",
   "metadata": {},
   "outputs": [],
   "source": [
    "import geopandas as gpd\n",
    "#df = data.to_dataframe()\n",
    "df = df[[\"sea_level\", \"latitude\", \"longitude\"]]\n",
    "gdf = gpd.GeoDataFrame(\n",
    "    df, geometry=gpd.points_from_xy(df.longitude, df.latitude))"
   ]
  },
  {
   "cell_type": "code",
   "execution_count": 49,
   "id": "6a19127c",
   "metadata": {},
   "outputs": [
    {
     "data": {
      "text/html": [
       "<div>\n",
       "<style scoped>\n",
       "    .dataframe tbody tr th:only-of-type {\n",
       "        vertical-align: middle;\n",
       "    }\n",
       "\n",
       "    .dataframe tbody tr th {\n",
       "        vertical-align: top;\n",
       "    }\n",
       "\n",
       "    .dataframe thead th {\n",
       "        text-align: right;\n",
       "    }\n",
       "</style>\n",
       "<table border=\"1\" class=\"dataframe\">\n",
       "  <thead>\n",
       "    <tr style=\"text-align: right;\">\n",
       "      <th></th>\n",
       "      <th></th>\n",
       "      <th>sea_level</th>\n",
       "      <th>latitude</th>\n",
       "      <th>longitude</th>\n",
       "      <th>geometry</th>\n",
       "    </tr>\n",
       "    <tr>\n",
       "      <th>station</th>\n",
       "      <th>date_time</th>\n",
       "      <th></th>\n",
       "      <th></th>\n",
       "      <th></th>\n",
       "      <th></th>\n",
       "    </tr>\n",
       "  </thead>\n",
       "  <tbody>\n",
       "    <tr>\n",
       "      <th rowspan=\"5\" valign=\"top\">0</th>\n",
       "      <th>1984-01-01 00:00:00</th>\n",
       "      <td>1.400</td>\n",
       "      <td>13.145</td>\n",
       "      <td>123.758</td>\n",
       "      <td>POINT (123.75800 13.14500)</td>\n",
       "    </tr>\n",
       "    <tr>\n",
       "      <th>1984-01-01 01:00:00</th>\n",
       "      <td>1.180</td>\n",
       "      <td>13.145</td>\n",
       "      <td>123.758</td>\n",
       "      <td>POINT (123.75800 13.14500)</td>\n",
       "    </tr>\n",
       "    <tr>\n",
       "      <th>1984-01-01 02:00:00</th>\n",
       "      <td>1.030</td>\n",
       "      <td>13.145</td>\n",
       "      <td>123.758</td>\n",
       "      <td>POINT (123.75800 13.14500)</td>\n",
       "    </tr>\n",
       "    <tr>\n",
       "      <th>1984-01-01 03:00:00</th>\n",
       "      <td>1.125</td>\n",
       "      <td>13.145</td>\n",
       "      <td>123.758</td>\n",
       "      <td>POINT (123.75800 13.14500)</td>\n",
       "    </tr>\n",
       "    <tr>\n",
       "      <th>1984-01-01 04:00:00</th>\n",
       "      <td>1.360</td>\n",
       "      <td>13.145</td>\n",
       "      <td>123.758</td>\n",
       "      <td>POINT (123.75800 13.14500)</td>\n",
       "    </tr>\n",
       "  </tbody>\n",
       "</table>\n",
       "</div>"
      ],
      "text/plain": [
       "                             sea_level  latitude  longitude  \\\n",
       "station date_time                                             \n",
       "0       1984-01-01 00:00:00      1.400    13.145    123.758   \n",
       "        1984-01-01 01:00:00      1.180    13.145    123.758   \n",
       "        1984-01-01 02:00:00      1.030    13.145    123.758   \n",
       "        1984-01-01 03:00:00      1.125    13.145    123.758   \n",
       "        1984-01-01 04:00:00      1.360    13.145    123.758   \n",
       "\n",
       "                                               geometry  \n",
       "station date_time                                        \n",
       "0       1984-01-01 00:00:00  POINT (123.75800 13.14500)  \n",
       "        1984-01-01 01:00:00  POINT (123.75800 13.14500)  \n",
       "        1984-01-01 02:00:00  POINT (123.75800 13.14500)  \n",
       "        1984-01-01 03:00:00  POINT (123.75800 13.14500)  \n",
       "        1984-01-01 04:00:00  POINT (123.75800 13.14500)  "
      ]
     },
     "execution_count": 49,
     "metadata": {},
     "output_type": "execute_result"
    }
   ],
   "source": [
    "gdf.head()"
   ]
  },
  {
   "cell_type": "code",
   "execution_count": null,
   "id": "a437a73c",
   "metadata": {},
   "outputs": [],
   "source": []
  }
 ],
 "metadata": {
  "kernelspec": {
   "display_name": "Python 3",
   "language": "python",
   "name": "python3"
  },
  "language_info": {
   "codemirror_mode": {
    "name": "ipython",
    "version": 3
   },
   "file_extension": ".py",
   "mimetype": "text/x-python",
   "name": "python",
   "nbconvert_exporter": "python",
   "pygments_lexer": "ipython3",
   "version": "3.9.5"
  }
 },
 "nbformat": 4,
 "nbformat_minor": 5
}
