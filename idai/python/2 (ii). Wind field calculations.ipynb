{
 "cells": [
  {
   "cell_type": "markdown",
   "id": "f5247d58",
   "metadata": {},
   "source": [
    "# Wind field calculations from IBTrACs data"
   ]
  },
  {
   "cell_type": "code",
   "execution_count": 1,
   "id": "efcf0e27",
   "metadata": {},
   "outputs": [],
   "source": [
    "from os.path import join\n",
    "import numpy as np\n",
    "import pandas as pd\n",
    "import geopandas as gpd\n",
    "import matplotlib.pyplot as plt\n",
    "plt.rcParams.update({'font.size': 16})"
   ]
  },
  {
   "cell_type": "markdown",
   "id": "37bf737c",
   "metadata": {},
   "source": [
    "### References\n",
    "IBTrACs dataset: doi:10.25921/82ty-9e16\n",
    "\n",
    "### Tasks\n",
    "- [x] Load IBTrACs data and process for period discrepancies if necessary\n",
    "- [x] Visualise storm tracks\n",
    "- [x] Choose radius of maximum wind speed\n",
    "- [ ] Define AOI and grid\n",
    "- [ ] Read up on use of haversine distances and Holland (1980) method\n",
    "- [ ] Implement Holland method over AOI\n",
    "\n",
    "**Output:** gridded wind direction, speed, and pressure for AOI."
   ]
  },
  {
   "cell_type": "code",
   "execution_count": 2,
   "id": "dcddfded",
   "metadata": {},
   "outputs": [
    {
     "data": {
      "text/html": [
       "<div>\n",
       "<style scoped>\n",
       "    .dataframe tbody tr th:only-of-type {\n",
       "        vertical-align: middle;\n",
       "    }\n",
       "\n",
       "    .dataframe tbody tr th {\n",
       "        vertical-align: top;\n",
       "    }\n",
       "\n",
       "    .dataframe thead th {\n",
       "        text-align: right;\n",
       "    }\n",
       "</style>\n",
       "<table border=\"1\" class=\"dataframe\">\n",
       "  <thead>\n",
       "    <tr style=\"text-align: right;\">\n",
       "      <th></th>\n",
       "      <th>WMO WIND</th>\n",
       "      <th>USA WIND</th>\n",
       "      <th>REUNION WIND</th>\n",
       "    </tr>\n",
       "  </thead>\n",
       "  <tbody>\n",
       "    <tr>\n",
       "      <th>1</th>\n",
       "      <td>30</td>\n",
       "      <td>NaN</td>\n",
       "      <td>30</td>\n",
       "    </tr>\n",
       "    <tr>\n",
       "      <th>2</th>\n",
       "      <td>NaN</td>\n",
       "      <td>NaN</td>\n",
       "      <td>31</td>\n",
       "    </tr>\n",
       "    <tr>\n",
       "      <th>3</th>\n",
       "      <td>33</td>\n",
       "      <td>NaN</td>\n",
       "      <td>33</td>\n",
       "    </tr>\n",
       "    <tr>\n",
       "      <th>4</th>\n",
       "      <td>NaN</td>\n",
       "      <td>NaN</td>\n",
       "      <td>35</td>\n",
       "    </tr>\n",
       "    <tr>\n",
       "      <th>5</th>\n",
       "      <td>37</td>\n",
       "      <td>NaN</td>\n",
       "      <td>37</td>\n",
       "    </tr>\n",
       "  </tbody>\n",
       "</table>\n",
       "</div>"
      ],
      "text/plain": [
       "  WMO WIND USA WIND REUNION WIND\n",
       "1       30      NaN           30\n",
       "2      NaN      NaN           31\n",
       "3       33      NaN           33\n",
       "4      NaN      NaN           35\n",
       "5       37      NaN           37"
      ]
     },
     "execution_count": 2,
     "metadata": {},
     "output_type": "execute_result"
    }
   ],
   "source": [
    "# start with unprocessed Idai IBTrACs data \n",
    "indir = join(\"..\", \"beira\", \"indata\")\n",
    "outdir = join(\"..\", \"beira\", \"outdata\")\n",
    "\n",
    "wind_df = pd.read_csv(join(indir, \"ibtracs.csv\"), header=0)[1:]\n",
    "wind_df[[\"WMO WIND\", \"USA WIND\", \"REUNION WIND\"]].head()"
   ]
  },
  {
   "cell_type": "code",
   "execution_count": 3,
   "id": "37154ad3",
   "metadata": {},
   "outputs": [
    {
     "data": {
      "text/html": [
       "<div>\n",
       "<style scoped>\n",
       "    .dataframe tbody tr th:only-of-type {\n",
       "        vertical-align: middle;\n",
       "    }\n",
       "\n",
       "    .dataframe tbody tr th {\n",
       "        vertical-align: top;\n",
       "    }\n",
       "\n",
       "    .dataframe thead th {\n",
       "        text-align: right;\n",
       "    }\n",
       "</style>\n",
       "<table border=\"1\" class=\"dataframe\">\n",
       "  <thead>\n",
       "    <tr style=\"text-align: right;\">\n",
       "      <th></th>\n",
       "      <th>LAT</th>\n",
       "      <th>LON</th>\n",
       "      <th>WMO WIND</th>\n",
       "      <th>WMO PRES</th>\n",
       "      <th>DIST2LAND</th>\n",
       "      <th>LANDFALL</th>\n",
       "      <th>STORM SPEED</th>\n",
       "      <th>STORM DIR</th>\n",
       "      <th>REUNION RMW</th>\n",
       "    </tr>\n",
       "  </thead>\n",
       "  <tbody>\n",
       "    <tr>\n",
       "      <th>0</th>\n",
       "      <td>degrees north</td>\n",
       "      <td>degrees east</td>\n",
       "      <td>kts</td>\n",
       "      <td>mb</td>\n",
       "      <td>km</td>\n",
       "      <td>km</td>\n",
       "      <td>kts</td>\n",
       "      <td>degrees</td>\n",
       "      <td>nmile</td>\n",
       "    </tr>\n",
       "  </tbody>\n",
       "</table>\n",
       "</div>"
      ],
      "text/plain": [
       "             LAT           LON WMO WIND WMO PRES DIST2LAND LANDFALL  \\\n",
       "0  degrees north  degrees east      kts       mb        km       km   \n",
       "\n",
       "  STORM SPEED STORM DIR REUNION RMW  \n",
       "0         kts   degrees       nmile  "
      ]
     },
     "execution_count": 3,
     "metadata": {},
     "output_type": "execute_result"
    }
   ],
   "source": [
    "units_df = pd.read_csv(join(indir, \"ibtracs.csv\"), header=0)[0:1]\n",
    "units_df[[\"LAT\", \"LON\", \"WMO WIND\", \"WMO PRES\", \"DIST2LAND\", \"LANDFALL\", 'STORM SPEED', 'STORM DIR', 'REUNION RMW']]"
   ]
  },
  {
   "cell_type": "markdown",
   "id": "fe5c4713",
   "metadata": {},
   "source": [
    "1 nautical mile $\\approxeq$ 1.1508 land-measured miles $\\approxeq$ 1.852 km.\n",
    "\n",
    "\n",
    "Looking at the dataframe, the maximum wind speed (WMO WIND) is more similar to Reunion than USA recordings so we will use this for the radius of max winds (RMW) later."
   ]
  },
  {
   "cell_type": "code",
   "execution_count": 4,
   "id": "a9590948",
   "metadata": {},
   "outputs": [
    {
     "name": "stdout",
     "output_type": "stream",
     "text": [
      "Features: index BASIN ISO_TIME LAT LON WMO_WIND WMO_PRES DIST2LAND LANDFALL STORM_SPEED STORM_DIR REUNION_RMW geometry\n"
     ]
    }
   ],
   "source": [
    "wind_df = pd.read_csv(join(indir, \"ibtracs.csv\"), header=0)[1:]\n",
    "grid_gdf = gpd.read_file(join(indir, \"grid.shp\")).to_crs(\"EPSG:4326\")\n",
    "\n",
    "wind_df = wind_df[[\"BASIN\", \"ISO_TIME_________\", \"LAT\", \"LON\", \"WMO WIND\", \"WMO PRES\", \"DIST2LAND\", \"LANDFALL\", 'STORM SPEED', 'STORM DIR', 'REUNION RMW']]\n",
    "wind_df.columns = [\"BASIN\", \"ISO_TIME\", \"LAT\", \"LON\", \"WMO_WIND\", \"WMO_PRES\", \"DIST2LAND\", \"LANDFALL\", 'STORM_SPEED', 'STORM_DIR', 'REUNION_RMW']\n",
    "\n",
    "wind_df = wind_df.dropna(subset=\"WMO_WIND\").reset_index()\n",
    "for feature in ['WMO_WIND', 'WMO_PRES', 'DIST2LAND', 'LANDFALL', 'REUNION_RMW']:\n",
    "    wind_df[feature] = wind_df[feature].apply(lambda x: float(x))\n",
    "\n",
    "wind_gdf = gpd.GeoDataFrame(wind_df, geometry=gpd.points_from_xy(wind_df.LON, wind_df.LAT))\n",
    "wind_gdf = wind_gdf.set_crs(\"EPSG:4326\")\n",
    "print(\"Features:\", *wind_df.columns)"
   ]
  },
  {
   "cell_type": "markdown",
   "id": "538471d7",
   "metadata": {},
   "source": [
    "    coast_gdf = gpd.read_file(join(indir, \"osm_processed\", \"osm_coastline_final.shp\"))\n",
    "    bounding_box = wind_gdf.envelope\n",
    "    bbox_gdf = gpd.GeoDataFrame(gpd.GeoSeries(bounding_box), columns=['geometry'])\n",
    "\n",
    "    from shapely.geometry import box\n",
    "    bbox = box(*wind_gdf.total_bounds)\n",
    "    \n",
    "    coast_clipped = coast_gdf.clip(coast_gdf, bbox)  # this takes quite a while\n",
    "    coast_clipped.plot()"
   ]
  },
  {
   "cell_type": "code",
   "execution_count": 5,
   "id": "887a2510",
   "metadata": {},
   "outputs": [
    {
     "data": {
      "image/png": "[encoded data removed]",
      "text/plain": [
       "<Figure size 1440x216 with 4 Axes>"
      ]
     },
     "metadata": {
      "needs_background": "light"
     },
     "output_type": "display_data"
    }
   ],
   "source": [
    "fig, ax = plt.subplots(1, 2, figsize=(20, 3))\n",
    "\n",
    "# coast_gdf.plot(ax=ax[0], color=\"#302f2d\")\n",
    "wind_gdf.plot(column=\"WMO_WIND\", ax=ax[0], cmap=\"Spectral_r\", alpha=0.8,\n",
    "              markersize=\"WMO_WIND\", legend=True)\n",
    "grid_gdf.boundary.plot(ax=ax[0], color=\"#302f2d\")\n",
    "ax[0].set_title(\"WMO_WIND\");\n",
    "\n",
    "wind_gdf.plot(column=\"WMO_WIND\", ax=ax[1], cmap=\"Spectral_r\", alpha=0.8,\n",
    "              markersize=\"REUNION_RMW\", legend=True)\n",
    "grid_gdf.boundary.plot(ax=ax[1], color=\"#302f2d\")\n",
    "ax[1].set_title(\"REUNION_RMW\");"
   ]
  },
  {
   "cell_type": "markdown",
   "id": "df5f12e1",
   "metadata": {},
   "source": [
    "## Calculate the wind field"
   ]
  },
  {
   "cell_type": "code",
   "execution_count": 6,
   "id": "ce52918c",
   "metadata": {},
   "outputs": [],
   "source": [
    "def haversine(lon1, lat1, lon2_lst, lat2_lst):\n",
    "    \"\"\"Code from J. Verschuur. Haversine distance in km.\"\"\"\n",
    "    lon2_arr = np.array(lon2_lst)\n",
    "    lat2_arr = np.array(lat2_lst)\n",
    "\n",
    "    # convert degrees to radians\n",
    "    lon1 = np.deg2rad(lon1)\n",
    "    lat1 = np.deg2rad(lat1)\n",
    "    lon2_arr = np.deg2rad(lon2_arr)\n",
    "    lat2_arr = np.deg2rad(lat2_arr)\n",
    "\n",
    "    # formula\n",
    "    dlon = lon2_arr - lon1\n",
    "    dlat = lat2_arr - lat1\n",
    "    a = np.sin(dlat / 2) ** 2 + np.cos(lat1) * np.cos(lat2_arr) * np.sin(dlon / 2) ** 2\n",
    "    c = 2 * np.arcsin(np.sqrt(a))\n",
    "    r_e = 6371\n",
    "    return c * r_e\n",
    "\n",
    "def holland_wind_field(r, wind, pressure, pressure_env, distance, lat):\n",
    "    \"\"\"Code from J. Verschuur. Uses different rho to Holland (1980).\n",
    "    \n",
    "    Parameters:\n",
    "    -----------\n",
    "    r : float\n",
    "        radius of maximum winds (km).\n",
    "    wind : float\n",
    "        wind speed (m / s)\n",
    "    pressure : float\n",
    "        central pressure (mb)\n",
    "    pressure_env : float\n",
    "        ambient pressure (mb), often taken as value of first anticyclonic isobar\n",
    "        Holland (1980).\n",
    "    distance : float\n",
    "        distance from point to storm centre (km)\n",
    "    latitude : float\n",
    "    \n",
    "    \"\"\"\n",
    "    # change distance and radius to meters\n",
    "    distance = distance * 1000\n",
    "    r = r * 1000\n",
    "    rho = 1.10\n",
    "    f = np.abs(1.45842300 * 10 ** -4 * np.sin(lat))\n",
    "    e = 2.71828182846\n",
    "    # p_drop = 2*wind**2\n",
    "    p_drop = (pressure_env - pressure) * 100\n",
    "    B = rho * e * wind ** 2 / p_drop\n",
    "    Vg = (\n",
    "        np.sqrt(\n",
    "            ((r / distance) ** B) * (wind ** 2) * np.exp(1 - (r / distance) ** B)\n",
    "            + (r ** 2) * (f ** 2) / 4\n",
    "        )\n",
    "        - (r * f) / 2\n",
    "    )\n",
    "    return Vg"
   ]
  },
  {
   "cell_type": "code",
   "execution_count": 37,
   "id": "c3468e2f",
   "metadata": {},
   "outputs": [
    {
     "name": "stderr",
     "output_type": "stream",
     "text": [
      "/var/folders/pw/g3l12fr515df7s6dpdch4qx00000gn/T/ipykernel_2071/4199691788.py:1: UserWarning: Geometry is in a geographic CRS. Results from 'centroid' are likely incorrect. Use 'GeoSeries.to_crs()' to re-project geometries to a projected CRS before this operation.\n",
      "\n",
      "  centroids = grid_gdf.centroid\n"
     ]
    }
   ],
   "source": [
    "centroids = grid_gdf.centroid\n",
    "wind_tracks = wind_gdf.geometry\n",
    "lats = [*wind_tracks.y]\n",
    "lons = [*wind_tracks.x]\n",
    "\n",
    "h_distances = []\n",
    "for centroid in centroids:\n",
    "    h_distances.append(haversine(centroid.x, centroid.y, lons, lats))\n",
    "\n",
    "h_distances = np.array(h_distances)\n",
    "assert len(wind_gdf) == h_distances.shape[1]\n",
    "# each h_distances row represents distances from one grid cell \n",
    "# to the storm at one of 40 time stamps"
   ]
  },
  {
   "cell_type": "code",
   "execution_count": 46,
   "id": "b71e6d2f",
   "metadata": {},
   "outputs": [
    {
     "data": {
      "image/png": "[encoded data removed]",
      "text/plain": [
       "<Figure size 720x720 with 1 Axes>"
      ]
     },
     "metadata": {
      "needs_background": "light"
     },
     "output_type": "display_data"
    }
   ],
   "source": [
    "time = 34\n",
    "iso_time = wind_gdf['ISO_TIME'][time]\n",
    "h_dists = [x[time] for x in h_distances]\n",
    "r = wind_gdf[\"REUNION_RMW\"][time] / 1.852  # change nmiles to km\n",
    "wind = wind_gdf[\"WMO_WIND\"][time] * 0.514444  # change knots to m/s\n",
    "pressure = wind_gdf[\"WMO_PRES\"][time]\n",
    "pressure_env = 1010.6  # South Indian Ocean\n",
    "lat = float(wind_gdf[\"LAT\"][time])\n",
    "\n",
    "wind_fields = []\n",
    "for distance in h_dists:\n",
    "    wind_fields.append(holland_wind_field(r, wind, pressure, pressure_env, distance, lat))\n",
    "\n",
    "fig, ax = plt.subplots(1, 1, figsize=(10, 10))\n",
    "grid_gdf[f\"WIND_{iso_time}\"] = [x / 0.514444 for x in wind_fields]\n",
    "grid_gdf.plot(column=f\"WIND_{iso_time}\", ax=ax, cmap=\"Spectral_r\", legend=False)\n",
    "ax.set_title(f\"Wind field at {iso_time}\");\n",
    "wind_gdf.plot(column=\"WMO_WIND\", ax=ax, cmap=\"Spectral_r\",\n",
    "               markersize=\"REUNION_RMW\", legend=False)\n",
    "ax.set_xlim(34.4, 34.8);\n",
    "ax.set_ylim(-19.65, -20);"
   ]
  },
  {
   "cell_type": "markdown",
   "id": "a6c06fbf",
   "metadata": {},
   "source": [
    "This doesn't look right, it's just linearly decaying but from a much lower wind speed. Also took ambient pressure from South Pacific as in the code Max sent me but need to verify this with ERA5. A bigger issue is the linear decay... this was just because was using index wrong way around. Can use example below with larger grid to view this."
   ]
  },
  {
   "cell_type": "code",
   "execution_count": 35,
   "id": "7dbe0236",
   "metadata": {},
   "outputs": [
    {
     "data": {
      "image/png": "[encoded data removed]",
      "text/plain": [
       "<Figure size 720x216 with 2 Axes>"
      ]
     },
     "metadata": {
      "needs_background": "light"
     },
     "output_type": "display_data"
    }
   ],
   "source": [
    "from data_utils import *\n",
    "grid = make_grid(*wind_gdf.total_bounds, length=0.5, wide=0.5)\n",
    "grid_lonlat = grid.to_crs(\"EPSG:4326\")\n",
    "\n",
    "centroids = grid.centroid\n",
    "wind_tracks = wind_gdf.geometry\n",
    "lats = [*wind_tracks.y]\n",
    "lons = [*wind_tracks.x]\n",
    "\n",
    "h_distances = []\n",
    "for centroid in centroids:\n",
    "    h_distances.append(haversine(centroid.x, centroid.y, lons, lats))\n",
    "\n",
    "h_distances = np.array(h_distances)\n",
    "assert len(wind_gdf) == h_distances.shape[1]\n",
    "# each h_distances row represents distances from one grid cell \n",
    "# to the storm at one of 40 time stamps\n",
    "\n",
    "fig, ax = plt.subplots(1, 1, figsize=(10, 3))\n",
    "\n",
    "time = 34\n",
    "iso_time = wind_gdf['ISO_TIME'][time]\n",
    "h_dists = [x[time] for x in h_distances]\n",
    "r = wind_gdf[\"REUNION_RMW\"][time] / 1.852  # change nmiles to km\n",
    "wind = wind_gdf[\"WMO_WIND\"][time] * 0.514444  # change knots to m/s\n",
    "pressure = wind_gdf[\"WMO_PRES\"][time]\n",
    "pressure_env = 1010.6  # South Indian Ocean\n",
    "lat = float(wind_gdf[\"LAT\"][time])\n",
    "\n",
    "wind_fields = []\n",
    "for distance in h_dists:\n",
    "    wind_fields.append(holland_wind_field(r, wind, pressure, pressure_env, distance, lat))\n",
    "\n",
    "grid[f\"WIND_{iso_time}\"] = [x / 0.514444 for x in wind_fields]\n",
    "grid.plot(column=f\"WIND_{iso_time}\", ax=ax, cmap=\"Spectral_r\", legend=True)\n",
    "ax.set_title(f\"Wind field at {iso_time}\");\n",
    "#     wind_gdf.plot(column=\"WMO_WIND\", ax=ax, cmap=\"Spectral_r\",\n",
    "#                    markersize=\"REUNION_RMW\", legend=True)\n"
   ]
  },
  {
   "cell_type": "code",
   "execution_count": null,
   "id": "bfedad4f",
   "metadata": {},
   "outputs": [],
   "source": []
  }
 ],
 "metadata": {
  "kernelspec": {
   "display_name": "hybridmodels",
   "language": "python",
   "name": "hybridmodels"
  },
  "language_info": {
   "codemirror_mode": {
    "name": "ipython",
    "version": 3
   },
   "file_extension": ".py",
   "mimetype": "text/x-python",
   "name": "python",
   "nbconvert_exporter": "python",
   "pygments_lexer": "ipython3",
   "version": "3.10.4"
  }
 },
 "nbformat": 4,
 "nbformat_minor": 5
}
