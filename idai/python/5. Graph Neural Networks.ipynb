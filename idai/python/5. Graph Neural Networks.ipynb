{
 "cells": [
  {
   "cell_type": "code",
   "execution_count": 141,
   "id": "7f8ed8da",
   "metadata": {},
   "outputs": [
    {
     "name": "stdout",
     "output_type": "stream",
     "text": [
      "PyTorch has version 1.11.0\n"
     ]
    }
   ],
   "source": [
    "import networkx as nx\n",
    "import torch\n",
    "print(\"PyTorch has version {}\".format(torch.__version__))"
   ]
  },
  {
   "cell_type": "markdown",
   "id": "563bec94",
   "metadata": {},
   "source": [
    "#### References\n",
    "1. http://podcasts.ox.ac.uk/introduction-deep-learning-and-graph-neural-networks-biomedicine\n",
    "2. https://towardsdatascience.com/graph-neural-networks-in-python-c310c7c18c83\n",
    "3. https://distill.pub/2021/gnn-intro/ and https://colab.research.google.com/drive/17eRoYIBxlgxAMKHV4qmXmBYL2-Wkl3Xx?usp=sharing\n",
    "4. [Pytorch Docs](https://pytorch-geometric.readthedocs.io/en/latest/notes/introduction.html)"
   ]
  },
  {
   "cell_type": "markdown",
   "id": "35331f9d",
   "metadata": {},
   "source": [
    "## Using shapefile data"
   ]
  },
  {
   "cell_type": "code",
   "execution_count": 92,
   "id": "d3c2f493",
   "metadata": {},
   "outputs": [
    {
     "name": "stdout",
     "output_type": "stream",
     "text": [
      "/Users/alisonpeard/Documents/Oxford/DPhil/hybridmodels/idai/python\r\n"
     ]
    }
   ],
   "source": [
    "from os.path import join\n",
    "import geopandas as gpd\n",
    "from pysal.lib import weights\n",
    "import matplotlib.pyplot as plt\n",
    "import networkx as nx\n",
    "from sklearn.preprocessing import MinMaxScaler\n",
    "import torch"
   ]
  },
  {
   "cell_type": "code",
   "execution_count": 105,
   "id": "09d9efca",
   "metadata": {},
   "outputs": [
    {
     "name": "stdout",
     "output_type": "stream",
     "text": [
      "number of nodes: 1439\n",
      "[num_nodes, num_node_features]: (1439, 11)\n",
      "y vector length: 1439\n"
     ]
    },
    {
     "name": "stderr",
     "output_type": "stream",
     "text": [
      "/Users/alisonpeard/miniconda3/envs/hybridmodels/lib/python3.10/site-packages/libpysal/weights/weights.py:172: UserWarning: The weights matrix is not fully connected: \n",
      " There are 6 disconnected components.\n",
      " There are 3 islands with ids: 1347, 1404, 1438.\n",
      "  warnings.warn(message)\n"
     ]
    },
    {
     "data": {
      "image/png": "[encoded data removed]",
      "text/plain": [
       "<Figure size 432x288 with 1 Axes>"
      ]
     },
     "metadata": {
      "needs_background": "light"
     },
     "output_type": "display_data"
    }
   ],
   "source": [
    "# load the geopandas dataframe and build adjacency matrix\n",
    "root_dir = join(\"..\", \"beira\", \"outdata\", \"feature_stats.shp\")\n",
    "feature_gdf = gpd.read_file(root_dir).dropna()\n",
    "feature_gdf.boundary.plot()\n",
    "print(\"number of nodes:\", len(feature_gdf))\n",
    "feature_gdf = feature_gdf.drop([\"jrc_permwa\"], axis=1)\n",
    "feature_list = [*feature_gdf.columns]\n",
    "feature_list.remove(\"floodfrac\")\n",
    "feature_list.remove(\"geometry\")\n",
    "\n",
    "# calculate contiguity weights matrix\n",
    "w = weights.contiguity.Queen.from_dataframe(feature_gdf)\n",
    "W, ids = weights.full(w)\n",
    "\n",
    "# use networkx to extract edge_list and convert to pyg-desired format\n",
    "G = nx.from_numpy_array(W)\n",
    "edge_index = torch.tensor([list(e) for e in G.edges()], dtype=torch.long)\n",
    "edge_index = edge_index.t().contiguous()\n",
    "\n",
    "# node feature matrix with shape [num_nodes, num_node_features]\n",
    "X, y = feature_gdf[feature_list], feature_gdf[\"floodfrac\"]\n",
    "\n",
    "# scale input features\n",
    "scaler = MinMaxScaler(feature_range=(0, 1))\n",
    "scaler.fit(X)\n",
    "X = scaler.transform(X)\n",
    "x = torch.tensor(X, dtype=torch.float)\n",
    "print(f\"[num_nodes, num_node_features]: {X.shape}\")\n",
    "\n",
    "# data.y\n",
    "y = feature_gdf.floodfrac\n",
    "print(\"y vector length:\", len(y))\n"
   ]
  },
  {
   "cell_type": "code",
   "execution_count": 140,
   "id": "4ed4dc0d",
   "metadata": {},
   "outputs": [],
   "source": [
    "# now define a data instance\n",
    "from sklearn.model_selection import train_test_split\n",
    "from torch_geometric.data import Data\n",
    "\n",
    "data = Data(x=x, edge_index=edge_index, y=y)\n",
    "\n",
    "# create a train/test-split\n",
    "index = [*feature_gdf.index]\n",
    "train_idx, test_idx = train_test_split(index, test_size=0.1)\n",
    "train_idx, val_idx = train_test_split(train_idx, test_size=0.1 / 0.9)\n",
    "\n",
    "data.train_idx = torch.tensor(train_idx, dtype=torch.long)\n",
    "data.val_idx = torch.tensor(val_idx, dtype=torch.long)\n",
    "data.test_idx = torch.tensor(test_idx, dtype=torch.long)"
   ]
  },
  {
   "cell_type": "code",
   "execution_count": null,
   "id": "80f18332",
   "metadata": {},
   "outputs": [],
   "source": []
  }
 ],
 "metadata": {
  "kernelspec": {
   "display_name": "hybridmodels",
   "language": "python",
   "name": "hybridmodels"
  },
  "language_info": {
   "codemirror_mode": {
    "name": "ipython",
    "version": 3
   },
   "file_extension": ".py",
   "mimetype": "text/x-python",
   "name": "python",
   "nbconvert_exporter": "python",
   "pygments_lexer": "ipython3",
   "version": "3.10.4"
  }
 },
 "nbformat": 4,
 "nbformat_minor": 5
}
