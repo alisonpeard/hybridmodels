{
 "cells": [
  {
   "cell_type": "markdown",
   "id": "e121a5bb",
   "metadata": {},
   "source": [
    "Code to replicate the floodmaps of [Canty et al.](https://doi.org/10.3390/rs12010046) using this [tutorial](https://developers.google.com/earth-engine/tutorials/community/detecting-changes-in-sentinel-1-imagery-pt-4). Use with the`hybridmodels` conda environment.\n",
    "\n",
    "## Cyclone Idai\n",
    "\n",
    "Cyclone Idai made landfall near Beira, Sala, Mozambique on the 15th March 2019. It caused over 1,300 deaths. The maps being replicated here range from 1st Jan 2019 to 7th June 2019. Between the 14th and 20th we see the most flooding.\n",
    "\n",
    "## Flood mapping\n",
    "The flood mapping method utilises information about the distribution of the pixels in the VH and VV to identify significant changes between snapshots. In all VV, VH, HV, and HH bands, water has low backscatter compared to soil and bare vegetation and so amplitude-based methods can be used to detect changes [(Bonafilia 2020)](http://dx.doi.org/10.1109/CVPRW50498.2020.00113). This method is not so good for urban areas, however, and InSAR-based methods for urban areas by [Chini (2019)](https://doi.org/10.3390/rs11020107) will be added later. \n",
    "\n",
    "Briefly, pixels in the $m$-look multi-look images have a gamma distribution with shape parameters $m$ and $a/m$, where $a$ is the average intensity. Change between images is tested for using likelihood ratio tests (LRTs), where a small test statistic $Q$ indicates a significant difference between image likelihoods under the two hypotheses of no change/change. The distribution of this test statistic cannot be derived analytically so is approximated using Wilk's Theorem for the $-2\\log Q$ transformation, which tends to a chi-squared distribution for many measurements. Further to this, a process for identifying changes over a sequence of images (omnibus test) is derived by factorising $Q$ into intervals $R_j$ whose product is $Q$."
   ]
  },
  {
   "cell_type": "code",
   "execution_count": 1,
   "id": "92d9d329",
   "metadata": {
    "scrolled": true
   },
   "outputs": [
    {
     "data": {
      "text/html": [
       "<p>To authorize access needed by Earth Engine, open the following\n",
       "        URL in a web browser and follow the instructions:</p>\n",
       "        <p><a href=https://code.earthengine.google.com/client-auth?scopes=https%3A//www.googleapis.com/auth/earthengine%20https%3A//www.googleapis.com/auth/devstorage.full_control&request_id=CzF7MyRwJrmaDyXAFhQeEvQYe_UoMqFgfxgZab1-_cw&tc=oGZtR_uRwF2s7W-eBK_VcyOFGQ7ClnXuoIz_zqe-mGc&cc=JkslIBa_Fphhs-RknHgFjyk-S_WqIX-jLoggVKyakIE>https://code.earthengine.google.com/client-auth?scopes=https%3A//www.googleapis.com/auth/earthengine%20https%3A//www.googleapis.com/auth/devstorage.full_control&request_id=CzF7MyRwJrmaDyXAFhQeEvQYe_UoMqFgfxgZab1-_cw&tc=oGZtR_uRwF2s7W-eBK_VcyOFGQ7ClnXuoIz_zqe-mGc&cc=JkslIBa_Fphhs-RknHgFjyk-S_WqIX-jLoggVKyakIE</a></p>\n",
       "        <p>The authorization workflow will generate a code, which you\n",
       "        should paste in the box below</p>\n",
       "        "
      ],
      "text/plain": [
       "<IPython.core.display.HTML object>"
      ]
     },
     "metadata": {},
     "output_type": "display_data"
    },
    {
     "name": "stdout",
     "output_type": "stream",
     "text": [
      "Enter verification code: 4/1AX4XfWgjryPRtLV-pcmJODULGGzC76vyW9pVOG1AdltzYKBZgC0c0Fcfxng\n",
      "\n",
      "Successfully saved authorization token.\n"
     ]
    }
   ],
   "source": [
    "# authenticate Google Earth Engine account\n",
    "import ee\n",
    "ee.Authenticate()\n",
    "\n",
    "# workaround to solve conflict with collections\n",
    "import collections\n",
    "collections.Callable = collections.abc.Callable\n",
    "\n",
    "ee.Initialize()"
   ]
  },
  {
   "cell_type": "code",
   "execution_count": 16,
   "id": "12869153",
   "metadata": {},
   "outputs": [],
   "source": [
    "# final import cell\n",
    "import folium\n",
    "from os.path import join\n",
    "import geopandas as gpd\n",
    "import floodmap_utils as tut\n",
    "from functools import partial"
   ]
  },
  {
   "cell_type": "markdown",
   "id": "03363986",
   "metadata": {},
   "source": [
    "    import time\n",
    "    import matplotlib.pyplot as plt\n",
    "    import numpy as np\n",
    "    from scipy.stats import norm, gamma, f, chi2\n",
    "    import IPython.display as disp\n",
    "    from importlib import reload"
   ]
  },
  {
   "cell_type": "code",
   "execution_count": 4,
   "id": "5b34be92",
   "metadata": {},
   "outputs": [],
   "source": [
    "# Add EE drawing method to folium.\n",
    "def add_ee_layer(self, ee_image_object, vis_params, name, show=True):\n",
    "    \"\"\"Method for displaying Earth Engine image tiles to folium map.\"\"\"\n",
    "    map_id_dict = ee.Image(ee_image_object).getMapId(vis_params)\n",
    "    folium.raster_layers.TileLayer(\n",
    "    tiles = map_id_dict['tile_fetcher'].url_format,\n",
    "    attr = 'Map Data &copy; <a href=\"https://earthengine.google.com/\">Google Earth Engine</a>',\n",
    "    name = name,\n",
    "    overlay = True,\n",
    "    control = True,\n",
    "    show = show\n",
    "  ).add_to(self)\n",
    "\n",
    "folium.Map.add_ee_layer = add_ee_layer"
   ]
  },
  {
   "cell_type": "code",
   "execution_count": 14,
   "id": "a837552e",
   "metadata": {},
   "outputs": [],
   "source": [
    "startdate = '2019-01-01'\n",
    "enddate = '2019-06-07'\n",
    "save_dir = join(\"..\", \"beira\", \"indata\")\n",
    "\n",
    "aoi_df = gpd.read_file(join(save_dir, \"beira.geojson\"))\n",
    "aoi_lonlat = aoi_df.geometry[0] # WGS84\n",
    "\n",
    "def clip_img(img):\n",
    "    \"\"\"Clip a list of images.\"\"\"\n",
    "    return ee.Image(img).clip(aoi)\n",
    "\n",
    "aoi = ee.Geometry.Polygon(aoi_lonlat.__geo_interface__[\"coordinates\"], proj=ee.Projection('EPSG:4326'))"
   ]
  },
  {
   "cell_type": "markdown",
   "id": "b1c7e9b7",
   "metadata": {},
   "source": [
    "# Import GEE Collection"
   ]
  },
  {
   "cell_type": "code",
   "execution_count": 17,
   "id": "d890708d",
   "metadata": {},
   "outputs": [],
   "source": [
    "# define image collection\n",
    "im_coll = (ee.ImageCollection('COPERNICUS/S1_GRD_FLOAT')\n",
    "           .filterBounds(aoi)\n",
    "           .filterDate(ee.Date(startdate),ee.Date(enddate))\n",
    "           .filter(ee.Filter.eq('orbitProperties_pass', 'DESCENDING'))\n",
    "           .filter(ee.Filter.eq('relativeOrbitNumber_start', 6))\n",
    "           .map(lambda img: img.set('date', ee.Date(img.date()).format('YYYYMMdd')))\n",
    "           .sort('date'))\n",
    "\n",
    "\n",
    "# supply aoi to clip_img function\n",
    "clip_img = partial(tut.clip_img, aoi=aoi)\n",
    "\n",
    "im_list = im_coll.toList(im_coll.size())\n",
    "im_list = ee.List(im_list.map(clip_img))\n",
    "\n",
    "timestamplist = (im_coll.aggregate_array('date')\n",
    "                 .map(lambda d: ee.String('T').cat(ee.String(d)))\n",
    "                 .getInfo())"
   ]
  },
  {
   "cell_type": "markdown",
   "id": "88f8caf9",
   "metadata": {},
   "source": [
    "# Generate change maps and export to GEE\n",
    "These are commented out as already exported to GEE"
   ]
  },
  {
   "cell_type": "markdown",
   "id": "927c6c4c",
   "metadata": {},
   "source": [
    "    # Generate the set of change maps as in tutorial\n",
    "\n",
    "    # Run the algorithm with median filter and at 1% significance.\n",
    "    result = ee.Dictionary(tut.change_maps(im_list, median=True, alpha=0.01))\n",
    "    # Extract the change maps and export to assets.\n",
    "    cmap = ee.Image(result.get('cmap'))\n",
    "    smap = ee.Image(result.get('smap'))\n",
    "    fmap = ee.Image(result.get('fmap'))\n",
    "    bmap = ee.Image(result.get('bmap'))\n",
    "    cmaps = ee.Image.cat(cmap, smap, fmap, bmap).rename(['cmap', 'smap', 'fmap']+timestamplist[1:])"
   ]
  },
  {
   "cell_type": "markdown",
   "id": "c64c11cb",
   "metadata": {},
   "source": [
    "    # finally, export the maps to Google Earth Engine assets\n",
    "    im_mean = im_coll.select('VV').mean().clip(aoi)\n",
    "\n",
    "    idai_maps = ee.Image.cat(im_mean.toDouble(),  # must have same precision\n",
    "                             cmaps.select('T20190302'),\n",
    "                             cmaps.select('T20190314'),\n",
    "                             cmaps.select('T20190320'),\n",
    "                             cmaps.select('T20190326'),\n",
    "                             cmaps.select('T20190401'),\n",
    "                             cmaps.select('T20190407'),\n",
    "                            ).rename(['average',\n",
    "                                      'T20190302',\n",
    "                                      'T20190314',\n",
    "                                      'T20190320',\n",
    "                                      'T20190326',\n",
    "                                      'T20190401',\n",
    "                                      'T20190407'])\n",
    "\n",
    "    # define path to assets\n",
    "    assetId = 'projects/floodmapping-2022/assets/examples/idai_beira'\n",
    "    assexport = ee.batch.Export.image.toAsset(idai_maps,\n",
    "                                              description='assetExportTask',\n",
    "                                              assetId=assetId, scale=10, maxPixels=1e9)\n",
    "\n",
    "    # export to google earth engine account\n",
    "    assexport.start()"
   ]
  },
  {
   "cell_type": "markdown",
   "id": "ec000f57",
   "metadata": {},
   "source": [
    "    # check status of export\n",
    "    assexport.status()"
   ]
  },
  {
   "cell_type": "markdown",
   "id": "f557e017",
   "metadata": {},
   "source": [
    "# Reimport maps and visualise with other data"
   ]
  },
  {
   "cell_type": "code",
   "execution_count": 18,
   "id": "b9843017",
   "metadata": {},
   "outputs": [
    {
     "data": {
      "text/html": [
       "<div style=\"width:100%;\"><div style=\"position:relative;width:100%;height:0;padding-bottom:60%;\"><span style=\"color:#565656\">Make this Notebook Trusted to load map: File -> Trust Notebook</span><iframe src=\"about:blank\" style=\"position:absolute;width:100%;height:100%;left:0;top:0;border:none !important;\" data-html=%3C%21DOCTYPE%20html%3E%0A%3Chead%3E%20%20%20%20%0A%20%20%20%20%3Cmeta%20http-equiv%3D%22content-type%22%20content%3D%22text/html%3B%20charset%3DUTF-8%22%20/%3E%0A%20%20%20%20%0A%20%20%20%20%20%20%20%20%3Cscript%3E%0A%20%20%20%20%20%20%20%20%20%20%20%20L_NO_TOUCH%20%3D%20false%3B%0A%20%20%20%20%20%20%20%20%20%20%20%20L_DISABLE_3D%20%3D%20false%3B%0A%20%20%20%20%20%20%20%20%3C/script%3E%0A%20%20%20%20%0A%20%20%20%20%3Cstyle%3Ehtml%2C%20body%20%7Bwidth%3A%20100%25%3Bheight%3A%20100%25%3Bmargin%3A%200%3Bpadding%3A%200%3B%7D%3C/style%3E%0A%20%20%20%20%3Cstyle%3E%23map%20%7Bposition%3Aabsolute%3Btop%3A0%3Bbottom%3A0%3Bright%3A0%3Bleft%3A0%3B%7D%3C/style%3E%0A%20%20%20%20%3Cscript%20src%3D%22https%3A//cdn.jsdelivr.net/npm/leaflet%401.6.0/dist/leaflet.js%22%3E%3C/script%3E%0A%20%20%20%20%3Cscript%20src%3D%22https%3A//code.jquery.com/jquery-1.12.4.min.js%22%3E%3C/script%3E%0A%20%20%20%20%3Cscript%20src%3D%22https%3A//maxcdn.bootstrapcdn.com/bootstrap/3.2.0/js/bootstrap.min.js%22%3E%3C/script%3E%0A%20%20%20%20%3Cscript%20src%3D%22https%3A//cdnjs.cloudflare.com/ajax/libs/Leaflet.awesome-markers/2.0.2/leaflet.awesome-markers.js%22%3E%3C/script%3E%0A%20%20%20%20%3Clink%20rel%3D%22stylesheet%22%20href%3D%22https%3A//cdn.jsdelivr.net/npm/leaflet%401.6.0/dist/leaflet.css%22/%3E%0A%20%20%20%20%3Clink%20rel%3D%22stylesheet%22%20href%3D%22https%3A//maxcdn.bootstrapcdn.com/bootstrap/3.2.0/css/bootstrap.min.css%22/%3E%0A%20%20%20%20%3Clink%20rel%3D%22stylesheet%22%20href%3D%22https%3A//maxcdn.bootstrapcdn.com/bootstrap/3.2.0/css/bootstrap-theme.min.css%22/%3E%0A%20%20%20%20%3Clink%20rel%3D%22stylesheet%22%20href%3D%22https%3A//maxcdn.bootstrapcdn.com/font-awesome/4.6.3/css/font-awesome.min.css%22/%3E%0A%20%20%20%20%3Clink%20rel%3D%22stylesheet%22%20href%3D%22https%3A//cdnjs.cloudflare.com/ajax/libs/Leaflet.awesome-markers/2.0.2/leaflet.awesome-markers.css%22/%3E%0A%20%20%20%20%3Clink%20rel%3D%22stylesheet%22%20href%3D%22https%3A//cdn.jsdelivr.net/gh/python-visualization/folium/folium/templates/leaflet.awesome.rotate.min.css%22/%3E%0A%20%20%20%20%0A%20%20%20%20%20%20%20%20%20%20%20%20%3Cmeta%20name%3D%22viewport%22%20content%3D%22width%3Ddevice-width%2C%0A%20%20%20%20%20%20%20%20%20%20%20%20%20%20%20%20initial-scale%3D1.0%2C%20maximum-scale%3D1.0%2C%20user-scalable%3Dno%22%20/%3E%0A%20%20%20%20%20%20%20%20%20%20%20%20%3Cstyle%3E%0A%20%20%20%20%20%20%20%20%20%20%20%20%20%20%20%20%23map_7ceb0e0b6c6d42c38c1f42b85a8048a5%20%7B%0A%20%20%20%20%20%20%20%20%20%20%20%20%20%20%20%20%20%20%20%20position%3A%20relative%3B%0A%20%20%20%20%20%20%20%20%20%20%20%20%20%20%20%20%20%20%20%20width%3A%20100.0%25%3B%0A%20%20%20%20%20%20%20%20%20%20%20%20%20%20%20%20%20%20%20%20height%3A%20100.0%25%3B%0A%20%20%20%20%20%20%20%20%20%20%20%20%20%20%20%20%20%20%20%20left%3A%200.0%25%3B%0A%20%20%20%20%20%20%20%20%20%20%20%20%20%20%20%20%20%20%20%20top%3A%200.0%25%3B%0A%20%20%20%20%20%20%20%20%20%20%20%20%20%20%20%20%7D%0A%20%20%20%20%20%20%20%20%20%20%20%20%3C/style%3E%0A%20%20%20%20%20%20%20%20%0A%3C/head%3E%0A%3Cbody%3E%20%20%20%20%0A%20%20%20%20%0A%20%20%20%20%20%20%20%20%20%20%20%20%3Cdiv%20class%3D%22folium-map%22%20id%3D%22map_7ceb0e0b6c6d42c38c1f42b85a8048a5%22%20%3E%3C/div%3E%0A%20%20%20%20%20%20%20%20%0A%3C/body%3E%0A%3Cscript%3E%20%20%20%20%0A%20%20%20%20%0A%20%20%20%20%20%20%20%20%20%20%20%20var%20map_7ceb0e0b6c6d42c38c1f42b85a8048a5%20%3D%20L.map%28%0A%20%20%20%20%20%20%20%20%20%20%20%20%20%20%20%20%22map_7ceb0e0b6c6d42c38c1f42b85a8048a5%22%2C%0A%20%20%20%20%20%20%20%20%20%20%20%20%20%20%20%20%7B%0A%20%20%20%20%20%20%20%20%20%20%20%20%20%20%20%20%20%20%20%20center%3A%20%5B-19.838997167406756%2C%2034.58770751953172%5D%2C%0A%20%20%20%20%20%20%20%20%20%20%20%20%20%20%20%20%20%20%20%20crs%3A%20L.CRS.EPSG3857%2C%0A%20%20%20%20%20%20%20%20%20%20%20%20%20%20%20%20%20%20%20%20zoom%3A%2011%2C%0A%20%20%20%20%20%20%20%20%20%20%20%20%20%20%20%20%20%20%20%20zoomControl%3A%20true%2C%0A%20%20%20%20%20%20%20%20%20%20%20%20%20%20%20%20%20%20%20%20preferCanvas%3A%20false%2C%0A%20%20%20%20%20%20%20%20%20%20%20%20%20%20%20%20%7D%0A%20%20%20%20%20%20%20%20%20%20%20%20%29%3B%0A%0A%20%20%20%20%20%20%20%20%20%20%20%20%0A%0A%20%20%20%20%20%20%20%20%0A%20%20%20%20%0A%20%20%20%20%20%20%20%20%20%20%20%20var%20tile_layer_05e84b0427b14aee9f73810acf951a4f%20%3D%20L.tileLayer%28%0A%20%20%20%20%20%20%20%20%20%20%20%20%20%20%20%20%22https%3A//stamen-tiles-%7Bs%7D.a.ssl.fastly.net/toner/%7Bz%7D/%7Bx%7D/%7By%7D.png%22%2C%0A%20%20%20%20%20%20%20%20%20%20%20%20%20%20%20%20%7B%22attribution%22%3A%20%22Map%20tiles%20by%20%5Cu003ca%20href%3D%5C%22http%3A//stamen.com%5C%22%5Cu003eStamen%20Design%5Cu003c/a%5Cu003e%2C%20under%20%5Cu003ca%20href%3D%5C%22http%3A//creativecommons.org/licenses/by/3.0%5C%22%5Cu003eCC%20BY%203.0%5Cu003c/a%5Cu003e.%20Data%20by%20%5Cu0026copy%3B%20%5Cu003ca%20href%3D%5C%22http%3A//openstreetmap.org%5C%22%5Cu003eOpenStreetMap%5Cu003c/a%5Cu003e%2C%20under%20%5Cu003ca%20href%3D%5C%22http%3A//www.openstreetmap.org/copyright%5C%22%5Cu003eODbL%5Cu003c/a%5Cu003e.%22%2C%20%22detectRetina%22%3A%20false%2C%20%22maxNativeZoom%22%3A%2018%2C%20%22maxZoom%22%3A%2018%2C%20%22minZoom%22%3A%200%2C%20%22noWrap%22%3A%20false%2C%20%22opacity%22%3A%201%2C%20%22subdomains%22%3A%20%22abc%22%2C%20%22tms%22%3A%20false%7D%0A%20%20%20%20%20%20%20%20%20%20%20%20%29.addTo%28map_7ceb0e0b6c6d42c38c1f42b85a8048a5%29%3B%0A%20%20%20%20%20%20%20%20%0A%20%20%20%20%0A%20%20%20%20%20%20%20%20%20%20%20%20var%20tile_layer_2fc891f149bc4c268abc41eca43d9aa2%20%3D%20L.tileLayer%28%0A%20%20%20%20%20%20%20%20%20%20%20%20%20%20%20%20%22https%3A//earthengine.googleapis.com/v1alpha/projects/earthengine-legacy/maps/06c8b5ec0a1aa79166e3a801382e35bf-8360946e433adb1ef442f60119146195/tiles/%7Bz%7D/%7Bx%7D/%7By%7D%22%2C%0A%20%20%20%20%20%20%20%20%20%20%20%20%20%20%20%20%7B%22attribution%22%3A%20%22Map%20Data%20%5Cu0026copy%3B%20%5Cu003ca%20href%3D%5C%22https%3A//earthengine.google.com/%5C%22%5Cu003eGoogle%20Earth%20Engine%5Cu003c/a%5Cu003e%22%2C%20%22detectRetina%22%3A%20false%2C%20%22maxNativeZoom%22%3A%2018%2C%20%22maxZoom%22%3A%2018%2C%20%22minZoom%22%3A%200%2C%20%22noWrap%22%3A%20false%2C%20%22opacity%22%3A%201%2C%20%22subdomains%22%3A%20%22abc%22%2C%20%22tms%22%3A%20false%7D%0A%20%20%20%20%20%20%20%20%20%20%20%20%29.addTo%28map_7ceb0e0b6c6d42c38c1f42b85a8048a5%29%3B%0A%20%20%20%20%20%20%20%20%0A%20%20%20%20%0A%20%20%20%20%20%20%20%20%20%20%20%20var%20tile_layer_ddbabe9bc9c94208abc51086dac24727%20%3D%20L.tileLayer%28%0A%20%20%20%20%20%20%20%20%20%20%20%20%20%20%20%20%22https%3A//earthengine.googleapis.com/v1alpha/projects/earthengine-legacy/maps/c6076d9c001729ae294b85be969674a1-af42b5616b74e7dcff2cd58cb4fb232b/tiles/%7Bz%7D/%7Bx%7D/%7By%7D%22%2C%0A%20%20%20%20%20%20%20%20%20%20%20%20%20%20%20%20%7B%22attribution%22%3A%20%22Map%20Data%20%5Cu0026copy%3B%20%5Cu003ca%20href%3D%5C%22https%3A//earthengine.google.com/%5C%22%5Cu003eGoogle%20Earth%20Engine%5Cu003c/a%5Cu003e%22%2C%20%22detectRetina%22%3A%20false%2C%20%22maxNativeZoom%22%3A%2018%2C%20%22maxZoom%22%3A%2018%2C%20%22minZoom%22%3A%200%2C%20%22noWrap%22%3A%20false%2C%20%22opacity%22%3A%201%2C%20%22subdomains%22%3A%20%22abc%22%2C%20%22tms%22%3A%20false%7D%0A%20%20%20%20%20%20%20%20%20%20%20%20%29.addTo%28map_7ceb0e0b6c6d42c38c1f42b85a8048a5%29%3B%0A%20%20%20%20%20%20%20%20%0A%20%20%20%20%0A%20%20%20%20%20%20%20%20%20%20%20%20var%20tile_layer_f6b7b91be5f1463f864c1be7b86cd52f%20%3D%20L.tileLayer%28%0A%20%20%20%20%20%20%20%20%20%20%20%20%20%20%20%20%22https%3A//earthengine.googleapis.com/v1alpha/projects/earthengine-legacy/maps/508eff078ef6063a0ff7d338b447265d-e8ae4589c0b4dbbb74c7e2e12d394b72/tiles/%7Bz%7D/%7Bx%7D/%7By%7D%22%2C%0A%20%20%20%20%20%20%20%20%20%20%20%20%20%20%20%20%7B%22attribution%22%3A%20%22Map%20Data%20%5Cu0026copy%3B%20%5Cu003ca%20href%3D%5C%22https%3A//earthengine.google.com/%5C%22%5Cu003eGoogle%20Earth%20Engine%5Cu003c/a%5Cu003e%22%2C%20%22detectRetina%22%3A%20false%2C%20%22maxNativeZoom%22%3A%2018%2C%20%22maxZoom%22%3A%2018%2C%20%22minZoom%22%3A%200%2C%20%22noWrap%22%3A%20false%2C%20%22opacity%22%3A%201%2C%20%22subdomains%22%3A%20%22abc%22%2C%20%22tms%22%3A%20false%7D%0A%20%20%20%20%20%20%20%20%20%20%20%20%29.addTo%28map_7ceb0e0b6c6d42c38c1f42b85a8048a5%29%3B%0A%20%20%20%20%20%20%20%20%0A%20%20%20%20%0A%20%20%20%20%20%20%20%20%20%20%20%20var%20tile_layer_11fc1d3ad03a4d029a851c593eec9572%20%3D%20L.tileLayer%28%0A%20%20%20%20%20%20%20%20%20%20%20%20%20%20%20%20%22https%3A//earthengine.googleapis.com/v1alpha/projects/earthengine-legacy/maps/d0dae889f8ea12cac0c9c9ef961c4064-9d62815597e937cd3257b806b4d6eabe/tiles/%7Bz%7D/%7Bx%7D/%7By%7D%22%2C%0A%20%20%20%20%20%20%20%20%20%20%20%20%20%20%20%20%7B%22attribution%22%3A%20%22Map%20Data%20%5Cu0026copy%3B%20%5Cu003ca%20href%3D%5C%22https%3A//earthengine.google.com/%5C%22%5Cu003eGoogle%20Earth%20Engine%5Cu003c/a%5Cu003e%22%2C%20%22detectRetina%22%3A%20false%2C%20%22maxNativeZoom%22%3A%2018%2C%20%22maxZoom%22%3A%2018%2C%20%22minZoom%22%3A%200%2C%20%22noWrap%22%3A%20false%2C%20%22opacity%22%3A%201%2C%20%22subdomains%22%3A%20%22abc%22%2C%20%22tms%22%3A%20false%7D%0A%20%20%20%20%20%20%20%20%20%20%20%20%29.addTo%28map_7ceb0e0b6c6d42c38c1f42b85a8048a5%29%3B%0A%20%20%20%20%20%20%20%20%0A%20%20%20%20%0A%20%20%20%20%20%20%20%20%20%20%20%20var%20tile_layer_316ab352350b4e4bb014f2372ca2684f%20%3D%20L.tileLayer%28%0A%20%20%20%20%20%20%20%20%20%20%20%20%20%20%20%20%22https%3A//earthengine.googleapis.com/v1alpha/projects/earthengine-legacy/maps/a922605e52393e64662b00cdb1cb7fd7-afc32f4b5ed3d90603e93e61b296714f/tiles/%7Bz%7D/%7Bx%7D/%7By%7D%22%2C%0A%20%20%20%20%20%20%20%20%20%20%20%20%20%20%20%20%7B%22attribution%22%3A%20%22Map%20Data%20%5Cu0026copy%3B%20%5Cu003ca%20href%3D%5C%22https%3A//earthengine.google.com/%5C%22%5Cu003eGoogle%20Earth%20Engine%5Cu003c/a%5Cu003e%22%2C%20%22detectRetina%22%3A%20false%2C%20%22maxNativeZoom%22%3A%2018%2C%20%22maxZoom%22%3A%2018%2C%20%22minZoom%22%3A%200%2C%20%22noWrap%22%3A%20false%2C%20%22opacity%22%3A%201%2C%20%22subdomains%22%3A%20%22abc%22%2C%20%22tms%22%3A%20false%7D%0A%20%20%20%20%20%20%20%20%20%20%20%20%29.addTo%28map_7ceb0e0b6c6d42c38c1f42b85a8048a5%29%3B%0A%20%20%20%20%20%20%20%20%0A%20%20%20%20%0A%20%20%20%20%20%20%20%20%20%20%20%20var%20tile_layer_b2665d0981604f1c8ee6ca48f3b51878%20%3D%20L.tileLayer%28%0A%20%20%20%20%20%20%20%20%20%20%20%20%20%20%20%20%22https%3A//earthengine.googleapis.com/v1alpha/projects/earthengine-legacy/maps/dc1b58aa019a2d62a40ea67633fdce59-64265855e28a7d447ac4cfe25db5df8d/tiles/%7Bz%7D/%7Bx%7D/%7By%7D%22%2C%0A%20%20%20%20%20%20%20%20%20%20%20%20%20%20%20%20%7B%22attribution%22%3A%20%22Map%20Data%20%5Cu0026copy%3B%20%5Cu003ca%20href%3D%5C%22https%3A//earthengine.google.com/%5C%22%5Cu003eGoogle%20Earth%20Engine%5Cu003c/a%5Cu003e%22%2C%20%22detectRetina%22%3A%20false%2C%20%22maxNativeZoom%22%3A%2018%2C%20%22maxZoom%22%3A%2018%2C%20%22minZoom%22%3A%200%2C%20%22noWrap%22%3A%20false%2C%20%22opacity%22%3A%201%2C%20%22subdomains%22%3A%20%22abc%22%2C%20%22tms%22%3A%20false%7D%0A%20%20%20%20%20%20%20%20%20%20%20%20%29.addTo%28map_7ceb0e0b6c6d42c38c1f42b85a8048a5%29%3B%0A%20%20%20%20%20%20%20%20%0A%20%20%20%20%0A%20%20%20%20%20%20%20%20%20%20%20%20var%20tile_layer_35759dbb7ea74d2d8e7bc8846620d61a%20%3D%20L.tileLayer%28%0A%20%20%20%20%20%20%20%20%20%20%20%20%20%20%20%20%22https%3A//earthengine.googleapis.com/v1alpha/projects/earthengine-legacy/maps/6aadc2d0160a3f6013dd46a28f51d043-56c3149cb90edfd4d0e80ec00f0e3ed1/tiles/%7Bz%7D/%7Bx%7D/%7By%7D%22%2C%0A%20%20%20%20%20%20%20%20%20%20%20%20%20%20%20%20%7B%22attribution%22%3A%20%22Map%20Data%20%5Cu0026copy%3B%20%5Cu003ca%20href%3D%5C%22https%3A//earthengine.google.com/%5C%22%5Cu003eGoogle%20Earth%20Engine%5Cu003c/a%5Cu003e%22%2C%20%22detectRetina%22%3A%20false%2C%20%22maxNativeZoom%22%3A%2018%2C%20%22maxZoom%22%3A%2018%2C%20%22minZoom%22%3A%200%2C%20%22noWrap%22%3A%20false%2C%20%22opacity%22%3A%201%2C%20%22subdomains%22%3A%20%22abc%22%2C%20%22tms%22%3A%20false%7D%0A%20%20%20%20%20%20%20%20%20%20%20%20%29.addTo%28map_7ceb0e0b6c6d42c38c1f42b85a8048a5%29%3B%0A%20%20%20%20%20%20%20%20%0A%20%20%20%20%0A%20%20%20%20%20%20%20%20%20%20%20%20var%20tile_layer_655ba3df45af467b9f467e22caed022c%20%3D%20L.tileLayer%28%0A%20%20%20%20%20%20%20%20%20%20%20%20%20%20%20%20%22https%3A//earthengine.googleapis.com/v1alpha/projects/earthengine-legacy/maps/d9c6a1e50154f55643a9c451f91790af-6a2d2e766c2d3606aaf062692361490e/tiles/%7Bz%7D/%7Bx%7D/%7By%7D%22%2C%0A%20%20%20%20%20%20%20%20%20%20%20%20%20%20%20%20%7B%22attribution%22%3A%20%22Map%20Data%20%5Cu0026copy%3B%20%5Cu003ca%20href%3D%5C%22https%3A//earthengine.google.com/%5C%22%5Cu003eGoogle%20Earth%20Engine%5Cu003c/a%5Cu003e%22%2C%20%22detectRetina%22%3A%20false%2C%20%22maxNativeZoom%22%3A%2018%2C%20%22maxZoom%22%3A%2018%2C%20%22minZoom%22%3A%200%2C%20%22noWrap%22%3A%20false%2C%20%22opacity%22%3A%201%2C%20%22subdomains%22%3A%20%22abc%22%2C%20%22tms%22%3A%20false%7D%0A%20%20%20%20%20%20%20%20%20%20%20%20%29.addTo%28map_7ceb0e0b6c6d42c38c1f42b85a8048a5%29%3B%0A%20%20%20%20%20%20%20%20%0A%20%20%20%20%0A%20%20%20%20%20%20%20%20%20%20%20%20var%20tile_layer_697f03b0f7a64ca4b2d04d9230eb655b%20%3D%20L.tileLayer%28%0A%20%20%20%20%20%20%20%20%20%20%20%20%20%20%20%20%22https%3A//earthengine.googleapis.com/v1alpha/projects/earthengine-legacy/maps/279bdcb3d56dbe49574cbcc97d1dd1c4-50c1101eb4c43a2b9f2363d9ea5bac28/tiles/%7Bz%7D/%7Bx%7D/%7By%7D%22%2C%0A%20%20%20%20%20%20%20%20%20%20%20%20%20%20%20%20%7B%22attribution%22%3A%20%22Map%20Data%20%5Cu0026copy%3B%20%5Cu003ca%20href%3D%5C%22https%3A//earthengine.google.com/%5C%22%5Cu003eGoogle%20Earth%20Engine%5Cu003c/a%5Cu003e%22%2C%20%22detectRetina%22%3A%20false%2C%20%22maxNativeZoom%22%3A%2018%2C%20%22maxZoom%22%3A%2018%2C%20%22minZoom%22%3A%200%2C%20%22noWrap%22%3A%20false%2C%20%22opacity%22%3A%201%2C%20%22subdomains%22%3A%20%22abc%22%2C%20%22tms%22%3A%20false%7D%0A%20%20%20%20%20%20%20%20%20%20%20%20%29.addTo%28map_7ceb0e0b6c6d42c38c1f42b85a8048a5%29%3B%0A%20%20%20%20%20%20%20%20%0A%20%20%20%20%0A%20%20%20%20%20%20%20%20%20%20%20%20var%20layer_control_bf3a0d76d8b9403cb69a467519c06777%20%3D%20%7B%0A%20%20%20%20%20%20%20%20%20%20%20%20%20%20%20%20base_layers%20%3A%20%7B%0A%20%20%20%20%20%20%20%20%20%20%20%20%20%20%20%20%20%20%20%20%22stamentoner%22%20%3A%20tile_layer_05e84b0427b14aee9f73810acf951a4f%2C%0A%20%20%20%20%20%20%20%20%20%20%20%20%20%20%20%20%7D%2C%0A%20%20%20%20%20%20%20%20%20%20%20%20%20%20%20%20overlays%20%3A%20%20%7B%0A%20%20%20%20%20%20%20%20%20%20%20%20%20%20%20%20%20%20%20%20%22mean%20of%20images%22%20%3A%20tile_layer_2fc891f149bc4c268abc41eca43d9aa2%2C%0A%20%20%20%20%20%20%20%20%20%20%20%20%20%20%20%20%20%20%20%20%22T20190302%22%20%3A%20tile_layer_ddbabe9bc9c94208abc51086dac24727%2C%0A%20%20%20%20%20%20%20%20%20%20%20%20%20%20%20%20%20%20%20%20%22T20190314%22%20%3A%20tile_layer_f6b7b91be5f1463f864c1be7b86cd52f%2C%0A%20%20%20%20%20%20%20%20%20%20%20%20%20%20%20%20%20%20%20%20%22T20190320%22%20%3A%20tile_layer_11fc1d3ad03a4d029a851c593eec9572%2C%0A%20%20%20%20%20%20%20%20%20%20%20%20%20%20%20%20%20%20%20%20%22T20190326%22%20%3A%20tile_layer_316ab352350b4e4bb014f2372ca2684f%2C%0A%20%20%20%20%20%20%20%20%20%20%20%20%20%20%20%20%20%20%20%20%22T20190401%22%20%3A%20tile_layer_b2665d0981604f1c8ee6ca48f3b51878%2C%0A%20%20%20%20%20%20%20%20%20%20%20%20%20%20%20%20%20%20%20%20%22T20190407%22%20%3A%20tile_layer_35759dbb7ea74d2d8e7bc8846620d61a%2C%0A%20%20%20%20%20%20%20%20%20%20%20%20%20%20%20%20%20%20%20%20%22jrc%20permanent%20water%22%20%3A%20tile_layer_655ba3df45af467b9f467e22caed022c%2C%0A%20%20%20%20%20%20%20%20%20%20%20%20%20%20%20%20%20%20%20%20%22mangroves%22%20%3A%20tile_layer_697f03b0f7a64ca4b2d04d9230eb655b%2C%0A%20%20%20%20%20%20%20%20%20%20%20%20%20%20%20%20%7D%2C%0A%20%20%20%20%20%20%20%20%20%20%20%20%7D%3B%0A%20%20%20%20%20%20%20%20%20%20%20%20L.control.layers%28%0A%20%20%20%20%20%20%20%20%20%20%20%20%20%20%20%20layer_control_bf3a0d76d8b9403cb69a467519c06777.base_layers%2C%0A%20%20%20%20%20%20%20%20%20%20%20%20%20%20%20%20layer_control_bf3a0d76d8b9403cb69a467519c06777.overlays%2C%0A%20%20%20%20%20%20%20%20%20%20%20%20%20%20%20%20%7B%22autoZIndex%22%3A%20true%2C%20%22collapsed%22%3A%20true%2C%20%22position%22%3A%20%22topright%22%7D%0A%20%20%20%20%20%20%20%20%20%20%20%20%29.addTo%28map_7ceb0e0b6c6d42c38c1f42b85a8048a5%29%3B%0A%20%20%20%20%20%20%20%20%20%20%20%20tile_layer_ddbabe9bc9c94208abc51086dac24727.remove%28%29%3B%0A%20%20%20%20%20%20%20%20%20%20%20%20tile_layer_f6b7b91be5f1463f864c1be7b86cd52f.remove%28%29%3B%0A%20%20%20%20%20%20%20%20%20%20%20%20tile_layer_316ab352350b4e4bb014f2372ca2684f.remove%28%29%3B%0A%20%20%20%20%20%20%20%20%20%20%20%20tile_layer_b2665d0981604f1c8ee6ca48f3b51878.remove%28%29%3B%0A%20%20%20%20%20%20%20%20%20%20%20%20tile_layer_35759dbb7ea74d2d8e7bc8846620d61a.remove%28%29%3B%0A%20%20%20%20%20%20%20%20%0A%3C/script%3E onload=\"this.contentDocument.open();this.contentDocument.write(    decodeURIComponent(this.getAttribute('data-html')));this.contentDocument.close();\" allowfullscreen webkitallowfullscreen mozallowfullscreen></iframe></div></div>"
      ],
      "text/plain": [
       "<folium.folium.Map at 0x10bf9ba30>"
      ]
     },
     "execution_count": 18,
     "metadata": {},
     "output_type": "execute_result"
    }
   ],
   "source": [
    "idai_maps = ee.Image('projects/floodmapping-2022/assets/examples/idai_beira')\n",
    "idai_maps = idai_maps.updateMask(idai_maps.gt(0))\n",
    "\n",
    "location = aoi.centroid().coordinates().getInfo()[::-1]\n",
    "palette = ['black', 'red', 'cyan', 'yellow']\n",
    "\n",
    "permwater = ee.Image(\"JRC/GSW1_3/GlobalSurfaceWater\").clip(aoi)\n",
    "mangroves = ee.Image(ee.ImageCollection(\"LANDSAT/MANGROVE_FORESTS\")\n",
    "                               .filterBounds(aoi)\n",
    "                               .first()\n",
    "                               .clip(aoi))\n",
    "mangrovesVis = {'min': 0, 'max': 1.0, 'palette': '#2edb7f'}\n",
    "permwaterVis = {'min': 0.0, 'max': 100, 'palette': ['#ffffff', '#ffbbbb', '#0000ff']}\n",
    "\n",
    "mp = folium.Map(location=location, tiles='Stamen Toner', zoom_start=11)\n",
    "\n",
    "mp.add_ee_layer(idai_maps.select('average'), {}, 'mean of images')\n",
    "mp.add_ee_layer(idai_maps.select('T20190302'), {'min': 0,'max': 3, 'palette': palette}, 'T20190302', show=False)\n",
    "mp.add_ee_layer(idai_maps.select('T20190314'), {'min': 0,'max': 3, 'palette': palette}, 'T20190314', show=False)\n",
    "mp.add_ee_layer(idai_maps.select('T20190320'), {'min': 0,'max': 3, 'palette': palette}, 'T20190320')\n",
    "mp.add_ee_layer(idai_maps.select('T20190326'), {'min': 0,'max': 3, 'palette': palette}, 'T20190326', show=False)\n",
    "mp.add_ee_layer(idai_maps.select('T20190401'), {'min': 0,'max': 3, 'palette': palette}, 'T20190401', show=False)\n",
    "mp.add_ee_layer(idai_maps.select('T20190407'), {'min': 0,'max': 3, 'palette': palette}, 'T20190407', show=False)\n",
    "\n",
    "\n",
    "mp.add_ee_layer(permwater.select('occurrence'), permwaterVis, 'jrc permanent water')\n",
    "mp.add_ee_layer(mangroves, mangrovesVis, 'mangroves')\n",
    "\n",
    "mp.add_child(folium.LayerControl())"
   ]
  },
  {
   "cell_type": "markdown",
   "id": "77d5a384",
   "metadata": {},
   "source": [
    "    # uncomment to save the html file of the flood maps\n",
    "    mp.save(\"idai_mozambique.html\")"
   ]
  },
  {
   "cell_type": "markdown",
   "id": "81884d5f",
   "metadata": {},
   "source": [
    "# Export to Google Drive as GeoTIFF"
   ]
  },
  {
   "cell_type": "markdown",
   "id": "02696fe9",
   "metadata": {},
   "source": [
    "    # define path to assets\n",
    "    assexport_drive = ee.batch.Export.image.toDrive(idai_maps,\n",
    "                                                    description='assetExportTask',\n",
    "                                                    scale=10,\n",
    "                                                    maxPixels=1e9)\n",
    "\n",
    "    # export to google earth engine account\n",
    "    assexport_drive.start()"
   ]
  },
  {
   "cell_type": "markdown",
   "id": "89e0ad2b",
   "metadata": {},
   "source": [
    "    # export to google earth engine account\n",
    "    assexport_drive.status()"
   ]
  }
 ],
 "metadata": {
  "kernelspec": {
   "display_name": "hybridmodels",
   "language": "python",
   "name": "hybridmodels"
  },
  "language_info": {
   "codemirror_mode": {
    "name": "ipython",
    "version": 3
   },
   "file_extension": ".py",
   "mimetype": "text/x-python",
   "name": "python",
   "nbconvert_exporter": "python",
   "pygments_lexer": "ipython3",
   "version": "3.10.4"
  }
 },
 "nbformat": 4,
 "nbformat_minor": 5
}
