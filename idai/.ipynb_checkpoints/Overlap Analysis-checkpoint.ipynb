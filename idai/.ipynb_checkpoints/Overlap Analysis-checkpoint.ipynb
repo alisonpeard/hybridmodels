{
 "cells": [
  {
   "cell_type": "markdown",
   "id": "bc75d8a0",
   "metadata": {},
   "source": [
    "# Overlap analysis\n",
    "Calculate the percentage flooded area for each grid cell."
   ]
  },
  {
   "cell_type": "code",
   "execution_count": 1,
   "id": "3b12ee90",
   "metadata": {},
   "outputs": [
    {
     "name": "stdout",
     "output_type": "stream",
     "text": [
      "shapefile version: 2.2.0\n",
      "shapely version: 1.8.1.post1\n"
     ]
    }
   ],
   "source": [
    "from os.path import join\n",
    "import shapefile\n",
    "import shapely\n",
    "from shapely.geometry import shape, Polygon\n",
    "from shapely.topology import TopologicalError\n",
    "from shapely.validation import make_valid\n",
    "import geopandas as gpd\n",
    "from tqdm import tqdm\n",
    "\n",
    "print(\"shapefile version:\", shapefile.__version__)\n",
    "print(\"shapely version:\", shapely.__version__)"
   ]
  },
  {
   "cell_type": "code",
   "execution_count": 3,
   "id": "2df21108",
   "metadata": {},
   "outputs": [
    {
     "name": "stdout",
     "output_type": "stream",
     "text": [
      "5 5\n",
      "grid bbox: [3829030.000053243, -2275028.8154958864, 3872030.000053243, -2233028.8154958864]\n",
      "grid number of features: 1806\n",
      "flood bbox: [3829030.0000000005, -2274936.098492627, 3871540.0000000005, -2233028.8154597636]\n",
      "flood number of features: 35274\n"
     ]
    }
   ],
   "source": [
    "# define paths\n",
    "wd = join(\"idai\", \"beira\")\n",
    "flood_path = join(wd, \"trueflood_pm\")\n",
    "grid_path = join(wd, \"grid\")\n",
    "grid = shapefile.Reader(grid_path)\n",
    "flood = shapefile.Reader(flood_path)\n",
    "\n",
    "# print some details about the shapefiles and check extents\n",
    "print(grid.shapeType, flood.shapeType) # 5: flood grid.shapeType == shapefile.POLYGON\n",
    "print('grid bbox:', grid.bbox)\n",
    "print(\"grid number of features:\", len(grid))\n",
    "print('flood bbox:', flood.bbox)\n",
    "print(\"flood number of features:\", len(flood))"
   ]
  },
  {
   "cell_type": "markdown",
   "id": "81e64366",
   "metadata": {},
   "source": [
    "# Calculate overlaps with GeoPandas"
   ]
  },
  {
   "cell_type": "code",
   "execution_count": 10,
   "id": "b799e289",
   "metadata": {},
   "outputs": [],
   "source": [
    "import pandas as pd\n",
    "import geopandas as gpd\n",
    "import rtree\n",
    "from tqdm import tqdm\n",
    "\n",
    "grid_gdf = gpd.read_file(f\"{grid_path}.shp\")\n",
    "flood_gdf = gpd.read_file(f\"{flood_path}.shp\")"
   ]
  },
  {
   "cell_type": "code",
   "execution_count": 34,
   "id": "576f1bdd",
   "metadata": {},
   "outputs": [],
   "source": [
    "def flood_frac_df(gdf, grid):\n",
    "    \"\"\" \n",
    "    Function for calculating the fraction of each square in the grid\n",
    "    that contains flooding. Each square contained in the grid will then\n",
    "    return a value in the interval between 0 and 1.\n",
    "    \n",
    "    Adapted from Muckley (2020)\n",
    "    \n",
    "    Parameters\n",
    "    ----------\n",
    "    gdf  : GeoDataFrame\n",
    "    grid : GeoDataFrame\n",
    "    \n",
    "    Returns\n",
    "    -------\n",
    "    df   : DataFrame\n",
    "           The resuling DataFrame will contain the fraction of flooding,\n",
    "           for each of the original coordinates.\n",
    "           \n",
    "    Reference:\n",
    "    ----------\n",
    "    ..[1] Muckley (2020)\n",
    "            https://github.com/leomuckley/Multi-Input-ConvLSTM\n",
    "    \"\"\"\n",
    "    flood = gpd.sjoin(grid, gdf, how='left')\n",
    "    total_list = []\n",
    "    for grd in tqdm(grid.geometry):\n",
    "        total = 0\n",
    "        for fld in gdf.geometry:\n",
    "            if fld.intersects(grd):\n",
    "                flood = (fld.intersection(grd)).area / grd.area\n",
    "                total = total + flood\n",
    "        # print(total)\n",
    "        total_list.append(total)\n",
    "    #df = pd.DataFrame(data={'floodfrac':total_list})\n",
    "    grid['floodfrac'] = total_list\n",
    "    \n",
    "    return grid"
   ]
  },
  {
   "cell_type": "code",
   "execution_count": null,
   "id": "6ba43eb2",
   "metadata": {},
   "outputs": [],
   "source": [
    "gdf = flood_frac_df(flood_gdf, grid_gdf)\n",
    "gdf.to_file(join(wd, \"floodfrac.shp\"))"
   ]
  },
  {
   "cell_type": "code",
   "execution_count": 44,
   "id": "68cc9a3c",
   "metadata": {},
   "outputs": [
    {
     "name": "stderr",
     "output_type": "stream",
     "text": [
      "/Users/alisonpeard/Documents/Oxford/DPhil/hybridmodels/pyshpenv/lib/python3.6/site-packages/ipykernel_launcher.py:4: UserWarning: Column names longer than 10 characters will be truncated when saved to ESRI Shapefile.\n",
      "  after removing the cwd from sys.path.\n"
     ]
    }
   ],
   "source": [
    "featureset = gpd.read_file(join(wd, \"featureset.shp\"))\n",
    "featureset[\"floodfrac\"] = gdf[\"floodfrac\"]\n",
    "featureset[\"floodarea(km)\"] = gdf.floodfrac * 100 * 100\n",
    "featureset.to_file(join(wd, \"featureset.shp\"))"
   ]
  },
  {
   "cell_type": "markdown",
   "id": "94f36b34",
   "metadata": {},
   "source": [
    "# Calculate overlaps with PyShp"
   ]
  },
  {
   "cell_type": "markdown",
   "id": "93948e49",
   "metadata": {},
   "source": [
    "For some geometries (e.g., Shape #25755) this is throwing the warning: \n",
    "\n",
    "    WARNING:root:Possible issue encountered when converting Shape #25755 to GeoJSON: Shapefile format requires that polygons contain at least one exterior ring, but the Shape was entirely made up of interior holes (defined by counter-clockwise orientation in the shapefile format). The rings were still included but were encoded as GeoJSON exterior rings instead of holes.\n",
    "\n",
    "then raises the Exception:\n",
    "\n",
    "    Exception: Unexpected error: Unable to find a ring sample point.\n",
    "    \n",
    "so leaving this for a while and seeing if Geopandas method from [Leo Muckley](https://github.com/leomuckley/Multi-Input-ConvLSTM) works.\n"
   ]
  },
  {
   "cell_type": "code",
   "execution_count": 128,
   "id": "aef86972",
   "metadata": {},
   "outputs": [
    {
     "name": "stderr",
     "output_type": "stream",
     "text": [
      "112it [00:19,  4.36it/s]WARNING:root:Possible issue encountered when converting Shape #25755 to GeoJSON: Shapefile format requires that polygons contain at least one exterior ring, but the Shape was entirely made up of interior holes (defined by counter-clockwise orientation in the shapefile format). The rings were still included but were encoded as GeoJSON exterior rings instead of holes.\n",
      "WARNING:root:Possible issue encountered when converting Shape #25803 to GeoJSON: Shapefile format requires that polygons contain at least one exterior ring, but the Shape was entirely made up of interior holes (defined by counter-clockwise orientation in the shapefile format). The rings were still included but were encoded as GeoJSON exterior rings instead of holes.\n",
      "113it [00:20,  3.72it/s]WARNING:root:Possible issue encountered when converting Shape #26489 to GeoJSON: Shapefile format requires that polygons contain at least one exterior ring, but the Shape was entirely made up of interior holes (defined by counter-clockwise orientation in the shapefile format). The rings were still included but were encoded as GeoJSON exterior rings instead of holes.\n",
      "153it [00:27,  3.91it/s]WARNING:root:Possible issue encountered when converting Shape #25216 to GeoJSON: Shapefile format requires that polygons contain at least one exterior ring, but the Shape was entirely made up of interior holes (defined by counter-clockwise orientation in the shapefile format). The rings were still included but were encoded as GeoJSON exterior rings instead of holes.\n",
      "196it [00:36,  3.94it/s]WARNING:root:Possible issue encountered when converting Shape #26012 to GeoJSON: Shapefile format requires that polygons contain at least one exterior ring, but the Shape was entirely made up of interior holes (defined by counter-clockwise orientation in the shapefile format). The rings were still included but were encoded as GeoJSON exterior rings instead of holes.\n",
      "238it [00:44,  4.29it/s]WARNING:root:Possible issue encountered when converting Shape #26079 to GeoJSON: Shapefile format requires that all polygon interior holes be contained by an exterior ring, but the Shape contained interior holes (defined by counter-clockwise orientation in the shapefile format) that were orphaned, i.e. not contained by any exterior rings. The rings were still included but were encoded as GeoJSON exterior rings instead of holes.\n",
      "280it [00:52,  4.20it/s]WARNING:root:Possible issue encountered when converting Shape #26079 to GeoJSON: Shapefile format requires that all polygon interior holes be contained by an exterior ring, but the Shape contained interior holes (defined by counter-clockwise orientation in the shapefile format) that were orphaned, i.e. not contained by any exterior rings. The rings were still included but were encoded as GeoJSON exterior rings instead of holes.\n",
      "294it [01:06,  4.45it/s]\n"
     ]
    },
    {
     "ename": "Exception",
     "evalue": "Unexpected error: Unable to find a ring sample point.",
     "output_type": "error",
     "traceback": [
      "\u001b[0;31m---------------------------------------------------------------------------\u001b[0m",
      "\u001b[0;31mException\u001b[0m                                 Traceback (most recent call last)",
      "\u001b[0;32m<ipython-input-128-1b2663909b50>\u001b[0m in \u001b[0;36m<module>\u001b[0;34m\u001b[0m\n\u001b[1;32m     30\u001b[0m             \u001b[0;32mimport\u001b[0m \u001b[0mpdb\u001b[0m\u001b[0;34m;\u001b[0m \u001b[0mpdb\u001b[0m\u001b[0;34m.\u001b[0m\u001b[0mset_trace\u001b[0m\u001b[0;34m(\u001b[0m\u001b[0;34m)\u001b[0m\u001b[0;34m\u001b[0m\u001b[0;34m\u001b[0m\u001b[0m\n\u001b[1;32m     31\u001b[0m \u001b[0;34m\u001b[0m\u001b[0m\n\u001b[0;32m---> 32\u001b[0;31m         \u001b[0mgeoJSON\u001b[0m \u001b[0;34m=\u001b[0m \u001b[0mfloodpoly\u001b[0m\u001b[0;34m.\u001b[0m\u001b[0m__geo_interface__\u001b[0m\u001b[0;34m\u001b[0m\u001b[0;34m\u001b[0m\u001b[0m\n\u001b[0m\u001b[1;32m     33\u001b[0m         \u001b[0mgeostr\u001b[0m \u001b[0;34m=\u001b[0m \u001b[0mjson\u001b[0m\u001b[0;34m.\u001b[0m\u001b[0mdumps\u001b[0m\u001b[0;34m(\u001b[0m\u001b[0mgeoJSON\u001b[0m\u001b[0;34m)\u001b[0m\u001b[0;34m\u001b[0m\u001b[0;34m\u001b[0m\u001b[0m\n\u001b[1;32m     34\u001b[0m         \u001b[0mfloodpoly\u001b[0m \u001b[0;34m=\u001b[0m \u001b[0mshape\u001b[0m\u001b[0;34m(\u001b[0m\u001b[0mjson\u001b[0m\u001b[0;34m.\u001b[0m\u001b[0mloads\u001b[0m\u001b[0;34m(\u001b[0m\u001b[0mgeostr\u001b[0m\u001b[0;34m)\u001b[0m\u001b[0;34m)\u001b[0m\u001b[0;34m.\u001b[0m\u001b[0mbuffer\u001b[0m\u001b[0;34m(\u001b[0m\u001b[0;36m0\u001b[0m\u001b[0;34m)\u001b[0m\u001b[0;34m\u001b[0m\u001b[0;34m\u001b[0m\u001b[0m\n",
      "\u001b[0;32m~/Documents/Oxford/DPhil/hybridmodels/pyshpenv/lib/python3.6/site-packages/shapefile.py\u001b[0m in \u001b[0;36m__geo_interface__\u001b[0;34m(self)\u001b[0m\n\u001b[1;32m    545\u001b[0m                 \u001b[0;31m# organize rings into list of polygons, where each polygon is defined as list of rings.\u001b[0m\u001b[0;34m\u001b[0m\u001b[0;34m\u001b[0m\u001b[0;34m\u001b[0m\u001b[0m\n\u001b[1;32m    546\u001b[0m                 \u001b[0;31m# the first ring is the exterior and any remaining rings are holes (same as GeoJSON).\u001b[0m\u001b[0;34m\u001b[0m\u001b[0;34m\u001b[0m\u001b[0;34m\u001b[0m\u001b[0m\n\u001b[0;32m--> 547\u001b[0;31m                 \u001b[0mpolys\u001b[0m \u001b[0;34m=\u001b[0m \u001b[0morganize_polygon_rings\u001b[0m\u001b[0;34m(\u001b[0m\u001b[0mrings\u001b[0m\u001b[0;34m,\u001b[0m \u001b[0mself\u001b[0m\u001b[0;34m.\u001b[0m\u001b[0m_errors\u001b[0m\u001b[0;34m)\u001b[0m\u001b[0;34m\u001b[0m\u001b[0;34m\u001b[0m\u001b[0m\n\u001b[0m\u001b[1;32m    548\u001b[0m \u001b[0;34m\u001b[0m\u001b[0m\n\u001b[1;32m    549\u001b[0m                 \u001b[0;31m# if VERBOSE is True, issue detailed warning about any shape errors\u001b[0m\u001b[0;34m\u001b[0m\u001b[0;34m\u001b[0m\u001b[0;34m\u001b[0m\u001b[0m\n",
      "\u001b[0;32m~/Documents/Oxford/DPhil/hybridmodels/pyshpenv/lib/python3.6/site-packages/shapefile.py\u001b[0m in \u001b[0;36morganize_polygon_rings\u001b[0;34m(rings, return_errors)\u001b[0m\n\u001b[1;32m    373\u001b[0m                 \u001b[0;31m# get hole sample point\u001b[0m\u001b[0;34m\u001b[0m\u001b[0;34m\u001b[0m\u001b[0;34m\u001b[0m\u001b[0m\n\u001b[1;32m    374\u001b[0m                 \u001b[0;31m# Note: all rings now follow GeoJSON orientation, i.e. holes are clockwise\u001b[0m\u001b[0;34m\u001b[0m\u001b[0;34m\u001b[0m\u001b[0;34m\u001b[0m\u001b[0m\n\u001b[0;32m--> 375\u001b[0;31m                 \u001b[0mhole_sample\u001b[0m \u001b[0;34m=\u001b[0m \u001b[0mring_sample\u001b[0m\u001b[0;34m(\u001b[0m\u001b[0mholes\u001b[0m\u001b[0;34m[\u001b[0m\u001b[0mhole_i\u001b[0m\u001b[0;34m]\u001b[0m\u001b[0;34m,\u001b[0m \u001b[0mccw\u001b[0m\u001b[0;34m=\u001b[0m\u001b[0;32mFalse\u001b[0m\u001b[0;34m)\u001b[0m\u001b[0;34m\u001b[0m\u001b[0;34m\u001b[0m\u001b[0m\n\u001b[0m\u001b[1;32m    376\u001b[0m                 \u001b[0;31m# collect new exterior candidates\u001b[0m\u001b[0;34m\u001b[0m\u001b[0;34m\u001b[0m\u001b[0;34m\u001b[0m\u001b[0m\n\u001b[1;32m    377\u001b[0m                 \u001b[0mnew_exterior_candidates\u001b[0m \u001b[0;34m=\u001b[0m \u001b[0;34m[\u001b[0m\u001b[0;34m]\u001b[0m\u001b[0;34m\u001b[0m\u001b[0;34m\u001b[0m\u001b[0m\n",
      "\u001b[0;32m~/Documents/Oxford/DPhil/hybridmodels/pyshpenv/lib/python3.6/site-packages/shapefile.py\u001b[0m in \u001b[0;36mring_sample\u001b[0;34m(coords, ccw)\u001b[0m\n\u001b[1;32m    305\u001b[0m \u001b[0;34m\u001b[0m\u001b[0m\n\u001b[1;32m    306\u001b[0m     \u001b[0;32melse\u001b[0m\u001b[0;34m:\u001b[0m\u001b[0;34m\u001b[0m\u001b[0;34m\u001b[0m\u001b[0m\n\u001b[0;32m--> 307\u001b[0;31m         \u001b[0;32mraise\u001b[0m \u001b[0mException\u001b[0m\u001b[0;34m(\u001b[0m\u001b[0;34m'Unexpected error: Unable to find a ring sample point.'\u001b[0m\u001b[0;34m)\u001b[0m\u001b[0;34m\u001b[0m\u001b[0;34m\u001b[0m\u001b[0m\n\u001b[0m\u001b[1;32m    308\u001b[0m \u001b[0;34m\u001b[0m\u001b[0m\n\u001b[1;32m    309\u001b[0m \u001b[0;32mdef\u001b[0m \u001b[0mring_contains_ring\u001b[0m\u001b[0;34m(\u001b[0m\u001b[0mcoords1\u001b[0m\u001b[0;34m,\u001b[0m \u001b[0mcoords2\u001b[0m\u001b[0;34m)\u001b[0m\u001b[0;34m:\u001b[0m\u001b[0;34m\u001b[0m\u001b[0;34m\u001b[0m\u001b[0m\n",
      "\u001b[0;31mException\u001b[0m: Unexpected error: Unable to find a ring sample point."
     ]
    }
   ],
   "source": [
    "# https://gis.stackexchange.com/questions/166934/python-library-for-converting-geojson-multi-polygon-to-polygon\n",
    "import json\n",
    "\n",
    "areas = {}\n",
    "percentages = {}\n",
    "\n",
    "for gridsquare in tqdm(grid.iterShapeRecords()):\n",
    "    \n",
    "    idx = gridsquare.record[0]\n",
    "    gridsquare = gridsquare.shape\n",
    "    \n",
    "    bbox = gridsquare.bbox\n",
    "    area = 0\n",
    "    percent = 0\n",
    "    \n",
    "    geoJSON = gridsquare.__geo_interface__\n",
    "    geostr = json.dumps(geoJSON)\n",
    "    gridpoly = shape(json.loads(geostr)).buffer(0)\n",
    "    \n",
    "    for floodpoly in flood.iterShapes(bbox=bbox):\n",
    "        \n",
    "        geoJSON = floodpoly.__geo_interface__\n",
    "        geostr = json.dumps(geoJSON)\n",
    "        floodpoly = shape(json.loads(geostr)).buffer(0)\n",
    "        \n",
    "        try:\n",
    "            area = gridpoly.intersection(floodpoly).area\n",
    "            percent = area / gridpoly.area\n",
    "        except TopologicalError:  # if geometry is invalid\n",
    "            floodpoly = make_valid(floodpoly)\n",
    "            \n",
    "            area = gridpoly.intersection(floodpoly).area\n",
    "            percent = area / gridpoly.area\n",
    "            \n",
    "        \n",
    "    areas[idx] = area\n",
    "    percentages[idx] = percent"
   ]
  },
  {
   "cell_type": "code",
   "execution_count": 88,
   "id": "aa74cc74",
   "metadata": {},
   "outputs": [
    {
     "data": {
      "image/png": "[encoded data removed]",
      "text/plain": [
       "<Figure size 432x288 with 1 Axes>"
      ]
     },
     "metadata": {
      "needs_background": "light"
     },
     "output_type": "display_data"
    }
   ],
   "source": [
    "# to plot grid cell and flood polygon\n",
    "from descartes import PolygonPatch\n",
    "import matplotlib.pyplot as plt\n",
    "\n",
    "fig = plt.figure() \n",
    "ax = fig.gca() \n",
    "ax.add_patch(PolygonPatch(floodpoly.__geo_interface__, fc='#ffffff', ec='#000000', alpha=0.5, zorder=2 ))\n",
    "ax.add_patch(PolygonPatch(gridpoly.__geo_interface__))\n",
    "ax.axis('scaled')\n",
    "plt.show()"
   ]
  }
 ],
 "metadata": {
  "kernelspec": {
   "display_name": "Python 3",
   "language": "python",
   "name": "python3"
  },
  "language_info": {
   "codemirror_mode": {
    "name": "ipython",
    "version": 3
   },
   "file_extension": ".py",
   "mimetype": "text/x-python",
   "name": "python",
   "nbconvert_exporter": "python",
   "pygments_lexer": "ipython3",
   "version": "3.6.15"
  }
 },
 "nbformat": 4,
 "nbformat_minor": 5
}
